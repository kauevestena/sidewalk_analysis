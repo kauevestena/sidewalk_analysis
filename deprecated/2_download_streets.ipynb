{
 "cells": [
  {
   "cell_type": "code",
   "execution_count": 1,
   "metadata": {
    "execution": {
     "iopub.execute_input": "2023-04-13T14:36:14.161350Z",
     "iopub.status.busy": "2023-04-13T14:36:14.160649Z",
     "iopub.status.idle": "2023-04-13T14:36:16.572055Z",
     "shell.execute_reply": "2023-04-13T14:36:16.570855Z"
    }
   },
   "outputs": [],
   "source": [
    "from functions import *\n",
    "from config import *"
   ]
  },
  {
   "cell_type": "code",
   "execution_count": 2,
   "metadata": {
    "execution": {
     "iopub.execute_input": "2023-04-13T14:36:16.576271Z",
     "iopub.status.busy": "2023-04-13T14:36:16.575834Z",
     "iopub.status.idle": "2023-04-13T14:36:16.581697Z",
     "shell.execute_reply": "2023-04-13T14:36:16.580839Z"
    }
   },
   "outputs": [],
   "source": [
    "# sometimes it just doesn't update stuff\n",
    "wipe_osmnx_cache()"
   ]
  },
  {
   "cell_type": "code",
   "execution_count": 3,
   "metadata": {
    "execution": {
     "iopub.execute_input": "2023-04-13T14:36:16.585341Z",
     "iopub.status.busy": "2023-04-13T14:36:16.585045Z",
     "iopub.status.idle": "2023-04-13T14:36:28.654170Z",
     "shell.execute_reply": "2023-04-13T14:36:28.653241Z"
    }
   },
   "outputs": [],
   "source": [
    "gdf_dict = {}\n",
    "for key in NEIGHBORHOODS:\n",
    "    # gdf_dict[key] = features_from_place(key,{'highway':True})\n",
    "    features_to_file(NEIGHBORHOODS[key],{'highway':highway_values},key+'_streets.geojson')"
   ]
  }
 ],
 "metadata": {
  "kernelspec": {
   "display_name": "Python 3",
   "language": "python",
   "name": "python3"
  },
  "language_info": {
   "codemirror_mode": {
    "name": "ipython",
    "version": 3
   },
   "file_extension": ".py",
   "mimetype": "text/x-python",
   "name": "python",
   "nbconvert_exporter": "python",
   "pygments_lexer": "ipython3",
   "version": "3.10.6"
  }
 },
 "nbformat": 4,
 "nbformat_minor": 2
}
