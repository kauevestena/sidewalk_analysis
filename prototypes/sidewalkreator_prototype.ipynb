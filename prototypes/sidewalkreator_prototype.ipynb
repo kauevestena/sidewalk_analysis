{
 "cells": [
  {
   "cell_type": "code",
   "execution_count": 1,
   "metadata": {},
   "outputs": [],
   "source": [
    "import funcs\n",
    "import geopandas as gpd\n",
    "import pandas as pd\n",
    "from shapely.ops import unary_union, split, polygonize_full, nearest_points, linemerge\n",
    "from shapely.geometry import MultiPoint,MultiPolygon, Point, LineString, LinearRing, Polygon, MultiLineString\n",
    "import numpy as np\n"
   ]
  },
  {
   "cell_type": "code",
   "execution_count": 2,
   "metadata": {},
   "outputs": [
    {
     "data": {
      "image/png": "[encoded data removed]",
      "text/plain": [
       "<Figure size 432x288 with 1 Axes>"
      ]
     },
     "metadata": {
      "needs_background": "light"
     },
     "output_type": "display_data"
    }
   ],
   "source": [
    "# reading data:\n",
    "\n",
    "data_gdf = gpd.read_file('test1.geojson')\n",
    "data_gdf.plot()\n",
    "\n",
    "proj_epsg = data_gdf.crs\n",
    "\n",
    "default_buffer = 5.3\n",
    "\n",
    "default_crossing_length = default_buffer * 2"
   ]
  },
  {
   "cell_type": "code",
   "execution_count": null,
   "metadata": {},
   "outputs": [],
   "source": []
  },
  {
   "cell_type": "code",
   "execution_count": 3,
   "metadata": {},
   "outputs": [],
   "source": [
    "#finding all intersections\n",
    "\n",
    "# intersections = []\n",
    "\n",
    "def unary_union_from_gdf(input_gdf):\n",
    "    return unary_union(input_gdf.geometry)\n",
    "\n",
    "def find_intersections(input_gdf,return_gdf = False):\n",
    "\n",
    "    intersections_dict = {'names':[],'geometry':[]}\n",
    "\n",
    "    for i,line in enumerate(input_gdf.geometry):\n",
    "        for j,line2 in enumerate(input_gdf.geometry):\n",
    "            if not i == j:\n",
    "                if line.intersects(line2):\n",
    "                    intersec = line.intersection(line2)\n",
    "                    intersections_dict['names'].append(f'{i}_{j}')\n",
    "                    intersections_dict['geometry'].append(intersec)\n",
    "\n",
    "    if return_gdf:\n",
    "        return gpd.GeoDataFrame(intersections_dict,crs=input_gdf.crs)\n",
    "    else:\n",
    "        return MultiPoint(intersections_dict['geometry'])\n"
   ]
  },
  {
   "cell_type": "code",
   "execution_count": 38,
   "metadata": {},
   "outputs": [],
   "source": [
    "intersections = find_intersections(data_gdf)\n",
    "\n",
    "# for i,point in enumerate(intersections):\n",
    "#     print(i)"
   ]
  },
  {
   "cell_type": "code",
   "execution_count": 39,
   "metadata": {},
   "outputs": [
    {
     "data": {
      "image/svg+xml": [
       "<svg xmlns=\"http://www.w3.org/2000/svg\" xmlns:xlink=\"http://www.w3.org/1999/xlink\" width=\"300\" height=\"300\" viewBox=\"674387.466609911 7182614.81969764 526.4220528855221 427.6027971887961\" preserveAspectRatio=\"xMinYMin meet\"><g transform=\"matrix(1,0,0,-1,0,14365657.24219247)\"><g><circle cx=\"674453.9255601363\" cy=\"7182740.829482255\" r=\"5.264220528855222\" stroke=\"#555555\" stroke-width=\"1.7547401762850738\" fill=\"#66cc99\" opacity=\"0.6\" /><circle cx=\"674750.7608719867\" cy=\"7182867.2962080045\" r=\"5.264220528855222\" stroke=\"#555555\" stroke-width=\"1.7547401762850738\" fill=\"#66cc99\" opacity=\"0.6\" /><circle cx=\"674548.8134629136\" cy=\"7182781.256486383\" r=\"5.264220528855222\" stroke=\"#555555\" stroke-width=\"1.7547401762850738\" fill=\"#66cc99\" opacity=\"0.6\" /><circle cx=\"674677.1187084395\" cy=\"7182835.92095402\" r=\"5.264220528855222\" stroke=\"#555555\" stroke-width=\"1.7547401762850738\" fill=\"#66cc99\" opacity=\"0.6\" /><circle cx=\"674850.4208291039\" cy=\"7182909.756346545\" r=\"5.264220528855222\" stroke=\"#555555\" stroke-width=\"1.7547401762850738\" fill=\"#66cc99\" opacity=\"0.6\" /><circle cx=\"674453.9255601363\" cy=\"7182740.829482255\" r=\"5.264220528855222\" stroke=\"#555555\" stroke-width=\"1.7547401762850738\" fill=\"#66cc99\" opacity=\"0.6\" /><circle cx=\"674498.462559604\" cy=\"7182634.316810709\" r=\"5.264220528855222\" stroke=\"#555555\" stroke-width=\"1.7547401762850738\" fill=\"#66cc99\" opacity=\"0.6\" /><circle cx=\"674406.9637229808\" cy=\"7182853.141285832\" r=\"5.264220528855222\" stroke=\"#555555\" stroke-width=\"1.7547401762850738\" fill=\"#66cc99\" opacity=\"0.6\" /><circle cx=\"674498.462559604\" cy=\"7182634.316810709\" r=\"5.264220528855222\" stroke=\"#555555\" stroke-width=\"1.7547401762850738\" fill=\"#66cc99\" opacity=\"0.6\" /><circle cx=\"674793.575205717\" cy=\"7182762.029347801\" r=\"5.264220528855222\" stroke=\"#555555\" stroke-width=\"1.7547401762850738\" fill=\"#66cc99\" opacity=\"0.6\" /><circle cx=\"674594.0207212411\" cy=\"7182675.670427449\" r=\"5.264220528855222\" stroke=\"#555555\" stroke-width=\"1.7547401762850738\" fill=\"#66cc99\" opacity=\"0.6\" /><circle cx=\"674721.5880521572\" cy=\"7182730.876287638\" r=\"5.264220528855222\" stroke=\"#555555\" stroke-width=\"1.7547401762850738\" fill=\"#66cc99\" opacity=\"0.6\" /><circle cx=\"674894.3915497266\" cy=\"7182805.65848821\" r=\"5.264220528855222\" stroke=\"#555555\" stroke-width=\"1.7547401762850738\" fill=\"#66cc99\" opacity=\"0.6\" /><circle cx=\"674406.9637229808\" cy=\"7182853.141285832\" r=\"5.264220528855222\" stroke=\"#555555\" stroke-width=\"1.7547401762850738\" fill=\"#66cc99\" opacity=\"0.6\" /><circle cx=\"674704.5749381959\" cy=\"7182980.852762833\" r=\"5.264220528855222\" stroke=\"#555555\" stroke-width=\"1.7547401762850738\" fill=\"#66cc99\" opacity=\"0.6\" /><circle cx=\"674500.7957437768\" cy=\"7182893.4066567365\" r=\"5.264220528855222\" stroke=\"#555555\" stroke-width=\"1.7547401762850738\" fill=\"#66cc99\" opacity=\"0.6\" /><circle cx=\"674629.4170730929\" cy=\"7182948.600880277\" r=\"5.264220528855222\" stroke=\"#555555\" stroke-width=\"1.7547401762850738\" fill=\"#66cc99\" opacity=\"0.6\" /><circle cx=\"674802.61846208\" cy=\"7183022.925381759\" r=\"5.264220528855222\" stroke=\"#555555\" stroke-width=\"1.7547401762850738\" fill=\"#66cc99\" opacity=\"0.6\" /><circle cx=\"674750.7608719867\" cy=\"7182867.2962080045\" r=\"5.264220528855222\" stroke=\"#555555\" stroke-width=\"1.7547401762850738\" fill=\"#66cc99\" opacity=\"0.6\" /><circle cx=\"674793.575205717\" cy=\"7182762.029347801\" r=\"5.264220528855222\" stroke=\"#555555\" stroke-width=\"1.7547401762850738\" fill=\"#66cc99\" opacity=\"0.6\" /><circle cx=\"674704.5749381959\" cy=\"7182980.852762833\" r=\"5.264220528855222\" stroke=\"#555555\" stroke-width=\"1.7547401762850738\" fill=\"#66cc99\" opacity=\"0.6\" /><circle cx=\"674548.8134629136\" cy=\"7182781.256486383\" r=\"5.264220528855222\" stroke=\"#555555\" stroke-width=\"1.7547401762850738\" fill=\"#66cc99\" opacity=\"0.6\" /><circle cx=\"674594.0207212411\" cy=\"7182675.670427449\" r=\"5.264220528855222\" stroke=\"#555555\" stroke-width=\"1.7547401762850738\" fill=\"#66cc99\" opacity=\"0.6\" /><circle cx=\"674500.7957437768\" cy=\"7182893.4066567365\" r=\"5.264220528855222\" stroke=\"#555555\" stroke-width=\"1.7547401762850738\" fill=\"#66cc99\" opacity=\"0.6\" /><circle cx=\"674677.1187084395\" cy=\"7182835.92095402\" r=\"5.264220528855222\" stroke=\"#555555\" stroke-width=\"1.7547401762850738\" fill=\"#66cc99\" opacity=\"0.6\" /><circle cx=\"674721.5880521572\" cy=\"7182730.876287638\" r=\"5.264220528855222\" stroke=\"#555555\" stroke-width=\"1.7547401762850738\" fill=\"#66cc99\" opacity=\"0.6\" /><circle cx=\"674629.4170730929\" cy=\"7182948.600880277\" r=\"5.264220528855222\" stroke=\"#555555\" stroke-width=\"1.7547401762850738\" fill=\"#66cc99\" opacity=\"0.6\" /><circle cx=\"674850.4208291039\" cy=\"7182909.756346545\" r=\"5.264220528855222\" stroke=\"#555555\" stroke-width=\"1.7547401762850738\" fill=\"#66cc99\" opacity=\"0.6\" /><circle cx=\"674894.3915497266\" cy=\"7182805.65848821\" r=\"5.264220528855222\" stroke=\"#555555\" stroke-width=\"1.7547401762850738\" fill=\"#66cc99\" opacity=\"0.6\" /><circle cx=\"674802.61846208\" cy=\"7183022.925381759\" r=\"5.264220528855222\" stroke=\"#555555\" stroke-width=\"1.7547401762850738\" fill=\"#66cc99\" opacity=\"0.6\" /></g></g></svg>"
      ],
      "text/plain": [
       "<shapely.geometry.multipoint.MultiPoint at 0x7f5901afb6d0>"
      ]
     },
     "execution_count": 39,
     "metadata": {},
     "output_type": "execute_result"
    }
   ],
   "source": [
    "intersections"
   ]
  },
  {
   "cell_type": "code",
   "execution_count": 6,
   "metadata": {},
   "outputs": [],
   "source": [
    "# union of lines, then spliting\n",
    "all_lines = unary_union_from_gdf(data_gdf)\n",
    "\n",
    "# polygon for difference latter:\n",
    "# background_polygon = all_lines.envelope\n",
    "# safe_buffer = background_polygon.length*0.25*0.1 \n",
    "# background_polygon = background_polygon.buffer(safe_buffer,resolution=1,cap_style=3)\n",
    "\n",
    "# splitted segments: \n",
    "splitted = split(all_lines,intersections)\n",
    "\n"
   ]
  },
  {
   "cell_type": "code",
   "execution_count": 7,
   "metadata": {},
   "outputs": [],
   "source": [
    "\n",
    "def multigeom_to_gdf(inputgeom,crs,outfilepath=None):\n",
    "\n",
    "    splitted_geoms = {\n",
    "    'names' : [],\n",
    "    'geometry' : []\n",
    "    }\n",
    "\n",
    "    for i,subgeom in enumerate(inputgeom):\n",
    "        splitted_geoms['names'].append(f'{i}')\n",
    "        splitted_geoms['geometry'].append(subgeom)\n",
    "\n",
    "    as_gdf = gpd.GeoDataFrame(splitted_geoms,crs=crs)\n",
    "    \n",
    "\n",
    "    if outfilepath:\n",
    "        as_gdf.to_file(outfilepath,driver='GeoJSON')\n",
    "\n",
    "\n",
    "    return as_gdf\n",
    "        \n"
   ]
  },
  {
   "cell_type": "code",
   "execution_count": 8,
   "metadata": {},
   "outputs": [],
   "source": [
    "splitted_gdf = multigeom_to_gdf(splitted,proj_epsg,'splitted.geojson')"
   ]
  },
  {
   "cell_type": "code",
   "execution_count": 9,
   "metadata": {},
   "outputs": [],
   "source": [
    "result, dangles, cuts, invalids = polygonize_full(splitted)"
   ]
  },
  {
   "cell_type": "code",
   "execution_count": 10,
   "metadata": {},
   "outputs": [
    {
     "data": {
      "image/svg+xml": [
       "<svg xmlns=\"http://www.w3.org/2000/svg\" xmlns:xlink=\"http://www.w3.org/1999/xlink\" width=\"300\" height=\"300\" viewBox=\"674240.8782659868 7182407.916397988 783.5116300691152 738.4649522257969\" preserveAspectRatio=\"xMinYMin meet\"><g transform=\"matrix(1,0,0,-1,0,14365554.2977482)\"><g><polyline fill=\"none\" stroke=\"#66cc99\" stroke-width=\"5.223410867127435\" points=\"674802.61846208,7183022.925381759 674995.370946794,7183105.639685724\" opacity=\"0.8\" /><polyline fill=\"none\" stroke=\"#66cc99\" stroke-width=\"5.223410867127435\" points=\"674894.3915497266,7182805.65848821 674984.7353643869,7182844.755551426\" opacity=\"0.8\" /><polyline fill=\"none\" stroke=\"#66cc99\" stroke-width=\"5.223410867127435\" points=\"674850.4208291039,7182909.756346545 674854.2271783283,7182911.37804216 674946.3802984997,7182951.731741998\" opacity=\"0.8\" /><polyline fill=\"none\" stroke=\"#66cc99\" stroke-width=\"5.223410867127435\" points=\"674939.173030515,7182699.64120723 674894.3915497266,7182805.65848821\" opacity=\"0.8\" /><polyline fill=\"none\" stroke=\"#66cc99\" stroke-width=\"5.223410867127435\" points=\"674793.575205717,7182762.029347801 674833.3099439497,7182664.334235666\" opacity=\"0.8\" /><polyline fill=\"none\" stroke=\"#66cc99\" stroke-width=\"5.223410867127435\" points=\"674721.5880521572,7182730.876287638 674767.2704249779,7182622.966226205\" opacity=\"0.8\" /><polyline fill=\"none\" stroke=\"#66cc99\" stroke-width=\"5.223410867127435\" points=\"674802.61846208,7183022.925381759 674762.7284599822,7183117.362400952\" opacity=\"0.8\" /><polyline fill=\"none\" stroke=\"#66cc99\" stroke-width=\"5.223410867127435\" points=\"674661.7350755199,7183086.1823906135 674704.5749381959,7182980.852762833\" opacity=\"0.8\" /><polyline fill=\"none\" stroke=\"#66cc99\" stroke-width=\"5.223410867127435\" points=\"674594.0207212411,7182675.670427449 674638.758246922,7182571.181475944 674640.497463482,7182565.992415568\" opacity=\"0.8\" /><polyline fill=\"none\" stroke=\"#66cc99\" stroke-width=\"5.223410867127435\" points=\"674587.5965136584,7183047.38863711 674629.4170730929,7182948.600880277\" opacity=\"0.8\" /><polyline fill=\"none\" stroke=\"#66cc99\" stroke-width=\"5.223410867127435\" points=\"674498.462559604,7182634.316810709 674580.9952574086,7182436.93534725\" opacity=\"0.8\" /><polyline fill=\"none\" stroke=\"#66cc99\" stroke-width=\"5.223410867127435\" points=\"674451.1297994277,7183009.406421399 674500.7957437768,7182893.4066567365\" opacity=\"0.8\" /><polyline fill=\"none\" stroke=\"#66cc99\" stroke-width=\"5.223410867127435\" points=\"674368.4944411255,7182578.071989044 674498.462559604,7182634.316810709\" opacity=\"0.8\" /><polyline fill=\"none\" stroke=\"#66cc99\" stroke-width=\"5.223410867127435\" points=\"674366.9952646159,7182948.728041314 674406.9637229808,7182853.141285832\" opacity=\"0.8\" /><polyline fill=\"none\" stroke=\"#66cc99\" stroke-width=\"5.223410867127435\" points=\"674331.3866525119,7182688.62176368 674453.9255601363,7182740.829482255\" opacity=\"0.8\" /><polyline fill=\"none\" stroke=\"#66cc99\" stroke-width=\"5.223410867127435\" points=\"674269.8972152487,7182794.323051656 674406.9637229808,7182853.141285832\" opacity=\"0.8\" /></g></g></svg>"
      ],
      "text/plain": [
       "<shapely.geometry.collection.GeometryCollection at 0x7f5901c9dbe0>"
      ]
     },
     "execution_count": 10,
     "metadata": {},
     "output_type": "execute_result"
    }
   ],
   "source": [
    "cuts"
   ]
  },
  {
   "cell_type": "code",
   "execution_count": 11,
   "metadata": {},
   "outputs": [],
   "source": [
    "# removing cuts\n",
    "\n",
    "# indexes_to_drop = []\n",
    "\n",
    "for polygon in cuts:\n",
    "    # line = splitted_gdf[splitted_gdf['geometry']==polygon]\n",
    "    # splitted_gdf.drop(line,axis=0)\n",
    "    splitted_gdf = splitted_gdf[splitted_gdf['geometry'] != polygon]"
   ]
  },
  {
   "cell_type": "code",
   "execution_count": 12,
   "metadata": {},
   "outputs": [
    {
     "data": {
      "text/plain": [
       "<matplotlib.axes._subplots.AxesSubplot at 0x7f5901d26ca0>"
      ]
     },
     "execution_count": 12,
     "metadata": {},
     "output_type": "execute_result"
    },
    {
     "data": {
      "image/png": "[encoded data removed]",
      "text/plain": [
       "<Figure size 432x288 with 1 Axes>"
      ]
     },
     "metadata": {
      "needs_background": "light"
     },
     "output_type": "display_data"
    }
   ],
   "source": [
    "# the spplitted segments\n",
    "splitted_gdf.plot()"
   ]
  },
  {
   "cell_type": "code",
   "execution_count": 13,
   "metadata": {},
   "outputs": [
    {
     "name": "stdout",
     "output_type": "stream",
     "text": [
      "103.1409557658569\n",
      "139.4648344617507\n",
      "80.04732859078092\n",
      "108.32806846562215\n",
      "121.7347747024017\n",
      "115.44909493480438\n",
      "104.1224465373435\n",
      "139.00039897882894\n",
      "78.43891531075504\n",
      "109.85188715878009\n",
      "102.10655327029312\n",
      "139.9637405448447\n",
      "81.78562596959013\n",
      "106.68944577093235\n",
      "122.58968808474067\n",
      "113.64056947206929\n",
      "121.99738546936199\n",
      "114.85691989057982\n",
      "122.36098968281021\n",
      "114.06973510047487\n",
      "113.0034883620398\n",
      "122.85070949878235\n"
     ]
    }
   ],
   "source": [
    "for line in splitted_gdf.geometry:\n",
    "    print(line.length)"
   ]
  },
  {
   "cell_type": "code",
   "execution_count": 14,
   "metadata": {},
   "outputs": [],
   "source": [
    "proto_blocks, dangles, cuts, invalids = polygonize_full(unary_union(splitted_gdf.geometry))"
   ]
  },
  {
   "cell_type": "code",
   "execution_count": 15,
   "metadata": {},
   "outputs": [],
   "source": [
    "background_polygon = unary_union(proto_blocks)"
   ]
  },
  {
   "cell_type": "code",
   "execution_count": 16,
   "metadata": {},
   "outputs": [],
   "source": [
    "# sidewalk buffers\n",
    "\n",
    "buffers = []\n",
    "\n",
    "for line in splitted_gdf.geometry:\n",
    "    buffers.append(line.buffer(default_buffer))\n",
    "\n",
    "gdf_buffers = multigeom_to_gdf(MultiPolygon(buffers),proj_epsg,'byffers.geojson')\n",
    "\n",
    "union_of_buffers = unary_union_from_gdf(gdf_buffers)"
   ]
  },
  {
   "cell_type": "code",
   "execution_count": 17,
   "metadata": {},
   "outputs": [],
   "source": [
    "symm_diff = background_polygon.symmetric_difference(union_of_buffers)"
   ]
  },
  {
   "cell_type": "code",
   "execution_count": 18,
   "metadata": {},
   "outputs": [
    {
     "data": {
      "text/html": [
       "<div>\n",
       "<style scoped>\n",
       "    .dataframe tbody tr th:only-of-type {\n",
       "        vertical-align: middle;\n",
       "    }\n",
       "\n",
       "    .dataframe tbody tr th {\n",
       "        vertical-align: top;\n",
       "    }\n",
       "\n",
       "    .dataframe thead th {\n",
       "        text-align: right;\n",
       "    }\n",
       "</style>\n",
       "<table border=\"1\" class=\"dataframe\">\n",
       "  <thead>\n",
       "    <tr style=\"text-align: right;\">\n",
       "      <th></th>\n",
       "      <th>names</th>\n",
       "      <th>geometry</th>\n",
       "    </tr>\n",
       "  </thead>\n",
       "  <tbody>\n",
       "    <tr>\n",
       "      <th>0</th>\n",
       "      <td>0</td>\n",
       "      <td>POLYGON ((674453.926 7182740.829, 674548.813 7...</td>\n",
       "    </tr>\n",
       "    <tr>\n",
       "      <th>1</th>\n",
       "      <td>1</td>\n",
       "      <td>POLYGON ((674548.813 7182781.256, 674453.926 7...</td>\n",
       "    </tr>\n",
       "    <tr>\n",
       "      <th>2</th>\n",
       "      <td>2</td>\n",
       "      <td>POLYGON ((674548.813 7182781.256, 674677.119 7...</td>\n",
       "    </tr>\n",
       "    <tr>\n",
       "      <th>3</th>\n",
       "      <td>3</td>\n",
       "      <td>POLYGON ((674677.119 7182835.921, 674548.813 7...</td>\n",
       "    </tr>\n",
       "    <tr>\n",
       "      <th>4</th>\n",
       "      <td>4</td>\n",
       "      <td>POLYGON ((674677.119 7182835.921, 674750.761 7...</td>\n",
       "    </tr>\n",
       "    <tr>\n",
       "      <th>5</th>\n",
       "      <td>5</td>\n",
       "      <td>POLYGON ((674750.761 7182867.296, 674677.119 7...</td>\n",
       "    </tr>\n",
       "    <tr>\n",
       "      <th>6</th>\n",
       "      <td>6</td>\n",
       "      <td>POLYGON ((674750.761 7182867.296, 674850.421 7...</td>\n",
       "    </tr>\n",
       "    <tr>\n",
       "      <th>7</th>\n",
       "      <td>7</td>\n",
       "      <td>POLYGON ((674850.421 7182909.756, 674750.761 7...</td>\n",
       "    </tr>\n",
       "  </tbody>\n",
       "</table>\n",
       "</div>"
      ],
      "text/plain": [
       "  names                                           geometry\n",
       "0     0  POLYGON ((674453.926 7182740.829, 674548.813 7...\n",
       "1     1  POLYGON ((674548.813 7182781.256, 674453.926 7...\n",
       "2     2  POLYGON ((674548.813 7182781.256, 674677.119 7...\n",
       "3     3  POLYGON ((674677.119 7182835.921, 674548.813 7...\n",
       "4     4  POLYGON ((674677.119 7182835.921, 674750.761 7...\n",
       "5     5  POLYGON ((674750.761 7182867.296, 674677.119 7...\n",
       "6     6  POLYGON ((674750.761 7182867.296, 674850.421 7...\n",
       "7     7  POLYGON ((674850.421 7182909.756, 674750.761 7..."
      ]
     },
     "execution_count": 18,
     "metadata": {},
     "output_type": "execute_result"
    }
   ],
   "source": [
    "multigeom_to_gdf(symm_diff,proj_epsg,'symm_diff.geojson')\n",
    "multigeom_to_gdf(proto_blocks,proj_epsg,'protoblocks.geojson')"
   ]
  },
  {
   "cell_type": "code",
   "execution_count": 19,
   "metadata": {},
   "outputs": [],
   "source": [
    "def remove_polygons_with_holes(input_geomcontainer):\n",
    "\n",
    "    # # also support lists\n",
    "    if not isinstance(input_geomcontainer,list):\n",
    "        input_geomcontainer = list(input_geomcontainer)\n",
    "\n",
    "    # print(input_geomcontainer)\n",
    "\n",
    "    for i,geom in enumerate(input_geomcontainer):\n",
    "        if geom.geom_type == \"Polygon\":\n",
    "            if list(geom.interiors):\n",
    "                del input_geomcontainer[i]\n",
    "\n",
    "    return input_geomcontainer\n",
    "\n"
   ]
  },
  {
   "cell_type": "code",
   "execution_count": 20,
   "metadata": {},
   "outputs": [],
   "source": [
    "symm_diff2 = remove_polygons_with_holes(symm_diff)"
   ]
  },
  {
   "cell_type": "code",
   "execution_count": 21,
   "metadata": {},
   "outputs": [
    {
     "name": "stdout",
     "output_type": "stream",
     "text": [
      "4.065789519544529\n",
      "4.813867744826003\n",
      "3.4379216944641207\n",
      "4.024194999398523\n",
      "3.9516826364484907\n",
      "4.649914292062043\n",
      "3.6438010324519694\n",
      "4.180543317329735\n"
     ]
    }
   ],
   "source": [
    "rounded_blocks = []\n",
    "\n",
    "for block in symm_diff2:\n",
    "    custom_buffer = block.length * 0.01\n",
    "    print(custom_buffer)\n",
    "    as_buffer = block.buffer(-custom_buffer, join_style=1).buffer(custom_buffer, join_style=1)\n",
    "    rounded_blocks.append(LinearRing(as_buffer.exterior.coords))"
   ]
  },
  {
   "cell_type": "code",
   "execution_count": 22,
   "metadata": {},
   "outputs": [],
   "source": [
    "rounded_blocks_gdf = multigeom_to_gdf(rounded_blocks,proj_epsg,'rounded.geojson')"
   ]
  },
  {
   "cell_type": "code",
   "execution_count": 23,
   "metadata": {},
   "outputs": [
    {
     "name": "stdout",
     "output_type": "stream",
     "text": [
      "(3, 4)\n",
      "(4, 4)\n",
      "(4, 4)\n",
      "(4, 3)\n",
      "(3, 4)\n",
      "(4, 3)\n",
      "(3, 4)\n",
      "(4, 3)\n",
      "(3, 4)\n",
      "(4, 3)\n"
     ]
    },
    {
     "data": {
      "text/plain": [
       "<matplotlib.axes._subplots.AxesSubplot at 0x7f5901c49880>"
      ]
     },
     "execution_count": 23,
     "metadata": {},
     "output_type": "execute_result"
    },
    {
     "data": {
      "image/png": "[encoded data removed]",
      "text/plain": [
       "<Figure size 432x288 with 1 Axes>"
      ]
     },
     "metadata": {
      "needs_background": "light"
     },
     "output_type": "display_data"
    }
   ],
   "source": [
    "newlines = []\n",
    "crossing_points = []\n",
    "\n",
    "\n",
    "# Drawing center points of crossings\n",
    "\n",
    "for line in splitted_gdf.geometry:\n",
    "    P0 = Point(line.coords[0])\n",
    "    PF = Point(line.coords[-1]) #(Point-Final)\n",
    "\n",
    "    points_to_add = []\n",
    "\n",
    "    number_touches_p1 = sum(splitted_gdf.intersects(P0))\n",
    "    number_touches_pf = sum(splitted_gdf.intersects(PF))\n",
    "\n",
    "    occurrences = (number_touches_p1,number_touches_pf)\n",
    "\n",
    "    if all(x > 2 for x in occurrences):\n",
    "        if any(x > 3 for x in occurrences):\n",
    "            print(occurrences)\n",
    "            if line.length > 2 * default_crossing_lenght:\n",
    "                if number_touches_p1 > 2:\n",
    "                    points_to_add.append(line.interpolate(default_crossing_lenght))\n",
    "\n",
    "                if number_touches_pf > 2:\n",
    "                    points_to_add.append(line.interpolate(-default_crossing_lenght))\n",
    "\n",
    "            else:\n",
    "                if number_touches_p1 > 2 or number_touches_pf > 2:\n",
    "                    # TODO: check if midpoint is the best for short lines\n",
    "                    points_to_add.append(line.interpolate(0.5,normalized=True))\n",
    "\n",
    "    # newline = line\n",
    "\n",
    "    if points_to_add:\n",
    "        crossing_points += points_to_add\n",
    "\n",
    "        # as_multipoint = MultiPoint(points_to_add)\n",
    "        # splitted_line = split(line,as_multipoint)\n",
    "\n",
    "        # total_points = []\n",
    "\n",
    "        # for subline in splitted_line:\n",
    "        #     total_points += list(subline.coords)\n",
    "\n",
    "        # newline = LineString(total_points)\n",
    "\n",
    "    # newlines.append(newline)\n",
    "\n",
    "\n",
    "# newlines_gdf = multigeom_to_gdf(newlines,proj_epsg,'newlines.geojson')\n",
    "\n",
    "crossings_gdf = multigeom_to_gdf(crossing_points,proj_epsg,'crossings.geojson')\n",
    "\n",
    "crossings_gdf.plot()\n",
    "\n",
    "\n",
    "            \n",
    "        \n",
    "\n",
    "\n"
   ]
  },
  {
   "cell_type": "code",
   "execution_count": 24,
   "metadata": {},
   "outputs": [],
   "source": [
    "# next step:\n",
    "# https://stackoverflow.com/questions/57273984/fast-way-to-find-the-closest-polygon-to-a-point\n",
    "# https://stackoverflow.com/questions/33311616/find-coordinate-of-the-closest-point-on-polygon-in-shapely \n",
    "\n",
    "distances_dict = {}\n",
    "\n",
    "# computing distances between blocks and points\n",
    "\n",
    "for i,point in enumerate(crossings_gdf.geometry):\n",
    "    # min_poly = min(rounded_blocks_gdf.geometry,key=point.distance)\n",
    "\n",
    "    # print(min_poly)\n",
    "    # print()\n",
    "    distances = []\n",
    "\n",
    "    for j,polygon in enumerate(rounded_blocks_gdf.geometry):\n",
    "        distances.append(polygon.distance(point))\n",
    "        # print(distance)\n",
    "\n",
    "    # rounded_blocks_gdf[f'dist_p{i}'] = distances\n",
    "    distances_dict[i] = distances\n",
    "\n",
    "distances_df = pd.DataFrame(distances_dict)\n",
    "\n"
   ]
  },
  {
   "cell_type": "code",
   "execution_count": 25,
   "metadata": {},
   "outputs": [
    {
     "data": {
      "text/html": [
       "<div>\n",
       "<style scoped>\n",
       "    .dataframe tbody tr th:only-of-type {\n",
       "        vertical-align: middle;\n",
       "    }\n",
       "\n",
       "    .dataframe tbody tr th {\n",
       "        vertical-align: top;\n",
       "    }\n",
       "\n",
       "    .dataframe thead th {\n",
       "        text-align: right;\n",
       "    }\n",
       "</style>\n",
       "<table border=\"1\" class=\"dataframe\">\n",
       "  <thead>\n",
       "    <tr style=\"text-align: right;\">\n",
       "      <th></th>\n",
       "      <th>0</th>\n",
       "      <th>1</th>\n",
       "      <th>2</th>\n",
       "      <th>3</th>\n",
       "      <th>4</th>\n",
       "      <th>5</th>\n",
       "      <th>6</th>\n",
       "      <th>7</th>\n",
       "      <th>8</th>\n",
       "      <th>9</th>\n",
       "      <th>10</th>\n",
       "      <th>11</th>\n",
       "      <th>12</th>\n",
       "      <th>13</th>\n",
       "      <th>14</th>\n",
       "      <th>15</th>\n",
       "      <th>16</th>\n",
       "      <th>17</th>\n",
       "      <th>18</th>\n",
       "      <th>19</th>\n",
       "    </tr>\n",
       "  </thead>\n",
       "  <tbody>\n",
       "    <tr>\n",
       "      <th>0</th>\n",
       "      <td>5.300000</td>\n",
       "      <td>5.300000</td>\n",
       "      <td>18.007540</td>\n",
       "      <td>134.500158</td>\n",
       "      <td>155.659344</td>\n",
       "      <td>214.433809</td>\n",
       "      <td>235.615370</td>\n",
       "      <td>322.693084</td>\n",
       "      <td>226.855824</td>\n",
       "      <td>225.005284</td>\n",
       "      <td>225.524106</td>\n",
       "      <td>249.413349</td>\n",
       "      <td>5.300000</td>\n",
       "      <td>5.300000</td>\n",
       "      <td>18.007540</td>\n",
       "      <td>109.959337</td>\n",
       "      <td>145.220459</td>\n",
       "      <td>144.807848</td>\n",
       "      <td>146.093312</td>\n",
       "      <td>182.529055</td>\n",
       "    </tr>\n",
       "    <tr>\n",
       "      <th>1</th>\n",
       "      <td>98.320078</td>\n",
       "      <td>18.225383</td>\n",
       "      <td>5.300000</td>\n",
       "      <td>5.300000</td>\n",
       "      <td>18.220749</td>\n",
       "      <td>75.366313</td>\n",
       "      <td>96.430544</td>\n",
       "      <td>183.329577</td>\n",
       "      <td>86.934407</td>\n",
       "      <td>85.497357</td>\n",
       "      <td>87.505040</td>\n",
       "      <td>138.792889</td>\n",
       "      <td>5.300000</td>\n",
       "      <td>5.300000</td>\n",
       "      <td>18.225383</td>\n",
       "      <td>109.985653</td>\n",
       "      <td>5.300000</td>\n",
       "      <td>5.300000</td>\n",
       "      <td>18.220749</td>\n",
       "      <td>109.196340</td>\n",
       "    </tr>\n",
       "    <tr>\n",
       "      <th>2</th>\n",
       "      <td>237.446281</td>\n",
       "      <td>155.588635</td>\n",
       "      <td>134.424372</td>\n",
       "      <td>17.766119</td>\n",
       "      <td>5.300000</td>\n",
       "      <td>5.300000</td>\n",
       "      <td>17.918330</td>\n",
       "      <td>103.530685</td>\n",
       "      <td>117.750438</td>\n",
       "      <td>17.918330</td>\n",
       "      <td>5.300000</td>\n",
       "      <td>5.300000</td>\n",
       "      <td>187.479413</td>\n",
       "      <td>146.021490</td>\n",
       "      <td>144.721231</td>\n",
       "      <td>144.339228</td>\n",
       "      <td>117.358762</td>\n",
       "      <td>17.766119</td>\n",
       "      <td>5.300000</td>\n",
       "      <td>5.300000</td>\n",
       "    </tr>\n",
       "    <tr>\n",
       "      <th>3</th>\n",
       "      <td>317.336399</td>\n",
       "      <td>235.442458</td>\n",
       "      <td>214.260475</td>\n",
       "      <td>96.230414</td>\n",
       "      <td>75.146023</td>\n",
       "      <td>17.839099</td>\n",
       "      <td>5.300000</td>\n",
       "      <td>5.300000</td>\n",
       "      <td>117.498419</td>\n",
       "      <td>17.839099</td>\n",
       "      <td>5.300000</td>\n",
       "      <td>5.300000</td>\n",
       "      <td>254.744232</td>\n",
       "      <td>225.546400</td>\n",
       "      <td>224.588915</td>\n",
       "      <td>222.911015</td>\n",
       "      <td>146.232866</td>\n",
       "      <td>87.369024</td>\n",
       "      <td>85.186230</td>\n",
       "      <td>83.872615</td>\n",
       "    </tr>\n",
       "    <tr>\n",
       "      <th>4</th>\n",
       "      <td>5.300000</td>\n",
       "      <td>5.300000</td>\n",
       "      <td>17.939332</td>\n",
       "      <td>134.460134</td>\n",
       "      <td>155.620350</td>\n",
       "      <td>214.395116</td>\n",
       "      <td>235.577172</td>\n",
       "      <td>322.656243</td>\n",
       "      <td>256.564214</td>\n",
       "      <td>225.829673</td>\n",
       "      <td>224.618346</td>\n",
       "      <td>222.931143</td>\n",
       "      <td>117.036285</td>\n",
       "      <td>17.939332</td>\n",
       "      <td>5.300000</td>\n",
       "      <td>5.300000</td>\n",
       "      <td>187.965439</td>\n",
       "      <td>146.093970</td>\n",
       "      <td>144.721379</td>\n",
       "      <td>144.342586</td>\n",
       "    </tr>\n",
       "    <tr>\n",
       "      <th>5</th>\n",
       "      <td>98.340447</td>\n",
       "      <td>18.202493</td>\n",
       "      <td>5.300000</td>\n",
       "      <td>5.300000</td>\n",
       "      <td>18.207079</td>\n",
       "      <td>75.393088</td>\n",
       "      <td>96.460994</td>\n",
       "      <td>183.366180</td>\n",
       "      <td>148.013179</td>\n",
       "      <td>87.858075</td>\n",
       "      <td>85.196878</td>\n",
       "      <td>83.886668</td>\n",
       "      <td>117.122822</td>\n",
       "      <td>18.202493</td>\n",
       "      <td>5.300000</td>\n",
       "      <td>5.300000</td>\n",
       "      <td>117.490340</td>\n",
       "      <td>18.207079</td>\n",
       "      <td>5.300000</td>\n",
       "      <td>5.300000</td>\n",
       "    </tr>\n",
       "    <tr>\n",
       "      <th>6</th>\n",
       "      <td>237.495160</td>\n",
       "      <td>155.639672</td>\n",
       "      <td>134.477115</td>\n",
       "      <td>17.871109</td>\n",
       "      <td>5.300000</td>\n",
       "      <td>5.300000</td>\n",
       "      <td>17.718075</td>\n",
       "      <td>103.258423</td>\n",
       "      <td>5.300000</td>\n",
       "      <td>5.300000</td>\n",
       "      <td>17.718075</td>\n",
       "      <td>108.553651</td>\n",
       "      <td>145.218829</td>\n",
       "      <td>144.807701</td>\n",
       "      <td>146.050119</td>\n",
       "      <td>182.880496</td>\n",
       "      <td>5.300000</td>\n",
       "      <td>5.300000</td>\n",
       "      <td>17.871109</td>\n",
       "      <td>109.146000</td>\n",
       "    </tr>\n",
       "    <tr>\n",
       "      <th>7</th>\n",
       "      <td>317.654722</td>\n",
       "      <td>235.760973</td>\n",
       "      <td>214.578466</td>\n",
       "      <td>96.552212</td>\n",
       "      <td>75.473969</td>\n",
       "      <td>18.172407</td>\n",
       "      <td>5.300000</td>\n",
       "      <td>5.300000</td>\n",
       "      <td>5.300000</td>\n",
       "      <td>5.300000</td>\n",
       "      <td>18.172407</td>\n",
       "      <td>108.896171</td>\n",
       "      <td>226.815582</td>\n",
       "      <td>224.991523</td>\n",
       "      <td>225.829023</td>\n",
       "      <td>251.478021</td>\n",
       "      <td>86.920517</td>\n",
       "      <td>85.487456</td>\n",
       "      <td>87.752295</td>\n",
       "      <td>140.194575</td>\n",
       "    </tr>\n",
       "  </tbody>\n",
       "</table>\n",
       "</div>"
      ],
      "text/plain": [
       "           0           1           2           3           4           5   \\\n",
       "0    5.300000    5.300000   18.007540  134.500158  155.659344  214.433809   \n",
       "1   98.320078   18.225383    5.300000    5.300000   18.220749   75.366313   \n",
       "2  237.446281  155.588635  134.424372   17.766119    5.300000    5.300000   \n",
       "3  317.336399  235.442458  214.260475   96.230414   75.146023   17.839099   \n",
       "4    5.300000    5.300000   17.939332  134.460134  155.620350  214.395116   \n",
       "5   98.340447   18.202493    5.300000    5.300000   18.207079   75.393088   \n",
       "6  237.495160  155.639672  134.477115   17.871109    5.300000    5.300000   \n",
       "7  317.654722  235.760973  214.578466   96.552212   75.473969   18.172407   \n",
       "\n",
       "           6           7           8           9           10          11  \\\n",
       "0  235.615370  322.693084  226.855824  225.005284  225.524106  249.413349   \n",
       "1   96.430544  183.329577   86.934407   85.497357   87.505040  138.792889   \n",
       "2   17.918330  103.530685  117.750438   17.918330    5.300000    5.300000   \n",
       "3    5.300000    5.300000  117.498419   17.839099    5.300000    5.300000   \n",
       "4  235.577172  322.656243  256.564214  225.829673  224.618346  222.931143   \n",
       "5   96.460994  183.366180  148.013179   87.858075   85.196878   83.886668   \n",
       "6   17.718075  103.258423    5.300000    5.300000   17.718075  108.553651   \n",
       "7    5.300000    5.300000    5.300000    5.300000   18.172407  108.896171   \n",
       "\n",
       "           12          13          14          15          16          17  \\\n",
       "0    5.300000    5.300000   18.007540  109.959337  145.220459  144.807848   \n",
       "1    5.300000    5.300000   18.225383  109.985653    5.300000    5.300000   \n",
       "2  187.479413  146.021490  144.721231  144.339228  117.358762   17.766119   \n",
       "3  254.744232  225.546400  224.588915  222.911015  146.232866   87.369024   \n",
       "4  117.036285   17.939332    5.300000    5.300000  187.965439  146.093970   \n",
       "5  117.122822   18.202493    5.300000    5.300000  117.490340   18.207079   \n",
       "6  145.218829  144.807701  146.050119  182.880496    5.300000    5.300000   \n",
       "7  226.815582  224.991523  225.829023  251.478021   86.920517   85.487456   \n",
       "\n",
       "           18          19  \n",
       "0  146.093312  182.529055  \n",
       "1   18.220749  109.196340  \n",
       "2    5.300000    5.300000  \n",
       "3   85.186230   83.872615  \n",
       "4  144.721379  144.342586  \n",
       "5    5.300000    5.300000  \n",
       "6   17.871109  109.146000  \n",
       "7   87.752295  140.194575  "
      ]
     },
     "execution_count": 25,
     "metadata": {},
     "output_type": "execute_result"
    }
   ],
   "source": [
    "distances_df"
   ]
  },
  {
   "cell_type": "code",
   "execution_count": 26,
   "metadata": {},
   "outputs": [],
   "source": [
    "def point_between_two(p1,p2,ratio=1/3):\n",
    "    line_geom = LineString([p1,p2])\n",
    "\n",
    "    return line_geom.interpolate(ratio,True)"
   ]
  },
  {
   "cell_type": "code",
   "execution_count": 27,
   "metadata": {},
   "outputs": [
    {
     "data": {
      "text/plain": [
       "<matplotlib.axes._subplots.AxesSubplot at 0x7f5901bc93d0>"
      ]
     },
     "execution_count": 27,
     "metadata": {},
     "output_type": "execute_result"
    },
    {
     "data": {
      "image/png": "[encoded data removed]",
      "text/plain": [
       "<Figure size 432x288 with 1 Axes>"
      ]
     },
     "metadata": {
      "needs_background": "light"
     },
     "output_type": "display_data"
    }
   ],
   "source": [
    "# rounded_blocks_gdf.iloc[0]\n",
    "\n",
    "points_to_add_in_blocks = {}\n",
    "\n",
    "crossing_geoms = []\n",
    "\n",
    "# COLUMNS HOLDS POINTS\n",
    "# ROWS HOLDS BLOCKS \n",
    "\n",
    "for column in distances_df.columns:\n",
    "    crossing_geom_list = [] # to store the five points of the \n",
    "\n",
    "    two_smallest_block_index = list(distances_df[column].nsmallest(2).keys())\n",
    "\n",
    "    curr_point = crossings_gdf.iloc[column].geometry\n",
    "\n",
    "    for i in two_smallest_block_index:\n",
    "        curr_block = rounded_blocks_gdf.iloc[i].geometry\n",
    "\n",
    "        block_p,_ = nearest_points(curr_block,curr_point)\n",
    "\n",
    "\n",
    "        # points to be addeded to the blocks geometry \n",
    "        if not i in points_to_add_in_blocks:\n",
    "            points_to_add_in_blocks[i] = [block_p.coords]\n",
    "        else:\n",
    "            points_to_add_in_blocks[i].append(block_p.coords)\n",
    "\n",
    "        # workaround for two iterations\n",
    "        # generaing the crossings geometry\n",
    "        if not crossing_geom_list:\n",
    "            pos2_point = point_between_two(block_p,curr_point)\n",
    "            crossing_geom_list = [block_p,pos2_point,curr_point]\n",
    "        else:\n",
    "            pos4_point = point_between_two(curr_point,block_p,2/3)\n",
    "            crossing_geom_list.append(pos4_point)\n",
    "            crossing_geom_list.append(block_p)\n",
    "\n",
    "    crossing_geoms.append(LineString(crossing_geom_list))\n",
    "\n",
    "crossings_gdf = multigeom_to_gdf(crossing_geoms,proj_epsg,'crossing_lines.geojson')\n",
    "    \n",
    "crossings_gdf.plot()\n"
   ]
  },
  {
   "cell_type": "code",
   "execution_count": 28,
   "metadata": {},
   "outputs": [],
   "source": [
    "# def aggregate_points_to_linearring(lrr,point_list):\n",
    "#     # future work\n",
    "\n",
    "#     sorting_dict = {'geometry':[],'distances':[]}\n",
    "\n",
    "#     all_points = list(lrr.coords) + point_list\n",
    "\n",
    "#     for point in all_points:\n",
    "#         curr_point = Point(point)\n",
    "#         sorting_dict['points'].append(curr_point)\n",
    "#         sorting_dict['distances'].append(lrr.project(curr_point))\n",
    "\n",
    "\n",
    "#     as_df = pd.DataFrame(sorting_dict)\n",
    "#     df2 = as_df.sort_values(by='distances')\n",
    "\n",
    "#     # print(as_df)\n",
    "#     # print(df2)\n",
    "#     # print()\n",
    "\n",
    "\n",
    "#     # print(dict(as_df['points']))\n",
    "\n",
    "#     # return LinearRing(Polygon(as_df['points']).exterior.coords)  \n",
    "#     return LineString(df2['points'])   \n",
    "    \n",
    "\n",
    "\n"
   ]
  },
  {
   "cell_type": "code",
   "execution_count": null,
   "metadata": {},
   "outputs": [],
   "source": []
  },
  {
   "cell_type": "code",
   "execution_count": 29,
   "metadata": {},
   "outputs": [],
   "source": [
    "new_blocks = []\n",
    "\n",
    "for key in points_to_add_in_blocks:\n",
    "    curr_block = LineString(rounded_blocks_gdf.iloc[key].geometry)\n",
    "\n",
    "    pts = points_to_add_in_blocks[key]\n",
    "\n",
    "    as_coords_list = [list(pt)[0] for pt in pts]\n",
    "\n",
    "    # print(len(as_coords_list))\n",
    "\n",
    "    # # # method 1: trying with merges:\n",
    "    # # as_multipoint = MultiPoint(as_coords_list)\n",
    "    # # united = MultiLineString([as_multipoint,curr_block.coords])\n",
    "    # # polygons,_,_,_ = polygonize_full(united)\n",
    "    # # merged_pol = unary_union(polygons)\n",
    "    # # new_block = LinearRing(merged_pol.exterior.coords)\n",
    "\n",
    "    # #method 2: function agrregate...\n",
    "    # # new_block = aggregate_points_to_linearring(curr_block,as_coords_list)\n",
    "\n",
    "    # method 3: splitting_again\n",
    "    curr_centroid = curr_block.centroid\n",
    "    cs = np.array(curr_centroid)\n",
    "    splitlines = []\n",
    "\n",
    "    for point in as_coords_list:\n",
    "\n",
    "\n",
    "        pt_test = np.array(point)\n",
    "\n",
    "        vec = pt_test - cs\n",
    "\n",
    "        p1 = cs - (10 * vec)\n",
    "        p2 = cs + (10 * vec)\n",
    "\n",
    "        splitlines.append(LineString([p1,p2]))\n",
    "\n",
    "    splitter_geom = MultiLineString(splitlines)\n",
    "\n",
    "\n",
    "    splitted = split(curr_block,splitter_geom)\n",
    "\n",
    "    merged = LinearRing(linemerge(splitted))\n",
    "\n",
    "\n",
    "    # print(split(LineString(curr_block),testline))\n",
    "\n",
    "\n",
    "    #     cs = np.array(curr_centroid)\n",
    "\n",
    "    \n",
    "\n",
    "\n",
    "    # new_block = aggregate_points_to_linearring(curr_block,as_coords_list)\n",
    "\n",
    "\n",
    "\n",
    "    # print(as_coords_list+list(curr_block.coords))\n",
    "\n",
    "    # print()\n",
    "\n",
    "\n",
    "\n",
    "    # print(list(curr_block.coords)+points_to_add_in_blocks[key])\n",
    "    # print('\\n\\n')\n",
    "\n",
    "    # # for point in points_to_add_in_blocks[key]:\n",
    "    # #     split(curr_point)\n",
    "\n",
    "    # # splitted_geom = split(LineString(curr_block),as_multipoint)\n",
    "\n",
    "\n",
    "\n",
    "\n",
    "\n",
    "\n",
    "    new_blocks.append(merged)\n",
    "\n",
    "\n",
    "new_blocks_gdf = multigeom_to_gdf(new_blocks,proj_epsg,'new_blocks.geojson')"
   ]
  },
  {
   "cell_type": "code",
   "execution_count": 30,
   "metadata": {},
   "outputs": [
    {
     "data": {
      "text/plain": [
       "<matplotlib.axes._subplots.AxesSubplot at 0x7f5901b77490>"
      ]
     },
     "execution_count": 30,
     "metadata": {},
     "output_type": "execute_result"
    },
    {
     "data": {
      "image/png": "[encoded data removed]",
      "text/plain": [
       "<Figure size 432x288 with 1 Axes>"
      ]
     },
     "metadata": {
      "needs_background": "light"
     },
     "output_type": "display_data"
    }
   ],
   "source": [
    "new_blocks_gdf.plot()"
   ]
  }
 ],
 "metadata": {
  "interpreter": {
   "hash": "31f2aee4e71d21fbe5cf8b01ff0e069b9275f58929596ceb00d14d90e3e16cd6"
  },
  "kernelspec": {
   "display_name": "Python 3 (ipykernel)",
   "language": "python",
   "name": "python3"
  },
  "language_info": {
   "codemirror_mode": {
    "name": "ipython",
    "version": 3
   },
   "file_extension": ".py",
   "mimetype": "text/x-python",
   "name": "python",
   "nbconvert_exporter": "python",
   "pygments_lexer": "ipython3",
   "version": "3.10.6"
  }
 },
 "nbformat": 4,
 "nbformat_minor": 2
}
