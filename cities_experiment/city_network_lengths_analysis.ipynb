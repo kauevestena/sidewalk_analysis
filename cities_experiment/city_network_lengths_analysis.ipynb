{
 "cells": [
  {
   "cell_type": "markdown",
   "id": "6dea84da",
   "metadata": {},
   "source": [
    "# City Network Lengths Analysis\n",
    "This notebook explores the `city_network_lengths.csv` dataset."
   ]
  },
  {
   "cell_type": "code",
   "execution_count": 1,
   "id": "97821f15",
   "metadata": {},
   "outputs": [
    {
     "data": {
      "text/html": [
       "<div>\n",
       "<style scoped>\n",
       "    .dataframe tbody tr th:only-of-type {\n",
       "        vertical-align: middle;\n",
       "    }\n",
       "\n",
       "    .dataframe tbody tr th {\n",
       "        vertical-align: top;\n",
       "    }\n",
       "\n",
       "    .dataframe thead th {\n",
       "        text-align: right;\n",
       "    }\n",
       "</style>\n",
       "<table border=\"1\" class=\"dataframe\">\n",
       "  <thead>\n",
       "    <tr style=\"text-align: right;\">\n",
       "      <th></th>\n",
       "      <th>rank</th>\n",
       "      <th>city</th>\n",
       "      <th>country_code</th>\n",
       "      <th>lat</th>\n",
       "      <th>lon</th>\n",
       "      <th>population</th>\n",
       "      <th>radius_m</th>\n",
       "      <th>car_len_m</th>\n",
       "      <th>footway_len_m</th>\n",
       "      <th>sidewalk_len_m</th>\n",
       "      <th>with_sidewalk_len_m</th>\n",
       "    </tr>\n",
       "  </thead>\n",
       "  <tbody>\n",
       "    <tr>\n",
       "      <th>0</th>\n",
       "      <td>1</td>\n",
       "      <td>Shanghai</td>\n",
       "      <td>CN</td>\n",
       "      <td>31.22222</td>\n",
       "      <td>121.45806</td>\n",
       "      <td>24874500</td>\n",
       "      <td>30000</td>\n",
       "      <td>14302915.66</td>\n",
       "      <td>1666039.33</td>\n",
       "      <td>457725.97</td>\n",
       "      <td>114337.39</td>\n",
       "    </tr>\n",
       "    <tr>\n",
       "      <th>1</th>\n",
       "      <td>2</td>\n",
       "      <td>Beijing</td>\n",
       "      <td>CN</td>\n",
       "      <td>39.90750</td>\n",
       "      <td>116.39723</td>\n",
       "      <td>18960744</td>\n",
       "      <td>30000</td>\n",
       "      <td>16876608.85</td>\n",
       "      <td>3716029.22</td>\n",
       "      <td>480143.97</td>\n",
       "      <td>218140.31</td>\n",
       "    </tr>\n",
       "    <tr>\n",
       "      <th>2</th>\n",
       "      <td>3</td>\n",
       "      <td>Shenzhen</td>\n",
       "      <td>CN</td>\n",
       "      <td>22.54554</td>\n",
       "      <td>114.06830</td>\n",
       "      <td>17494398</td>\n",
       "      <td>30000</td>\n",
       "      <td>10287625.48</td>\n",
       "      <td>8128926.17</td>\n",
       "      <td>2252774.96</td>\n",
       "      <td>1448489.06</td>\n",
       "    </tr>\n",
       "    <tr>\n",
       "      <th>3</th>\n",
       "      <td>4</td>\n",
       "      <td>Guangzhou</td>\n",
       "      <td>CN</td>\n",
       "      <td>23.11667</td>\n",
       "      <td>113.25000</td>\n",
       "      <td>16096724</td>\n",
       "      <td>30000</td>\n",
       "      <td>15542594.85</td>\n",
       "      <td>2137960.77</td>\n",
       "      <td>551344.77</td>\n",
       "      <td>250632.66</td>\n",
       "    </tr>\n",
       "    <tr>\n",
       "      <th>4</th>\n",
       "      <td>5</td>\n",
       "      <td>Kinshasa</td>\n",
       "      <td>CD</td>\n",
       "      <td>-4.32758</td>\n",
       "      <td>15.31357</td>\n",
       "      <td>16000000</td>\n",
       "      <td>30000</td>\n",
       "      <td>12749027.51</td>\n",
       "      <td>424968.72</td>\n",
       "      <td>17143.48</td>\n",
       "      <td>29982.48</td>\n",
       "    </tr>\n",
       "  </tbody>\n",
       "</table>\n",
       "</div>"
      ],
      "text/plain": [
       "   rank       city country_code       lat        lon  population  radius_m  \\\n",
       "0     1   Shanghai           CN  31.22222  121.45806    24874500     30000   \n",
       "1     2    Beijing           CN  39.90750  116.39723    18960744     30000   \n",
       "2     3   Shenzhen           CN  22.54554  114.06830    17494398     30000   \n",
       "3     4  Guangzhou           CN  23.11667  113.25000    16096724     30000   \n",
       "4     5   Kinshasa           CD  -4.32758   15.31357    16000000     30000   \n",
       "\n",
       "     car_len_m  footway_len_m  sidewalk_len_m  with_sidewalk_len_m  \n",
       "0  14302915.66     1666039.33       457725.97            114337.39  \n",
       "1  16876608.85     3716029.22       480143.97            218140.31  \n",
       "2  10287625.48     8128926.17      2252774.96           1448489.06  \n",
       "3  15542594.85     2137960.77       551344.77            250632.66  \n",
       "4  12749027.51      424968.72        17143.48             29982.48  "
      ]
     },
     "execution_count": 1,
     "metadata": {},
     "output_type": "execute_result"
    }
   ],
   "source": [
    "import pandas as pd\n",
    "import plotly.express as px\n",
    "\n",
    "# Load dataset\n",
    "df = pd.read_csv('city_network_lengths.csv')\n",
    "df.head()"
   ]
  },
  {
   "cell_type": "markdown",
   "id": "908149b4",
   "metadata": {},
   "source": [
    "## Boxplot of Network Lengths"
   ]
  },
  {
   "cell_type": "code",
   "execution_count": 2,
   "id": "bbc9fca0",
   "metadata": {},
   "outputs": [
    {
     "ename": "ValueError",
     "evalue": "Mime type rendering requires nbformat>=4.2.0 but it is not installed",
     "output_type": "error",
     "traceback": [
      "\u001b[31m---------------------------------------------------------------------------\u001b[39m",
      "\u001b[31mValueError\u001b[39m                                Traceback (most recent call last)",
      "\u001b[36mFile \u001b[39m\u001b[32m~/sidewalk_analysis/.venv/lib/python3.12/site-packages/IPython/core/formatters.py:984\u001b[39m, in \u001b[36mIPythonDisplayFormatter.__call__\u001b[39m\u001b[34m(self, obj)\u001b[39m\n\u001b[32m    982\u001b[39m method = get_real_method(obj, \u001b[38;5;28mself\u001b[39m.print_method)\n\u001b[32m    983\u001b[39m \u001b[38;5;28;01mif\u001b[39;00m method \u001b[38;5;129;01mis\u001b[39;00m \u001b[38;5;129;01mnot\u001b[39;00m \u001b[38;5;28;01mNone\u001b[39;00m:\n\u001b[32m--> \u001b[39m\u001b[32m984\u001b[39m     \u001b[43mmethod\u001b[49m\u001b[43m(\u001b[49m\u001b[43m)\u001b[49m\n\u001b[32m    985\u001b[39m     \u001b[38;5;28;01mreturn\u001b[39;00m \u001b[38;5;28;01mTrue\u001b[39;00m\n",
      "\u001b[36mFile \u001b[39m\u001b[32m~/sidewalk_analysis/.venv/lib/python3.12/site-packages/plotly/basedatatypes.py:850\u001b[39m, in \u001b[36mBaseFigure._ipython_display_\u001b[39m\u001b[34m(self)\u001b[39m\n\u001b[32m    847\u001b[39m \u001b[38;5;28;01mimport\u001b[39;00m\u001b[38;5;250m \u001b[39m\u001b[34;01mplotly\u001b[39;00m\u001b[34;01m.\u001b[39;00m\u001b[34;01mio\u001b[39;00m\u001b[38;5;250m \u001b[39m\u001b[38;5;28;01mas\u001b[39;00m\u001b[38;5;250m \u001b[39m\u001b[34;01mpio\u001b[39;00m\n\u001b[32m    849\u001b[39m \u001b[38;5;28;01mif\u001b[39;00m pio.renderers.render_on_display \u001b[38;5;129;01mand\u001b[39;00m pio.renderers.default:\n\u001b[32m--> \u001b[39m\u001b[32m850\u001b[39m     \u001b[43mpio\u001b[49m\u001b[43m.\u001b[49m\u001b[43mshow\u001b[49m\u001b[43m(\u001b[49m\u001b[38;5;28;43mself\u001b[39;49m\u001b[43m)\u001b[49m\n\u001b[32m    851\u001b[39m \u001b[38;5;28;01melse\u001b[39;00m:\n\u001b[32m    852\u001b[39m     \u001b[38;5;28mprint\u001b[39m(\u001b[38;5;28mrepr\u001b[39m(\u001b[38;5;28mself\u001b[39m))\n",
      "\u001b[36mFile \u001b[39m\u001b[32m~/sidewalk_analysis/.venv/lib/python3.12/site-packages/plotly/io/_renderers.py:415\u001b[39m, in \u001b[36mshow\u001b[39m\u001b[34m(fig, renderer, validate, **kwargs)\u001b[39m\n\u001b[32m    410\u001b[39m     \u001b[38;5;28;01mraise\u001b[39;00m \u001b[38;5;167;01mValueError\u001b[39;00m(\n\u001b[32m    411\u001b[39m         \u001b[33m\"\u001b[39m\u001b[33mMime type rendering requires ipython but it is not installed\u001b[39m\u001b[33m\"\u001b[39m\n\u001b[32m    412\u001b[39m     )\n\u001b[32m    414\u001b[39m \u001b[38;5;28;01mif\u001b[39;00m \u001b[38;5;129;01mnot\u001b[39;00m nbformat \u001b[38;5;129;01mor\u001b[39;00m Version(nbformat.__version__) < Version(\u001b[33m\"\u001b[39m\u001b[33m4.2.0\u001b[39m\u001b[33m\"\u001b[39m):\n\u001b[32m--> \u001b[39m\u001b[32m415\u001b[39m     \u001b[38;5;28;01mraise\u001b[39;00m \u001b[38;5;167;01mValueError\u001b[39;00m(\n\u001b[32m    416\u001b[39m         \u001b[33m\"\u001b[39m\u001b[33mMime type rendering requires nbformat>=4.2.0 but it is not installed\u001b[39m\u001b[33m\"\u001b[39m\n\u001b[32m    417\u001b[39m     )\n\u001b[32m    419\u001b[39m display_jupyter_version_warnings()\n\u001b[32m    421\u001b[39m ipython_display.display(bundle, raw=\u001b[38;5;28;01mTrue\u001b[39;00m)\n",
      "\u001b[31mValueError\u001b[39m: Mime type rendering requires nbformat>=4.2.0 but it is not installed"
     ]
    },
    {
     "data": {
      "application/vnd.plotly.v1+json": {
       "config": {
        "plotlyServerURL": "https://plot.ly"
       },
       "data": [
        {
         "alignmentgroup": "True",
         "hovertemplate": "variable=%{x}<br>value=%{y}<extra></extra>",
         "legendgroup": "",
         "marker": {
          "color": "#636efa"
         },
         "name": "",
         "notched": false,
         "offsetgroup": "",
         "orientation": "v",
         "showlegend": false,
         "type": "box",
         "x": [
          "car_len_m",
          "car_len_m",
          "car_len_m",
          "car_len_m",
          "car_len_m",
          "car_len_m",
          "car_len_m",
          "car_len_m",
          "car_len_m",
          "car_len_m",
          "car_len_m",
          "car_len_m",
          "car_len_m",
          "car_len_m",
          "car_len_m",
          "car_len_m",
          "car_len_m",
          "car_len_m",
          "car_len_m",
          "car_len_m",
          "car_len_m",
          "car_len_m",
          "car_len_m",
          "car_len_m",
          "car_len_m",
          "car_len_m",
          "car_len_m",
          "car_len_m",
          "car_len_m",
          "car_len_m",
          "car_len_m",
          "car_len_m",
          "car_len_m",
          "car_len_m",
          "car_len_m",
          "car_len_m",
          "car_len_m",
          "car_len_m",
          "car_len_m",
          "car_len_m",
          "car_len_m",
          "car_len_m",
          "car_len_m",
          "car_len_m",
          "car_len_m",
          "car_len_m",
          "car_len_m",
          "car_len_m",
          "car_len_m",
          "car_len_m",
          "car_len_m",
          "car_len_m",
          "car_len_m",
          "car_len_m",
          "car_len_m",
          "car_len_m",
          "car_len_m",
          "car_len_m",
          "car_len_m",
          "car_len_m",
          "car_len_m",
          "car_len_m",
          "car_len_m",
          "car_len_m",
          "car_len_m",
          "car_len_m",
          "car_len_m",
          "car_len_m",
          "car_len_m",
          "car_len_m",
          "car_len_m",
          "car_len_m",
          "car_len_m",
          "car_len_m",
          "car_len_m",
          "car_len_m",
          "car_len_m",
          "car_len_m",
          "car_len_m",
          "car_len_m",
          "car_len_m",
          "car_len_m",
          "car_len_m",
          "car_len_m",
          "car_len_m",
          "car_len_m",
          "car_len_m",
          "car_len_m",
          "car_len_m",
          "car_len_m",
          "car_len_m",
          "car_len_m",
          "car_len_m",
          "car_len_m",
          "car_len_m",
          "car_len_m",
          "car_len_m",
          "car_len_m",
          "car_len_m",
          "car_len_m",
          "car_len_m",
          "car_len_m",
          "car_len_m",
          "car_len_m",
          "car_len_m",
          "car_len_m",
          "car_len_m",
          "car_len_m",
          "car_len_m",
          "car_len_m",
          "car_len_m",
          "car_len_m",
          "car_len_m",
          "car_len_m",
          "car_len_m",
          "car_len_m",
          "car_len_m",
          "car_len_m",
          "car_len_m",
          "car_len_m",
          "car_len_m",
          "car_len_m",
          "car_len_m",
          "car_len_m",
          "car_len_m",
          "car_len_m",
          "car_len_m",
          "car_len_m",
          "car_len_m",
          "car_len_m",
          "car_len_m",
          "car_len_m",
          "car_len_m",
          "car_len_m",
          "car_len_m",
          "car_len_m",
          "car_len_m",
          "car_len_m",
          "car_len_m",
          "car_len_m",
          "car_len_m",
          "car_len_m",
          "car_len_m",
          "car_len_m",
          "car_len_m",
          "car_len_m",
          "car_len_m",
          "car_len_m",
          "car_len_m",
          "car_len_m",
          "car_len_m",
          "car_len_m",
          "car_len_m",
          "car_len_m",
          "car_len_m",
          "car_len_m",
          "car_len_m",
          "car_len_m",
          "car_len_m",
          "car_len_m",
          "car_len_m",
          "car_len_m",
          "car_len_m",
          "car_len_m",
          "car_len_m",
          "car_len_m",
          "car_len_m",
          "car_len_m",
          "car_len_m",
          "car_len_m",
          "car_len_m",
          "car_len_m",
          "car_len_m",
          "car_len_m",
          "car_len_m",
          "car_len_m",
          "car_len_m",
          "car_len_m",
          "car_len_m",
          "car_len_m",
          "car_len_m",
          "car_len_m",
          "car_len_m",
          "car_len_m",
          "car_len_m",
          "car_len_m",
          "car_len_m",
          "car_len_m",
          "car_len_m",
          "car_len_m",
          "car_len_m",
          "car_len_m",
          "car_len_m",
          "car_len_m",
          "car_len_m",
          "car_len_m",
          "car_len_m",
          "car_len_m",
          "car_len_m",
          "car_len_m",
          "car_len_m",
          "car_len_m",
          "car_len_m",
          "car_len_m",
          "car_len_m",
          "car_len_m",
          "car_len_m",
          "car_len_m",
          "car_len_m",
          "car_len_m",
          "car_len_m",
          "car_len_m",
          "car_len_m",
          "car_len_m",
          "car_len_m",
          "car_len_m",
          "car_len_m",
          "car_len_m",
          "car_len_m",
          "car_len_m",
          "car_len_m",
          "car_len_m",
          "car_len_m",
          "car_len_m",
          "car_len_m",
          "car_len_m",
          "car_len_m",
          "car_len_m",
          "car_len_m",
          "car_len_m",
          "car_len_m",
          "car_len_m",
          "car_len_m",
          "car_len_m",
          "car_len_m",
          "car_len_m",
          "car_len_m",
          "car_len_m",
          "car_len_m",
          "car_len_m",
          "car_len_m",
          "car_len_m",
          "car_len_m",
          "car_len_m",
          "car_len_m",
          "car_len_m",
          "car_len_m",
          "car_len_m",
          "car_len_m",
          "car_len_m",
          "car_len_m",
          "car_len_m",
          "car_len_m",
          "car_len_m",
          "car_len_m",
          "car_len_m",
          "car_len_m",
          "car_len_m",
          "car_len_m",
          "car_len_m",
          "car_len_m",
          "car_len_m",
          "car_len_m",
          "car_len_m",
          "car_len_m",
          "car_len_m",
          "car_len_m",
          "car_len_m",
          "car_len_m",
          "car_len_m",
          "car_len_m",
          "car_len_m",
          "car_len_m",
          "car_len_m",
          "car_len_m",
          "car_len_m",
          "car_len_m",
          "car_len_m",
          "car_len_m",
          "car_len_m",
          "car_len_m",
          "car_len_m",
          "car_len_m",
          "car_len_m",
          "car_len_m",
          "car_len_m",
          "car_len_m",
          "car_len_m",
          "car_len_m",
          "car_len_m",
          "car_len_m",
          "car_len_m",
          "car_len_m",
          "car_len_m",
          "car_len_m",
          "car_len_m",
          "car_len_m",
          "car_len_m",
          "car_len_m",
          "car_len_m",
          "car_len_m",
          "car_len_m",
          "car_len_m",
          "car_len_m",
          "car_len_m",
          "car_len_m",
          "car_len_m",
          "car_len_m",
          "car_len_m",
          "car_len_m",
          "car_len_m",
          "car_len_m",
          "car_len_m",
          "car_len_m",
          "car_len_m",
          "car_len_m",
          "car_len_m",
          "car_len_m",
          "car_len_m",
          "car_len_m",
          "car_len_m",
          "car_len_m",
          "car_len_m",
          "car_len_m",
          "car_len_m",
          "car_len_m",
          "car_len_m",
          "car_len_m",
          "car_len_m",
          "car_len_m",
          "car_len_m",
          "car_len_m",
          "car_len_m",
          "car_len_m",
          "car_len_m",
          "car_len_m",
          "car_len_m",
          "car_len_m",
          "car_len_m",
          "car_len_m",
          "car_len_m",
          "car_len_m",
          "car_len_m",
          "car_len_m",
          "car_len_m",
          "car_len_m",
          "car_len_m",
          "car_len_m",
          "car_len_m",
          "car_len_m",
          "car_len_m",
          "car_len_m",
          "car_len_m",
          "car_len_m",
          "car_len_m",
          "car_len_m",
          "car_len_m",
          "car_len_m",
          "car_len_m",
          "car_len_m",
          "car_len_m",
          "car_len_m",
          "car_len_m",
          "car_len_m",
          "car_len_m",
          "car_len_m",
          "car_len_m",
          "car_len_m",
          "car_len_m",
          "car_len_m",
          "car_len_m",
          "car_len_m",
          "car_len_m",
          "car_len_m",
          "car_len_m",
          "car_len_m",
          "car_len_m",
          "car_len_m",
          "car_len_m",
          "car_len_m",
          "car_len_m",
          "car_len_m",
          "car_len_m",
          "car_len_m",
          "car_len_m",
          "car_len_m",
          "car_len_m",
          "car_len_m",
          "car_len_m",
          "car_len_m",
          "car_len_m",
          "car_len_m",
          "car_len_m",
          "car_len_m",
          "car_len_m",
          "car_len_m",
          "car_len_m",
          "car_len_m",
          "car_len_m",
          "car_len_m",
          "car_len_m",
          "car_len_m",
          "car_len_m",
          "car_len_m",
          "car_len_m",
          "car_len_m",
          "car_len_m",
          "car_len_m",
          "car_len_m",
          "car_len_m",
          "car_len_m",
          "car_len_m",
          "car_len_m",
          "car_len_m",
          "car_len_m",
          "car_len_m",
          "car_len_m",
          "car_len_m",
          "car_len_m",
          "car_len_m",
          "car_len_m",
          "car_len_m",
          "car_len_m",
          "car_len_m",
          "car_len_m",
          "car_len_m",
          "car_len_m",
          "car_len_m",
          "car_len_m",
          "car_len_m",
          "car_len_m",
          "car_len_m",
          "car_len_m",
          "car_len_m",
          "car_len_m",
          "car_len_m",
          "car_len_m",
          "car_len_m",
          "car_len_m",
          "car_len_m",
          "car_len_m",
          "car_len_m",
          "car_len_m",
          "car_len_m",
          "car_len_m",
          "car_len_m",
          "car_len_m",
          "car_len_m",
          "car_len_m",
          "car_len_m",
          "car_len_m",
          "car_len_m",
          "car_len_m",
          "car_len_m",
          "car_len_m",
          "car_len_m",
          "car_len_m",
          "car_len_m",
          "car_len_m",
          "car_len_m",
          "car_len_m",
          "car_len_m",
          "car_len_m",
          "car_len_m",
          "car_len_m",
          "car_len_m",
          "car_len_m",
          "car_len_m",
          "car_len_m",
          "car_len_m",
          "car_len_m",
          "car_len_m",
          "car_len_m",
          "car_len_m",
          "car_len_m",
          "car_len_m",
          "car_len_m",
          "car_len_m",
          "car_len_m",
          "car_len_m",
          "car_len_m",
          "car_len_m",
          "car_len_m",
          "car_len_m",
          "car_len_m",
          "car_len_m",
          "car_len_m",
          "car_len_m",
          "car_len_m",
          "car_len_m",
          "car_len_m",
          "car_len_m",
          "car_len_m",
          "car_len_m",
          "car_len_m",
          "car_len_m",
          "car_len_m",
          "car_len_m",
          "car_len_m",
          "car_len_m",
          "car_len_m",
          "car_len_m",
          "car_len_m",
          "car_len_m",
          "car_len_m",
          "car_len_m",
          "car_len_m",
          "car_len_m",
          "car_len_m",
          "car_len_m",
          "car_len_m",
          "car_len_m",
          "car_len_m",
          "car_len_m",
          "car_len_m",
          "car_len_m",
          "car_len_m",
          "car_len_m",
          "car_len_m",
          "car_len_m",
          "car_len_m",
          "car_len_m",
          "car_len_m",
          "car_len_m",
          "car_len_m",
          "car_len_m",
          "car_len_m",
          "car_len_m",
          "car_len_m",
          "car_len_m",
          "car_len_m",
          "car_len_m",
          "car_len_m",
          "car_len_m",
          "car_len_m",
          "car_len_m",
          "car_len_m",
          "car_len_m",
          "car_len_m",
          "car_len_m",
          "car_len_m",
          "car_len_m",
          "car_len_m",
          "car_len_m",
          "car_len_m",
          "car_len_m",
          "car_len_m",
          "car_len_m",
          "car_len_m",
          "car_len_m",
          "car_len_m",
          "car_len_m",
          "car_len_m",
          "car_len_m",
          "car_len_m",
          "car_len_m",
          "car_len_m",
          "car_len_m",
          "car_len_m",
          "car_len_m",
          "car_len_m",
          "car_len_m",
          "car_len_m",
          "car_len_m",
          "car_len_m",
          "car_len_m",
          "car_len_m",
          "car_len_m",
          "car_len_m",
          "car_len_m",
          "car_len_m",
          "car_len_m",
          "car_len_m",
          "car_len_m",
          "car_len_m",
          "car_len_m",
          "car_len_m",
          "car_len_m",
          "car_len_m",
          "car_len_m",
          "car_len_m",
          "car_len_m",
          "car_len_m",
          "car_len_m",
          "car_len_m",
          "car_len_m",
          "car_len_m",
          "car_len_m",
          "car_len_m",
          "car_len_m",
          "car_len_m",
          "car_len_m",
          "car_len_m",
          "car_len_m",
          "car_len_m",
          "car_len_m",
          "car_len_m",
          "car_len_m",
          "car_len_m",
          "car_len_m",
          "car_len_m",
          "car_len_m",
          "car_len_m",
          "car_len_m",
          "car_len_m",
          "car_len_m",
          "car_len_m",
          "car_len_m",
          "car_len_m",
          "car_len_m",
          "car_len_m",
          "car_len_m",
          "car_len_m",
          "car_len_m",
          "car_len_m",
          "car_len_m",
          "car_len_m",
          "car_len_m",
          "car_len_m",
          "car_len_m",
          "car_len_m",
          "car_len_m",
          "car_len_m",
          "car_len_m",
          "car_len_m",
          "car_len_m",
          "car_len_m",
          "car_len_m",
          "car_len_m",
          "car_len_m",
          "car_len_m",
          "car_len_m",
          "car_len_m",
          "car_len_m",
          "car_len_m",
          "car_len_m",
          "car_len_m",
          "car_len_m",
          "car_len_m",
          "car_len_m",
          "car_len_m",
          "car_len_m",
          "car_len_m",
          "car_len_m",
          "car_len_m",
          "car_len_m",
          "car_len_m",
          "car_len_m",
          "car_len_m",
          "car_len_m",
          "car_len_m",
          "car_len_m",
          "car_len_m",
          "car_len_m",
          "car_len_m",
          "car_len_m",
          "car_len_m",
          "car_len_m",
          "car_len_m",
          "car_len_m",
          "car_len_m",
          "car_len_m",
          "car_len_m",
          "car_len_m",
          "car_len_m",
          "car_len_m",
          "car_len_m",
          "car_len_m",
          "car_len_m",
          "car_len_m",
          "car_len_m",
          "car_len_m",
          "car_len_m",
          "car_len_m",
          "car_len_m",
          "car_len_m",
          "car_len_m",
          "car_len_m",
          "car_len_m",
          "car_len_m",
          "car_len_m",
          "car_len_m",
          "car_len_m",
          "car_len_m",
          "car_len_m",
          "car_len_m",
          "car_len_m",
          "car_len_m",
          "car_len_m",
          "car_len_m",
          "car_len_m",
          "car_len_m",
          "car_len_m",
          "car_len_m",
          "car_len_m",
          "car_len_m",
          "car_len_m",
          "car_len_m",
          "car_len_m",
          "car_len_m",
          "car_len_m",
          "car_len_m",
          "car_len_m",
          "car_len_m",
          "car_len_m",
          "car_len_m",
          "car_len_m",
          "car_len_m",
          "car_len_m",
          "car_len_m",
          "car_len_m",
          "car_len_m",
          "car_len_m",
          "car_len_m",
          "car_len_m",
          "car_len_m",
          "car_len_m",
          "car_len_m",
          "car_len_m",
          "car_len_m",
          "car_len_m",
          "car_len_m",
          "car_len_m",
          "car_len_m",
          "car_len_m",
          "car_len_m",
          "car_len_m",
          "car_len_m",
          "car_len_m",
          "car_len_m",
          "car_len_m",
          "car_len_m",
          "car_len_m",
          "car_len_m",
          "car_len_m",
          "car_len_m",
          "car_len_m",
          "car_len_m",
          "car_len_m",
          "car_len_m",
          "car_len_m",
          "car_len_m",
          "car_len_m",
          "car_len_m",
          "car_len_m",
          "car_len_m",
          "car_len_m",
          "car_len_m",
          "car_len_m",
          "car_len_m",
          "car_len_m",
          "car_len_m",
          "car_len_m",
          "car_len_m",
          "car_len_m",
          "car_len_m",
          "car_len_m",
          "car_len_m",
          "car_len_m",
          "car_len_m",
          "car_len_m",
          "car_len_m",
          "car_len_m",
          "car_len_m",
          "car_len_m",
          "car_len_m",
          "car_len_m",
          "car_len_m",
          "car_len_m",
          "car_len_m",
          "car_len_m",
          "car_len_m",
          "car_len_m",
          "car_len_m",
          "car_len_m",
          "car_len_m",
          "car_len_m",
          "car_len_m",
          "car_len_m",
          "car_len_m",
          "car_len_m",
          "car_len_m",
          "car_len_m",
          "car_len_m",
          "car_len_m",
          "car_len_m",
          "car_len_m",
          "car_len_m",
          "car_len_m",
          "car_len_m",
          "car_len_m",
          "car_len_m",
          "car_len_m",
          "car_len_m",
          "car_len_m",
          "car_len_m",
          "car_len_m",
          "car_len_m",
          "car_len_m",
          "car_len_m",
          "car_len_m",
          "car_len_m",
          "car_len_m",
          "car_len_m",
          "car_len_m",
          "car_len_m",
          "car_len_m",
          "car_len_m",
          "car_len_m",
          "car_len_m",
          "car_len_m",
          "car_len_m",
          "car_len_m",
          "car_len_m",
          "car_len_m",
          "car_len_m",
          "car_len_m",
          "car_len_m",
          "car_len_m",
          "car_len_m",
          "car_len_m",
          "car_len_m",
          "car_len_m",
          "car_len_m",
          "car_len_m",
          "car_len_m",
          "car_len_m",
          "car_len_m",
          "car_len_m",
          "car_len_m",
          "car_len_m",
          "car_len_m",
          "car_len_m",
          "car_len_m",
          "car_len_m",
          "car_len_m",
          "car_len_m",
          "car_len_m",
          "car_len_m",
          "car_len_m",
          "car_len_m",
          "car_len_m",
          "car_len_m",
          "car_len_m",
          "car_len_m",
          "car_len_m",
          "car_len_m",
          "car_len_m",
          "car_len_m",
          "car_len_m",
          "car_len_m",
          "car_len_m",
          "car_len_m",
          "car_len_m",
          "car_len_m",
          "car_len_m",
          "car_len_m",
          "car_len_m",
          "car_len_m",
          "car_len_m",
          "car_len_m",
          "car_len_m",
          "car_len_m",
          "car_len_m",
          "car_len_m",
          "car_len_m",
          "car_len_m",
          "car_len_m",
          "car_len_m",
          "car_len_m",
          "car_len_m",
          "car_len_m",
          "car_len_m",
          "car_len_m",
          "car_len_m",
          "car_len_m",
          "car_len_m",
          "car_len_m",
          "car_len_m",
          "car_len_m",
          "car_len_m",
          "car_len_m",
          "car_len_m",
          "car_len_m",
          "car_len_m",
          "car_len_m",
          "car_len_m",
          "car_len_m",
          "car_len_m",
          "car_len_m",
          "car_len_m",
          "car_len_m",
          "car_len_m",
          "car_len_m",
          "car_len_m",
          "car_len_m",
          "car_len_m",
          "car_len_m",
          "car_len_m",
          "car_len_m",
          "car_len_m",
          "car_len_m",
          "car_len_m",
          "car_len_m",
          "car_len_m",
          "car_len_m",
          "car_len_m",
          "car_len_m",
          "car_len_m",
          "car_len_m",
          "car_len_m",
          "car_len_m",
          "car_len_m",
          "car_len_m",
          "car_len_m",
          "car_len_m",
          "car_len_m",
          "car_len_m",
          "car_len_m",
          "car_len_m",
          "car_len_m",
          "car_len_m",
          "car_len_m",
          "car_len_m",
          "car_len_m",
          "car_len_m",
          "car_len_m",
          "car_len_m",
          "car_len_m",
          "car_len_m",
          "car_len_m",
          "car_len_m",
          "car_len_m",
          "car_len_m",
          "car_len_m",
          "car_len_m",
          "car_len_m",
          "car_len_m",
          "car_len_m",
          "car_len_m",
          "car_len_m",
          "car_len_m",
          "car_len_m",
          "car_len_m",
          "car_len_m",
          "car_len_m",
          "car_len_m",
          "car_len_m",
          "car_len_m",
          "car_len_m",
          "car_len_m",
          "car_len_m",
          "car_len_m",
          "car_len_m",
          "car_len_m",
          "car_len_m",
          "car_len_m",
          "car_len_m",
          "car_len_m",
          "car_len_m",
          "car_len_m",
          "car_len_m",
          "car_len_m",
          "car_len_m",
          "car_len_m",
          "car_len_m",
          "car_len_m",
          "car_len_m",
          "car_len_m",
          "car_len_m",
          "car_len_m",
          "car_len_m",
          "car_len_m",
          "car_len_m",
          "car_len_m",
          "car_len_m",
          "car_len_m",
          "car_len_m",
          "car_len_m",
          "car_len_m",
          "car_len_m",
          "car_len_m",
          "car_len_m",
          "car_len_m",
          "car_len_m",
          "car_len_m",
          "car_len_m",
          "car_len_m",
          "car_len_m",
          "car_len_m",
          "car_len_m",
          "car_len_m",
          "car_len_m",
          "car_len_m",
          "car_len_m",
          "car_len_m",
          "car_len_m",
          "car_len_m",
          "car_len_m",
          "car_len_m",
          "footway_len_m",
          "footway_len_m",
          "footway_len_m",
          "footway_len_m",
          "footway_len_m",
          "footway_len_m",
          "footway_len_m",
          "footway_len_m",
          "footway_len_m",
          "footway_len_m",
          "footway_len_m",
          "footway_len_m",
          "footway_len_m",
          "footway_len_m",
          "footway_len_m",
          "footway_len_m",
          "footway_len_m",
          "footway_len_m",
          "footway_len_m",
          "footway_len_m",
          "footway_len_m",
          "footway_len_m",
          "footway_len_m",
          "footway_len_m",
          "footway_len_m",
          "footway_len_m",
          "footway_len_m",
          "footway_len_m",
          "footway_len_m",
          "footway_len_m",
          "footway_len_m",
          "footway_len_m",
          "footway_len_m",
          "footway_len_m",
          "footway_len_m",
          "footway_len_m",
          "footway_len_m",
          "footway_len_m",
          "footway_len_m",
          "footway_len_m",
          "footway_len_m",
          "footway_len_m",
          "footway_len_m",
          "footway_len_m",
          "footway_len_m",
          "footway_len_m",
          "footway_len_m",
          "footway_len_m",
          "footway_len_m",
          "footway_len_m",
          "footway_len_m",
          "footway_len_m",
          "footway_len_m",
          "footway_len_m",
          "footway_len_m",
          "footway_len_m",
          "footway_len_m",
          "footway_len_m",
          "footway_len_m",
          "footway_len_m",
          "footway_len_m",
          "footway_len_m",
          "footway_len_m",
          "footway_len_m",
          "footway_len_m",
          "footway_len_m",
          "footway_len_m",
          "footway_len_m",
          "footway_len_m",
          "footway_len_m",
          "footway_len_m",
          "footway_len_m",
          "footway_len_m",
          "footway_len_m",
          "footway_len_m",
          "footway_len_m",
          "footway_len_m",
          "footway_len_m",
          "footway_len_m",
          "footway_len_m",
          "footway_len_m",
          "footway_len_m",
          "footway_len_m",
          "footway_len_m",
          "footway_len_m",
          "footway_len_m",
          "footway_len_m",
          "footway_len_m",
          "footway_len_m",
          "footway_len_m",
          "footway_len_m",
          "footway_len_m",
          "footway_len_m",
          "footway_len_m",
          "footway_len_m",
          "footway_len_m",
          "footway_len_m",
          "footway_len_m",
          "footway_len_m",
          "footway_len_m",
          "footway_len_m",
          "footway_len_m",
          "footway_len_m",
          "footway_len_m",
          "footway_len_m",
          "footway_len_m",
          "footway_len_m",
          "footway_len_m",
          "footway_len_m",
          "footway_len_m",
          "footway_len_m",
          "footway_len_m",
          "footway_len_m",
          "footway_len_m",
          "footway_len_m",
          "footway_len_m",
          "footway_len_m",
          "footway_len_m",
          "footway_len_m",
          "footway_len_m",
          "footway_len_m",
          "footway_len_m",
          "footway_len_m",
          "footway_len_m",
          "footway_len_m",
          "footway_len_m",
          "footway_len_m",
          "footway_len_m",
          "footway_len_m",
          "footway_len_m",
          "footway_len_m",
          "footway_len_m",
          "footway_len_m",
          "footway_len_m",
          "footway_len_m",
          "footway_len_m",
          "footway_len_m",
          "footway_len_m",
          "footway_len_m",
          "footway_len_m",
          "footway_len_m",
          "footway_len_m",
          "footway_len_m",
          "footway_len_m",
          "footway_len_m",
          "footway_len_m",
          "footway_len_m",
          "footway_len_m",
          "footway_len_m",
          "footway_len_m",
          "footway_len_m",
          "footway_len_m",
          "footway_len_m",
          "footway_len_m",
          "footway_len_m",
          "footway_len_m",
          "footway_len_m",
          "footway_len_m",
          "footway_len_m",
          "footway_len_m",
          "footway_len_m",
          "footway_len_m",
          "footway_len_m",
          "footway_len_m",
          "footway_len_m",
          "footway_len_m",
          "footway_len_m",
          "footway_len_m",
          "footway_len_m",
          "footway_len_m",
          "footway_len_m",
          "footway_len_m",
          "footway_len_m",
          "footway_len_m",
          "footway_len_m",
          "footway_len_m",
          "footway_len_m",
          "footway_len_m",
          "footway_len_m",
          "footway_len_m",
          "footway_len_m",
          "footway_len_m",
          "footway_len_m",
          "footway_len_m",
          "footway_len_m",
          "footway_len_m",
          "footway_len_m",
          "footway_len_m",
          "footway_len_m",
          "footway_len_m",
          "footway_len_m",
          "footway_len_m",
          "footway_len_m",
          "footway_len_m",
          "footway_len_m",
          "footway_len_m",
          "footway_len_m",
          "footway_len_m",
          "footway_len_m",
          "footway_len_m",
          "footway_len_m",
          "footway_len_m",
          "footway_len_m",
          "footway_len_m",
          "footway_len_m",
          "footway_len_m",
          "footway_len_m",
          "footway_len_m",
          "footway_len_m",
          "footway_len_m",
          "footway_len_m",
          "footway_len_m",
          "footway_len_m",
          "footway_len_m",
          "footway_len_m",
          "footway_len_m",
          "footway_len_m",
          "footway_len_m",
          "footway_len_m",
          "footway_len_m",
          "footway_len_m",
          "footway_len_m",
          "footway_len_m",
          "footway_len_m",
          "footway_len_m",
          "footway_len_m",
          "footway_len_m",
          "footway_len_m",
          "footway_len_m",
          "footway_len_m",
          "footway_len_m",
          "footway_len_m",
          "footway_len_m",
          "footway_len_m",
          "footway_len_m",
          "footway_len_m",
          "footway_len_m",
          "footway_len_m",
          "footway_len_m",
          "footway_len_m",
          "footway_len_m",
          "footway_len_m",
          "footway_len_m",
          "footway_len_m",
          "footway_len_m",
          "footway_len_m",
          "footway_len_m",
          "footway_len_m",
          "footway_len_m",
          "footway_len_m",
          "footway_len_m",
          "footway_len_m",
          "footway_len_m",
          "footway_len_m",
          "footway_len_m",
          "footway_len_m",
          "footway_len_m",
          "footway_len_m",
          "footway_len_m",
          "footway_len_m",
          "footway_len_m",
          "footway_len_m",
          "footway_len_m",
          "footway_len_m",
          "footway_len_m",
          "footway_len_m",
          "footway_len_m",
          "footway_len_m",
          "footway_len_m",
          "footway_len_m",
          "footway_len_m",
          "footway_len_m",
          "footway_len_m",
          "footway_len_m",
          "footway_len_m",
          "footway_len_m",
          "footway_len_m",
          "footway_len_m",
          "footway_len_m",
          "footway_len_m",
          "footway_len_m",
          "footway_len_m",
          "footway_len_m",
          "footway_len_m",
          "footway_len_m",
          "footway_len_m",
          "footway_len_m",
          "footway_len_m",
          "footway_len_m",
          "footway_len_m",
          "footway_len_m",
          "footway_len_m",
          "footway_len_m",
          "footway_len_m",
          "footway_len_m",
          "footway_len_m",
          "footway_len_m",
          "footway_len_m",
          "footway_len_m",
          "footway_len_m",
          "footway_len_m",
          "footway_len_m",
          "footway_len_m",
          "footway_len_m",
          "footway_len_m",
          "footway_len_m",
          "footway_len_m",
          "footway_len_m",
          "footway_len_m",
          "footway_len_m",
          "footway_len_m",
          "footway_len_m",
          "footway_len_m",
          "footway_len_m",
          "footway_len_m",
          "footway_len_m",
          "footway_len_m",
          "footway_len_m",
          "footway_len_m",
          "footway_len_m",
          "footway_len_m",
          "footway_len_m",
          "footway_len_m",
          "footway_len_m",
          "footway_len_m",
          "footway_len_m",
          "footway_len_m",
          "footway_len_m",
          "footway_len_m",
          "footway_len_m",
          "footway_len_m",
          "footway_len_m",
          "footway_len_m",
          "footway_len_m",
          "footway_len_m",
          "footway_len_m",
          "footway_len_m",
          "footway_len_m",
          "footway_len_m",
          "footway_len_m",
          "footway_len_m",
          "footway_len_m",
          "footway_len_m",
          "footway_len_m",
          "footway_len_m",
          "footway_len_m",
          "footway_len_m",
          "footway_len_m",
          "footway_len_m",
          "footway_len_m",
          "footway_len_m",
          "footway_len_m",
          "footway_len_m",
          "footway_len_m",
          "footway_len_m",
          "footway_len_m",
          "footway_len_m",
          "footway_len_m",
          "footway_len_m",
          "footway_len_m",
          "footway_len_m",
          "footway_len_m",
          "footway_len_m",
          "footway_len_m",
          "footway_len_m",
          "footway_len_m",
          "footway_len_m",
          "footway_len_m",
          "footway_len_m",
          "footway_len_m",
          "footway_len_m",
          "footway_len_m",
          "footway_len_m",
          "footway_len_m",
          "footway_len_m",
          "footway_len_m",
          "footway_len_m",
          "footway_len_m",
          "footway_len_m",
          "footway_len_m",
          "footway_len_m",
          "footway_len_m",
          "footway_len_m",
          "footway_len_m",
          "footway_len_m",
          "footway_len_m",
          "footway_len_m",
          "footway_len_m",
          "footway_len_m",
          "footway_len_m",
          "footway_len_m",
          "footway_len_m",
          "footway_len_m",
          "footway_len_m",
          "footway_len_m",
          "footway_len_m",
          "footway_len_m",
          "footway_len_m",
          "footway_len_m",
          "footway_len_m",
          "footway_len_m",
          "footway_len_m",
          "footway_len_m",
          "footway_len_m",
          "footway_len_m",
          "footway_len_m",
          "footway_len_m",
          "footway_len_m",
          "footway_len_m",
          "footway_len_m",
          "footway_len_m",
          "footway_len_m",
          "footway_len_m",
          "footway_len_m",
          "footway_len_m",
          "footway_len_m",
          "footway_len_m",
          "footway_len_m",
          "footway_len_m",
          "footway_len_m",
          "footway_len_m",
          "footway_len_m",
          "footway_len_m",
          "footway_len_m",
          "footway_len_m",
          "footway_len_m",
          "footway_len_m",
          "footway_len_m",
          "footway_len_m",
          "footway_len_m",
          "footway_len_m",
          "footway_len_m",
          "footway_len_m",
          "footway_len_m",
          "footway_len_m",
          "footway_len_m",
          "footway_len_m",
          "footway_len_m",
          "footway_len_m",
          "footway_len_m",
          "footway_len_m",
          "footway_len_m",
          "footway_len_m",
          "footway_len_m",
          "footway_len_m",
          "footway_len_m",
          "footway_len_m",
          "footway_len_m",
          "footway_len_m",
          "footway_len_m",
          "footway_len_m",
          "footway_len_m",
          "footway_len_m",
          "footway_len_m",
          "footway_len_m",
          "footway_len_m",
          "footway_len_m",
          "footway_len_m",
          "footway_len_m",
          "footway_len_m",
          "footway_len_m",
          "footway_len_m",
          "footway_len_m",
          "footway_len_m",
          "footway_len_m",
          "footway_len_m",
          "footway_len_m",
          "footway_len_m",
          "footway_len_m",
          "footway_len_m",
          "footway_len_m",
          "footway_len_m",
          "footway_len_m",
          "footway_len_m",
          "footway_len_m",
          "footway_len_m",
          "footway_len_m",
          "footway_len_m",
          "footway_len_m",
          "footway_len_m",
          "footway_len_m",
          "footway_len_m",
          "footway_len_m",
          "footway_len_m",
          "footway_len_m",
          "footway_len_m",
          "footway_len_m",
          "footway_len_m",
          "footway_len_m",
          "footway_len_m",
          "footway_len_m",
          "footway_len_m",
          "footway_len_m",
          "footway_len_m",
          "footway_len_m",
          "footway_len_m",
          "footway_len_m",
          "footway_len_m",
          "footway_len_m",
          "footway_len_m",
          "footway_len_m",
          "footway_len_m",
          "footway_len_m",
          "footway_len_m",
          "footway_len_m",
          "footway_len_m",
          "footway_len_m",
          "footway_len_m",
          "footway_len_m",
          "footway_len_m",
          "footway_len_m",
          "footway_len_m",
          "footway_len_m",
          "footway_len_m",
          "footway_len_m",
          "footway_len_m",
          "footway_len_m",
          "footway_len_m",
          "footway_len_m",
          "footway_len_m",
          "footway_len_m",
          "footway_len_m",
          "footway_len_m",
          "footway_len_m",
          "footway_len_m",
          "footway_len_m",
          "footway_len_m",
          "footway_len_m",
          "footway_len_m",
          "footway_len_m",
          "footway_len_m",
          "footway_len_m",
          "footway_len_m",
          "footway_len_m",
          "footway_len_m",
          "footway_len_m",
          "footway_len_m",
          "footway_len_m",
          "footway_len_m",
          "footway_len_m",
          "footway_len_m",
          "footway_len_m",
          "footway_len_m",
          "footway_len_m",
          "footway_len_m",
          "footway_len_m",
          "footway_len_m",
          "footway_len_m",
          "footway_len_m",
          "footway_len_m",
          "footway_len_m",
          "footway_len_m",
          "footway_len_m",
          "footway_len_m",
          "footway_len_m",
          "footway_len_m",
          "footway_len_m",
          "footway_len_m",
          "footway_len_m",
          "footway_len_m",
          "footway_len_m",
          "footway_len_m",
          "footway_len_m",
          "footway_len_m",
          "footway_len_m",
          "footway_len_m",
          "footway_len_m",
          "footway_len_m",
          "footway_len_m",
          "footway_len_m",
          "footway_len_m",
          "footway_len_m",
          "footway_len_m",
          "footway_len_m",
          "footway_len_m",
          "footway_len_m",
          "footway_len_m",
          "footway_len_m",
          "footway_len_m",
          "footway_len_m",
          "footway_len_m",
          "footway_len_m",
          "footway_len_m",
          "footway_len_m",
          "footway_len_m",
          "footway_len_m",
          "footway_len_m",
          "footway_len_m",
          "footway_len_m",
          "footway_len_m",
          "footway_len_m",
          "footway_len_m",
          "footway_len_m",
          "footway_len_m",
          "footway_len_m",
          "footway_len_m",
          "footway_len_m",
          "footway_len_m",
          "footway_len_m",
          "footway_len_m",
          "footway_len_m",
          "footway_len_m",
          "footway_len_m",
          "footway_len_m",
          "footway_len_m",
          "footway_len_m",
          "footway_len_m",
          "footway_len_m",
          "footway_len_m",
          "footway_len_m",
          "footway_len_m",
          "footway_len_m",
          "footway_len_m",
          "footway_len_m",
          "footway_len_m",
          "footway_len_m",
          "footway_len_m",
          "footway_len_m",
          "footway_len_m",
          "footway_len_m",
          "footway_len_m",
          "footway_len_m",
          "footway_len_m",
          "footway_len_m",
          "footway_len_m",
          "footway_len_m",
          "footway_len_m",
          "footway_len_m",
          "footway_len_m",
          "footway_len_m",
          "footway_len_m",
          "footway_len_m",
          "footway_len_m",
          "footway_len_m",
          "footway_len_m",
          "footway_len_m",
          "footway_len_m",
          "footway_len_m",
          "footway_len_m",
          "footway_len_m",
          "footway_len_m",
          "footway_len_m",
          "footway_len_m",
          "footway_len_m",
          "footway_len_m",
          "footway_len_m",
          "footway_len_m",
          "footway_len_m",
          "footway_len_m",
          "footway_len_m",
          "footway_len_m",
          "footway_len_m",
          "footway_len_m",
          "footway_len_m",
          "footway_len_m",
          "footway_len_m",
          "footway_len_m",
          "footway_len_m",
          "footway_len_m",
          "footway_len_m",
          "footway_len_m",
          "footway_len_m",
          "footway_len_m",
          "footway_len_m",
          "footway_len_m",
          "footway_len_m",
          "footway_len_m",
          "footway_len_m",
          "footway_len_m",
          "footway_len_m",
          "footway_len_m",
          "footway_len_m",
          "footway_len_m",
          "footway_len_m",
          "footway_len_m",
          "footway_len_m",
          "footway_len_m",
          "footway_len_m",
          "footway_len_m",
          "footway_len_m",
          "footway_len_m",
          "footway_len_m",
          "footway_len_m",
          "footway_len_m",
          "footway_len_m",
          "footway_len_m",
          "footway_len_m",
          "footway_len_m",
          "footway_len_m",
          "footway_len_m",
          "footway_len_m",
          "footway_len_m",
          "footway_len_m",
          "footway_len_m",
          "footway_len_m",
          "footway_len_m",
          "footway_len_m",
          "footway_len_m",
          "footway_len_m",
          "footway_len_m",
          "footway_len_m",
          "footway_len_m",
          "footway_len_m",
          "footway_len_m",
          "footway_len_m",
          "footway_len_m",
          "footway_len_m",
          "footway_len_m",
          "footway_len_m",
          "footway_len_m",
          "footway_len_m",
          "footway_len_m",
          "footway_len_m",
          "footway_len_m",
          "footway_len_m",
          "footway_len_m",
          "footway_len_m",
          "footway_len_m",
          "footway_len_m",
          "footway_len_m",
          "footway_len_m",
          "footway_len_m",
          "footway_len_m",
          "footway_len_m",
          "footway_len_m",
          "footway_len_m",
          "footway_len_m",
          "footway_len_m",
          "footway_len_m",
          "footway_len_m",
          "footway_len_m",
          "footway_len_m",
          "footway_len_m",
          "footway_len_m",
          "footway_len_m",
          "footway_len_m",
          "footway_len_m",
          "footway_len_m",
          "footway_len_m",
          "footway_len_m",
          "footway_len_m",
          "footway_len_m",
          "footway_len_m",
          "footway_len_m",
          "footway_len_m",
          "footway_len_m",
          "footway_len_m",
          "footway_len_m",
          "footway_len_m",
          "footway_len_m",
          "footway_len_m",
          "footway_len_m",
          "footway_len_m",
          "footway_len_m",
          "footway_len_m",
          "footway_len_m",
          "footway_len_m",
          "footway_len_m",
          "footway_len_m",
          "footway_len_m",
          "footway_len_m",
          "footway_len_m",
          "footway_len_m",
          "footway_len_m",
          "footway_len_m",
          "footway_len_m",
          "footway_len_m",
          "footway_len_m",
          "footway_len_m",
          "footway_len_m",
          "footway_len_m",
          "footway_len_m",
          "footway_len_m",
          "footway_len_m",
          "footway_len_m",
          "footway_len_m",
          "footway_len_m",
          "footway_len_m",
          "footway_len_m",
          "footway_len_m",
          "footway_len_m",
          "footway_len_m",
          "footway_len_m",
          "footway_len_m",
          "footway_len_m",
          "footway_len_m",
          "footway_len_m",
          "footway_len_m",
          "footway_len_m",
          "footway_len_m",
          "footway_len_m",
          "footway_len_m",
          "footway_len_m",
          "footway_len_m",
          "footway_len_m",
          "footway_len_m",
          "footway_len_m",
          "footway_len_m",
          "footway_len_m",
          "footway_len_m",
          "footway_len_m",
          "footway_len_m",
          "footway_len_m",
          "footway_len_m",
          "footway_len_m",
          "footway_len_m",
          "footway_len_m",
          "footway_len_m",
          "footway_len_m",
          "footway_len_m",
          "footway_len_m",
          "footway_len_m",
          "footway_len_m",
          "footway_len_m",
          "footway_len_m",
          "footway_len_m",
          "footway_len_m",
          "footway_len_m",
          "footway_len_m",
          "footway_len_m",
          "footway_len_m",
          "footway_len_m",
          "footway_len_m",
          "footway_len_m",
          "footway_len_m",
          "footway_len_m",
          "footway_len_m",
          "footway_len_m",
          "footway_len_m",
          "footway_len_m",
          "footway_len_m",
          "footway_len_m",
          "footway_len_m",
          "footway_len_m",
          "footway_len_m",
          "footway_len_m",
          "footway_len_m",
          "footway_len_m",
          "footway_len_m",
          "footway_len_m",
          "footway_len_m",
          "footway_len_m",
          "footway_len_m",
          "footway_len_m",
          "footway_len_m",
          "footway_len_m",
          "footway_len_m",
          "footway_len_m",
          "footway_len_m",
          "footway_len_m",
          "footway_len_m",
          "footway_len_m",
          "footway_len_m",
          "footway_len_m",
          "footway_len_m",
          "footway_len_m",
          "footway_len_m",
          "footway_len_m",
          "footway_len_m",
          "footway_len_m",
          "footway_len_m",
          "footway_len_m",
          "footway_len_m",
          "footway_len_m",
          "footway_len_m",
          "footway_len_m",
          "footway_len_m",
          "footway_len_m",
          "footway_len_m",
          "footway_len_m",
          "footway_len_m",
          "footway_len_m",
          "footway_len_m",
          "footway_len_m",
          "footway_len_m",
          "footway_len_m",
          "footway_len_m",
          "footway_len_m",
          "footway_len_m",
          "footway_len_m",
          "footway_len_m",
          "footway_len_m",
          "footway_len_m",
          "footway_len_m",
          "footway_len_m",
          "footway_len_m",
          "footway_len_m",
          "footway_len_m",
          "footway_len_m",
          "footway_len_m",
          "footway_len_m",
          "footway_len_m",
          "footway_len_m",
          "footway_len_m",
          "footway_len_m",
          "footway_len_m",
          "footway_len_m",
          "footway_len_m",
          "footway_len_m",
          "footway_len_m",
          "footway_len_m",
          "footway_len_m",
          "footway_len_m",
          "footway_len_m",
          "footway_len_m",
          "footway_len_m",
          "footway_len_m",
          "footway_len_m",
          "footway_len_m",
          "footway_len_m",
          "footway_len_m",
          "footway_len_m",
          "footway_len_m",
          "footway_len_m",
          "footway_len_m",
          "footway_len_m",
          "footway_len_m",
          "footway_len_m",
          "footway_len_m",
          "footway_len_m",
          "footway_len_m",
          "footway_len_m",
          "footway_len_m",
          "footway_len_m",
          "footway_len_m",
          "footway_len_m",
          "footway_len_m",
          "footway_len_m",
          "footway_len_m",
          "footway_len_m",
          "footway_len_m",
          "footway_len_m",
          "footway_len_m",
          "footway_len_m",
          "footway_len_m",
          "footway_len_m",
          "footway_len_m",
          "footway_len_m",
          "footway_len_m",
          "footway_len_m",
          "footway_len_m",
          "footway_len_m",
          "footway_len_m",
          "footway_len_m",
          "footway_len_m",
          "footway_len_m",
          "footway_len_m",
          "footway_len_m",
          "footway_len_m",
          "footway_len_m",
          "footway_len_m",
          "footway_len_m",
          "footway_len_m",
          "footway_len_m",
          "footway_len_m",
          "footway_len_m",
          "footway_len_m",
          "footway_len_m",
          "footway_len_m",
          "footway_len_m",
          "footway_len_m",
          "footway_len_m",
          "footway_len_m",
          "footway_len_m",
          "footway_len_m",
          "footway_len_m",
          "footway_len_m",
          "footway_len_m",
          "footway_len_m",
          "footway_len_m",
          "footway_len_m",
          "footway_len_m",
          "footway_len_m",
          "footway_len_m",
          "footway_len_m",
          "footway_len_m",
          "footway_len_m",
          "footway_len_m",
          "footway_len_m",
          "footway_len_m",
          "footway_len_m",
          "footway_len_m",
          "footway_len_m",
          "footway_len_m",
          "footway_len_m",
          "footway_len_m",
          "footway_len_m",
          "footway_len_m",
          "footway_len_m",
          "footway_len_m",
          "footway_len_m",
          "footway_len_m",
          "footway_len_m",
          "footway_len_m",
          "footway_len_m",
          "footway_len_m",
          "footway_len_m",
          "footway_len_m",
          "footway_len_m",
          "footway_len_m",
          "sidewalk_len_m",
          "sidewalk_len_m",
          "sidewalk_len_m",
          "sidewalk_len_m",
          "sidewalk_len_m",
          "sidewalk_len_m",
          "sidewalk_len_m",
          "sidewalk_len_m",
          "sidewalk_len_m",
          "sidewalk_len_m",
          "sidewalk_len_m",
          "sidewalk_len_m",
          "sidewalk_len_m",
          "sidewalk_len_m",
          "sidewalk_len_m",
          "sidewalk_len_m",
          "sidewalk_len_m",
          "sidewalk_len_m",
          "sidewalk_len_m",
          "sidewalk_len_m",
          "sidewalk_len_m",
          "sidewalk_len_m",
          "sidewalk_len_m",
          "sidewalk_len_m",
          "sidewalk_len_m",
          "sidewalk_len_m",
          "sidewalk_len_m",
          "sidewalk_len_m",
          "sidewalk_len_m",
          "sidewalk_len_m",
          "sidewalk_len_m",
          "sidewalk_len_m",
          "sidewalk_len_m",
          "sidewalk_len_m",
          "sidewalk_len_m",
          "sidewalk_len_m",
          "sidewalk_len_m",
          "sidewalk_len_m",
          "sidewalk_len_m",
          "sidewalk_len_m",
          "sidewalk_len_m",
          "sidewalk_len_m",
          "sidewalk_len_m",
          "sidewalk_len_m",
          "sidewalk_len_m",
          "sidewalk_len_m",
          "sidewalk_len_m",
          "sidewalk_len_m",
          "sidewalk_len_m",
          "sidewalk_len_m",
          "sidewalk_len_m",
          "sidewalk_len_m",
          "sidewalk_len_m",
          "sidewalk_len_m",
          "sidewalk_len_m",
          "sidewalk_len_m",
          "sidewalk_len_m",
          "sidewalk_len_m",
          "sidewalk_len_m",
          "sidewalk_len_m",
          "sidewalk_len_m",
          "sidewalk_len_m",
          "sidewalk_len_m",
          "sidewalk_len_m",
          "sidewalk_len_m",
          "sidewalk_len_m",
          "sidewalk_len_m",
          "sidewalk_len_m",
          "sidewalk_len_m",
          "sidewalk_len_m",
          "sidewalk_len_m",
          "sidewalk_len_m",
          "sidewalk_len_m",
          "sidewalk_len_m",
          "sidewalk_len_m",
          "sidewalk_len_m",
          "sidewalk_len_m",
          "sidewalk_len_m",
          "sidewalk_len_m",
          "sidewalk_len_m",
          "sidewalk_len_m",
          "sidewalk_len_m",
          "sidewalk_len_m",
          "sidewalk_len_m",
          "sidewalk_len_m",
          "sidewalk_len_m",
          "sidewalk_len_m",
          "sidewalk_len_m",
          "sidewalk_len_m",
          "sidewalk_len_m",
          "sidewalk_len_m",
          "sidewalk_len_m",
          "sidewalk_len_m",
          "sidewalk_len_m",
          "sidewalk_len_m",
          "sidewalk_len_m",
          "sidewalk_len_m",
          "sidewalk_len_m",
          "sidewalk_len_m",
          "sidewalk_len_m",
          "sidewalk_len_m",
          "sidewalk_len_m",
          "sidewalk_len_m",
          "sidewalk_len_m",
          "sidewalk_len_m",
          "sidewalk_len_m",
          "sidewalk_len_m",
          "sidewalk_len_m",
          "sidewalk_len_m",
          "sidewalk_len_m",
          "sidewalk_len_m",
          "sidewalk_len_m",
          "sidewalk_len_m",
          "sidewalk_len_m",
          "sidewalk_len_m",
          "sidewalk_len_m",
          "sidewalk_len_m",
          "sidewalk_len_m",
          "sidewalk_len_m",
          "sidewalk_len_m",
          "sidewalk_len_m",
          "sidewalk_len_m",
          "sidewalk_len_m",
          "sidewalk_len_m",
          "sidewalk_len_m",
          "sidewalk_len_m",
          "sidewalk_len_m",
          "sidewalk_len_m",
          "sidewalk_len_m",
          "sidewalk_len_m",
          "sidewalk_len_m",
          "sidewalk_len_m",
          "sidewalk_len_m",
          "sidewalk_len_m",
          "sidewalk_len_m",
          "sidewalk_len_m",
          "sidewalk_len_m",
          "sidewalk_len_m",
          "sidewalk_len_m",
          "sidewalk_len_m",
          "sidewalk_len_m",
          "sidewalk_len_m",
          "sidewalk_len_m",
          "sidewalk_len_m",
          "sidewalk_len_m",
          "sidewalk_len_m",
          "sidewalk_len_m",
          "sidewalk_len_m",
          "sidewalk_len_m",
          "sidewalk_len_m",
          "sidewalk_len_m",
          "sidewalk_len_m",
          "sidewalk_len_m",
          "sidewalk_len_m",
          "sidewalk_len_m",
          "sidewalk_len_m",
          "sidewalk_len_m",
          "sidewalk_len_m",
          "sidewalk_len_m",
          "sidewalk_len_m",
          "sidewalk_len_m",
          "sidewalk_len_m",
          "sidewalk_len_m",
          "sidewalk_len_m",
          "sidewalk_len_m",
          "sidewalk_len_m",
          "sidewalk_len_m",
          "sidewalk_len_m",
          "sidewalk_len_m",
          "sidewalk_len_m",
          "sidewalk_len_m",
          "sidewalk_len_m",
          "sidewalk_len_m",
          "sidewalk_len_m",
          "sidewalk_len_m",
          "sidewalk_len_m",
          "sidewalk_len_m",
          "sidewalk_len_m",
          "sidewalk_len_m",
          "sidewalk_len_m",
          "sidewalk_len_m",
          "sidewalk_len_m",
          "sidewalk_len_m",
          "sidewalk_len_m",
          "sidewalk_len_m",
          "sidewalk_len_m",
          "sidewalk_len_m",
          "sidewalk_len_m",
          "sidewalk_len_m",
          "sidewalk_len_m",
          "sidewalk_len_m",
          "sidewalk_len_m",
          "sidewalk_len_m",
          "sidewalk_len_m",
          "sidewalk_len_m",
          "sidewalk_len_m",
          "sidewalk_len_m",
          "sidewalk_len_m",
          "sidewalk_len_m",
          "sidewalk_len_m",
          "sidewalk_len_m",
          "sidewalk_len_m",
          "sidewalk_len_m",
          "sidewalk_len_m",
          "sidewalk_len_m",
          "sidewalk_len_m",
          "sidewalk_len_m",
          "sidewalk_len_m",
          "sidewalk_len_m",
          "sidewalk_len_m",
          "sidewalk_len_m",
          "sidewalk_len_m",
          "sidewalk_len_m",
          "sidewalk_len_m",
          "sidewalk_len_m",
          "sidewalk_len_m",
          "sidewalk_len_m",
          "sidewalk_len_m",
          "sidewalk_len_m",
          "sidewalk_len_m",
          "sidewalk_len_m",
          "sidewalk_len_m",
          "sidewalk_len_m",
          "sidewalk_len_m",
          "sidewalk_len_m",
          "sidewalk_len_m",
          "sidewalk_len_m",
          "sidewalk_len_m",
          "sidewalk_len_m",
          "sidewalk_len_m",
          "sidewalk_len_m",
          "sidewalk_len_m",
          "sidewalk_len_m",
          "sidewalk_len_m",
          "sidewalk_len_m",
          "sidewalk_len_m",
          "sidewalk_len_m",
          "sidewalk_len_m",
          "sidewalk_len_m",
          "sidewalk_len_m",
          "sidewalk_len_m",
          "sidewalk_len_m",
          "sidewalk_len_m",
          "sidewalk_len_m",
          "sidewalk_len_m",
          "sidewalk_len_m",
          "sidewalk_len_m",
          "sidewalk_len_m",
          "sidewalk_len_m",
          "sidewalk_len_m",
          "sidewalk_len_m",
          "sidewalk_len_m",
          "sidewalk_len_m",
          "sidewalk_len_m",
          "sidewalk_len_m",
          "sidewalk_len_m",
          "sidewalk_len_m",
          "sidewalk_len_m",
          "sidewalk_len_m",
          "sidewalk_len_m",
          "sidewalk_len_m",
          "sidewalk_len_m",
          "sidewalk_len_m",
          "sidewalk_len_m",
          "sidewalk_len_m",
          "sidewalk_len_m",
          "sidewalk_len_m",
          "sidewalk_len_m",
          "sidewalk_len_m",
          "sidewalk_len_m",
          "sidewalk_len_m",
          "sidewalk_len_m",
          "sidewalk_len_m",
          "sidewalk_len_m",
          "sidewalk_len_m",
          "sidewalk_len_m",
          "sidewalk_len_m",
          "sidewalk_len_m",
          "sidewalk_len_m",
          "sidewalk_len_m",
          "sidewalk_len_m",
          "sidewalk_len_m",
          "sidewalk_len_m",
          "sidewalk_len_m",
          "sidewalk_len_m",
          "sidewalk_len_m",
          "sidewalk_len_m",
          "sidewalk_len_m",
          "sidewalk_len_m",
          "sidewalk_len_m",
          "sidewalk_len_m",
          "sidewalk_len_m",
          "sidewalk_len_m",
          "sidewalk_len_m",
          "sidewalk_len_m",
          "sidewalk_len_m",
          "sidewalk_len_m",
          "sidewalk_len_m",
          "sidewalk_len_m",
          "sidewalk_len_m",
          "sidewalk_len_m",
          "sidewalk_len_m",
          "sidewalk_len_m",
          "sidewalk_len_m",
          "sidewalk_len_m",
          "sidewalk_len_m",
          "sidewalk_len_m",
          "sidewalk_len_m",
          "sidewalk_len_m",
          "sidewalk_len_m",
          "sidewalk_len_m",
          "sidewalk_len_m",
          "sidewalk_len_m",
          "sidewalk_len_m",
          "sidewalk_len_m",
          "sidewalk_len_m",
          "sidewalk_len_m",
          "sidewalk_len_m",
          "sidewalk_len_m",
          "sidewalk_len_m",
          "sidewalk_len_m",
          "sidewalk_len_m",
          "sidewalk_len_m",
          "sidewalk_len_m",
          "sidewalk_len_m",
          "sidewalk_len_m",
          "sidewalk_len_m",
          "sidewalk_len_m",
          "sidewalk_len_m",
          "sidewalk_len_m",
          "sidewalk_len_m",
          "sidewalk_len_m",
          "sidewalk_len_m",
          "sidewalk_len_m",
          "sidewalk_len_m",
          "sidewalk_len_m",
          "sidewalk_len_m",
          "sidewalk_len_m",
          "sidewalk_len_m",
          "sidewalk_len_m",
          "sidewalk_len_m",
          "sidewalk_len_m",
          "sidewalk_len_m",
          "sidewalk_len_m",
          "sidewalk_len_m",
          "sidewalk_len_m",
          "sidewalk_len_m",
          "sidewalk_len_m",
          "sidewalk_len_m",
          "sidewalk_len_m",
          "sidewalk_len_m",
          "sidewalk_len_m",
          "sidewalk_len_m",
          "sidewalk_len_m",
          "sidewalk_len_m",
          "sidewalk_len_m",
          "sidewalk_len_m",
          "sidewalk_len_m",
          "sidewalk_len_m",
          "sidewalk_len_m",
          "sidewalk_len_m",
          "sidewalk_len_m",
          "sidewalk_len_m",
          "sidewalk_len_m",
          "sidewalk_len_m",
          "sidewalk_len_m",
          "sidewalk_len_m",
          "sidewalk_len_m",
          "sidewalk_len_m",
          "sidewalk_len_m",
          "sidewalk_len_m",
          "sidewalk_len_m",
          "sidewalk_len_m",
          "sidewalk_len_m",
          "sidewalk_len_m",
          "sidewalk_len_m",
          "sidewalk_len_m",
          "sidewalk_len_m",
          "sidewalk_len_m",
          "sidewalk_len_m",
          "sidewalk_len_m",
          "sidewalk_len_m",
          "sidewalk_len_m",
          "sidewalk_len_m",
          "sidewalk_len_m",
          "sidewalk_len_m",
          "sidewalk_len_m",
          "sidewalk_len_m",
          "sidewalk_len_m",
          "sidewalk_len_m",
          "sidewalk_len_m",
          "sidewalk_len_m",
          "sidewalk_len_m",
          "sidewalk_len_m",
          "sidewalk_len_m",
          "sidewalk_len_m",
          "sidewalk_len_m",
          "sidewalk_len_m",
          "sidewalk_len_m",
          "sidewalk_len_m",
          "sidewalk_len_m",
          "sidewalk_len_m",
          "sidewalk_len_m",
          "sidewalk_len_m",
          "sidewalk_len_m",
          "sidewalk_len_m",
          "sidewalk_len_m",
          "sidewalk_len_m",
          "sidewalk_len_m",
          "sidewalk_len_m",
          "sidewalk_len_m",
          "sidewalk_len_m",
          "sidewalk_len_m",
          "sidewalk_len_m",
          "sidewalk_len_m",
          "sidewalk_len_m",
          "sidewalk_len_m",
          "sidewalk_len_m",
          "sidewalk_len_m",
          "sidewalk_len_m",
          "sidewalk_len_m",
          "sidewalk_len_m",
          "sidewalk_len_m",
          "sidewalk_len_m",
          "sidewalk_len_m",
          "sidewalk_len_m",
          "sidewalk_len_m",
          "sidewalk_len_m",
          "sidewalk_len_m",
          "sidewalk_len_m",
          "sidewalk_len_m",
          "sidewalk_len_m",
          "sidewalk_len_m",
          "sidewalk_len_m",
          "sidewalk_len_m",
          "sidewalk_len_m",
          "sidewalk_len_m",
          "sidewalk_len_m",
          "sidewalk_len_m",
          "sidewalk_len_m",
          "sidewalk_len_m",
          "sidewalk_len_m",
          "sidewalk_len_m",
          "sidewalk_len_m",
          "sidewalk_len_m",
          "sidewalk_len_m",
          "sidewalk_len_m",
          "sidewalk_len_m",
          "sidewalk_len_m",
          "sidewalk_len_m",
          "sidewalk_len_m",
          "sidewalk_len_m",
          "sidewalk_len_m",
          "sidewalk_len_m",
          "sidewalk_len_m",
          "sidewalk_len_m",
          "sidewalk_len_m",
          "sidewalk_len_m",
          "sidewalk_len_m",
          "sidewalk_len_m",
          "sidewalk_len_m",
          "sidewalk_len_m",
          "sidewalk_len_m",
          "sidewalk_len_m",
          "sidewalk_len_m",
          "sidewalk_len_m",
          "sidewalk_len_m",
          "sidewalk_len_m",
          "sidewalk_len_m",
          "sidewalk_len_m",
          "sidewalk_len_m",
          "sidewalk_len_m",
          "sidewalk_len_m",
          "sidewalk_len_m",
          "sidewalk_len_m",
          "sidewalk_len_m",
          "sidewalk_len_m",
          "sidewalk_len_m",
          "sidewalk_len_m",
          "sidewalk_len_m",
          "sidewalk_len_m",
          "sidewalk_len_m",
          "sidewalk_len_m",
          "sidewalk_len_m",
          "sidewalk_len_m",
          "sidewalk_len_m",
          "sidewalk_len_m",
          "sidewalk_len_m",
          "sidewalk_len_m",
          "sidewalk_len_m",
          "sidewalk_len_m",
          "sidewalk_len_m",
          "sidewalk_len_m",
          "sidewalk_len_m",
          "sidewalk_len_m",
          "sidewalk_len_m",
          "sidewalk_len_m",
          "sidewalk_len_m",
          "sidewalk_len_m",
          "sidewalk_len_m",
          "sidewalk_len_m",
          "sidewalk_len_m",
          "sidewalk_len_m",
          "sidewalk_len_m",
          "sidewalk_len_m",
          "sidewalk_len_m",
          "sidewalk_len_m",
          "sidewalk_len_m",
          "sidewalk_len_m",
          "sidewalk_len_m",
          "sidewalk_len_m",
          "sidewalk_len_m",
          "sidewalk_len_m",
          "sidewalk_len_m",
          "sidewalk_len_m",
          "sidewalk_len_m",
          "sidewalk_len_m",
          "sidewalk_len_m",
          "sidewalk_len_m",
          "sidewalk_len_m",
          "sidewalk_len_m",
          "sidewalk_len_m",
          "sidewalk_len_m",
          "sidewalk_len_m",
          "sidewalk_len_m",
          "sidewalk_len_m",
          "sidewalk_len_m",
          "sidewalk_len_m",
          "sidewalk_len_m",
          "sidewalk_len_m",
          "sidewalk_len_m",
          "sidewalk_len_m",
          "sidewalk_len_m",
          "sidewalk_len_m",
          "sidewalk_len_m",
          "sidewalk_len_m",
          "sidewalk_len_m",
          "sidewalk_len_m",
          "sidewalk_len_m",
          "sidewalk_len_m",
          "sidewalk_len_m",
          "sidewalk_len_m",
          "sidewalk_len_m",
          "sidewalk_len_m",
          "sidewalk_len_m",
          "sidewalk_len_m",
          "sidewalk_len_m",
          "sidewalk_len_m",
          "sidewalk_len_m",
          "sidewalk_len_m",
          "sidewalk_len_m",
          "sidewalk_len_m",
          "sidewalk_len_m",
          "sidewalk_len_m",
          "sidewalk_len_m",
          "sidewalk_len_m",
          "sidewalk_len_m",
          "sidewalk_len_m",
          "sidewalk_len_m",
          "sidewalk_len_m",
          "sidewalk_len_m",
          "sidewalk_len_m",
          "sidewalk_len_m",
          "sidewalk_len_m",
          "sidewalk_len_m",
          "sidewalk_len_m",
          "sidewalk_len_m",
          "sidewalk_len_m",
          "sidewalk_len_m",
          "sidewalk_len_m",
          "sidewalk_len_m",
          "sidewalk_len_m",
          "sidewalk_len_m",
          "sidewalk_len_m",
          "sidewalk_len_m",
          "sidewalk_len_m",
          "sidewalk_len_m",
          "sidewalk_len_m",
          "sidewalk_len_m",
          "sidewalk_len_m",
          "sidewalk_len_m",
          "sidewalk_len_m",
          "sidewalk_len_m",
          "sidewalk_len_m",
          "sidewalk_len_m",
          "sidewalk_len_m",
          "sidewalk_len_m",
          "sidewalk_len_m",
          "sidewalk_len_m",
          "sidewalk_len_m",
          "sidewalk_len_m",
          "sidewalk_len_m",
          "sidewalk_len_m",
          "sidewalk_len_m",
          "sidewalk_len_m",
          "sidewalk_len_m",
          "sidewalk_len_m",
          "sidewalk_len_m",
          "sidewalk_len_m",
          "sidewalk_len_m",
          "sidewalk_len_m",
          "sidewalk_len_m",
          "sidewalk_len_m",
          "sidewalk_len_m",
          "sidewalk_len_m",
          "sidewalk_len_m",
          "sidewalk_len_m",
          "sidewalk_len_m",
          "sidewalk_len_m",
          "sidewalk_len_m",
          "sidewalk_len_m",
          "sidewalk_len_m",
          "sidewalk_len_m",
          "sidewalk_len_m",
          "sidewalk_len_m",
          "sidewalk_len_m",
          "sidewalk_len_m",
          "sidewalk_len_m",
          "sidewalk_len_m",
          "sidewalk_len_m",
          "sidewalk_len_m",
          "sidewalk_len_m",
          "sidewalk_len_m",
          "sidewalk_len_m",
          "sidewalk_len_m",
          "sidewalk_len_m",
          "sidewalk_len_m",
          "sidewalk_len_m",
          "sidewalk_len_m",
          "sidewalk_len_m",
          "sidewalk_len_m",
          "sidewalk_len_m",
          "sidewalk_len_m",
          "sidewalk_len_m",
          "sidewalk_len_m",
          "sidewalk_len_m",
          "sidewalk_len_m",
          "sidewalk_len_m",
          "sidewalk_len_m",
          "sidewalk_len_m",
          "sidewalk_len_m",
          "sidewalk_len_m",
          "sidewalk_len_m",
          "sidewalk_len_m",
          "sidewalk_len_m",
          "sidewalk_len_m",
          "sidewalk_len_m",
          "sidewalk_len_m",
          "sidewalk_len_m",
          "sidewalk_len_m",
          "sidewalk_len_m",
          "sidewalk_len_m",
          "sidewalk_len_m",
          "sidewalk_len_m",
          "sidewalk_len_m",
          "sidewalk_len_m",
          "sidewalk_len_m",
          "sidewalk_len_m",
          "sidewalk_len_m",
          "sidewalk_len_m",
          "sidewalk_len_m",
          "sidewalk_len_m",
          "sidewalk_len_m",
          "sidewalk_len_m",
          "sidewalk_len_m",
          "sidewalk_len_m",
          "sidewalk_len_m",
          "sidewalk_len_m",
          "sidewalk_len_m",
          "sidewalk_len_m",
          "sidewalk_len_m",
          "sidewalk_len_m",
          "sidewalk_len_m",
          "sidewalk_len_m",
          "sidewalk_len_m",
          "sidewalk_len_m",
          "sidewalk_len_m",
          "sidewalk_len_m",
          "sidewalk_len_m",
          "sidewalk_len_m",
          "sidewalk_len_m",
          "sidewalk_len_m",
          "sidewalk_len_m",
          "sidewalk_len_m",
          "sidewalk_len_m",
          "sidewalk_len_m",
          "sidewalk_len_m",
          "sidewalk_len_m",
          "sidewalk_len_m",
          "sidewalk_len_m",
          "sidewalk_len_m",
          "sidewalk_len_m",
          "sidewalk_len_m",
          "sidewalk_len_m",
          "sidewalk_len_m",
          "sidewalk_len_m",
          "sidewalk_len_m",
          "sidewalk_len_m",
          "sidewalk_len_m",
          "sidewalk_len_m",
          "sidewalk_len_m",
          "sidewalk_len_m",
          "sidewalk_len_m",
          "sidewalk_len_m",
          "sidewalk_len_m",
          "sidewalk_len_m",
          "sidewalk_len_m",
          "sidewalk_len_m",
          "sidewalk_len_m",
          "sidewalk_len_m",
          "sidewalk_len_m",
          "sidewalk_len_m",
          "sidewalk_len_m",
          "sidewalk_len_m",
          "sidewalk_len_m",
          "sidewalk_len_m",
          "sidewalk_len_m",
          "sidewalk_len_m",
          "sidewalk_len_m",
          "sidewalk_len_m",
          "sidewalk_len_m",
          "sidewalk_len_m",
          "sidewalk_len_m",
          "sidewalk_len_m",
          "sidewalk_len_m",
          "sidewalk_len_m",
          "sidewalk_len_m",
          "sidewalk_len_m",
          "sidewalk_len_m",
          "sidewalk_len_m",
          "sidewalk_len_m",
          "sidewalk_len_m",
          "sidewalk_len_m",
          "sidewalk_len_m",
          "sidewalk_len_m",
          "sidewalk_len_m",
          "sidewalk_len_m",
          "sidewalk_len_m",
          "sidewalk_len_m",
          "sidewalk_len_m",
          "sidewalk_len_m",
          "sidewalk_len_m",
          "sidewalk_len_m",
          "sidewalk_len_m",
          "sidewalk_len_m",
          "sidewalk_len_m",
          "sidewalk_len_m",
          "sidewalk_len_m",
          "sidewalk_len_m",
          "sidewalk_len_m",
          "sidewalk_len_m",
          "sidewalk_len_m",
          "sidewalk_len_m",
          "sidewalk_len_m",
          "sidewalk_len_m",
          "sidewalk_len_m",
          "sidewalk_len_m",
          "sidewalk_len_m",
          "sidewalk_len_m",
          "sidewalk_len_m",
          "sidewalk_len_m",
          "sidewalk_len_m",
          "sidewalk_len_m",
          "sidewalk_len_m",
          "sidewalk_len_m",
          "sidewalk_len_m",
          "sidewalk_len_m",
          "sidewalk_len_m",
          "sidewalk_len_m",
          "sidewalk_len_m",
          "sidewalk_len_m",
          "sidewalk_len_m",
          "sidewalk_len_m",
          "sidewalk_len_m",
          "sidewalk_len_m",
          "sidewalk_len_m",
          "sidewalk_len_m",
          "sidewalk_len_m",
          "sidewalk_len_m",
          "sidewalk_len_m",
          "sidewalk_len_m",
          "sidewalk_len_m",
          "sidewalk_len_m",
          "sidewalk_len_m",
          "sidewalk_len_m",
          "sidewalk_len_m",
          "sidewalk_len_m",
          "sidewalk_len_m",
          "sidewalk_len_m",
          "sidewalk_len_m",
          "sidewalk_len_m",
          "sidewalk_len_m",
          "sidewalk_len_m",
          "sidewalk_len_m",
          "sidewalk_len_m",
          "sidewalk_len_m",
          "sidewalk_len_m",
          "sidewalk_len_m",
          "sidewalk_len_m",
          "sidewalk_len_m",
          "sidewalk_len_m",
          "sidewalk_len_m",
          "sidewalk_len_m",
          "sidewalk_len_m",
          "sidewalk_len_m",
          "sidewalk_len_m",
          "sidewalk_len_m",
          "sidewalk_len_m",
          "sidewalk_len_m",
          "sidewalk_len_m",
          "sidewalk_len_m",
          "sidewalk_len_m",
          "sidewalk_len_m",
          "sidewalk_len_m",
          "sidewalk_len_m",
          "sidewalk_len_m",
          "sidewalk_len_m",
          "sidewalk_len_m",
          "sidewalk_len_m",
          "sidewalk_len_m",
          "sidewalk_len_m",
          "sidewalk_len_m",
          "sidewalk_len_m",
          "sidewalk_len_m",
          "sidewalk_len_m",
          "sidewalk_len_m",
          "sidewalk_len_m",
          "sidewalk_len_m",
          "sidewalk_len_m",
          "sidewalk_len_m",
          "sidewalk_len_m",
          "sidewalk_len_m",
          "sidewalk_len_m",
          "sidewalk_len_m",
          "sidewalk_len_m",
          "sidewalk_len_m",
          "sidewalk_len_m",
          "sidewalk_len_m",
          "sidewalk_len_m",
          "sidewalk_len_m",
          "sidewalk_len_m",
          "sidewalk_len_m",
          "sidewalk_len_m",
          "sidewalk_len_m",
          "sidewalk_len_m",
          "sidewalk_len_m",
          "sidewalk_len_m",
          "sidewalk_len_m",
          "sidewalk_len_m",
          "sidewalk_len_m",
          "sidewalk_len_m",
          "sidewalk_len_m",
          "sidewalk_len_m",
          "sidewalk_len_m",
          "sidewalk_len_m",
          "sidewalk_len_m",
          "sidewalk_len_m",
          "sidewalk_len_m",
          "sidewalk_len_m",
          "sidewalk_len_m",
          "sidewalk_len_m",
          "sidewalk_len_m",
          "sidewalk_len_m",
          "sidewalk_len_m",
          "sidewalk_len_m",
          "sidewalk_len_m",
          "sidewalk_len_m",
          "sidewalk_len_m",
          "sidewalk_len_m",
          "sidewalk_len_m",
          "sidewalk_len_m",
          "sidewalk_len_m",
          "sidewalk_len_m",
          "sidewalk_len_m",
          "sidewalk_len_m",
          "sidewalk_len_m",
          "sidewalk_len_m",
          "sidewalk_len_m",
          "sidewalk_len_m",
          "sidewalk_len_m",
          "sidewalk_len_m",
          "sidewalk_len_m",
          "sidewalk_len_m",
          "sidewalk_len_m",
          "sidewalk_len_m",
          "sidewalk_len_m",
          "sidewalk_len_m",
          "sidewalk_len_m",
          "sidewalk_len_m",
          "sidewalk_len_m",
          "sidewalk_len_m",
          "sidewalk_len_m",
          "sidewalk_len_m",
          "sidewalk_len_m",
          "sidewalk_len_m",
          "sidewalk_len_m",
          "sidewalk_len_m",
          "sidewalk_len_m",
          "sidewalk_len_m",
          "sidewalk_len_m",
          "sidewalk_len_m",
          "sidewalk_len_m",
          "sidewalk_len_m",
          "sidewalk_len_m",
          "sidewalk_len_m",
          "sidewalk_len_m",
          "sidewalk_len_m",
          "sidewalk_len_m",
          "sidewalk_len_m",
          "sidewalk_len_m",
          "sidewalk_len_m",
          "sidewalk_len_m",
          "sidewalk_len_m",
          "sidewalk_len_m",
          "sidewalk_len_m",
          "sidewalk_len_m",
          "sidewalk_len_m",
          "sidewalk_len_m",
          "sidewalk_len_m",
          "sidewalk_len_m",
          "sidewalk_len_m",
          "sidewalk_len_m",
          "sidewalk_len_m",
          "sidewalk_len_m",
          "sidewalk_len_m",
          "sidewalk_len_m",
          "sidewalk_len_m",
          "sidewalk_len_m",
          "sidewalk_len_m",
          "sidewalk_len_m",
          "sidewalk_len_m",
          "sidewalk_len_m",
          "sidewalk_len_m",
          "sidewalk_len_m",
          "sidewalk_len_m",
          "sidewalk_len_m",
          "sidewalk_len_m",
          "sidewalk_len_m",
          "sidewalk_len_m",
          "sidewalk_len_m",
          "sidewalk_len_m",
          "sidewalk_len_m",
          "sidewalk_len_m",
          "sidewalk_len_m",
          "sidewalk_len_m",
          "sidewalk_len_m",
          "sidewalk_len_m",
          "sidewalk_len_m",
          "sidewalk_len_m",
          "sidewalk_len_m",
          "sidewalk_len_m",
          "sidewalk_len_m",
          "sidewalk_len_m",
          "sidewalk_len_m",
          "sidewalk_len_m",
          "sidewalk_len_m",
          "sidewalk_len_m",
          "sidewalk_len_m",
          "sidewalk_len_m",
          "sidewalk_len_m",
          "sidewalk_len_m",
          "sidewalk_len_m",
          "sidewalk_len_m",
          "sidewalk_len_m",
          "sidewalk_len_m",
          "sidewalk_len_m",
          "sidewalk_len_m",
          "sidewalk_len_m",
          "sidewalk_len_m",
          "sidewalk_len_m",
          "sidewalk_len_m",
          "sidewalk_len_m",
          "sidewalk_len_m",
          "sidewalk_len_m",
          "sidewalk_len_m",
          "sidewalk_len_m",
          "sidewalk_len_m",
          "sidewalk_len_m",
          "sidewalk_len_m",
          "sidewalk_len_m",
          "sidewalk_len_m",
          "sidewalk_len_m",
          "sidewalk_len_m",
          "sidewalk_len_m",
          "sidewalk_len_m",
          "sidewalk_len_m",
          "sidewalk_len_m",
          "sidewalk_len_m",
          "sidewalk_len_m",
          "sidewalk_len_m",
          "sidewalk_len_m",
          "sidewalk_len_m",
          "sidewalk_len_m",
          "sidewalk_len_m",
          "sidewalk_len_m",
          "sidewalk_len_m",
          "sidewalk_len_m",
          "sidewalk_len_m",
          "sidewalk_len_m",
          "sidewalk_len_m",
          "with_sidewalk_len_m",
          "with_sidewalk_len_m",
          "with_sidewalk_len_m",
          "with_sidewalk_len_m",
          "with_sidewalk_len_m",
          "with_sidewalk_len_m",
          "with_sidewalk_len_m",
          "with_sidewalk_len_m",
          "with_sidewalk_len_m",
          "with_sidewalk_len_m",
          "with_sidewalk_len_m",
          "with_sidewalk_len_m",
          "with_sidewalk_len_m",
          "with_sidewalk_len_m",
          "with_sidewalk_len_m",
          "with_sidewalk_len_m",
          "with_sidewalk_len_m",
          "with_sidewalk_len_m",
          "with_sidewalk_len_m",
          "with_sidewalk_len_m",
          "with_sidewalk_len_m",
          "with_sidewalk_len_m",
          "with_sidewalk_len_m",
          "with_sidewalk_len_m",
          "with_sidewalk_len_m",
          "with_sidewalk_len_m",
          "with_sidewalk_len_m",
          "with_sidewalk_len_m",
          "with_sidewalk_len_m",
          "with_sidewalk_len_m",
          "with_sidewalk_len_m",
          "with_sidewalk_len_m",
          "with_sidewalk_len_m",
          "with_sidewalk_len_m",
          "with_sidewalk_len_m",
          "with_sidewalk_len_m",
          "with_sidewalk_len_m",
          "with_sidewalk_len_m",
          "with_sidewalk_len_m",
          "with_sidewalk_len_m",
          "with_sidewalk_len_m",
          "with_sidewalk_len_m",
          "with_sidewalk_len_m",
          "with_sidewalk_len_m",
          "with_sidewalk_len_m",
          "with_sidewalk_len_m",
          "with_sidewalk_len_m",
          "with_sidewalk_len_m",
          "with_sidewalk_len_m",
          "with_sidewalk_len_m",
          "with_sidewalk_len_m",
          "with_sidewalk_len_m",
          "with_sidewalk_len_m",
          "with_sidewalk_len_m",
          "with_sidewalk_len_m",
          "with_sidewalk_len_m",
          "with_sidewalk_len_m",
          "with_sidewalk_len_m",
          "with_sidewalk_len_m",
          "with_sidewalk_len_m",
          "with_sidewalk_len_m",
          "with_sidewalk_len_m",
          "with_sidewalk_len_m",
          "with_sidewalk_len_m",
          "with_sidewalk_len_m",
          "with_sidewalk_len_m",
          "with_sidewalk_len_m",
          "with_sidewalk_len_m",
          "with_sidewalk_len_m",
          "with_sidewalk_len_m",
          "with_sidewalk_len_m",
          "with_sidewalk_len_m",
          "with_sidewalk_len_m",
          "with_sidewalk_len_m",
          "with_sidewalk_len_m",
          "with_sidewalk_len_m",
          "with_sidewalk_len_m",
          "with_sidewalk_len_m",
          "with_sidewalk_len_m",
          "with_sidewalk_len_m",
          "with_sidewalk_len_m",
          "with_sidewalk_len_m",
          "with_sidewalk_len_m",
          "with_sidewalk_len_m",
          "with_sidewalk_len_m",
          "with_sidewalk_len_m",
          "with_sidewalk_len_m",
          "with_sidewalk_len_m",
          "with_sidewalk_len_m",
          "with_sidewalk_len_m",
          "with_sidewalk_len_m",
          "with_sidewalk_len_m",
          "with_sidewalk_len_m",
          "with_sidewalk_len_m",
          "with_sidewalk_len_m",
          "with_sidewalk_len_m",
          "with_sidewalk_len_m",
          "with_sidewalk_len_m",
          "with_sidewalk_len_m",
          "with_sidewalk_len_m",
          "with_sidewalk_len_m",
          "with_sidewalk_len_m",
          "with_sidewalk_len_m",
          "with_sidewalk_len_m",
          "with_sidewalk_len_m",
          "with_sidewalk_len_m",
          "with_sidewalk_len_m",
          "with_sidewalk_len_m",
          "with_sidewalk_len_m",
          "with_sidewalk_len_m",
          "with_sidewalk_len_m",
          "with_sidewalk_len_m",
          "with_sidewalk_len_m",
          "with_sidewalk_len_m",
          "with_sidewalk_len_m",
          "with_sidewalk_len_m",
          "with_sidewalk_len_m",
          "with_sidewalk_len_m",
          "with_sidewalk_len_m",
          "with_sidewalk_len_m",
          "with_sidewalk_len_m",
          "with_sidewalk_len_m",
          "with_sidewalk_len_m",
          "with_sidewalk_len_m",
          "with_sidewalk_len_m",
          "with_sidewalk_len_m",
          "with_sidewalk_len_m",
          "with_sidewalk_len_m",
          "with_sidewalk_len_m",
          "with_sidewalk_len_m",
          "with_sidewalk_len_m",
          "with_sidewalk_len_m",
          "with_sidewalk_len_m",
          "with_sidewalk_len_m",
          "with_sidewalk_len_m",
          "with_sidewalk_len_m",
          "with_sidewalk_len_m",
          "with_sidewalk_len_m",
          "with_sidewalk_len_m",
          "with_sidewalk_len_m",
          "with_sidewalk_len_m",
          "with_sidewalk_len_m",
          "with_sidewalk_len_m",
          "with_sidewalk_len_m",
          "with_sidewalk_len_m",
          "with_sidewalk_len_m",
          "with_sidewalk_len_m",
          "with_sidewalk_len_m",
          "with_sidewalk_len_m",
          "with_sidewalk_len_m",
          "with_sidewalk_len_m",
          "with_sidewalk_len_m",
          "with_sidewalk_len_m",
          "with_sidewalk_len_m",
          "with_sidewalk_len_m",
          "with_sidewalk_len_m",
          "with_sidewalk_len_m",
          "with_sidewalk_len_m",
          "with_sidewalk_len_m",
          "with_sidewalk_len_m",
          "with_sidewalk_len_m",
          "with_sidewalk_len_m",
          "with_sidewalk_len_m",
          "with_sidewalk_len_m",
          "with_sidewalk_len_m",
          "with_sidewalk_len_m",
          "with_sidewalk_len_m",
          "with_sidewalk_len_m",
          "with_sidewalk_len_m",
          "with_sidewalk_len_m",
          "with_sidewalk_len_m",
          "with_sidewalk_len_m",
          "with_sidewalk_len_m",
          "with_sidewalk_len_m",
          "with_sidewalk_len_m",
          "with_sidewalk_len_m",
          "with_sidewalk_len_m",
          "with_sidewalk_len_m",
          "with_sidewalk_len_m",
          "with_sidewalk_len_m",
          "with_sidewalk_len_m",
          "with_sidewalk_len_m",
          "with_sidewalk_len_m",
          "with_sidewalk_len_m",
          "with_sidewalk_len_m",
          "with_sidewalk_len_m",
          "with_sidewalk_len_m",
          "with_sidewalk_len_m",
          "with_sidewalk_len_m",
          "with_sidewalk_len_m",
          "with_sidewalk_len_m",
          "with_sidewalk_len_m",
          "with_sidewalk_len_m",
          "with_sidewalk_len_m",
          "with_sidewalk_len_m",
          "with_sidewalk_len_m",
          "with_sidewalk_len_m",
          "with_sidewalk_len_m",
          "with_sidewalk_len_m",
          "with_sidewalk_len_m",
          "with_sidewalk_len_m",
          "with_sidewalk_len_m",
          "with_sidewalk_len_m",
          "with_sidewalk_len_m",
          "with_sidewalk_len_m",
          "with_sidewalk_len_m",
          "with_sidewalk_len_m",
          "with_sidewalk_len_m",
          "with_sidewalk_len_m",
          "with_sidewalk_len_m",
          "with_sidewalk_len_m",
          "with_sidewalk_len_m",
          "with_sidewalk_len_m",
          "with_sidewalk_len_m",
          "with_sidewalk_len_m",
          "with_sidewalk_len_m",
          "with_sidewalk_len_m",
          "with_sidewalk_len_m",
          "with_sidewalk_len_m",
          "with_sidewalk_len_m",
          "with_sidewalk_len_m",
          "with_sidewalk_len_m",
          "with_sidewalk_len_m",
          "with_sidewalk_len_m",
          "with_sidewalk_len_m",
          "with_sidewalk_len_m",
          "with_sidewalk_len_m",
          "with_sidewalk_len_m",
          "with_sidewalk_len_m",
          "with_sidewalk_len_m",
          "with_sidewalk_len_m",
          "with_sidewalk_len_m",
          "with_sidewalk_len_m",
          "with_sidewalk_len_m",
          "with_sidewalk_len_m",
          "with_sidewalk_len_m",
          "with_sidewalk_len_m",
          "with_sidewalk_len_m",
          "with_sidewalk_len_m",
          "with_sidewalk_len_m",
          "with_sidewalk_len_m",
          "with_sidewalk_len_m",
          "with_sidewalk_len_m",
          "with_sidewalk_len_m",
          "with_sidewalk_len_m",
          "with_sidewalk_len_m",
          "with_sidewalk_len_m",
          "with_sidewalk_len_m",
          "with_sidewalk_len_m",
          "with_sidewalk_len_m",
          "with_sidewalk_len_m",
          "with_sidewalk_len_m",
          "with_sidewalk_len_m",
          "with_sidewalk_len_m",
          "with_sidewalk_len_m",
          "with_sidewalk_len_m",
          "with_sidewalk_len_m",
          "with_sidewalk_len_m",
          "with_sidewalk_len_m",
          "with_sidewalk_len_m",
          "with_sidewalk_len_m",
          "with_sidewalk_len_m",
          "with_sidewalk_len_m",
          "with_sidewalk_len_m",
          "with_sidewalk_len_m",
          "with_sidewalk_len_m",
          "with_sidewalk_len_m",
          "with_sidewalk_len_m",
          "with_sidewalk_len_m",
          "with_sidewalk_len_m",
          "with_sidewalk_len_m",
          "with_sidewalk_len_m",
          "with_sidewalk_len_m",
          "with_sidewalk_len_m",
          "with_sidewalk_len_m",
          "with_sidewalk_len_m",
          "with_sidewalk_len_m",
          "with_sidewalk_len_m",
          "with_sidewalk_len_m",
          "with_sidewalk_len_m",
          "with_sidewalk_len_m",
          "with_sidewalk_len_m",
          "with_sidewalk_len_m",
          "with_sidewalk_len_m",
          "with_sidewalk_len_m",
          "with_sidewalk_len_m",
          "with_sidewalk_len_m",
          "with_sidewalk_len_m",
          "with_sidewalk_len_m",
          "with_sidewalk_len_m",
          "with_sidewalk_len_m",
          "with_sidewalk_len_m",
          "with_sidewalk_len_m",
          "with_sidewalk_len_m",
          "with_sidewalk_len_m",
          "with_sidewalk_len_m",
          "with_sidewalk_len_m",
          "with_sidewalk_len_m",
          "with_sidewalk_len_m",
          "with_sidewalk_len_m",
          "with_sidewalk_len_m",
          "with_sidewalk_len_m",
          "with_sidewalk_len_m",
          "with_sidewalk_len_m",
          "with_sidewalk_len_m",
          "with_sidewalk_len_m",
          "with_sidewalk_len_m",
          "with_sidewalk_len_m",
          "with_sidewalk_len_m",
          "with_sidewalk_len_m",
          "with_sidewalk_len_m",
          "with_sidewalk_len_m",
          "with_sidewalk_len_m",
          "with_sidewalk_len_m",
          "with_sidewalk_len_m",
          "with_sidewalk_len_m",
          "with_sidewalk_len_m",
          "with_sidewalk_len_m",
          "with_sidewalk_len_m",
          "with_sidewalk_len_m",
          "with_sidewalk_len_m",
          "with_sidewalk_len_m",
          "with_sidewalk_len_m",
          "with_sidewalk_len_m",
          "with_sidewalk_len_m",
          "with_sidewalk_len_m",
          "with_sidewalk_len_m",
          "with_sidewalk_len_m",
          "with_sidewalk_len_m",
          "with_sidewalk_len_m",
          "with_sidewalk_len_m",
          "with_sidewalk_len_m",
          "with_sidewalk_len_m",
          "with_sidewalk_len_m",
          "with_sidewalk_len_m",
          "with_sidewalk_len_m",
          "with_sidewalk_len_m",
          "with_sidewalk_len_m",
          "with_sidewalk_len_m",
          "with_sidewalk_len_m",
          "with_sidewalk_len_m",
          "with_sidewalk_len_m",
          "with_sidewalk_len_m",
          "with_sidewalk_len_m",
          "with_sidewalk_len_m",
          "with_sidewalk_len_m",
          "with_sidewalk_len_m",
          "with_sidewalk_len_m",
          "with_sidewalk_len_m",
          "with_sidewalk_len_m",
          "with_sidewalk_len_m",
          "with_sidewalk_len_m",
          "with_sidewalk_len_m",
          "with_sidewalk_len_m",
          "with_sidewalk_len_m",
          "with_sidewalk_len_m",
          "with_sidewalk_len_m",
          "with_sidewalk_len_m",
          "with_sidewalk_len_m",
          "with_sidewalk_len_m",
          "with_sidewalk_len_m",
          "with_sidewalk_len_m",
          "with_sidewalk_len_m",
          "with_sidewalk_len_m",
          "with_sidewalk_len_m",
          "with_sidewalk_len_m",
          "with_sidewalk_len_m",
          "with_sidewalk_len_m",
          "with_sidewalk_len_m",
          "with_sidewalk_len_m",
          "with_sidewalk_len_m",
          "with_sidewalk_len_m",
          "with_sidewalk_len_m",
          "with_sidewalk_len_m",
          "with_sidewalk_len_m",
          "with_sidewalk_len_m",
          "with_sidewalk_len_m",
          "with_sidewalk_len_m",
          "with_sidewalk_len_m",
          "with_sidewalk_len_m",
          "with_sidewalk_len_m",
          "with_sidewalk_len_m",
          "with_sidewalk_len_m",
          "with_sidewalk_len_m",
          "with_sidewalk_len_m",
          "with_sidewalk_len_m",
          "with_sidewalk_len_m",
          "with_sidewalk_len_m",
          "with_sidewalk_len_m",
          "with_sidewalk_len_m",
          "with_sidewalk_len_m",
          "with_sidewalk_len_m",
          "with_sidewalk_len_m",
          "with_sidewalk_len_m",
          "with_sidewalk_len_m",
          "with_sidewalk_len_m",
          "with_sidewalk_len_m",
          "with_sidewalk_len_m",
          "with_sidewalk_len_m",
          "with_sidewalk_len_m",
          "with_sidewalk_len_m",
          "with_sidewalk_len_m",
          "with_sidewalk_len_m",
          "with_sidewalk_len_m",
          "with_sidewalk_len_m",
          "with_sidewalk_len_m",
          "with_sidewalk_len_m",
          "with_sidewalk_len_m",
          "with_sidewalk_len_m",
          "with_sidewalk_len_m",
          "with_sidewalk_len_m",
          "with_sidewalk_len_m",
          "with_sidewalk_len_m",
          "with_sidewalk_len_m",
          "with_sidewalk_len_m",
          "with_sidewalk_len_m",
          "with_sidewalk_len_m",
          "with_sidewalk_len_m",
          "with_sidewalk_len_m",
          "with_sidewalk_len_m",
          "with_sidewalk_len_m",
          "with_sidewalk_len_m",
          "with_sidewalk_len_m",
          "with_sidewalk_len_m",
          "with_sidewalk_len_m",
          "with_sidewalk_len_m",
          "with_sidewalk_len_m",
          "with_sidewalk_len_m",
          "with_sidewalk_len_m",
          "with_sidewalk_len_m",
          "with_sidewalk_len_m",
          "with_sidewalk_len_m",
          "with_sidewalk_len_m",
          "with_sidewalk_len_m",
          "with_sidewalk_len_m",
          "with_sidewalk_len_m",
          "with_sidewalk_len_m",
          "with_sidewalk_len_m",
          "with_sidewalk_len_m",
          "with_sidewalk_len_m",
          "with_sidewalk_len_m",
          "with_sidewalk_len_m",
          "with_sidewalk_len_m",
          "with_sidewalk_len_m",
          "with_sidewalk_len_m",
          "with_sidewalk_len_m",
          "with_sidewalk_len_m",
          "with_sidewalk_len_m",
          "with_sidewalk_len_m",
          "with_sidewalk_len_m",
          "with_sidewalk_len_m",
          "with_sidewalk_len_m",
          "with_sidewalk_len_m",
          "with_sidewalk_len_m",
          "with_sidewalk_len_m",
          "with_sidewalk_len_m",
          "with_sidewalk_len_m",
          "with_sidewalk_len_m",
          "with_sidewalk_len_m",
          "with_sidewalk_len_m",
          "with_sidewalk_len_m",
          "with_sidewalk_len_m",
          "with_sidewalk_len_m",
          "with_sidewalk_len_m",
          "with_sidewalk_len_m",
          "with_sidewalk_len_m",
          "with_sidewalk_len_m",
          "with_sidewalk_len_m",
          "with_sidewalk_len_m",
          "with_sidewalk_len_m",
          "with_sidewalk_len_m",
          "with_sidewalk_len_m",
          "with_sidewalk_len_m",
          "with_sidewalk_len_m",
          "with_sidewalk_len_m",
          "with_sidewalk_len_m",
          "with_sidewalk_len_m",
          "with_sidewalk_len_m",
          "with_sidewalk_len_m",
          "with_sidewalk_len_m",
          "with_sidewalk_len_m",
          "with_sidewalk_len_m",
          "with_sidewalk_len_m",
          "with_sidewalk_len_m",
          "with_sidewalk_len_m",
          "with_sidewalk_len_m",
          "with_sidewalk_len_m",
          "with_sidewalk_len_m",
          "with_sidewalk_len_m",
          "with_sidewalk_len_m",
          "with_sidewalk_len_m",
          "with_sidewalk_len_m",
          "with_sidewalk_len_m",
          "with_sidewalk_len_m",
          "with_sidewalk_len_m",
          "with_sidewalk_len_m",
          "with_sidewalk_len_m",
          "with_sidewalk_len_m",
          "with_sidewalk_len_m",
          "with_sidewalk_len_m",
          "with_sidewalk_len_m",
          "with_sidewalk_len_m",
          "with_sidewalk_len_m",
          "with_sidewalk_len_m",
          "with_sidewalk_len_m",
          "with_sidewalk_len_m",
          "with_sidewalk_len_m",
          "with_sidewalk_len_m",
          "with_sidewalk_len_m",
          "with_sidewalk_len_m",
          "with_sidewalk_len_m",
          "with_sidewalk_len_m",
          "with_sidewalk_len_m",
          "with_sidewalk_len_m",
          "with_sidewalk_len_m",
          "with_sidewalk_len_m",
          "with_sidewalk_len_m",
          "with_sidewalk_len_m",
          "with_sidewalk_len_m",
          "with_sidewalk_len_m",
          "with_sidewalk_len_m",
          "with_sidewalk_len_m",
          "with_sidewalk_len_m",
          "with_sidewalk_len_m",
          "with_sidewalk_len_m",
          "with_sidewalk_len_m",
          "with_sidewalk_len_m",
          "with_sidewalk_len_m",
          "with_sidewalk_len_m",
          "with_sidewalk_len_m",
          "with_sidewalk_len_m",
          "with_sidewalk_len_m",
          "with_sidewalk_len_m",
          "with_sidewalk_len_m",
          "with_sidewalk_len_m",
          "with_sidewalk_len_m",
          "with_sidewalk_len_m",
          "with_sidewalk_len_m",
          "with_sidewalk_len_m",
          "with_sidewalk_len_m",
          "with_sidewalk_len_m",
          "with_sidewalk_len_m",
          "with_sidewalk_len_m",
          "with_sidewalk_len_m",
          "with_sidewalk_len_m",
          "with_sidewalk_len_m",
          "with_sidewalk_len_m",
          "with_sidewalk_len_m",
          "with_sidewalk_len_m",
          "with_sidewalk_len_m",
          "with_sidewalk_len_m",
          "with_sidewalk_len_m",
          "with_sidewalk_len_m",
          "with_sidewalk_len_m",
          "with_sidewalk_len_m",
          "with_sidewalk_len_m",
          "with_sidewalk_len_m",
          "with_sidewalk_len_m",
          "with_sidewalk_len_m",
          "with_sidewalk_len_m",
          "with_sidewalk_len_m",
          "with_sidewalk_len_m",
          "with_sidewalk_len_m",
          "with_sidewalk_len_m",
          "with_sidewalk_len_m",
          "with_sidewalk_len_m",
          "with_sidewalk_len_m",
          "with_sidewalk_len_m",
          "with_sidewalk_len_m",
          "with_sidewalk_len_m",
          "with_sidewalk_len_m",
          "with_sidewalk_len_m",
          "with_sidewalk_len_m",
          "with_sidewalk_len_m",
          "with_sidewalk_len_m",
          "with_sidewalk_len_m",
          "with_sidewalk_len_m",
          "with_sidewalk_len_m",
          "with_sidewalk_len_m",
          "with_sidewalk_len_m",
          "with_sidewalk_len_m",
          "with_sidewalk_len_m",
          "with_sidewalk_len_m",
          "with_sidewalk_len_m",
          "with_sidewalk_len_m",
          "with_sidewalk_len_m",
          "with_sidewalk_len_m",
          "with_sidewalk_len_m",
          "with_sidewalk_len_m",
          "with_sidewalk_len_m",
          "with_sidewalk_len_m",
          "with_sidewalk_len_m",
          "with_sidewalk_len_m",
          "with_sidewalk_len_m",
          "with_sidewalk_len_m",
          "with_sidewalk_len_m",
          "with_sidewalk_len_m",
          "with_sidewalk_len_m",
          "with_sidewalk_len_m",
          "with_sidewalk_len_m",
          "with_sidewalk_len_m",
          "with_sidewalk_len_m",
          "with_sidewalk_len_m",
          "with_sidewalk_len_m",
          "with_sidewalk_len_m",
          "with_sidewalk_len_m",
          "with_sidewalk_len_m",
          "with_sidewalk_len_m",
          "with_sidewalk_len_m",
          "with_sidewalk_len_m",
          "with_sidewalk_len_m",
          "with_sidewalk_len_m",
          "with_sidewalk_len_m",
          "with_sidewalk_len_m",
          "with_sidewalk_len_m",
          "with_sidewalk_len_m",
          "with_sidewalk_len_m",
          "with_sidewalk_len_m",
          "with_sidewalk_len_m",
          "with_sidewalk_len_m",
          "with_sidewalk_len_m",
          "with_sidewalk_len_m",
          "with_sidewalk_len_m",
          "with_sidewalk_len_m",
          "with_sidewalk_len_m",
          "with_sidewalk_len_m",
          "with_sidewalk_len_m",
          "with_sidewalk_len_m",
          "with_sidewalk_len_m",
          "with_sidewalk_len_m",
          "with_sidewalk_len_m",
          "with_sidewalk_len_m",
          "with_sidewalk_len_m",
          "with_sidewalk_len_m",
          "with_sidewalk_len_m",
          "with_sidewalk_len_m",
          "with_sidewalk_len_m",
          "with_sidewalk_len_m",
          "with_sidewalk_len_m",
          "with_sidewalk_len_m",
          "with_sidewalk_len_m",
          "with_sidewalk_len_m",
          "with_sidewalk_len_m",
          "with_sidewalk_len_m",
          "with_sidewalk_len_m",
          "with_sidewalk_len_m",
          "with_sidewalk_len_m",
          "with_sidewalk_len_m",
          "with_sidewalk_len_m",
          "with_sidewalk_len_m",
          "with_sidewalk_len_m",
          "with_sidewalk_len_m",
          "with_sidewalk_len_m",
          "with_sidewalk_len_m",
          "with_sidewalk_len_m",
          "with_sidewalk_len_m",
          "with_sidewalk_len_m",
          "with_sidewalk_len_m",
          "with_sidewalk_len_m",
          "with_sidewalk_len_m",
          "with_sidewalk_len_m",
          "with_sidewalk_len_m",
          "with_sidewalk_len_m",
          "with_sidewalk_len_m",
          "with_sidewalk_len_m",
          "with_sidewalk_len_m",
          "with_sidewalk_len_m",
          "with_sidewalk_len_m",
          "with_sidewalk_len_m",
          "with_sidewalk_len_m",
          "with_sidewalk_len_m",
          "with_sidewalk_len_m",
          "with_sidewalk_len_m",
          "with_sidewalk_len_m",
          "with_sidewalk_len_m",
          "with_sidewalk_len_m",
          "with_sidewalk_len_m",
          "with_sidewalk_len_m",
          "with_sidewalk_len_m",
          "with_sidewalk_len_m",
          "with_sidewalk_len_m",
          "with_sidewalk_len_m",
          "with_sidewalk_len_m",
          "with_sidewalk_len_m",
          "with_sidewalk_len_m",
          "with_sidewalk_len_m",
          "with_sidewalk_len_m",
          "with_sidewalk_len_m",
          "with_sidewalk_len_m",
          "with_sidewalk_len_m",
          "with_sidewalk_len_m",
          "with_sidewalk_len_m",
          "with_sidewalk_len_m",
          "with_sidewalk_len_m",
          "with_sidewalk_len_m",
          "with_sidewalk_len_m",
          "with_sidewalk_len_m",
          "with_sidewalk_len_m",
          "with_sidewalk_len_m",
          "with_sidewalk_len_m",
          "with_sidewalk_len_m",
          "with_sidewalk_len_m",
          "with_sidewalk_len_m",
          "with_sidewalk_len_m",
          "with_sidewalk_len_m",
          "with_sidewalk_len_m",
          "with_sidewalk_len_m",
          "with_sidewalk_len_m",
          "with_sidewalk_len_m",
          "with_sidewalk_len_m",
          "with_sidewalk_len_m",
          "with_sidewalk_len_m",
          "with_sidewalk_len_m",
          "with_sidewalk_len_m",
          "with_sidewalk_len_m",
          "with_sidewalk_len_m",
          "with_sidewalk_len_m",
          "with_sidewalk_len_m",
          "with_sidewalk_len_m",
          "with_sidewalk_len_m",
          "with_sidewalk_len_m",
          "with_sidewalk_len_m",
          "with_sidewalk_len_m",
          "with_sidewalk_len_m",
          "with_sidewalk_len_m",
          "with_sidewalk_len_m",
          "with_sidewalk_len_m",
          "with_sidewalk_len_m",
          "with_sidewalk_len_m",
          "with_sidewalk_len_m",
          "with_sidewalk_len_m",
          "with_sidewalk_len_m",
          "with_sidewalk_len_m",
          "with_sidewalk_len_m",
          "with_sidewalk_len_m",
          "with_sidewalk_len_m",
          "with_sidewalk_len_m",
          "with_sidewalk_len_m",
          "with_sidewalk_len_m",
          "with_sidewalk_len_m",
          "with_sidewalk_len_m",
          "with_sidewalk_len_m",
          "with_sidewalk_len_m",
          "with_sidewalk_len_m",
          "with_sidewalk_len_m",
          "with_sidewalk_len_m",
          "with_sidewalk_len_m",
          "with_sidewalk_len_m",
          "with_sidewalk_len_m",
          "with_sidewalk_len_m",
          "with_sidewalk_len_m",
          "with_sidewalk_len_m",
          "with_sidewalk_len_m",
          "with_sidewalk_len_m",
          "with_sidewalk_len_m",
          "with_sidewalk_len_m",
          "with_sidewalk_len_m",
          "with_sidewalk_len_m",
          "with_sidewalk_len_m",
          "with_sidewalk_len_m",
          "with_sidewalk_len_m",
          "with_sidewalk_len_m",
          "with_sidewalk_len_m",
          "with_sidewalk_len_m",
          "with_sidewalk_len_m",
          "with_sidewalk_len_m",
          "with_sidewalk_len_m",
          "with_sidewalk_len_m",
          "with_sidewalk_len_m",
          "with_sidewalk_len_m",
          "with_sidewalk_len_m",
          "with_sidewalk_len_m",
          "with_sidewalk_len_m",
          "with_sidewalk_len_m",
          "with_sidewalk_len_m",
          "with_sidewalk_len_m",
          "with_sidewalk_len_m",
          "with_sidewalk_len_m",
          "with_sidewalk_len_m",
          "with_sidewalk_len_m",
          "with_sidewalk_len_m",
          "with_sidewalk_len_m",
          "with_sidewalk_len_m",
          "with_sidewalk_len_m",
          "with_sidewalk_len_m",
          "with_sidewalk_len_m",
          "with_sidewalk_len_m",
          "with_sidewalk_len_m",
          "with_sidewalk_len_m",
          "with_sidewalk_len_m",
          "with_sidewalk_len_m",
          "with_sidewalk_len_m",
          "with_sidewalk_len_m",
          "with_sidewalk_len_m",
          "with_sidewalk_len_m",
          "with_sidewalk_len_m",
          "with_sidewalk_len_m",
          "with_sidewalk_len_m",
          "with_sidewalk_len_m",
          "with_sidewalk_len_m",
          "with_sidewalk_len_m",
          "with_sidewalk_len_m",
          "with_sidewalk_len_m",
          "with_sidewalk_len_m",
          "with_sidewalk_len_m",
          "with_sidewalk_len_m",
          "with_sidewalk_len_m",
          "with_sidewalk_len_m",
          "with_sidewalk_len_m",
          "with_sidewalk_len_m",
          "with_sidewalk_len_m",
          "with_sidewalk_len_m",
          "with_sidewalk_len_m",
          "with_sidewalk_len_m",
          "with_sidewalk_len_m",
          "with_sidewalk_len_m",
          "with_sidewalk_len_m",
          "with_sidewalk_len_m",
          "with_sidewalk_len_m",
          "with_sidewalk_len_m",
          "with_sidewalk_len_m",
          "with_sidewalk_len_m",
          "with_sidewalk_len_m",
          "with_sidewalk_len_m",
          "with_sidewalk_len_m",
          "with_sidewalk_len_m",
          "with_sidewalk_len_m",
          "with_sidewalk_len_m",
          "with_sidewalk_len_m",
          "with_sidewalk_len_m",
          "with_sidewalk_len_m",
          "with_sidewalk_len_m",
          "with_sidewalk_len_m",
          "with_sidewalk_len_m",
          "with_sidewalk_len_m",
          "with_sidewalk_len_m",
          "with_sidewalk_len_m",
          "with_sidewalk_len_m",
          "with_sidewalk_len_m",
          "with_sidewalk_len_m",
          "with_sidewalk_len_m",
          "with_sidewalk_len_m",
          "with_sidewalk_len_m",
          "with_sidewalk_len_m",
          "with_sidewalk_len_m",
          "with_sidewalk_len_m",
          "with_sidewalk_len_m",
          "with_sidewalk_len_m",
          "with_sidewalk_len_m",
          "with_sidewalk_len_m",
          "with_sidewalk_len_m",
          "with_sidewalk_len_m",
          "with_sidewalk_len_m",
          "with_sidewalk_len_m",
          "with_sidewalk_len_m",
          "with_sidewalk_len_m",
          "with_sidewalk_len_m",
          "with_sidewalk_len_m",
          "with_sidewalk_len_m",
          "with_sidewalk_len_m",
          "with_sidewalk_len_m",
          "with_sidewalk_len_m",
          "with_sidewalk_len_m",
          "with_sidewalk_len_m",
          "with_sidewalk_len_m",
          "with_sidewalk_len_m",
          "with_sidewalk_len_m",
          "with_sidewalk_len_m",
          "with_sidewalk_len_m",
          "with_sidewalk_len_m",
          "with_sidewalk_len_m",
          "with_sidewalk_len_m",
          "with_sidewalk_len_m",
          "with_sidewalk_len_m",
          "with_sidewalk_len_m",
          "with_sidewalk_len_m",
          "with_sidewalk_len_m",
          "with_sidewalk_len_m",
          "with_sidewalk_len_m",
          "with_sidewalk_len_m",
          "with_sidewalk_len_m",
          "with_sidewalk_len_m",
          "with_sidewalk_len_m",
          "with_sidewalk_len_m",
          "with_sidewalk_len_m",
          "with_sidewalk_len_m",
          "with_sidewalk_len_m",
          "with_sidewalk_len_m",
          "with_sidewalk_len_m",
          "with_sidewalk_len_m",
          "with_sidewalk_len_m",
          "with_sidewalk_len_m",
          "with_sidewalk_len_m",
          "with_sidewalk_len_m",
          "with_sidewalk_len_m",
          "with_sidewalk_len_m",
          "with_sidewalk_len_m",
          "with_sidewalk_len_m",
          "with_sidewalk_len_m",
          "with_sidewalk_len_m",
          "with_sidewalk_len_m",
          "with_sidewalk_len_m",
          "with_sidewalk_len_m",
          "with_sidewalk_len_m",
          "with_sidewalk_len_m",
          "with_sidewalk_len_m",
          "with_sidewalk_len_m",
          "with_sidewalk_len_m",
          "with_sidewalk_len_m",
          "with_sidewalk_len_m",
          "with_sidewalk_len_m",
          "with_sidewalk_len_m",
          "with_sidewalk_len_m",
          "with_sidewalk_len_m",
          "with_sidewalk_len_m",
          "with_sidewalk_len_m",
          "with_sidewalk_len_m",
          "with_sidewalk_len_m",
          "with_sidewalk_len_m",
          "with_sidewalk_len_m",
          "with_sidewalk_len_m",
          "with_sidewalk_len_m",
          "with_sidewalk_len_m",
          "with_sidewalk_len_m",
          "with_sidewalk_len_m",
          "with_sidewalk_len_m",
          "with_sidewalk_len_m",
          "with_sidewalk_len_m",
          "with_sidewalk_len_m",
          "with_sidewalk_len_m",
          "with_sidewalk_len_m",
          "with_sidewalk_len_m",
          "with_sidewalk_len_m",
          "with_sidewalk_len_m",
          "with_sidewalk_len_m",
          "with_sidewalk_len_m",
          "with_sidewalk_len_m",
          "with_sidewalk_len_m",
          "with_sidewalk_len_m",
          "with_sidewalk_len_m",
          "with_sidewalk_len_m",
          "with_sidewalk_len_m",
          "with_sidewalk_len_m",
          "with_sidewalk_len_m",
          "with_sidewalk_len_m",
          "with_sidewalk_len_m",
          "with_sidewalk_len_m",
          "with_sidewalk_len_m",
          "with_sidewalk_len_m",
          "with_sidewalk_len_m",
          "with_sidewalk_len_m",
          "with_sidewalk_len_m",
          "with_sidewalk_len_m",
          "with_sidewalk_len_m",
          "with_sidewalk_len_m",
          "with_sidewalk_len_m",
          "with_sidewalk_len_m",
          "with_sidewalk_len_m",
          "with_sidewalk_len_m",
          "with_sidewalk_len_m",
          "with_sidewalk_len_m",
          "with_sidewalk_len_m",
          "with_sidewalk_len_m",
          "with_sidewalk_len_m",
          "with_sidewalk_len_m",
          "with_sidewalk_len_m",
          "with_sidewalk_len_m",
          "with_sidewalk_len_m",
          "with_sidewalk_len_m",
          "with_sidewalk_len_m",
          "with_sidewalk_len_m",
          "with_sidewalk_len_m",
          "with_sidewalk_len_m",
          "with_sidewalk_len_m",
          "with_sidewalk_len_m",
          "with_sidewalk_len_m",
          "with_sidewalk_len_m",
          "with_sidewalk_len_m",
          "with_sidewalk_len_m",
          "with_sidewalk_len_m",
          "with_sidewalk_len_m",
          "with_sidewalk_len_m",
          "with_sidewalk_len_m",
          "with_sidewalk_len_m",
          "with_sidewalk_len_m",
          "with_sidewalk_len_m",
          "with_sidewalk_len_m",
          "with_sidewalk_len_m",
          "with_sidewalk_len_m",
          "with_sidewalk_len_m",
          "with_sidewalk_len_m",
          "with_sidewalk_len_m",
          "with_sidewalk_len_m",
          "with_sidewalk_len_m",
          "with_sidewalk_len_m",
          "with_sidewalk_len_m",
          "with_sidewalk_len_m",
          "with_sidewalk_len_m",
          "with_sidewalk_len_m",
          "with_sidewalk_len_m"
         ],
         "x0": " ",
         "xaxis": "x",
         "y": {
          "bdata": "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",
          "dtype": "f8"
         },
         "y0": " ",
         "yaxis": "y"
        }
       ],
       "layout": {
        "boxmode": "group",
        "legend": {
         "tracegroupgap": 0
        },
        "template": {
         "data": {
          "bar": [
           {
            "error_x": {
             "color": "#2a3f5f"
            },
            "error_y": {
             "color": "#2a3f5f"
            },
            "marker": {
             "line": {
              "color": "#E5ECF6",
              "width": 0.5
             },
             "pattern": {
              "fillmode": "overlay",
              "size": 10,
              "solidity": 0.2
             }
            },
            "type": "bar"
           }
          ],
          "barpolar": [
           {
            "marker": {
             "line": {
              "color": "#E5ECF6",
              "width": 0.5
             },
             "pattern": {
              "fillmode": "overlay",
              "size": 10,
              "solidity": 0.2
             }
            },
            "type": "barpolar"
           }
          ],
          "carpet": [
           {
            "aaxis": {
             "endlinecolor": "#2a3f5f",
             "gridcolor": "white",
             "linecolor": "white",
             "minorgridcolor": "white",
             "startlinecolor": "#2a3f5f"
            },
            "baxis": {
             "endlinecolor": "#2a3f5f",
             "gridcolor": "white",
             "linecolor": "white",
             "minorgridcolor": "white",
             "startlinecolor": "#2a3f5f"
            },
            "type": "carpet"
           }
          ],
          "choropleth": [
           {
            "colorbar": {
             "outlinewidth": 0,
             "ticks": ""
            },
            "type": "choropleth"
           }
          ],
          "contour": [
           {
            "colorbar": {
             "outlinewidth": 0,
             "ticks": ""
            },
            "colorscale": [
             [
              0,
              "#0d0887"
             ],
             [
              0.1111111111111111,
              "#46039f"
             ],
             [
              0.2222222222222222,
              "#7201a8"
             ],
             [
              0.3333333333333333,
              "#9c179e"
             ],
             [
              0.4444444444444444,
              "#bd3786"
             ],
             [
              0.5555555555555556,
              "#d8576b"
             ],
             [
              0.6666666666666666,
              "#ed7953"
             ],
             [
              0.7777777777777778,
              "#fb9f3a"
             ],
             [
              0.8888888888888888,
              "#fdca26"
             ],
             [
              1,
              "#f0f921"
             ]
            ],
            "type": "contour"
           }
          ],
          "contourcarpet": [
           {
            "colorbar": {
             "outlinewidth": 0,
             "ticks": ""
            },
            "type": "contourcarpet"
           }
          ],
          "heatmap": [
           {
            "colorbar": {
             "outlinewidth": 0,
             "ticks": ""
            },
            "colorscale": [
             [
              0,
              "#0d0887"
             ],
             [
              0.1111111111111111,
              "#46039f"
             ],
             [
              0.2222222222222222,
              "#7201a8"
             ],
             [
              0.3333333333333333,
              "#9c179e"
             ],
             [
              0.4444444444444444,
              "#bd3786"
             ],
             [
              0.5555555555555556,
              "#d8576b"
             ],
             [
              0.6666666666666666,
              "#ed7953"
             ],
             [
              0.7777777777777778,
              "#fb9f3a"
             ],
             [
              0.8888888888888888,
              "#fdca26"
             ],
             [
              1,
              "#f0f921"
             ]
            ],
            "type": "heatmap"
           }
          ],
          "histogram": [
           {
            "marker": {
             "pattern": {
              "fillmode": "overlay",
              "size": 10,
              "solidity": 0.2
             }
            },
            "type": "histogram"
           }
          ],
          "histogram2d": [
           {
            "colorbar": {
             "outlinewidth": 0,
             "ticks": ""
            },
            "colorscale": [
             [
              0,
              "#0d0887"
             ],
             [
              0.1111111111111111,
              "#46039f"
             ],
             [
              0.2222222222222222,
              "#7201a8"
             ],
             [
              0.3333333333333333,
              "#9c179e"
             ],
             [
              0.4444444444444444,
              "#bd3786"
             ],
             [
              0.5555555555555556,
              "#d8576b"
             ],
             [
              0.6666666666666666,
              "#ed7953"
             ],
             [
              0.7777777777777778,
              "#fb9f3a"
             ],
             [
              0.8888888888888888,
              "#fdca26"
             ],
             [
              1,
              "#f0f921"
             ]
            ],
            "type": "histogram2d"
           }
          ],
          "histogram2dcontour": [
           {
            "colorbar": {
             "outlinewidth": 0,
             "ticks": ""
            },
            "colorscale": [
             [
              0,
              "#0d0887"
             ],
             [
              0.1111111111111111,
              "#46039f"
             ],
             [
              0.2222222222222222,
              "#7201a8"
             ],
             [
              0.3333333333333333,
              "#9c179e"
             ],
             [
              0.4444444444444444,
              "#bd3786"
             ],
             [
              0.5555555555555556,
              "#d8576b"
             ],
             [
              0.6666666666666666,
              "#ed7953"
             ],
             [
              0.7777777777777778,
              "#fb9f3a"
             ],
             [
              0.8888888888888888,
              "#fdca26"
             ],
             [
              1,
              "#f0f921"
             ]
            ],
            "type": "histogram2dcontour"
           }
          ],
          "mesh3d": [
           {
            "colorbar": {
             "outlinewidth": 0,
             "ticks": ""
            },
            "type": "mesh3d"
           }
          ],
          "parcoords": [
           {
            "line": {
             "colorbar": {
              "outlinewidth": 0,
              "ticks": ""
             }
            },
            "type": "parcoords"
           }
          ],
          "pie": [
           {
            "automargin": true,
            "type": "pie"
           }
          ],
          "scatter": [
           {
            "fillpattern": {
             "fillmode": "overlay",
             "size": 10,
             "solidity": 0.2
            },
            "type": "scatter"
           }
          ],
          "scatter3d": [
           {
            "line": {
             "colorbar": {
              "outlinewidth": 0,
              "ticks": ""
             }
            },
            "marker": {
             "colorbar": {
              "outlinewidth": 0,
              "ticks": ""
             }
            },
            "type": "scatter3d"
           }
          ],
          "scattercarpet": [
           {
            "marker": {
             "colorbar": {
              "outlinewidth": 0,
              "ticks": ""
             }
            },
            "type": "scattercarpet"
           }
          ],
          "scattergeo": [
           {
            "marker": {
             "colorbar": {
              "outlinewidth": 0,
              "ticks": ""
             }
            },
            "type": "scattergeo"
           }
          ],
          "scattergl": [
           {
            "marker": {
             "colorbar": {
              "outlinewidth": 0,
              "ticks": ""
             }
            },
            "type": "scattergl"
           }
          ],
          "scattermap": [
           {
            "marker": {
             "colorbar": {
              "outlinewidth": 0,
              "ticks": ""
             }
            },
            "type": "scattermap"
           }
          ],
          "scattermapbox": [
           {
            "marker": {
             "colorbar": {
              "outlinewidth": 0,
              "ticks": ""
             }
            },
            "type": "scattermapbox"
           }
          ],
          "scatterpolar": [
           {
            "marker": {
             "colorbar": {
              "outlinewidth": 0,
              "ticks": ""
             }
            },
            "type": "scatterpolar"
           }
          ],
          "scatterpolargl": [
           {
            "marker": {
             "colorbar": {
              "outlinewidth": 0,
              "ticks": ""
             }
            },
            "type": "scatterpolargl"
           }
          ],
          "scatterternary": [
           {
            "marker": {
             "colorbar": {
              "outlinewidth": 0,
              "ticks": ""
             }
            },
            "type": "scatterternary"
           }
          ],
          "surface": [
           {
            "colorbar": {
             "outlinewidth": 0,
             "ticks": ""
            },
            "colorscale": [
             [
              0,
              "#0d0887"
             ],
             [
              0.1111111111111111,
              "#46039f"
             ],
             [
              0.2222222222222222,
              "#7201a8"
             ],
             [
              0.3333333333333333,
              "#9c179e"
             ],
             [
              0.4444444444444444,
              "#bd3786"
             ],
             [
              0.5555555555555556,
              "#d8576b"
             ],
             [
              0.6666666666666666,
              "#ed7953"
             ],
             [
              0.7777777777777778,
              "#fb9f3a"
             ],
             [
              0.8888888888888888,
              "#fdca26"
             ],
             [
              1,
              "#f0f921"
             ]
            ],
            "type": "surface"
           }
          ],
          "table": [
           {
            "cells": {
             "fill": {
              "color": "#EBF0F8"
             },
             "line": {
              "color": "white"
             }
            },
            "header": {
             "fill": {
              "color": "#C8D4E3"
             },
             "line": {
              "color": "white"
             }
            },
            "type": "table"
           }
          ]
         },
         "layout": {
          "annotationdefaults": {
           "arrowcolor": "#2a3f5f",
           "arrowhead": 0,
           "arrowwidth": 1
          },
          "autotypenumbers": "strict",
          "coloraxis": {
           "colorbar": {
            "outlinewidth": 0,
            "ticks": ""
           }
          },
          "colorscale": {
           "diverging": [
            [
             0,
             "#8e0152"
            ],
            [
             0.1,
             "#c51b7d"
            ],
            [
             0.2,
             "#de77ae"
            ],
            [
             0.3,
             "#f1b6da"
            ],
            [
             0.4,
             "#fde0ef"
            ],
            [
             0.5,
             "#f7f7f7"
            ],
            [
             0.6,
             "#e6f5d0"
            ],
            [
             0.7,
             "#b8e186"
            ],
            [
             0.8,
             "#7fbc41"
            ],
            [
             0.9,
             "#4d9221"
            ],
            [
             1,
             "#276419"
            ]
           ],
           "sequential": [
            [
             0,
             "#0d0887"
            ],
            [
             0.1111111111111111,
             "#46039f"
            ],
            [
             0.2222222222222222,
             "#7201a8"
            ],
            [
             0.3333333333333333,
             "#9c179e"
            ],
            [
             0.4444444444444444,
             "#bd3786"
            ],
            [
             0.5555555555555556,
             "#d8576b"
            ],
            [
             0.6666666666666666,
             "#ed7953"
            ],
            [
             0.7777777777777778,
             "#fb9f3a"
            ],
            [
             0.8888888888888888,
             "#fdca26"
            ],
            [
             1,
             "#f0f921"
            ]
           ],
           "sequentialminus": [
            [
             0,
             "#0d0887"
            ],
            [
             0.1111111111111111,
             "#46039f"
            ],
            [
             0.2222222222222222,
             "#7201a8"
            ],
            [
             0.3333333333333333,
             "#9c179e"
            ],
            [
             0.4444444444444444,
             "#bd3786"
            ],
            [
             0.5555555555555556,
             "#d8576b"
            ],
            [
             0.6666666666666666,
             "#ed7953"
            ],
            [
             0.7777777777777778,
             "#fb9f3a"
            ],
            [
             0.8888888888888888,
             "#fdca26"
            ],
            [
             1,
             "#f0f921"
            ]
           ]
          },
          "colorway": [
           "#636efa",
           "#EF553B",
           "#00cc96",
           "#ab63fa",
           "#FFA15A",
           "#19d3f3",
           "#FF6692",
           "#B6E880",
           "#FF97FF",
           "#FECB52"
          ],
          "font": {
           "color": "#2a3f5f"
          },
          "geo": {
           "bgcolor": "white",
           "lakecolor": "white",
           "landcolor": "#E5ECF6",
           "showlakes": true,
           "showland": true,
           "subunitcolor": "white"
          },
          "hoverlabel": {
           "align": "left"
          },
          "hovermode": "closest",
          "mapbox": {
           "style": "light"
          },
          "paper_bgcolor": "white",
          "plot_bgcolor": "#E5ECF6",
          "polar": {
           "angularaxis": {
            "gridcolor": "white",
            "linecolor": "white",
            "ticks": ""
           },
           "bgcolor": "#E5ECF6",
           "radialaxis": {
            "gridcolor": "white",
            "linecolor": "white",
            "ticks": ""
           }
          },
          "scene": {
           "xaxis": {
            "backgroundcolor": "#E5ECF6",
            "gridcolor": "white",
            "gridwidth": 2,
            "linecolor": "white",
            "showbackground": true,
            "ticks": "",
            "zerolinecolor": "white"
           },
           "yaxis": {
            "backgroundcolor": "#E5ECF6",
            "gridcolor": "white",
            "gridwidth": 2,
            "linecolor": "white",
            "showbackground": true,
            "ticks": "",
            "zerolinecolor": "white"
           },
           "zaxis": {
            "backgroundcolor": "#E5ECF6",
            "gridcolor": "white",
            "gridwidth": 2,
            "linecolor": "white",
            "showbackground": true,
            "ticks": "",
            "zerolinecolor": "white"
           }
          },
          "shapedefaults": {
           "line": {
            "color": "#2a3f5f"
           }
          },
          "ternary": {
           "aaxis": {
            "gridcolor": "white",
            "linecolor": "white",
            "ticks": ""
           },
           "baxis": {
            "gridcolor": "white",
            "linecolor": "white",
            "ticks": ""
           },
           "bgcolor": "#E5ECF6",
           "caxis": {
            "gridcolor": "white",
            "linecolor": "white",
            "ticks": ""
           }
          },
          "title": {
           "x": 0.05
          },
          "xaxis": {
           "automargin": true,
           "gridcolor": "white",
           "linecolor": "white",
           "ticks": "",
           "title": {
            "standoff": 15
           },
           "zerolinecolor": "white",
           "zerolinewidth": 2
          },
          "yaxis": {
           "automargin": true,
           "gridcolor": "white",
           "linecolor": "white",
           "ticks": "",
           "title": {
            "standoff": 15
           },
           "zerolinecolor": "white",
           "zerolinewidth": 2
          }
         }
        },
        "title": {
         "text": "Distribution of Network Lengths"
        },
        "xaxis": {
         "anchor": "y",
         "domain": [
          0,
          1
         ],
         "title": {
          "text": "variable"
         }
        },
        "yaxis": {
         "anchor": "x",
         "domain": [
          0,
          1
         ],
         "title": {
          "text": "value"
         }
        }
       }
      },
      "text/html": [
       "<div>                        <script type=\"text/javascript\">window.PlotlyConfig = {MathJaxConfig: 'local'};</script>\n",
       "        <script charset=\"utf-8\" src=\"https://cdn.plot.ly/plotly-3.0.1.min.js\" integrity=\"sha256-oy6Be7Eh6eiQFs5M7oXuPxxm9qbJXEtTpfSI93dW16Q=\" crossorigin=\"anonymous\"></script>                <div id=\"9d20314a-fe7c-4115-86f6-ad3d491aa9a6\" class=\"plotly-graph-div\" style=\"height:100%; width:100%;\"></div>            <script type=\"text/javascript\">                window.PLOTLYENV=window.PLOTLYENV || {};                                if (document.getElementById(\"9d20314a-fe7c-4115-86f6-ad3d491aa9a6\")) {                    Plotly.newPlot(                        \"9d20314a-fe7c-4115-86f6-ad3d491aa9a6\",                        [{\"alignmentgroup\":\"True\",\"hovertemplate\":\"variable=%{x}\\u003cbr\\u003evalue=%{y}\\u003cextra\\u003e\\u003c\\u002fextra\\u003e\",\"legendgroup\":\"\",\"marker\":{\"color\":\"#636efa\"},\"name\":\"\",\"notched\":false,\"offsetgroup\":\"\",\"orientation\":\"v\",\"showlegend\":false,\"x\":[\"car_len_m\",\"car_len_m\",\"car_len_m\",\"car_len_m\",\"car_len_m\",\"car_len_m\",\"car_len_m\",\"car_len_m\",\"car_len_m\",\"car_len_m\",\"car_len_m\",\"car_len_m\",\"car_len_m\",\"car_len_m\",\"car_len_m\",\"car_len_m\",\"car_len_m\",\"car_len_m\",\"car_len_m\",\"car_len_m\",\"car_len_m\",\"car_len_m\",\"car_len_m\",\"car_len_m\",\"car_len_m\",\"car_len_m\",\"car_len_m\",\"car_len_m\",\"car_len_m\",\"car_len_m\",\"car_len_m\",\"car_len_m\",\"car_len_m\",\"car_len_m\",\"car_len_m\",\"car_len_m\",\"car_len_m\",\"car_len_m\",\"car_len_m\",\"car_len_m\",\"car_len_m\",\"car_len_m\",\"car_len_m\",\"car_len_m\",\"car_len_m\",\"car_len_m\",\"car_len_m\",\"car_len_m\",\"car_len_m\",\"car_len_m\",\"car_len_m\",\"car_len_m\",\"car_len_m\",\"car_len_m\",\"car_len_m\",\"car_len_m\",\"car_len_m\",\"car_len_m\",\"car_len_m\",\"car_len_m\",\"car_len_m\",\"car_len_m\",\"car_len_m\",\"car_len_m\",\"car_len_m\",\"car_len_m\",\"car_len_m\",\"car_len_m\",\"car_len_m\",\"car_len_m\",\"car_len_m\",\"car_len_m\",\"car_len_m\",\"car_len_m\",\"car_len_m\",\"car_len_m\",\"car_len_m\",\"car_len_m\",\"car_len_m\",\"car_len_m\",\"car_len_m\",\"car_len_m\",\"car_len_m\",\"car_len_m\",\"car_len_m\",\"car_len_m\",\"car_len_m\",\"car_len_m\",\"car_len_m\",\"car_len_m\",\"car_len_m\",\"car_len_m\",\"car_len_m\",\"car_len_m\",\"car_len_m\",\"car_len_m\",\"car_len_m\",\"car_len_m\",\"car_len_m\",\"car_len_m\",\"car_len_m\",\"car_len_m\",\"car_len_m\",\"car_len_m\",\"car_len_m\",\"car_len_m\",\"car_len_m\",\"car_len_m\",\"car_len_m\",\"car_len_m\",\"car_len_m\",\"car_len_m\",\"car_len_m\",\"car_len_m\",\"car_len_m\",\"car_len_m\",\"car_len_m\",\"car_len_m\",\"car_len_m\",\"car_len_m\",\"car_len_m\",\"car_len_m\",\"car_len_m\",\"car_len_m\",\"car_len_m\",\"car_len_m\",\"car_len_m\",\"car_len_m\",\"car_len_m\",\"car_len_m\",\"car_len_m\",\"car_len_m\",\"car_len_m\",\"car_len_m\",\"car_len_m\",\"car_len_m\",\"car_len_m\",\"car_len_m\",\"car_len_m\",\"car_len_m\",\"car_len_m\",\"car_len_m\",\"car_len_m\",\"car_len_m\",\"car_len_m\",\"car_len_m\",\"car_len_m\",\"car_len_m\",\"car_len_m\",\"car_len_m\",\"car_len_m\",\"car_len_m\",\"car_len_m\",\"car_len_m\",\"car_len_m\",\"car_len_m\",\"car_len_m\",\"car_len_m\",\"car_len_m\",\"car_len_m\",\"car_len_m\",\"car_len_m\",\"car_len_m\",\"car_len_m\",\"car_len_m\",\"car_len_m\",\"car_len_m\",\"car_len_m\",\"car_len_m\",\"car_len_m\",\"car_len_m\",\"car_len_m\",\"car_len_m\",\"car_len_m\",\"car_len_m\",\"car_len_m\",\"car_len_m\",\"car_len_m\",\"car_len_m\",\"car_len_m\",\"car_len_m\",\"car_len_m\",\"car_len_m\",\"car_len_m\",\"car_len_m\",\"car_len_m\",\"car_len_m\",\"car_len_m\",\"car_len_m\",\"car_len_m\",\"car_len_m\",\"car_len_m\",\"car_len_m\",\"car_len_m\",\"car_len_m\",\"car_len_m\",\"car_len_m\",\"car_len_m\",\"car_len_m\",\"car_len_m\",\"car_len_m\",\"car_len_m\",\"car_len_m\",\"car_len_m\",\"car_len_m\",\"car_len_m\",\"car_len_m\",\"car_len_m\",\"car_len_m\",\"car_len_m\",\"car_len_m\",\"car_len_m\",\"car_len_m\",\"car_len_m\",\"car_len_m\",\"car_len_m\",\"car_len_m\",\"car_len_m\",\"car_len_m\",\"car_len_m\",\"car_len_m\",\"car_len_m\",\"car_len_m\",\"car_len_m\",\"car_len_m\",\"car_len_m\",\"car_len_m\",\"car_len_m\",\"car_len_m\",\"car_len_m\",\"car_len_m\",\"car_len_m\",\"car_len_m\",\"car_len_m\",\"car_len_m\",\"car_len_m\",\"car_len_m\",\"car_len_m\",\"car_len_m\",\"car_len_m\",\"car_len_m\",\"car_len_m\",\"car_len_m\",\"car_len_m\",\"car_len_m\",\"car_len_m\",\"car_len_m\",\"car_len_m\",\"car_len_m\",\"car_len_m\",\"car_len_m\",\"car_len_m\",\"car_len_m\",\"car_len_m\",\"car_len_m\",\"car_len_m\",\"car_len_m\",\"car_len_m\",\"car_len_m\",\"car_len_m\",\"car_len_m\",\"car_len_m\",\"car_len_m\",\"car_len_m\",\"car_len_m\",\"car_len_m\",\"car_len_m\",\"car_len_m\",\"car_len_m\",\"car_len_m\",\"car_len_m\",\"car_len_m\",\"car_len_m\",\"car_len_m\",\"car_len_m\",\"car_len_m\",\"car_len_m\",\"car_len_m\",\"car_len_m\",\"car_len_m\",\"car_len_m\",\"car_len_m\",\"car_len_m\",\"car_len_m\",\"car_len_m\",\"car_len_m\",\"car_len_m\",\"car_len_m\",\"car_len_m\",\"car_len_m\",\"car_len_m\",\"car_len_m\",\"car_len_m\",\"car_len_m\",\"car_len_m\",\"car_len_m\",\"car_len_m\",\"car_len_m\",\"car_len_m\",\"car_len_m\",\"car_len_m\",\"car_len_m\",\"car_len_m\",\"car_len_m\",\"car_len_m\",\"car_len_m\",\"car_len_m\",\"car_len_m\",\"car_len_m\",\"car_len_m\",\"car_len_m\",\"car_len_m\",\"car_len_m\",\"car_len_m\",\"car_len_m\",\"car_len_m\",\"car_len_m\",\"car_len_m\",\"car_len_m\",\"car_len_m\",\"car_len_m\",\"car_len_m\",\"car_len_m\",\"car_len_m\",\"car_len_m\",\"car_len_m\",\"car_len_m\",\"car_len_m\",\"car_len_m\",\"car_len_m\",\"car_len_m\",\"car_len_m\",\"car_len_m\",\"car_len_m\",\"car_len_m\",\"car_len_m\",\"car_len_m\",\"car_len_m\",\"car_len_m\",\"car_len_m\",\"car_len_m\",\"car_len_m\",\"car_len_m\",\"car_len_m\",\"car_len_m\",\"car_len_m\",\"car_len_m\",\"car_len_m\",\"car_len_m\",\"car_len_m\",\"car_len_m\",\"car_len_m\",\"car_len_m\",\"car_len_m\",\"car_len_m\",\"car_len_m\",\"car_len_m\",\"car_len_m\",\"car_len_m\",\"car_len_m\",\"car_len_m\",\"car_len_m\",\"car_len_m\",\"car_len_m\",\"car_len_m\",\"car_len_m\",\"car_len_m\",\"car_len_m\",\"car_len_m\",\"car_len_m\",\"car_len_m\",\"car_len_m\",\"car_len_m\",\"car_len_m\",\"car_len_m\",\"car_len_m\",\"car_len_m\",\"car_len_m\",\"car_len_m\",\"car_len_m\",\"car_len_m\",\"car_len_m\",\"car_len_m\",\"car_len_m\",\"car_len_m\",\"car_len_m\",\"car_len_m\",\"car_len_m\",\"car_len_m\",\"car_len_m\",\"car_len_m\",\"car_len_m\",\"car_len_m\",\"car_len_m\",\"car_len_m\",\"car_len_m\",\"car_len_m\",\"car_len_m\",\"car_len_m\",\"car_len_m\",\"car_len_m\",\"car_len_m\",\"car_len_m\",\"car_len_m\",\"car_len_m\",\"car_len_m\",\"car_len_m\",\"car_len_m\",\"car_len_m\",\"car_len_m\",\"car_len_m\",\"car_len_m\",\"car_len_m\",\"car_len_m\",\"car_len_m\",\"car_len_m\",\"car_len_m\",\"car_len_m\",\"car_len_m\",\"car_len_m\",\"car_len_m\",\"car_len_m\",\"car_len_m\",\"car_len_m\",\"car_len_m\",\"car_len_m\",\"car_len_m\",\"car_len_m\",\"car_len_m\",\"car_len_m\",\"car_len_m\",\"car_len_m\",\"car_len_m\",\"car_len_m\",\"car_len_m\",\"car_len_m\",\"car_len_m\",\"car_len_m\",\"car_len_m\",\"car_len_m\",\"car_len_m\",\"car_len_m\",\"car_len_m\",\"car_len_m\",\"car_len_m\",\"car_len_m\",\"car_len_m\",\"car_len_m\",\"car_len_m\",\"car_len_m\",\"car_len_m\",\"car_len_m\",\"car_len_m\",\"car_len_m\",\"car_len_m\",\"car_len_m\",\"car_len_m\",\"car_len_m\",\"car_len_m\",\"car_len_m\",\"car_len_m\",\"car_len_m\",\"car_len_m\",\"car_len_m\",\"car_len_m\",\"car_len_m\",\"car_len_m\",\"car_len_m\",\"car_len_m\",\"car_len_m\",\"car_len_m\",\"car_len_m\",\"car_len_m\",\"car_len_m\",\"car_len_m\",\"car_len_m\",\"car_len_m\",\"car_len_m\",\"car_len_m\",\"car_len_m\",\"car_len_m\",\"car_len_m\",\"car_len_m\",\"car_len_m\",\"car_len_m\",\"car_len_m\",\"car_len_m\",\"car_len_m\",\"car_len_m\",\"car_len_m\",\"car_len_m\",\"car_len_m\",\"car_len_m\",\"car_len_m\",\"car_len_m\",\"car_len_m\",\"car_len_m\",\"car_len_m\",\"car_len_m\",\"car_len_m\",\"car_len_m\",\"car_len_m\",\"car_len_m\",\"car_len_m\",\"car_len_m\",\"car_len_m\",\"car_len_m\",\"car_len_m\",\"car_len_m\",\"car_len_m\",\"car_len_m\",\"car_len_m\",\"car_len_m\",\"car_len_m\",\"car_len_m\",\"car_len_m\",\"car_len_m\",\"car_len_m\",\"car_len_m\",\"car_len_m\",\"car_len_m\",\"car_len_m\",\"car_len_m\",\"car_len_m\",\"car_len_m\",\"car_len_m\",\"car_len_m\",\"car_len_m\",\"car_len_m\",\"car_len_m\",\"car_len_m\",\"car_len_m\",\"car_len_m\",\"car_len_m\",\"car_len_m\",\"car_len_m\",\"car_len_m\",\"car_len_m\",\"car_len_m\",\"car_len_m\",\"car_len_m\",\"car_len_m\",\"car_len_m\",\"car_len_m\",\"car_len_m\",\"car_len_m\",\"car_len_m\",\"car_len_m\",\"car_len_m\",\"car_len_m\",\"car_len_m\",\"car_len_m\",\"car_len_m\",\"car_len_m\",\"car_len_m\",\"car_len_m\",\"car_len_m\",\"car_len_m\",\"car_len_m\",\"car_len_m\",\"car_len_m\",\"car_len_m\",\"car_len_m\",\"car_len_m\",\"car_len_m\",\"car_len_m\",\"car_len_m\",\"car_len_m\",\"car_len_m\",\"car_len_m\",\"car_len_m\",\"car_len_m\",\"car_len_m\",\"car_len_m\",\"car_len_m\",\"car_len_m\",\"car_len_m\",\"car_len_m\",\"car_len_m\",\"car_len_m\",\"car_len_m\",\"car_len_m\",\"car_len_m\",\"car_len_m\",\"car_len_m\",\"car_len_m\",\"car_len_m\",\"car_len_m\",\"car_len_m\",\"car_len_m\",\"car_len_m\",\"car_len_m\",\"car_len_m\",\"car_len_m\",\"car_len_m\",\"car_len_m\",\"car_len_m\",\"car_len_m\",\"car_len_m\",\"car_len_m\",\"car_len_m\",\"car_len_m\",\"car_len_m\",\"car_len_m\",\"car_len_m\",\"car_len_m\",\"car_len_m\",\"car_len_m\",\"car_len_m\",\"car_len_m\",\"car_len_m\",\"car_len_m\",\"car_len_m\",\"car_len_m\",\"car_len_m\",\"car_len_m\",\"car_len_m\",\"car_len_m\",\"car_len_m\",\"car_len_m\",\"car_len_m\",\"car_len_m\",\"car_len_m\",\"car_len_m\",\"car_len_m\",\"car_len_m\",\"car_len_m\",\"car_len_m\",\"car_len_m\",\"car_len_m\",\"car_len_m\",\"car_len_m\",\"car_len_m\",\"car_len_m\",\"car_len_m\",\"car_len_m\",\"car_len_m\",\"car_len_m\",\"car_len_m\",\"car_len_m\",\"car_len_m\",\"car_len_m\",\"car_len_m\",\"car_len_m\",\"car_len_m\",\"car_len_m\",\"car_len_m\",\"car_len_m\",\"car_len_m\",\"car_len_m\",\"car_len_m\",\"car_len_m\",\"car_len_m\",\"car_len_m\",\"car_len_m\",\"car_len_m\",\"car_len_m\",\"car_len_m\",\"car_len_m\",\"car_len_m\",\"car_len_m\",\"car_len_m\",\"car_len_m\",\"car_len_m\",\"car_len_m\",\"car_len_m\",\"car_len_m\",\"car_len_m\",\"car_len_m\",\"car_len_m\",\"car_len_m\",\"car_len_m\",\"car_len_m\",\"car_len_m\",\"car_len_m\",\"car_len_m\",\"car_len_m\",\"car_len_m\",\"car_len_m\",\"car_len_m\",\"car_len_m\",\"car_len_m\",\"car_len_m\",\"car_len_m\",\"car_len_m\",\"car_len_m\",\"car_len_m\",\"car_len_m\",\"car_len_m\",\"car_len_m\",\"car_len_m\",\"car_len_m\",\"car_len_m\",\"car_len_m\",\"car_len_m\",\"car_len_m\",\"car_len_m\",\"car_len_m\",\"car_len_m\",\"car_len_m\",\"car_len_m\",\"car_len_m\",\"car_len_m\",\"car_len_m\",\"car_len_m\",\"car_len_m\",\"car_len_m\",\"car_len_m\",\"car_len_m\",\"car_len_m\",\"car_len_m\",\"car_len_m\",\"car_len_m\",\"car_len_m\",\"car_len_m\",\"car_len_m\",\"car_len_m\",\"car_len_m\",\"car_len_m\",\"car_len_m\",\"car_len_m\",\"car_len_m\",\"car_len_m\",\"car_len_m\",\"car_len_m\",\"car_len_m\",\"car_len_m\",\"car_len_m\",\"car_len_m\",\"car_len_m\",\"car_len_m\",\"car_len_m\",\"car_len_m\",\"car_len_m\",\"car_len_m\",\"car_len_m\",\"car_len_m\",\"car_len_m\",\"car_len_m\",\"car_len_m\",\"car_len_m\",\"car_len_m\",\"car_len_m\",\"car_len_m\",\"car_len_m\",\"car_len_m\",\"car_len_m\",\"car_len_m\",\"car_len_m\",\"car_len_m\",\"car_len_m\",\"car_len_m\",\"car_len_m\",\"car_len_m\",\"car_len_m\",\"car_len_m\",\"car_len_m\",\"car_len_m\",\"car_len_m\",\"car_len_m\",\"car_len_m\",\"car_len_m\",\"car_len_m\",\"car_len_m\",\"car_len_m\",\"car_len_m\",\"car_len_m\",\"car_len_m\",\"car_len_m\",\"car_len_m\",\"car_len_m\",\"car_len_m\",\"car_len_m\",\"car_len_m\",\"car_len_m\",\"car_len_m\",\"car_len_m\",\"car_len_m\",\"car_len_m\",\"car_len_m\",\"car_len_m\",\"car_len_m\",\"car_len_m\",\"car_len_m\",\"car_len_m\",\"car_len_m\",\"car_len_m\",\"car_len_m\",\"car_len_m\",\"car_len_m\",\"car_len_m\",\"car_len_m\",\"car_len_m\",\"car_len_m\",\"car_len_m\",\"car_len_m\",\"car_len_m\",\"car_len_m\",\"car_len_m\",\"car_len_m\",\"car_len_m\",\"car_len_m\",\"car_len_m\",\"car_len_m\",\"car_len_m\",\"car_len_m\",\"car_len_m\",\"car_len_m\",\"car_len_m\",\"car_len_m\",\"car_len_m\",\"car_len_m\",\"car_len_m\",\"car_len_m\",\"car_len_m\",\"car_len_m\",\"car_len_m\",\"car_len_m\",\"car_len_m\",\"car_len_m\",\"car_len_m\",\"car_len_m\",\"car_len_m\",\"car_len_m\",\"car_len_m\",\"car_len_m\",\"car_len_m\",\"car_len_m\",\"car_len_m\",\"car_len_m\",\"car_len_m\",\"car_len_m\",\"car_len_m\",\"car_len_m\",\"car_len_m\",\"car_len_m\",\"car_len_m\",\"car_len_m\",\"car_len_m\",\"car_len_m\",\"car_len_m\",\"car_len_m\",\"car_len_m\",\"car_len_m\",\"car_len_m\",\"car_len_m\",\"car_len_m\",\"car_len_m\",\"car_len_m\",\"car_len_m\",\"car_len_m\",\"car_len_m\",\"car_len_m\",\"car_len_m\",\"car_len_m\",\"car_len_m\",\"car_len_m\",\"car_len_m\",\"car_len_m\",\"car_len_m\",\"car_len_m\",\"car_len_m\",\"car_len_m\",\"car_len_m\",\"car_len_m\",\"car_len_m\",\"car_len_m\",\"car_len_m\",\"car_len_m\",\"car_len_m\",\"car_len_m\",\"car_len_m\",\"car_len_m\",\"car_len_m\",\"car_len_m\",\"car_len_m\",\"car_len_m\",\"car_len_m\",\"car_len_m\",\"car_len_m\",\"car_len_m\",\"car_len_m\",\"car_len_m\",\"car_len_m\",\"car_len_m\",\"car_len_m\",\"car_len_m\",\"car_len_m\",\"car_len_m\",\"car_len_m\",\"car_len_m\",\"car_len_m\",\"car_len_m\",\"car_len_m\",\"car_len_m\",\"car_len_m\",\"car_len_m\",\"car_len_m\",\"car_len_m\",\"car_len_m\",\"car_len_m\",\"car_len_m\",\"car_len_m\",\"car_len_m\",\"car_len_m\",\"car_len_m\",\"car_len_m\",\"car_len_m\",\"car_len_m\",\"car_len_m\",\"car_len_m\",\"car_len_m\",\"car_len_m\",\"car_len_m\",\"car_len_m\",\"car_len_m\",\"car_len_m\",\"car_len_m\",\"car_len_m\",\"car_len_m\",\"car_len_m\",\"car_len_m\",\"car_len_m\",\"car_len_m\",\"car_len_m\",\"car_len_m\",\"car_len_m\",\"car_len_m\",\"car_len_m\",\"car_len_m\",\"car_len_m\",\"car_len_m\",\"car_len_m\",\"car_len_m\",\"car_len_m\",\"car_len_m\",\"car_len_m\",\"car_len_m\",\"car_len_m\",\"car_len_m\",\"car_len_m\",\"car_len_m\",\"car_len_m\",\"car_len_m\",\"car_len_m\",\"car_len_m\",\"car_len_m\",\"car_len_m\",\"car_len_m\",\"car_len_m\",\"car_len_m\",\"car_len_m\",\"car_len_m\",\"car_len_m\",\"car_len_m\",\"car_len_m\",\"car_len_m\",\"car_len_m\",\"car_len_m\",\"car_len_m\",\"car_len_m\",\"car_len_m\",\"car_len_m\",\"car_len_m\",\"car_len_m\",\"car_len_m\",\"car_len_m\",\"car_len_m\",\"car_len_m\",\"car_len_m\",\"car_len_m\",\"car_len_m\",\"car_len_m\",\"car_len_m\",\"car_len_m\",\"car_len_m\",\"car_len_m\",\"car_len_m\",\"car_len_m\",\"car_len_m\",\"car_len_m\",\"car_len_m\",\"car_len_m\",\"car_len_m\",\"car_len_m\",\"car_len_m\",\"car_len_m\",\"car_len_m\",\"car_len_m\",\"car_len_m\",\"car_len_m\",\"car_len_m\",\"car_len_m\",\"car_len_m\",\"car_len_m\",\"car_len_m\",\"car_len_m\",\"car_len_m\",\"car_len_m\",\"car_len_m\",\"footway_len_m\",\"footway_len_m\",\"footway_len_m\",\"footway_len_m\",\"footway_len_m\",\"footway_len_m\",\"footway_len_m\",\"footway_len_m\",\"footway_len_m\",\"footway_len_m\",\"footway_len_m\",\"footway_len_m\",\"footway_len_m\",\"footway_len_m\",\"footway_len_m\",\"footway_len_m\",\"footway_len_m\",\"footway_len_m\",\"footway_len_m\",\"footway_len_m\",\"footway_len_m\",\"footway_len_m\",\"footway_len_m\",\"footway_len_m\",\"footway_len_m\",\"footway_len_m\",\"footway_len_m\",\"footway_len_m\",\"footway_len_m\",\"footway_len_m\",\"footway_len_m\",\"footway_len_m\",\"footway_len_m\",\"footway_len_m\",\"footway_len_m\",\"footway_len_m\",\"footway_len_m\",\"footway_len_m\",\"footway_len_m\",\"footway_len_m\",\"footway_len_m\",\"footway_len_m\",\"footway_len_m\",\"footway_len_m\",\"footway_len_m\",\"footway_len_m\",\"footway_len_m\",\"footway_len_m\",\"footway_len_m\",\"footway_len_m\",\"footway_len_m\",\"footway_len_m\",\"footway_len_m\",\"footway_len_m\",\"footway_len_m\",\"footway_len_m\",\"footway_len_m\",\"footway_len_m\",\"footway_len_m\",\"footway_len_m\",\"footway_len_m\",\"footway_len_m\",\"footway_len_m\",\"footway_len_m\",\"footway_len_m\",\"footway_len_m\",\"footway_len_m\",\"footway_len_m\",\"footway_len_m\",\"footway_len_m\",\"footway_len_m\",\"footway_len_m\",\"footway_len_m\",\"footway_len_m\",\"footway_len_m\",\"footway_len_m\",\"footway_len_m\",\"footway_len_m\",\"footway_len_m\",\"footway_len_m\",\"footway_len_m\",\"footway_len_m\",\"footway_len_m\",\"footway_len_m\",\"footway_len_m\",\"footway_len_m\",\"footway_len_m\",\"footway_len_m\",\"footway_len_m\",\"footway_len_m\",\"footway_len_m\",\"footway_len_m\",\"footway_len_m\",\"footway_len_m\",\"footway_len_m\",\"footway_len_m\",\"footway_len_m\",\"footway_len_m\",\"footway_len_m\",\"footway_len_m\",\"footway_len_m\",\"footway_len_m\",\"footway_len_m\",\"footway_len_m\",\"footway_len_m\",\"footway_len_m\",\"footway_len_m\",\"footway_len_m\",\"footway_len_m\",\"footway_len_m\",\"footway_len_m\",\"footway_len_m\",\"footway_len_m\",\"footway_len_m\",\"footway_len_m\",\"footway_len_m\",\"footway_len_m\",\"footway_len_m\",\"footway_len_m\",\"footway_len_m\",\"footway_len_m\",\"footway_len_m\",\"footway_len_m\",\"footway_len_m\",\"footway_len_m\",\"footway_len_m\",\"footway_len_m\",\"footway_len_m\",\"footway_len_m\",\"footway_len_m\",\"footway_len_m\",\"footway_len_m\",\"footway_len_m\",\"footway_len_m\",\"footway_len_m\",\"footway_len_m\",\"footway_len_m\",\"footway_len_m\",\"footway_len_m\",\"footway_len_m\",\"footway_len_m\",\"footway_len_m\",\"footway_len_m\",\"footway_len_m\",\"footway_len_m\",\"footway_len_m\",\"footway_len_m\",\"footway_len_m\",\"footway_len_m\",\"footway_len_m\",\"footway_len_m\",\"footway_len_m\",\"footway_len_m\",\"footway_len_m\",\"footway_len_m\",\"footway_len_m\",\"footway_len_m\",\"footway_len_m\",\"footway_len_m\",\"footway_len_m\",\"footway_len_m\",\"footway_len_m\",\"footway_len_m\",\"footway_len_m\",\"footway_len_m\",\"footway_len_m\",\"footway_len_m\",\"footway_len_m\",\"footway_len_m\",\"footway_len_m\",\"footway_len_m\",\"footway_len_m\",\"footway_len_m\",\"footway_len_m\",\"footway_len_m\",\"footway_len_m\",\"footway_len_m\",\"footway_len_m\",\"footway_len_m\",\"footway_len_m\",\"footway_len_m\",\"footway_len_m\",\"footway_len_m\",\"footway_len_m\",\"footway_len_m\",\"footway_len_m\",\"footway_len_m\",\"footway_len_m\",\"footway_len_m\",\"footway_len_m\",\"footway_len_m\",\"footway_len_m\",\"footway_len_m\",\"footway_len_m\",\"footway_len_m\",\"footway_len_m\",\"footway_len_m\",\"footway_len_m\",\"footway_len_m\",\"footway_len_m\",\"footway_len_m\",\"footway_len_m\",\"footway_len_m\",\"footway_len_m\",\"footway_len_m\",\"footway_len_m\",\"footway_len_m\",\"footway_len_m\",\"footway_len_m\",\"footway_len_m\",\"footway_len_m\",\"footway_len_m\",\"footway_len_m\",\"footway_len_m\",\"footway_len_m\",\"footway_len_m\",\"footway_len_m\",\"footway_len_m\",\"footway_len_m\",\"footway_len_m\",\"footway_len_m\",\"footway_len_m\",\"footway_len_m\",\"footway_len_m\",\"footway_len_m\",\"footway_len_m\",\"footway_len_m\",\"footway_len_m\",\"footway_len_m\",\"footway_len_m\",\"footway_len_m\",\"footway_len_m\",\"footway_len_m\",\"footway_len_m\",\"footway_len_m\",\"footway_len_m\",\"footway_len_m\",\"footway_len_m\",\"footway_len_m\",\"footway_len_m\",\"footway_len_m\",\"footway_len_m\",\"footway_len_m\",\"footway_len_m\",\"footway_len_m\",\"footway_len_m\",\"footway_len_m\",\"footway_len_m\",\"footway_len_m\",\"footway_len_m\",\"footway_len_m\",\"footway_len_m\",\"footway_len_m\",\"footway_len_m\",\"footway_len_m\",\"footway_len_m\",\"footway_len_m\",\"footway_len_m\",\"footway_len_m\",\"footway_len_m\",\"footway_len_m\",\"footway_len_m\",\"footway_len_m\",\"footway_len_m\",\"footway_len_m\",\"footway_len_m\",\"footway_len_m\",\"footway_len_m\",\"footway_len_m\",\"footway_len_m\",\"footway_len_m\",\"footway_len_m\",\"footway_len_m\",\"footway_len_m\",\"footway_len_m\",\"footway_len_m\",\"footway_len_m\",\"footway_len_m\",\"footway_len_m\",\"footway_len_m\",\"footway_len_m\",\"footway_len_m\",\"footway_len_m\",\"footway_len_m\",\"footway_len_m\",\"footway_len_m\",\"footway_len_m\",\"footway_len_m\",\"footway_len_m\",\"footway_len_m\",\"footway_len_m\",\"footway_len_m\",\"footway_len_m\",\"footway_len_m\",\"footway_len_m\",\"footway_len_m\",\"footway_len_m\",\"footway_len_m\",\"footway_len_m\",\"footway_len_m\",\"footway_len_m\",\"footway_len_m\",\"footway_len_m\",\"footway_len_m\",\"footway_len_m\",\"footway_len_m\",\"footway_len_m\",\"footway_len_m\",\"footway_len_m\",\"footway_len_m\",\"footway_len_m\",\"footway_len_m\",\"footway_len_m\",\"footway_len_m\",\"footway_len_m\",\"footway_len_m\",\"footway_len_m\",\"footway_len_m\",\"footway_len_m\",\"footway_len_m\",\"footway_len_m\",\"footway_len_m\",\"footway_len_m\",\"footway_len_m\",\"footway_len_m\",\"footway_len_m\",\"footway_len_m\",\"footway_len_m\",\"footway_len_m\",\"footway_len_m\",\"footway_len_m\",\"footway_len_m\",\"footway_len_m\",\"footway_len_m\",\"footway_len_m\",\"footway_len_m\",\"footway_len_m\",\"footway_len_m\",\"footway_len_m\",\"footway_len_m\",\"footway_len_m\",\"footway_len_m\",\"footway_len_m\",\"footway_len_m\",\"footway_len_m\",\"footway_len_m\",\"footway_len_m\",\"footway_len_m\",\"footway_len_m\",\"footway_len_m\",\"footway_len_m\",\"footway_len_m\",\"footway_len_m\",\"footway_len_m\",\"footway_len_m\",\"footway_len_m\",\"footway_len_m\",\"footway_len_m\",\"footway_len_m\",\"footway_len_m\",\"footway_len_m\",\"footway_len_m\",\"footway_len_m\",\"footway_len_m\",\"footway_len_m\",\"footway_len_m\",\"footway_len_m\",\"footway_len_m\",\"footway_len_m\",\"footway_len_m\",\"footway_len_m\",\"footway_len_m\",\"footway_len_m\",\"footway_len_m\",\"footway_len_m\",\"footway_len_m\",\"footway_len_m\",\"footway_len_m\",\"footway_len_m\",\"footway_len_m\",\"footway_len_m\",\"footway_len_m\",\"footway_len_m\",\"footway_len_m\",\"footway_len_m\",\"footway_len_m\",\"footway_len_m\",\"footway_len_m\",\"footway_len_m\",\"footway_len_m\",\"footway_len_m\",\"footway_len_m\",\"footway_len_m\",\"footway_len_m\",\"footway_len_m\",\"footway_len_m\",\"footway_len_m\",\"footway_len_m\",\"footway_len_m\",\"footway_len_m\",\"footway_len_m\",\"footway_len_m\",\"footway_len_m\",\"footway_len_m\",\"footway_len_m\",\"footway_len_m\",\"footway_len_m\",\"footway_len_m\",\"footway_len_m\",\"footway_len_m\",\"footway_len_m\",\"footway_len_m\",\"footway_len_m\",\"footway_len_m\",\"footway_len_m\",\"footway_len_m\",\"footway_len_m\",\"footway_len_m\",\"footway_len_m\",\"footway_len_m\",\"footway_len_m\",\"footway_len_m\",\"footway_len_m\",\"footway_len_m\",\"footway_len_m\",\"footway_len_m\",\"footway_len_m\",\"footway_len_m\",\"footway_len_m\",\"footway_len_m\",\"footway_len_m\",\"footway_len_m\",\"footway_len_m\",\"footway_len_m\",\"footway_len_m\",\"footway_len_m\",\"footway_len_m\",\"footway_len_m\",\"footway_len_m\",\"footway_len_m\",\"footway_len_m\",\"footway_len_m\",\"footway_len_m\",\"footway_len_m\",\"footway_len_m\",\"footway_len_m\",\"footway_len_m\",\"footway_len_m\",\"footway_len_m\",\"footway_len_m\",\"footway_len_m\",\"footway_len_m\",\"footway_len_m\",\"footway_len_m\",\"footway_len_m\",\"footway_len_m\",\"footway_len_m\",\"footway_len_m\",\"footway_len_m\",\"footway_len_m\",\"footway_len_m\",\"footway_len_m\",\"footway_len_m\",\"footway_len_m\",\"footway_len_m\",\"footway_len_m\",\"footway_len_m\",\"footway_len_m\",\"footway_len_m\",\"footway_len_m\",\"footway_len_m\",\"footway_len_m\",\"footway_len_m\",\"footway_len_m\",\"footway_len_m\",\"footway_len_m\",\"footway_len_m\",\"footway_len_m\",\"footway_len_m\",\"footway_len_m\",\"footway_len_m\",\"footway_len_m\",\"footway_len_m\",\"footway_len_m\",\"footway_len_m\",\"footway_len_m\",\"footway_len_m\",\"footway_len_m\",\"footway_len_m\",\"footway_len_m\",\"footway_len_m\",\"footway_len_m\",\"footway_len_m\",\"footway_len_m\",\"footway_len_m\",\"footway_len_m\",\"footway_len_m\",\"footway_len_m\",\"footway_len_m\",\"footway_len_m\",\"footway_len_m\",\"footway_len_m\",\"footway_len_m\",\"footway_len_m\",\"footway_len_m\",\"footway_len_m\",\"footway_len_m\",\"footway_len_m\",\"footway_len_m\",\"footway_len_m\",\"footway_len_m\",\"footway_len_m\",\"footway_len_m\",\"footway_len_m\",\"footway_len_m\",\"footway_len_m\",\"footway_len_m\",\"footway_len_m\",\"footway_len_m\",\"footway_len_m\",\"footway_len_m\",\"footway_len_m\",\"footway_len_m\",\"footway_len_m\",\"footway_len_m\",\"footway_len_m\",\"footway_len_m\",\"footway_len_m\",\"footway_len_m\",\"footway_len_m\",\"footway_len_m\",\"footway_len_m\",\"footway_len_m\",\"footway_len_m\",\"footway_len_m\",\"footway_len_m\",\"footway_len_m\",\"footway_len_m\",\"footway_len_m\",\"footway_len_m\",\"footway_len_m\",\"footway_len_m\",\"footway_len_m\",\"footway_len_m\",\"footway_len_m\",\"footway_len_m\",\"footway_len_m\",\"footway_len_m\",\"footway_len_m\",\"footway_len_m\",\"footway_len_m\",\"footway_len_m\",\"footway_len_m\",\"footway_len_m\",\"footway_len_m\",\"footway_len_m\",\"footway_len_m\",\"footway_len_m\",\"footway_len_m\",\"footway_len_m\",\"footway_len_m\",\"footway_len_m\",\"footway_len_m\",\"footway_len_m\",\"footway_len_m\",\"footway_len_m\",\"footway_len_m\",\"footway_len_m\",\"footway_len_m\",\"footway_len_m\",\"footway_len_m\",\"footway_len_m\",\"footway_len_m\",\"footway_len_m\",\"footway_len_m\",\"footway_len_m\",\"footway_len_m\",\"footway_len_m\",\"footway_len_m\",\"footway_len_m\",\"footway_len_m\",\"footway_len_m\",\"footway_len_m\",\"footway_len_m\",\"footway_len_m\",\"footway_len_m\",\"footway_len_m\",\"footway_len_m\",\"footway_len_m\",\"footway_len_m\",\"footway_len_m\",\"footway_len_m\",\"footway_len_m\",\"footway_len_m\",\"footway_len_m\",\"footway_len_m\",\"footway_len_m\",\"footway_len_m\",\"footway_len_m\",\"footway_len_m\",\"footway_len_m\",\"footway_len_m\",\"footway_len_m\",\"footway_len_m\",\"footway_len_m\",\"footway_len_m\",\"footway_len_m\",\"footway_len_m\",\"footway_len_m\",\"footway_len_m\",\"footway_len_m\",\"footway_len_m\",\"footway_len_m\",\"footway_len_m\",\"footway_len_m\",\"footway_len_m\",\"footway_len_m\",\"footway_len_m\",\"footway_len_m\",\"footway_len_m\",\"footway_len_m\",\"footway_len_m\",\"footway_len_m\",\"footway_len_m\",\"footway_len_m\",\"footway_len_m\",\"footway_len_m\",\"footway_len_m\",\"footway_len_m\",\"footway_len_m\",\"footway_len_m\",\"footway_len_m\",\"footway_len_m\",\"footway_len_m\",\"footway_len_m\",\"footway_len_m\",\"footway_len_m\",\"footway_len_m\",\"footway_len_m\",\"footway_len_m\",\"footway_len_m\",\"footway_len_m\",\"footway_len_m\",\"footway_len_m\",\"footway_len_m\",\"footway_len_m\",\"footway_len_m\",\"footway_len_m\",\"footway_len_m\",\"footway_len_m\",\"footway_len_m\",\"footway_len_m\",\"footway_len_m\",\"footway_len_m\",\"footway_len_m\",\"footway_len_m\",\"footway_len_m\",\"footway_len_m\",\"footway_len_m\",\"footway_len_m\",\"footway_len_m\",\"footway_len_m\",\"footway_len_m\",\"footway_len_m\",\"footway_len_m\",\"footway_len_m\",\"footway_len_m\",\"footway_len_m\",\"footway_len_m\",\"footway_len_m\",\"footway_len_m\",\"footway_len_m\",\"footway_len_m\",\"footway_len_m\",\"footway_len_m\",\"footway_len_m\",\"footway_len_m\",\"footway_len_m\",\"footway_len_m\",\"footway_len_m\",\"footway_len_m\",\"footway_len_m\",\"footway_len_m\",\"footway_len_m\",\"footway_len_m\",\"footway_len_m\",\"footway_len_m\",\"footway_len_m\",\"footway_len_m\",\"footway_len_m\",\"footway_len_m\",\"footway_len_m\",\"footway_len_m\",\"footway_len_m\",\"footway_len_m\",\"footway_len_m\",\"footway_len_m\",\"footway_len_m\",\"footway_len_m\",\"footway_len_m\",\"footway_len_m\",\"footway_len_m\",\"footway_len_m\",\"footway_len_m\",\"footway_len_m\",\"footway_len_m\",\"footway_len_m\",\"footway_len_m\",\"footway_len_m\",\"footway_len_m\",\"footway_len_m\",\"footway_len_m\",\"footway_len_m\",\"footway_len_m\",\"footway_len_m\",\"footway_len_m\",\"footway_len_m\",\"footway_len_m\",\"footway_len_m\",\"footway_len_m\",\"footway_len_m\",\"footway_len_m\",\"footway_len_m\",\"footway_len_m\",\"footway_len_m\",\"footway_len_m\",\"footway_len_m\",\"footway_len_m\",\"footway_len_m\",\"footway_len_m\",\"footway_len_m\",\"footway_len_m\",\"footway_len_m\",\"footway_len_m\",\"footway_len_m\",\"footway_len_m\",\"footway_len_m\",\"footway_len_m\",\"footway_len_m\",\"footway_len_m\",\"footway_len_m\",\"footway_len_m\",\"footway_len_m\",\"footway_len_m\",\"footway_len_m\",\"footway_len_m\",\"footway_len_m\",\"footway_len_m\",\"footway_len_m\",\"footway_len_m\",\"footway_len_m\",\"footway_len_m\",\"footway_len_m\",\"footway_len_m\",\"footway_len_m\",\"footway_len_m\",\"footway_len_m\",\"footway_len_m\",\"footway_len_m\",\"footway_len_m\",\"footway_len_m\",\"footway_len_m\",\"footway_len_m\",\"footway_len_m\",\"footway_len_m\",\"footway_len_m\",\"footway_len_m\",\"footway_len_m\",\"footway_len_m\",\"footway_len_m\",\"footway_len_m\",\"footway_len_m\",\"footway_len_m\",\"footway_len_m\",\"footway_len_m\",\"footway_len_m\",\"footway_len_m\",\"footway_len_m\",\"footway_len_m\",\"footway_len_m\",\"footway_len_m\",\"footway_len_m\",\"footway_len_m\",\"footway_len_m\",\"footway_len_m\",\"footway_len_m\",\"footway_len_m\",\"footway_len_m\",\"footway_len_m\",\"footway_len_m\",\"footway_len_m\",\"footway_len_m\",\"footway_len_m\",\"footway_len_m\",\"footway_len_m\",\"footway_len_m\",\"footway_len_m\",\"footway_len_m\",\"footway_len_m\",\"footway_len_m\",\"footway_len_m\",\"footway_len_m\",\"footway_len_m\",\"footway_len_m\",\"footway_len_m\",\"footway_len_m\",\"footway_len_m\",\"footway_len_m\",\"footway_len_m\",\"footway_len_m\",\"footway_len_m\",\"footway_len_m\",\"footway_len_m\",\"footway_len_m\",\"footway_len_m\",\"footway_len_m\",\"footway_len_m\",\"footway_len_m\",\"footway_len_m\",\"footway_len_m\",\"footway_len_m\",\"footway_len_m\",\"footway_len_m\",\"footway_len_m\",\"footway_len_m\",\"footway_len_m\",\"footway_len_m\",\"footway_len_m\",\"footway_len_m\",\"footway_len_m\",\"footway_len_m\",\"footway_len_m\",\"footway_len_m\",\"footway_len_m\",\"footway_len_m\",\"footway_len_m\",\"footway_len_m\",\"footway_len_m\",\"footway_len_m\",\"footway_len_m\",\"footway_len_m\",\"footway_len_m\",\"footway_len_m\",\"footway_len_m\",\"footway_len_m\",\"footway_len_m\",\"footway_len_m\",\"footway_len_m\",\"footway_len_m\",\"footway_len_m\",\"footway_len_m\",\"footway_len_m\",\"footway_len_m\",\"footway_len_m\",\"footway_len_m\",\"footway_len_m\",\"footway_len_m\",\"footway_len_m\",\"footway_len_m\",\"footway_len_m\",\"footway_len_m\",\"footway_len_m\",\"footway_len_m\",\"footway_len_m\",\"footway_len_m\",\"footway_len_m\",\"footway_len_m\",\"footway_len_m\",\"footway_len_m\",\"footway_len_m\",\"footway_len_m\",\"footway_len_m\",\"footway_len_m\",\"footway_len_m\",\"footway_len_m\",\"footway_len_m\",\"footway_len_m\",\"footway_len_m\",\"footway_len_m\",\"footway_len_m\",\"footway_len_m\",\"footway_len_m\",\"footway_len_m\",\"footway_len_m\",\"footway_len_m\",\"footway_len_m\",\"footway_len_m\",\"footway_len_m\",\"footway_len_m\",\"footway_len_m\",\"footway_len_m\",\"footway_len_m\",\"footway_len_m\",\"footway_len_m\",\"footway_len_m\",\"footway_len_m\",\"footway_len_m\",\"footway_len_m\",\"footway_len_m\",\"footway_len_m\",\"footway_len_m\",\"footway_len_m\",\"footway_len_m\",\"footway_len_m\",\"footway_len_m\",\"footway_len_m\",\"footway_len_m\",\"footway_len_m\",\"footway_len_m\",\"footway_len_m\",\"footway_len_m\",\"footway_len_m\",\"footway_len_m\",\"footway_len_m\",\"footway_len_m\",\"footway_len_m\",\"footway_len_m\",\"footway_len_m\",\"footway_len_m\",\"footway_len_m\",\"footway_len_m\",\"footway_len_m\",\"footway_len_m\",\"footway_len_m\",\"footway_len_m\",\"footway_len_m\",\"footway_len_m\",\"footway_len_m\",\"footway_len_m\",\"footway_len_m\",\"footway_len_m\",\"footway_len_m\",\"footway_len_m\",\"footway_len_m\",\"footway_len_m\",\"footway_len_m\",\"footway_len_m\",\"footway_len_m\",\"footway_len_m\",\"footway_len_m\",\"footway_len_m\",\"footway_len_m\",\"footway_len_m\",\"footway_len_m\",\"footway_len_m\",\"footway_len_m\",\"footway_len_m\",\"footway_len_m\",\"footway_len_m\",\"footway_len_m\",\"footway_len_m\",\"footway_len_m\",\"footway_len_m\",\"footway_len_m\",\"footway_len_m\",\"footway_len_m\",\"footway_len_m\",\"footway_len_m\",\"footway_len_m\",\"footway_len_m\",\"footway_len_m\",\"footway_len_m\",\"footway_len_m\",\"footway_len_m\",\"footway_len_m\",\"footway_len_m\",\"footway_len_m\",\"footway_len_m\",\"footway_len_m\",\"footway_len_m\",\"footway_len_m\",\"footway_len_m\",\"footway_len_m\",\"footway_len_m\",\"footway_len_m\",\"footway_len_m\",\"footway_len_m\",\"footway_len_m\",\"footway_len_m\",\"footway_len_m\",\"footway_len_m\",\"footway_len_m\",\"footway_len_m\",\"footway_len_m\",\"footway_len_m\",\"footway_len_m\",\"footway_len_m\",\"footway_len_m\",\"footway_len_m\",\"footway_len_m\",\"footway_len_m\",\"footway_len_m\",\"footway_len_m\",\"footway_len_m\",\"footway_len_m\",\"footway_len_m\",\"footway_len_m\",\"footway_len_m\",\"footway_len_m\",\"footway_len_m\",\"sidewalk_len_m\",\"sidewalk_len_m\",\"sidewalk_len_m\",\"sidewalk_len_m\",\"sidewalk_len_m\",\"sidewalk_len_m\",\"sidewalk_len_m\",\"sidewalk_len_m\",\"sidewalk_len_m\",\"sidewalk_len_m\",\"sidewalk_len_m\",\"sidewalk_len_m\",\"sidewalk_len_m\",\"sidewalk_len_m\",\"sidewalk_len_m\",\"sidewalk_len_m\",\"sidewalk_len_m\",\"sidewalk_len_m\",\"sidewalk_len_m\",\"sidewalk_len_m\",\"sidewalk_len_m\",\"sidewalk_len_m\",\"sidewalk_len_m\",\"sidewalk_len_m\",\"sidewalk_len_m\",\"sidewalk_len_m\",\"sidewalk_len_m\",\"sidewalk_len_m\",\"sidewalk_len_m\",\"sidewalk_len_m\",\"sidewalk_len_m\",\"sidewalk_len_m\",\"sidewalk_len_m\",\"sidewalk_len_m\",\"sidewalk_len_m\",\"sidewalk_len_m\",\"sidewalk_len_m\",\"sidewalk_len_m\",\"sidewalk_len_m\",\"sidewalk_len_m\",\"sidewalk_len_m\",\"sidewalk_len_m\",\"sidewalk_len_m\",\"sidewalk_len_m\",\"sidewalk_len_m\",\"sidewalk_len_m\",\"sidewalk_len_m\",\"sidewalk_len_m\",\"sidewalk_len_m\",\"sidewalk_len_m\",\"sidewalk_len_m\",\"sidewalk_len_m\",\"sidewalk_len_m\",\"sidewalk_len_m\",\"sidewalk_len_m\",\"sidewalk_len_m\",\"sidewalk_len_m\",\"sidewalk_len_m\",\"sidewalk_len_m\",\"sidewalk_len_m\",\"sidewalk_len_m\",\"sidewalk_len_m\",\"sidewalk_len_m\",\"sidewalk_len_m\",\"sidewalk_len_m\",\"sidewalk_len_m\",\"sidewalk_len_m\",\"sidewalk_len_m\",\"sidewalk_len_m\",\"sidewalk_len_m\",\"sidewalk_len_m\",\"sidewalk_len_m\",\"sidewalk_len_m\",\"sidewalk_len_m\",\"sidewalk_len_m\",\"sidewalk_len_m\",\"sidewalk_len_m\",\"sidewalk_len_m\",\"sidewalk_len_m\",\"sidewalk_len_m\",\"sidewalk_len_m\",\"sidewalk_len_m\",\"sidewalk_len_m\",\"sidewalk_len_m\",\"sidewalk_len_m\",\"sidewalk_len_m\",\"sidewalk_len_m\",\"sidewalk_len_m\",\"sidewalk_len_m\",\"sidewalk_len_m\",\"sidewalk_len_m\",\"sidewalk_len_m\",\"sidewalk_len_m\",\"sidewalk_len_m\",\"sidewalk_len_m\",\"sidewalk_len_m\",\"sidewalk_len_m\",\"sidewalk_len_m\",\"sidewalk_len_m\",\"sidewalk_len_m\",\"sidewalk_len_m\",\"sidewalk_len_m\",\"sidewalk_len_m\",\"sidewalk_len_m\",\"sidewalk_len_m\",\"sidewalk_len_m\",\"sidewalk_len_m\",\"sidewalk_len_m\",\"sidewalk_len_m\",\"sidewalk_len_m\",\"sidewalk_len_m\",\"sidewalk_len_m\",\"sidewalk_len_m\",\"sidewalk_len_m\",\"sidewalk_len_m\",\"sidewalk_len_m\",\"sidewalk_len_m\",\"sidewalk_len_m\",\"sidewalk_len_m\",\"sidewalk_len_m\",\"sidewalk_len_m\",\"sidewalk_len_m\",\"sidewalk_len_m\",\"sidewalk_len_m\",\"sidewalk_len_m\",\"sidewalk_len_m\",\"sidewalk_len_m\",\"sidewalk_len_m\",\"sidewalk_len_m\",\"sidewalk_len_m\",\"sidewalk_len_m\",\"sidewalk_len_m\",\"sidewalk_len_m\",\"sidewalk_len_m\",\"sidewalk_len_m\",\"sidewalk_len_m\",\"sidewalk_len_m\",\"sidewalk_len_m\",\"sidewalk_len_m\",\"sidewalk_len_m\",\"sidewalk_len_m\",\"sidewalk_len_m\",\"sidewalk_len_m\",\"sidewalk_len_m\",\"sidewalk_len_m\",\"sidewalk_len_m\",\"sidewalk_len_m\",\"sidewalk_len_m\",\"sidewalk_len_m\",\"sidewalk_len_m\",\"sidewalk_len_m\",\"sidewalk_len_m\",\"sidewalk_len_m\",\"sidewalk_len_m\",\"sidewalk_len_m\",\"sidewalk_len_m\",\"sidewalk_len_m\",\"sidewalk_len_m\",\"sidewalk_len_m\",\"sidewalk_len_m\",\"sidewalk_len_m\",\"sidewalk_len_m\",\"sidewalk_len_m\",\"sidewalk_len_m\",\"sidewalk_len_m\",\"sidewalk_len_m\",\"sidewalk_len_m\",\"sidewalk_len_m\",\"sidewalk_len_m\",\"sidewalk_len_m\",\"sidewalk_len_m\",\"sidewalk_len_m\",\"sidewalk_len_m\",\"sidewalk_len_m\",\"sidewalk_len_m\",\"sidewalk_len_m\",\"sidewalk_len_m\",\"sidewalk_len_m\",\"sidewalk_len_m\",\"sidewalk_len_m\",\"sidewalk_len_m\",\"sidewalk_len_m\",\"sidewalk_len_m\",\"sidewalk_len_m\",\"sidewalk_len_m\",\"sidewalk_len_m\",\"sidewalk_len_m\",\"sidewalk_len_m\",\"sidewalk_len_m\",\"sidewalk_len_m\",\"sidewalk_len_m\",\"sidewalk_len_m\",\"sidewalk_len_m\",\"sidewalk_len_m\",\"sidewalk_len_m\",\"sidewalk_len_m\",\"sidewalk_len_m\",\"sidewalk_len_m\",\"sidewalk_len_m\",\"sidewalk_len_m\",\"sidewalk_len_m\",\"sidewalk_len_m\",\"sidewalk_len_m\",\"sidewalk_len_m\",\"sidewalk_len_m\",\"sidewalk_len_m\",\"sidewalk_len_m\",\"sidewalk_len_m\",\"sidewalk_len_m\",\"sidewalk_len_m\",\"sidewalk_len_m\",\"sidewalk_len_m\",\"sidewalk_len_m\",\"sidewalk_len_m\",\"sidewalk_len_m\",\"sidewalk_len_m\",\"sidewalk_len_m\",\"sidewalk_len_m\",\"sidewalk_len_m\",\"sidewalk_len_m\",\"sidewalk_len_m\",\"sidewalk_len_m\",\"sidewalk_len_m\",\"sidewalk_len_m\",\"sidewalk_len_m\",\"sidewalk_len_m\",\"sidewalk_len_m\",\"sidewalk_len_m\",\"sidewalk_len_m\",\"sidewalk_len_m\",\"sidewalk_len_m\",\"sidewalk_len_m\",\"sidewalk_len_m\",\"sidewalk_len_m\",\"sidewalk_len_m\",\"sidewalk_len_m\",\"sidewalk_len_m\",\"sidewalk_len_m\",\"sidewalk_len_m\",\"sidewalk_len_m\",\"sidewalk_len_m\",\"sidewalk_len_m\",\"sidewalk_len_m\",\"sidewalk_len_m\",\"sidewalk_len_m\",\"sidewalk_len_m\",\"sidewalk_len_m\",\"sidewalk_len_m\",\"sidewalk_len_m\",\"sidewalk_len_m\",\"sidewalk_len_m\",\"sidewalk_len_m\",\"sidewalk_len_m\",\"sidewalk_len_m\",\"sidewalk_len_m\",\"sidewalk_len_m\",\"sidewalk_len_m\",\"sidewalk_len_m\",\"sidewalk_len_m\",\"sidewalk_len_m\",\"sidewalk_len_m\",\"sidewalk_len_m\",\"sidewalk_len_m\",\"sidewalk_len_m\",\"sidewalk_len_m\",\"sidewalk_len_m\",\"sidewalk_len_m\",\"sidewalk_len_m\",\"sidewalk_len_m\",\"sidewalk_len_m\",\"sidewalk_len_m\",\"sidewalk_len_m\",\"sidewalk_len_m\",\"sidewalk_len_m\",\"sidewalk_len_m\",\"sidewalk_len_m\",\"sidewalk_len_m\",\"sidewalk_len_m\",\"sidewalk_len_m\",\"sidewalk_len_m\",\"sidewalk_len_m\",\"sidewalk_len_m\",\"sidewalk_len_m\",\"sidewalk_len_m\",\"sidewalk_len_m\",\"sidewalk_len_m\",\"sidewalk_len_m\",\"sidewalk_len_m\",\"sidewalk_len_m\",\"sidewalk_len_m\",\"sidewalk_len_m\",\"sidewalk_len_m\",\"sidewalk_len_m\",\"sidewalk_len_m\",\"sidewalk_len_m\",\"sidewalk_len_m\",\"sidewalk_len_m\",\"sidewalk_len_m\",\"sidewalk_len_m\",\"sidewalk_len_m\",\"sidewalk_len_m\",\"sidewalk_len_m\",\"sidewalk_len_m\",\"sidewalk_len_m\",\"sidewalk_len_m\",\"sidewalk_len_m\",\"sidewalk_len_m\",\"sidewalk_len_m\",\"sidewalk_len_m\",\"sidewalk_len_m\",\"sidewalk_len_m\",\"sidewalk_len_m\",\"sidewalk_len_m\",\"sidewalk_len_m\",\"sidewalk_len_m\",\"sidewalk_len_m\",\"sidewalk_len_m\",\"sidewalk_len_m\",\"sidewalk_len_m\",\"sidewalk_len_m\",\"sidewalk_len_m\",\"sidewalk_len_m\",\"sidewalk_len_m\",\"sidewalk_len_m\",\"sidewalk_len_m\",\"sidewalk_len_m\",\"sidewalk_len_m\",\"sidewalk_len_m\",\"sidewalk_len_m\",\"sidewalk_len_m\",\"sidewalk_len_m\",\"sidewalk_len_m\",\"sidewalk_len_m\",\"sidewalk_len_m\",\"sidewalk_len_m\",\"sidewalk_len_m\",\"sidewalk_len_m\",\"sidewalk_len_m\",\"sidewalk_len_m\",\"sidewalk_len_m\",\"sidewalk_len_m\",\"sidewalk_len_m\",\"sidewalk_len_m\",\"sidewalk_len_m\",\"sidewalk_len_m\",\"sidewalk_len_m\",\"sidewalk_len_m\",\"sidewalk_len_m\",\"sidewalk_len_m\",\"sidewalk_len_m\",\"sidewalk_len_m\",\"sidewalk_len_m\",\"sidewalk_len_m\",\"sidewalk_len_m\",\"sidewalk_len_m\",\"sidewalk_len_m\",\"sidewalk_len_m\",\"sidewalk_len_m\",\"sidewalk_len_m\",\"sidewalk_len_m\",\"sidewalk_len_m\",\"sidewalk_len_m\",\"sidewalk_len_m\",\"sidewalk_len_m\",\"sidewalk_len_m\",\"sidewalk_len_m\",\"sidewalk_len_m\",\"sidewalk_len_m\",\"sidewalk_len_m\",\"sidewalk_len_m\",\"sidewalk_len_m\",\"sidewalk_len_m\",\"sidewalk_len_m\",\"sidewalk_len_m\",\"sidewalk_len_m\",\"sidewalk_len_m\",\"sidewalk_len_m\",\"sidewalk_len_m\",\"sidewalk_len_m\",\"sidewalk_len_m\",\"sidewalk_len_m\",\"sidewalk_len_m\",\"sidewalk_len_m\",\"sidewalk_len_m\",\"sidewalk_len_m\",\"sidewalk_len_m\",\"sidewalk_len_m\",\"sidewalk_len_m\",\"sidewalk_len_m\",\"sidewalk_len_m\",\"sidewalk_len_m\",\"sidewalk_len_m\",\"sidewalk_len_m\",\"sidewalk_len_m\",\"sidewalk_len_m\",\"sidewalk_len_m\",\"sidewalk_len_m\",\"sidewalk_len_m\",\"sidewalk_len_m\",\"sidewalk_len_m\",\"sidewalk_len_m\",\"sidewalk_len_m\",\"sidewalk_len_m\",\"sidewalk_len_m\",\"sidewalk_len_m\",\"sidewalk_len_m\",\"sidewalk_len_m\",\"sidewalk_len_m\",\"sidewalk_len_m\",\"sidewalk_len_m\",\"sidewalk_len_m\",\"sidewalk_len_m\",\"sidewalk_len_m\",\"sidewalk_len_m\",\"sidewalk_len_m\",\"sidewalk_len_m\",\"sidewalk_len_m\",\"sidewalk_len_m\",\"sidewalk_len_m\",\"sidewalk_len_m\",\"sidewalk_len_m\",\"sidewalk_len_m\",\"sidewalk_len_m\",\"sidewalk_len_m\",\"sidewalk_len_m\",\"sidewalk_len_m\",\"sidewalk_len_m\",\"sidewalk_len_m\",\"sidewalk_len_m\",\"sidewalk_len_m\",\"sidewalk_len_m\",\"sidewalk_len_m\",\"sidewalk_len_m\",\"sidewalk_len_m\",\"sidewalk_len_m\",\"sidewalk_len_m\",\"sidewalk_len_m\",\"sidewalk_len_m\",\"sidewalk_len_m\",\"sidewalk_len_m\",\"sidewalk_len_m\",\"sidewalk_len_m\",\"sidewalk_len_m\",\"sidewalk_len_m\",\"sidewalk_len_m\",\"sidewalk_len_m\",\"sidewalk_len_m\",\"sidewalk_len_m\",\"sidewalk_len_m\",\"sidewalk_len_m\",\"sidewalk_len_m\",\"sidewalk_len_m\",\"sidewalk_len_m\",\"sidewalk_len_m\",\"sidewalk_len_m\",\"sidewalk_len_m\",\"sidewalk_len_m\",\"sidewalk_len_m\",\"sidewalk_len_m\",\"sidewalk_len_m\",\"sidewalk_len_m\",\"sidewalk_len_m\",\"sidewalk_len_m\",\"sidewalk_len_m\",\"sidewalk_len_m\",\"sidewalk_len_m\",\"sidewalk_len_m\",\"sidewalk_len_m\",\"sidewalk_len_m\",\"sidewalk_len_m\",\"sidewalk_len_m\",\"sidewalk_len_m\",\"sidewalk_len_m\",\"sidewalk_len_m\",\"sidewalk_len_m\",\"sidewalk_len_m\",\"sidewalk_len_m\",\"sidewalk_len_m\",\"sidewalk_len_m\",\"sidewalk_len_m\",\"sidewalk_len_m\",\"sidewalk_len_m\",\"sidewalk_len_m\",\"sidewalk_len_m\",\"sidewalk_len_m\",\"sidewalk_len_m\",\"sidewalk_len_m\",\"sidewalk_len_m\",\"sidewalk_len_m\",\"sidewalk_len_m\",\"sidewalk_len_m\",\"sidewalk_len_m\",\"sidewalk_len_m\",\"sidewalk_len_m\",\"sidewalk_len_m\",\"sidewalk_len_m\",\"sidewalk_len_m\",\"sidewalk_len_m\",\"sidewalk_len_m\",\"sidewalk_len_m\",\"sidewalk_len_m\",\"sidewalk_len_m\",\"sidewalk_len_m\",\"sidewalk_len_m\",\"sidewalk_len_m\",\"sidewalk_len_m\",\"sidewalk_len_m\",\"sidewalk_len_m\",\"sidewalk_len_m\",\"sidewalk_len_m\",\"sidewalk_len_m\",\"sidewalk_len_m\",\"sidewalk_len_m\",\"sidewalk_len_m\",\"sidewalk_len_m\",\"sidewalk_len_m\",\"sidewalk_len_m\",\"sidewalk_len_m\",\"sidewalk_len_m\",\"sidewalk_len_m\",\"sidewalk_len_m\",\"sidewalk_len_m\",\"sidewalk_len_m\",\"sidewalk_len_m\",\"sidewalk_len_m\",\"sidewalk_len_m\",\"sidewalk_len_m\",\"sidewalk_len_m\",\"sidewalk_len_m\",\"sidewalk_len_m\",\"sidewalk_len_m\",\"sidewalk_len_m\",\"sidewalk_len_m\",\"sidewalk_len_m\",\"sidewalk_len_m\",\"sidewalk_len_m\",\"sidewalk_len_m\",\"sidewalk_len_m\",\"sidewalk_len_m\",\"sidewalk_len_m\",\"sidewalk_len_m\",\"sidewalk_len_m\",\"sidewalk_len_m\",\"sidewalk_len_m\",\"sidewalk_len_m\",\"sidewalk_len_m\",\"sidewalk_len_m\",\"sidewalk_len_m\",\"sidewalk_len_m\",\"sidewalk_len_m\",\"sidewalk_len_m\",\"sidewalk_len_m\",\"sidewalk_len_m\",\"sidewalk_len_m\",\"sidewalk_len_m\",\"sidewalk_len_m\",\"sidewalk_len_m\",\"sidewalk_len_m\",\"sidewalk_len_m\",\"sidewalk_len_m\",\"sidewalk_len_m\",\"sidewalk_len_m\",\"sidewalk_len_m\",\"sidewalk_len_m\",\"sidewalk_len_m\",\"sidewalk_len_m\",\"sidewalk_len_m\",\"sidewalk_len_m\",\"sidewalk_len_m\",\"sidewalk_len_m\",\"sidewalk_len_m\",\"sidewalk_len_m\",\"sidewalk_len_m\",\"sidewalk_len_m\",\"sidewalk_len_m\",\"sidewalk_len_m\",\"sidewalk_len_m\",\"sidewalk_len_m\",\"sidewalk_len_m\",\"sidewalk_len_m\",\"sidewalk_len_m\",\"sidewalk_len_m\",\"sidewalk_len_m\",\"sidewalk_len_m\",\"sidewalk_len_m\",\"sidewalk_len_m\",\"sidewalk_len_m\",\"sidewalk_len_m\",\"sidewalk_len_m\",\"sidewalk_len_m\",\"sidewalk_len_m\",\"sidewalk_len_m\",\"sidewalk_len_m\",\"sidewalk_len_m\",\"sidewalk_len_m\",\"sidewalk_len_m\",\"sidewalk_len_m\",\"sidewalk_len_m\",\"sidewalk_len_m\",\"sidewalk_len_m\",\"sidewalk_len_m\",\"sidewalk_len_m\",\"sidewalk_len_m\",\"sidewalk_len_m\",\"sidewalk_len_m\",\"sidewalk_len_m\",\"sidewalk_len_m\",\"sidewalk_len_m\",\"sidewalk_len_m\",\"sidewalk_len_m\",\"sidewalk_len_m\",\"sidewalk_len_m\",\"sidewalk_len_m\",\"sidewalk_len_m\",\"sidewalk_len_m\",\"sidewalk_len_m\",\"sidewalk_len_m\",\"sidewalk_len_m\",\"sidewalk_len_m\",\"sidewalk_len_m\",\"sidewalk_len_m\",\"sidewalk_len_m\",\"sidewalk_len_m\",\"sidewalk_len_m\",\"sidewalk_len_m\",\"sidewalk_len_m\",\"sidewalk_len_m\",\"sidewalk_len_m\",\"sidewalk_len_m\",\"sidewalk_len_m\",\"sidewalk_len_m\",\"sidewalk_len_m\",\"sidewalk_len_m\",\"sidewalk_len_m\",\"sidewalk_len_m\",\"sidewalk_len_m\",\"sidewalk_len_m\",\"sidewalk_len_m\",\"sidewalk_len_m\",\"sidewalk_len_m\",\"sidewalk_len_m\",\"sidewalk_len_m\",\"sidewalk_len_m\",\"sidewalk_len_m\",\"sidewalk_len_m\",\"sidewalk_len_m\",\"sidewalk_len_m\",\"sidewalk_len_m\",\"sidewalk_len_m\",\"sidewalk_len_m\",\"sidewalk_len_m\",\"sidewalk_len_m\",\"sidewalk_len_m\",\"sidewalk_len_m\",\"sidewalk_len_m\",\"sidewalk_len_m\",\"sidewalk_len_m\",\"sidewalk_len_m\",\"sidewalk_len_m\",\"sidewalk_len_m\",\"sidewalk_len_m\",\"sidewalk_len_m\",\"sidewalk_len_m\",\"sidewalk_len_m\",\"sidewalk_len_m\",\"sidewalk_len_m\",\"sidewalk_len_m\",\"sidewalk_len_m\",\"sidewalk_len_m\",\"sidewalk_len_m\",\"sidewalk_len_m\",\"sidewalk_len_m\",\"sidewalk_len_m\",\"sidewalk_len_m\",\"sidewalk_len_m\",\"sidewalk_len_m\",\"sidewalk_len_m\",\"sidewalk_len_m\",\"sidewalk_len_m\",\"sidewalk_len_m\",\"sidewalk_len_m\",\"sidewalk_len_m\",\"sidewalk_len_m\",\"sidewalk_len_m\",\"sidewalk_len_m\",\"sidewalk_len_m\",\"sidewalk_len_m\",\"sidewalk_len_m\",\"sidewalk_len_m\",\"sidewalk_len_m\",\"sidewalk_len_m\",\"sidewalk_len_m\",\"sidewalk_len_m\",\"sidewalk_len_m\",\"sidewalk_len_m\",\"sidewalk_len_m\",\"sidewalk_len_m\",\"sidewalk_len_m\",\"sidewalk_len_m\",\"sidewalk_len_m\",\"sidewalk_len_m\",\"sidewalk_len_m\",\"sidewalk_len_m\",\"sidewalk_len_m\",\"sidewalk_len_m\",\"sidewalk_len_m\",\"sidewalk_len_m\",\"sidewalk_len_m\",\"sidewalk_len_m\",\"sidewalk_len_m\",\"sidewalk_len_m\",\"sidewalk_len_m\",\"sidewalk_len_m\",\"sidewalk_len_m\",\"sidewalk_len_m\",\"sidewalk_len_m\",\"sidewalk_len_m\",\"sidewalk_len_m\",\"sidewalk_len_m\",\"sidewalk_len_m\",\"sidewalk_len_m\",\"sidewalk_len_m\",\"sidewalk_len_m\",\"sidewalk_len_m\",\"sidewalk_len_m\",\"sidewalk_len_m\",\"sidewalk_len_m\",\"sidewalk_len_m\",\"sidewalk_len_m\",\"sidewalk_len_m\",\"sidewalk_len_m\",\"sidewalk_len_m\",\"sidewalk_len_m\",\"sidewalk_len_m\",\"sidewalk_len_m\",\"sidewalk_len_m\",\"sidewalk_len_m\",\"sidewalk_len_m\",\"sidewalk_len_m\",\"sidewalk_len_m\",\"sidewalk_len_m\",\"sidewalk_len_m\",\"sidewalk_len_m\",\"sidewalk_len_m\",\"sidewalk_len_m\",\"sidewalk_len_m\",\"sidewalk_len_m\",\"sidewalk_len_m\",\"sidewalk_len_m\",\"sidewalk_len_m\",\"sidewalk_len_m\",\"sidewalk_len_m\",\"sidewalk_len_m\",\"sidewalk_len_m\",\"sidewalk_len_m\",\"sidewalk_len_m\",\"sidewalk_len_m\",\"sidewalk_len_m\",\"sidewalk_len_m\",\"sidewalk_len_m\",\"sidewalk_len_m\",\"sidewalk_len_m\",\"sidewalk_len_m\",\"sidewalk_len_m\",\"sidewalk_len_m\",\"sidewalk_len_m\",\"sidewalk_len_m\",\"sidewalk_len_m\",\"sidewalk_len_m\",\"sidewalk_len_m\",\"sidewalk_len_m\",\"sidewalk_len_m\",\"sidewalk_len_m\",\"sidewalk_len_m\",\"sidewalk_len_m\",\"sidewalk_len_m\",\"sidewalk_len_m\",\"sidewalk_len_m\",\"sidewalk_len_m\",\"sidewalk_len_m\",\"sidewalk_len_m\",\"sidewalk_len_m\",\"sidewalk_len_m\",\"sidewalk_len_m\",\"sidewalk_len_m\",\"sidewalk_len_m\",\"sidewalk_len_m\",\"sidewalk_len_m\",\"sidewalk_len_m\",\"sidewalk_len_m\",\"sidewalk_len_m\",\"sidewalk_len_m\",\"sidewalk_len_m\",\"sidewalk_len_m\",\"sidewalk_len_m\",\"sidewalk_len_m\",\"sidewalk_len_m\",\"sidewalk_len_m\",\"sidewalk_len_m\",\"sidewalk_len_m\",\"sidewalk_len_m\",\"sidewalk_len_m\",\"sidewalk_len_m\",\"sidewalk_len_m\",\"sidewalk_len_m\",\"sidewalk_len_m\",\"sidewalk_len_m\",\"sidewalk_len_m\",\"sidewalk_len_m\",\"sidewalk_len_m\",\"sidewalk_len_m\",\"sidewalk_len_m\",\"sidewalk_len_m\",\"sidewalk_len_m\",\"sidewalk_len_m\",\"sidewalk_len_m\",\"sidewalk_len_m\",\"sidewalk_len_m\",\"sidewalk_len_m\",\"sidewalk_len_m\",\"sidewalk_len_m\",\"sidewalk_len_m\",\"sidewalk_len_m\",\"sidewalk_len_m\",\"sidewalk_len_m\",\"sidewalk_len_m\",\"sidewalk_len_m\",\"sidewalk_len_m\",\"sidewalk_len_m\",\"sidewalk_len_m\",\"sidewalk_len_m\",\"sidewalk_len_m\",\"sidewalk_len_m\",\"sidewalk_len_m\",\"sidewalk_len_m\",\"sidewalk_len_m\",\"sidewalk_len_m\",\"sidewalk_len_m\",\"sidewalk_len_m\",\"sidewalk_len_m\",\"sidewalk_len_m\",\"sidewalk_len_m\",\"sidewalk_len_m\",\"sidewalk_len_m\",\"sidewalk_len_m\",\"sidewalk_len_m\",\"sidewalk_len_m\",\"sidewalk_len_m\",\"sidewalk_len_m\",\"sidewalk_len_m\",\"sidewalk_len_m\",\"sidewalk_len_m\",\"sidewalk_len_m\",\"sidewalk_len_m\",\"sidewalk_len_m\",\"sidewalk_len_m\",\"sidewalk_len_m\",\"sidewalk_len_m\",\"sidewalk_len_m\",\"sidewalk_len_m\",\"sidewalk_len_m\",\"sidewalk_len_m\",\"sidewalk_len_m\",\"sidewalk_len_m\",\"sidewalk_len_m\",\"sidewalk_len_m\",\"sidewalk_len_m\",\"sidewalk_len_m\",\"sidewalk_len_m\",\"sidewalk_len_m\",\"sidewalk_len_m\",\"sidewalk_len_m\",\"sidewalk_len_m\",\"sidewalk_len_m\",\"sidewalk_len_m\",\"sidewalk_len_m\",\"sidewalk_len_m\",\"sidewalk_len_m\",\"sidewalk_len_m\",\"sidewalk_len_m\",\"sidewalk_len_m\",\"sidewalk_len_m\",\"sidewalk_len_m\",\"sidewalk_len_m\",\"sidewalk_len_m\",\"sidewalk_len_m\",\"sidewalk_len_m\",\"sidewalk_len_m\",\"sidewalk_len_m\",\"sidewalk_len_m\",\"sidewalk_len_m\",\"sidewalk_len_m\",\"sidewalk_len_m\",\"sidewalk_len_m\",\"sidewalk_len_m\",\"sidewalk_len_m\",\"sidewalk_len_m\",\"sidewalk_len_m\",\"sidewalk_len_m\",\"sidewalk_len_m\",\"sidewalk_len_m\",\"sidewalk_len_m\",\"sidewalk_len_m\",\"sidewalk_len_m\",\"sidewalk_len_m\",\"sidewalk_len_m\",\"sidewalk_len_m\",\"sidewalk_len_m\",\"sidewalk_len_m\",\"sidewalk_len_m\",\"sidewalk_len_m\",\"sidewalk_len_m\",\"sidewalk_len_m\",\"sidewalk_len_m\",\"sidewalk_len_m\",\"sidewalk_len_m\",\"sidewalk_len_m\",\"sidewalk_len_m\",\"sidewalk_len_m\",\"sidewalk_len_m\",\"sidewalk_len_m\",\"sidewalk_len_m\",\"sidewalk_len_m\",\"sidewalk_len_m\",\"sidewalk_len_m\",\"sidewalk_len_m\",\"sidewalk_len_m\",\"sidewalk_len_m\",\"sidewalk_len_m\",\"sidewalk_len_m\",\"sidewalk_len_m\",\"sidewalk_len_m\",\"sidewalk_len_m\",\"sidewalk_len_m\",\"sidewalk_len_m\",\"sidewalk_len_m\",\"sidewalk_len_m\",\"sidewalk_len_m\",\"sidewalk_len_m\",\"sidewalk_len_m\",\"sidewalk_len_m\",\"sidewalk_len_m\",\"sidewalk_len_m\",\"sidewalk_len_m\",\"sidewalk_len_m\",\"sidewalk_len_m\",\"sidewalk_len_m\",\"sidewalk_len_m\",\"sidewalk_len_m\",\"sidewalk_len_m\",\"sidewalk_len_m\",\"sidewalk_len_m\",\"sidewalk_len_m\",\"sidewalk_len_m\",\"sidewalk_len_m\",\"sidewalk_len_m\",\"sidewalk_len_m\",\"sidewalk_len_m\",\"sidewalk_len_m\",\"sidewalk_len_m\",\"sidewalk_len_m\",\"sidewalk_len_m\",\"sidewalk_len_m\",\"sidewalk_len_m\",\"sidewalk_len_m\",\"sidewalk_len_m\",\"sidewalk_len_m\",\"sidewalk_len_m\",\"sidewalk_len_m\",\"sidewalk_len_m\",\"sidewalk_len_m\",\"sidewalk_len_m\",\"sidewalk_len_m\",\"sidewalk_len_m\",\"sidewalk_len_m\",\"sidewalk_len_m\",\"sidewalk_len_m\",\"sidewalk_len_m\",\"sidewalk_len_m\",\"sidewalk_len_m\",\"sidewalk_len_m\",\"sidewalk_len_m\",\"sidewalk_len_m\",\"sidewalk_len_m\",\"sidewalk_len_m\",\"sidewalk_len_m\",\"sidewalk_len_m\",\"sidewalk_len_m\",\"sidewalk_len_m\",\"sidewalk_len_m\",\"sidewalk_len_m\",\"sidewalk_len_m\",\"sidewalk_len_m\",\"sidewalk_len_m\",\"sidewalk_len_m\",\"sidewalk_len_m\",\"sidewalk_len_m\",\"sidewalk_len_m\",\"sidewalk_len_m\",\"sidewalk_len_m\",\"with_sidewalk_len_m\",\"with_sidewalk_len_m\",\"with_sidewalk_len_m\",\"with_sidewalk_len_m\",\"with_sidewalk_len_m\",\"with_sidewalk_len_m\",\"with_sidewalk_len_m\",\"with_sidewalk_len_m\",\"with_sidewalk_len_m\",\"with_sidewalk_len_m\",\"with_sidewalk_len_m\",\"with_sidewalk_len_m\",\"with_sidewalk_len_m\",\"with_sidewalk_len_m\",\"with_sidewalk_len_m\",\"with_sidewalk_len_m\",\"with_sidewalk_len_m\",\"with_sidewalk_len_m\",\"with_sidewalk_len_m\",\"with_sidewalk_len_m\",\"with_sidewalk_len_m\",\"with_sidewalk_len_m\",\"with_sidewalk_len_m\",\"with_sidewalk_len_m\",\"with_sidewalk_len_m\",\"with_sidewalk_len_m\",\"with_sidewalk_len_m\",\"with_sidewalk_len_m\",\"with_sidewalk_len_m\",\"with_sidewalk_len_m\",\"with_sidewalk_len_m\",\"with_sidewalk_len_m\",\"with_sidewalk_len_m\",\"with_sidewalk_len_m\",\"with_sidewalk_len_m\",\"with_sidewalk_len_m\",\"with_sidewalk_len_m\",\"with_sidewalk_len_m\",\"with_sidewalk_len_m\",\"with_sidewalk_len_m\",\"with_sidewalk_len_m\",\"with_sidewalk_len_m\",\"with_sidewalk_len_m\",\"with_sidewalk_len_m\",\"with_sidewalk_len_m\",\"with_sidewalk_len_m\",\"with_sidewalk_len_m\",\"with_sidewalk_len_m\",\"with_sidewalk_len_m\",\"with_sidewalk_len_m\",\"with_sidewalk_len_m\",\"with_sidewalk_len_m\",\"with_sidewalk_len_m\",\"with_sidewalk_len_m\",\"with_sidewalk_len_m\",\"with_sidewalk_len_m\",\"with_sidewalk_len_m\",\"with_sidewalk_len_m\",\"with_sidewalk_len_m\",\"with_sidewalk_len_m\",\"with_sidewalk_len_m\",\"with_sidewalk_len_m\",\"with_sidewalk_len_m\",\"with_sidewalk_len_m\",\"with_sidewalk_len_m\",\"with_sidewalk_len_m\",\"with_sidewalk_len_m\",\"with_sidewalk_len_m\",\"with_sidewalk_len_m\",\"with_sidewalk_len_m\",\"with_sidewalk_len_m\",\"with_sidewalk_len_m\",\"with_sidewalk_len_m\",\"with_sidewalk_len_m\",\"with_sidewalk_len_m\",\"with_sidewalk_len_m\",\"with_sidewalk_len_m\",\"with_sidewalk_len_m\",\"with_sidewalk_len_m\",\"with_sidewalk_len_m\",\"with_sidewalk_len_m\",\"with_sidewalk_len_m\",\"with_sidewalk_len_m\",\"with_sidewalk_len_m\",\"with_sidewalk_len_m\",\"with_sidewalk_len_m\",\"with_sidewalk_len_m\",\"with_sidewalk_len_m\",\"with_sidewalk_len_m\",\"with_sidewalk_len_m\",\"with_sidewalk_len_m\",\"with_sidewalk_len_m\",\"with_sidewalk_len_m\",\"with_sidewalk_len_m\",\"with_sidewalk_len_m\",\"with_sidewalk_len_m\",\"with_sidewalk_len_m\",\"with_sidewalk_len_m\",\"with_sidewalk_len_m\",\"with_sidewalk_len_m\",\"with_sidewalk_len_m\",\"with_sidewalk_len_m\",\"with_sidewalk_len_m\",\"with_sidewalk_len_m\",\"with_sidewalk_len_m\",\"with_sidewalk_len_m\",\"with_sidewalk_len_m\",\"with_sidewalk_len_m\",\"with_sidewalk_len_m\",\"with_sidewalk_len_m\",\"with_sidewalk_len_m\",\"with_sidewalk_len_m\",\"with_sidewalk_len_m\",\"with_sidewalk_len_m\",\"with_sidewalk_len_m\",\"with_sidewalk_len_m\",\"with_sidewalk_len_m\",\"with_sidewalk_len_m\",\"with_sidewalk_len_m\",\"with_sidewalk_len_m\",\"with_sidewalk_len_m\",\"with_sidewalk_len_m\",\"with_sidewalk_len_m\",\"with_sidewalk_len_m\",\"with_sidewalk_len_m\",\"with_sidewalk_len_m\",\"with_sidewalk_len_m\",\"with_sidewalk_len_m\",\"with_sidewalk_len_m\",\"with_sidewalk_len_m\",\"with_sidewalk_len_m\",\"with_sidewalk_len_m\",\"with_sidewalk_len_m\",\"with_sidewalk_len_m\",\"with_sidewalk_len_m\",\"with_sidewalk_len_m\",\"with_sidewalk_len_m\",\"with_sidewalk_len_m\",\"with_sidewalk_len_m\",\"with_sidewalk_len_m\",\"with_sidewalk_len_m\",\"with_sidewalk_len_m\",\"with_sidewalk_len_m\",\"with_sidewalk_len_m\",\"with_sidewalk_len_m\",\"with_sidewalk_len_m\",\"with_sidewalk_len_m\",\"with_sidewalk_len_m\",\"with_sidewalk_len_m\",\"with_sidewalk_len_m\",\"with_sidewalk_len_m\",\"with_sidewalk_len_m\",\"with_sidewalk_len_m\",\"with_sidewalk_len_m\",\"with_sidewalk_len_m\",\"with_sidewalk_len_m\",\"with_sidewalk_len_m\",\"with_sidewalk_len_m\",\"with_sidewalk_len_m\",\"with_sidewalk_len_m\",\"with_sidewalk_len_m\",\"with_sidewalk_len_m\",\"with_sidewalk_len_m\",\"with_sidewalk_len_m\",\"with_sidewalk_len_m\",\"with_sidewalk_len_m\",\"with_sidewalk_len_m\",\"with_sidewalk_len_m\",\"with_sidewalk_len_m\",\"with_sidewalk_len_m\",\"with_sidewalk_len_m\",\"with_sidewalk_len_m\",\"with_sidewalk_len_m\",\"with_sidewalk_len_m\",\"with_sidewalk_len_m\",\"with_sidewalk_len_m\",\"with_sidewalk_len_m\",\"with_sidewalk_len_m\",\"with_sidewalk_len_m\",\"with_sidewalk_len_m\",\"with_sidewalk_len_m\",\"with_sidewalk_len_m\",\"with_sidewalk_len_m\",\"with_sidewalk_len_m\",\"with_sidewalk_len_m\",\"with_sidewalk_len_m\",\"with_sidewalk_len_m\",\"with_sidewalk_len_m\",\"with_sidewalk_len_m\",\"with_sidewalk_len_m\",\"with_sidewalk_len_m\",\"with_sidewalk_len_m\",\"with_sidewalk_len_m\",\"with_sidewalk_len_m\",\"with_sidewalk_len_m\",\"with_sidewalk_len_m\",\"with_sidewalk_len_m\",\"with_sidewalk_len_m\",\"with_sidewalk_len_m\",\"with_sidewalk_len_m\",\"with_sidewalk_len_m\",\"with_sidewalk_len_m\",\"with_sidewalk_len_m\",\"with_sidewalk_len_m\",\"with_sidewalk_len_m\",\"with_sidewalk_len_m\",\"with_sidewalk_len_m\",\"with_sidewalk_len_m\",\"with_sidewalk_len_m\",\"with_sidewalk_len_m\",\"with_sidewalk_len_m\",\"with_sidewalk_len_m\",\"with_sidewalk_len_m\",\"with_sidewalk_len_m\",\"with_sidewalk_len_m\",\"with_sidewalk_len_m\",\"with_sidewalk_len_m\",\"with_sidewalk_len_m\",\"with_sidewalk_len_m\",\"with_sidewalk_len_m\",\"with_sidewalk_len_m\",\"with_sidewalk_len_m\",\"with_sidewalk_len_m\",\"with_sidewalk_len_m\",\"with_sidewalk_len_m\",\"with_sidewalk_len_m\",\"with_sidewalk_len_m\",\"with_sidewalk_len_m\",\"with_sidewalk_len_m\",\"with_sidewalk_len_m\",\"with_sidewalk_len_m\",\"with_sidewalk_len_m\",\"with_sidewalk_len_m\",\"with_sidewalk_len_m\",\"with_sidewalk_len_m\",\"with_sidewalk_len_m\",\"with_sidewalk_len_m\",\"with_sidewalk_len_m\",\"with_sidewalk_len_m\",\"with_sidewalk_len_m\",\"with_sidewalk_len_m\",\"with_sidewalk_len_m\",\"with_sidewalk_len_m\",\"with_sidewalk_len_m\",\"with_sidewalk_len_m\",\"with_sidewalk_len_m\",\"with_sidewalk_len_m\",\"with_sidewalk_len_m\",\"with_sidewalk_len_m\",\"with_sidewalk_len_m\",\"with_sidewalk_len_m\",\"with_sidewalk_len_m\",\"with_sidewalk_len_m\",\"with_sidewalk_len_m\",\"with_sidewalk_len_m\",\"with_sidewalk_len_m\",\"with_sidewalk_len_m\",\"with_sidewalk_len_m\",\"with_sidewalk_len_m\",\"with_sidewalk_len_m\",\"with_sidewalk_len_m\",\"with_sidewalk_len_m\",\"with_sidewalk_len_m\",\"with_sidewalk_len_m\",\"with_sidewalk_len_m\",\"with_sidewalk_len_m\",\"with_sidewalk_len_m\",\"with_sidewalk_len_m\",\"with_sidewalk_len_m\",\"with_sidewalk_len_m\",\"with_sidewalk_len_m\",\"with_sidewalk_len_m\",\"with_sidewalk_len_m\",\"with_sidewalk_len_m\",\"with_sidewalk_len_m\",\"with_sidewalk_len_m\",\"with_sidewalk_len_m\",\"with_sidewalk_len_m\",\"with_sidewalk_len_m\",\"with_sidewalk_len_m\",\"with_sidewalk_len_m\",\"with_sidewalk_len_m\",\"with_sidewalk_len_m\",\"with_sidewalk_len_m\",\"with_sidewalk_len_m\",\"with_sidewalk_len_m\",\"with_sidewalk_len_m\",\"with_sidewalk_len_m\",\"with_sidewalk_len_m\",\"with_sidewalk_len_m\",\"with_sidewalk_len_m\",\"with_sidewalk_len_m\",\"with_sidewalk_len_m\",\"with_sidewalk_len_m\",\"with_sidewalk_len_m\",\"with_sidewalk_len_m\",\"with_sidewalk_len_m\",\"with_sidewalk_len_m\",\"with_sidewalk_len_m\",\"with_sidewalk_len_m\",\"with_sidewalk_len_m\",\"with_sidewalk_len_m\",\"with_sidewalk_len_m\",\"with_sidewalk_len_m\",\"with_sidewalk_len_m\",\"with_sidewalk_len_m\",\"with_sidewalk_len_m\",\"with_sidewalk_len_m\",\"with_sidewalk_len_m\",\"with_sidewalk_len_m\",\"with_sidewalk_len_m\",\"with_sidewalk_len_m\",\"with_sidewalk_len_m\",\"with_sidewalk_len_m\",\"with_sidewalk_len_m\",\"with_sidewalk_len_m\",\"with_sidewalk_len_m\",\"with_sidewalk_len_m\",\"with_sidewalk_len_m\",\"with_sidewalk_len_m\",\"with_sidewalk_len_m\",\"with_sidewalk_len_m\",\"with_sidewalk_len_m\",\"with_sidewalk_len_m\",\"with_sidewalk_len_m\",\"with_sidewalk_len_m\",\"with_sidewalk_len_m\",\"with_sidewalk_len_m\",\"with_sidewalk_len_m\",\"with_sidewalk_len_m\",\"with_sidewalk_len_m\",\"with_sidewalk_len_m\",\"with_sidewalk_len_m\",\"with_sidewalk_len_m\",\"with_sidewalk_len_m\",\"with_sidewalk_len_m\",\"with_sidewalk_len_m\",\"with_sidewalk_len_m\",\"with_sidewalk_len_m\",\"with_sidewalk_len_m\",\"with_sidewalk_len_m\",\"with_sidewalk_len_m\",\"with_sidewalk_len_m\",\"with_sidewalk_len_m\",\"with_sidewalk_len_m\",\"with_sidewalk_len_m\",\"with_sidewalk_len_m\",\"with_sidewalk_len_m\",\"with_sidewalk_len_m\",\"with_sidewalk_len_m\",\"with_sidewalk_len_m\",\"with_sidewalk_len_m\",\"with_sidewalk_len_m\",\"with_sidewalk_len_m\",\"with_sidewalk_len_m\",\"with_sidewalk_len_m\",\"with_sidewalk_len_m\",\"with_sidewalk_len_m\",\"with_sidewalk_len_m\",\"with_sidewalk_len_m\",\"with_sidewalk_len_m\",\"with_sidewalk_len_m\",\"with_sidewalk_len_m\",\"with_sidewalk_len_m\",\"with_sidewalk_len_m\",\"with_sidewalk_len_m\",\"with_sidewalk_len_m\",\"with_sidewalk_len_m\",\"with_sidewalk_len_m\",\"with_sidewalk_len_m\",\"with_sidewalk_len_m\",\"with_sidewalk_len_m\",\"with_sidewalk_len_m\",\"with_sidewalk_len_m\",\"with_sidewalk_len_m\",\"with_sidewalk_len_m\",\"with_sidewalk_len_m\",\"with_sidewalk_len_m\",\"with_sidewalk_len_m\",\"with_sidewalk_len_m\",\"with_sidewalk_len_m\",\"with_sidewalk_len_m\",\"with_sidewalk_len_m\",\"with_sidewalk_len_m\",\"with_sidewalk_len_m\",\"with_sidewalk_len_m\",\"with_sidewalk_len_m\",\"with_sidewalk_len_m\",\"with_sidewalk_len_m\",\"with_sidewalk_len_m\",\"with_sidewalk_len_m\",\"with_sidewalk_len_m\",\"with_sidewalk_len_m\",\"with_sidewalk_len_m\",\"with_sidewalk_len_m\",\"with_sidewalk_len_m\",\"with_sidewalk_len_m\",\"with_sidewalk_len_m\",\"with_sidewalk_len_m\",\"with_sidewalk_len_m\",\"with_sidewalk_len_m\",\"with_sidewalk_len_m\",\"with_sidewalk_len_m\",\"with_sidewalk_len_m\",\"with_sidewalk_len_m\",\"with_sidewalk_len_m\",\"with_sidewalk_len_m\",\"with_sidewalk_len_m\",\"with_sidewalk_len_m\",\"with_sidewalk_len_m\",\"with_sidewalk_len_m\",\"with_sidewalk_len_m\",\"with_sidewalk_len_m\",\"with_sidewalk_len_m\",\"with_sidewalk_len_m\",\"with_sidewalk_len_m\",\"with_sidewalk_len_m\",\"with_sidewalk_len_m\",\"with_sidewalk_len_m\",\"with_sidewalk_len_m\",\"with_sidewalk_len_m\",\"with_sidewalk_len_m\",\"with_sidewalk_len_m\",\"with_sidewalk_len_m\",\"with_sidewalk_len_m\",\"with_sidewalk_len_m\",\"with_sidewalk_len_m\",\"with_sidewalk_len_m\",\"with_sidewalk_len_m\",\"with_sidewalk_len_m\",\"with_sidewalk_len_m\",\"with_sidewalk_len_m\",\"with_sidewalk_len_m\",\"with_sidewalk_len_m\",\"with_sidewalk_len_m\",\"with_sidewalk_len_m\",\"with_sidewalk_len_m\",\"with_sidewalk_len_m\",\"with_sidewalk_len_m\",\"with_sidewalk_len_m\",\"with_sidewalk_len_m\",\"with_sidewalk_len_m\",\"with_sidewalk_len_m\",\"with_sidewalk_len_m\",\"with_sidewalk_len_m\",\"with_sidewalk_len_m\",\"with_sidewalk_len_m\",\"with_sidewalk_len_m\",\"with_sidewalk_len_m\",\"with_sidewalk_len_m\",\"with_sidewalk_len_m\",\"with_sidewalk_len_m\",\"with_sidewalk_len_m\",\"with_sidewalk_len_m\",\"with_sidewalk_len_m\",\"with_sidewalk_len_m\",\"with_sidewalk_len_m\",\"with_sidewalk_len_m\",\"with_sidewalk_len_m\",\"with_sidewalk_len_m\",\"with_sidewalk_len_m\",\"with_sidewalk_len_m\",\"with_sidewalk_len_m\",\"with_sidewalk_len_m\",\"with_sidewalk_len_m\",\"with_sidewalk_len_m\",\"with_sidewalk_len_m\",\"with_sidewalk_len_m\",\"with_sidewalk_len_m\",\"with_sidewalk_len_m\",\"with_sidewalk_len_m\",\"with_sidewalk_len_m\",\"with_sidewalk_len_m\",\"with_sidewalk_len_m\",\"with_sidewalk_len_m\",\"with_sidewalk_len_m\",\"with_sidewalk_len_m\",\"with_sidewalk_len_m\",\"with_sidewalk_len_m\",\"with_sidewalk_len_m\",\"with_sidewalk_len_m\",\"with_sidewalk_len_m\",\"with_sidewalk_len_m\",\"with_sidewalk_len_m\",\"with_sidewalk_len_m\",\"with_sidewalk_len_m\",\"with_sidewalk_len_m\",\"with_sidewalk_len_m\",\"with_sidewalk_len_m\",\"with_sidewalk_len_m\",\"with_sidewalk_len_m\",\"with_sidewalk_len_m\",\"with_sidewalk_len_m\",\"with_sidewalk_len_m\",\"with_sidewalk_len_m\",\"with_sidewalk_len_m\",\"with_sidewalk_len_m\",\"with_sidewalk_len_m\",\"with_sidewalk_len_m\",\"with_sidewalk_len_m\",\"with_sidewalk_len_m\",\"with_sidewalk_len_m\",\"with_sidewalk_len_m\",\"with_sidewalk_len_m\",\"with_sidewalk_len_m\",\"with_sidewalk_len_m\",\"with_sidewalk_len_m\",\"with_sidewalk_len_m\",\"with_sidewalk_len_m\",\"with_sidewalk_len_m\",\"with_sidewalk_len_m\",\"with_sidewalk_len_m\",\"with_sidewalk_len_m\",\"with_sidewalk_len_m\",\"with_sidewalk_len_m\",\"with_sidewalk_len_m\",\"with_sidewalk_len_m\",\"with_sidewalk_len_m\",\"with_sidewalk_len_m\",\"with_sidewalk_len_m\",\"with_sidewalk_len_m\",\"with_sidewalk_len_m\",\"with_sidewalk_len_m\",\"with_sidewalk_len_m\",\"with_sidewalk_len_m\",\"with_sidewalk_len_m\",\"with_sidewalk_len_m\",\"with_sidewalk_len_m\",\"with_sidewalk_len_m\",\"with_sidewalk_len_m\",\"with_sidewalk_len_m\",\"with_sidewalk_len_m\",\"with_sidewalk_len_m\",\"with_sidewalk_len_m\",\"with_sidewalk_len_m\",\"with_sidewalk_len_m\",\"with_sidewalk_len_m\",\"with_sidewalk_len_m\",\"with_sidewalk_len_m\",\"with_sidewalk_len_m\",\"with_sidewalk_len_m\",\"with_sidewalk_len_m\",\"with_sidewalk_len_m\",\"with_sidewalk_len_m\",\"with_sidewalk_len_m\",\"with_sidewalk_len_m\",\"with_sidewalk_len_m\",\"with_sidewalk_len_m\",\"with_sidewalk_len_m\",\"with_sidewalk_len_m\",\"with_sidewalk_len_m\",\"with_sidewalk_len_m\",\"with_sidewalk_len_m\",\"with_sidewalk_len_m\",\"with_sidewalk_len_m\",\"with_sidewalk_len_m\",\"with_sidewalk_len_m\",\"with_sidewalk_len_m\",\"with_sidewalk_len_m\",\"with_sidewalk_len_m\",\"with_sidewalk_len_m\",\"with_sidewalk_len_m\",\"with_sidewalk_len_m\",\"with_sidewalk_len_m\",\"with_sidewalk_len_m\",\"with_sidewalk_len_m\",\"with_sidewalk_len_m\",\"with_sidewalk_len_m\",\"with_sidewalk_len_m\",\"with_sidewalk_len_m\",\"with_sidewalk_len_m\",\"with_sidewalk_len_m\",\"with_sidewalk_len_m\",\"with_sidewalk_len_m\",\"with_sidewalk_len_m\",\"with_sidewalk_len_m\",\"with_sidewalk_len_m\",\"with_sidewalk_len_m\",\"with_sidewalk_len_m\",\"with_sidewalk_len_m\",\"with_sidewalk_len_m\",\"with_sidewalk_len_m\",\"with_sidewalk_len_m\",\"with_sidewalk_len_m\",\"with_sidewalk_len_m\",\"with_sidewalk_len_m\",\"with_sidewalk_len_m\",\"with_sidewalk_len_m\",\"with_sidewalk_len_m\",\"with_sidewalk_len_m\",\"with_sidewalk_len_m\",\"with_sidewalk_len_m\",\"with_sidewalk_len_m\",\"with_sidewalk_len_m\",\"with_sidewalk_len_m\",\"with_sidewalk_len_m\",\"with_sidewalk_len_m\",\"with_sidewalk_len_m\",\"with_sidewalk_len_m\",\"with_sidewalk_len_m\",\"with_sidewalk_len_m\",\"with_sidewalk_len_m\",\"with_sidewalk_len_m\",\"with_sidewalk_len_m\",\"with_sidewalk_len_m\",\"with_sidewalk_len_m\",\"with_sidewalk_len_m\",\"with_sidewalk_len_m\",\"with_sidewalk_len_m\",\"with_sidewalk_len_m\",\"with_sidewalk_len_m\",\"with_sidewalk_len_m\",\"with_sidewalk_len_m\",\"with_sidewalk_len_m\",\"with_sidewalk_len_m\",\"with_sidewalk_len_m\",\"with_sidewalk_len_m\",\"with_sidewalk_len_m\",\"with_sidewalk_len_m\",\"with_sidewalk_len_m\",\"with_sidewalk_len_m\",\"with_sidewalk_len_m\",\"with_sidewalk_len_m\",\"with_sidewalk_len_m\",\"with_sidewalk_len_m\",\"with_sidewalk_len_m\",\"with_sidewalk_len_m\",\"with_sidewalk_len_m\",\"with_sidewalk_len_m\",\"with_sidewalk_len_m\",\"with_sidewalk_len_m\",\"with_sidewalk_len_m\",\"with_sidewalk_len_m\",\"with_sidewalk_len_m\",\"with_sidewalk_len_m\",\"with_sidewalk_len_m\",\"with_sidewalk_len_m\",\"with_sidewalk_len_m\",\"with_sidewalk_len_m\",\"with_sidewalk_len_m\",\"with_sidewalk_len_m\",\"with_sidewalk_len_m\",\"with_sidewalk_len_m\",\"with_sidewalk_len_m\",\"with_sidewalk_len_m\",\"with_sidewalk_len_m\",\"with_sidewalk_len_m\",\"with_sidewalk_len_m\",\"with_sidewalk_len_m\",\"with_sidewalk_len_m\",\"with_sidewalk_len_m\",\"with_sidewalk_len_m\",\"with_sidewalk_len_m\",\"with_sidewalk_len_m\",\"with_sidewalk_len_m\",\"with_sidewalk_len_m\",\"with_sidewalk_len_m\",\"with_sidewalk_len_m\",\"with_sidewalk_len_m\",\"with_sidewalk_len_m\",\"with_sidewalk_len_m\",\"with_sidewalk_len_m\",\"with_sidewalk_len_m\",\"with_sidewalk_len_m\",\"with_sidewalk_len_m\",\"with_sidewalk_len_m\",\"with_sidewalk_len_m\",\"with_sidewalk_len_m\",\"with_sidewalk_len_m\",\"with_sidewalk_len_m\",\"with_sidewalk_len_m\",\"with_sidewalk_len_m\",\"with_sidewalk_len_m\",\"with_sidewalk_len_m\",\"with_sidewalk_len_m\",\"with_sidewalk_len_m\",\"with_sidewalk_len_m\",\"with_sidewalk_len_m\",\"with_sidewalk_len_m\",\"with_sidewalk_len_m\",\"with_sidewalk_len_m\",\"with_sidewalk_len_m\",\"with_sidewalk_len_m\",\"with_sidewalk_len_m\",\"with_sidewalk_len_m\",\"with_sidewalk_len_m\",\"with_sidewalk_len_m\",\"with_sidewalk_len_m\",\"with_sidewalk_len_m\",\"with_sidewalk_len_m\",\"with_sidewalk_len_m\",\"with_sidewalk_len_m\",\"with_sidewalk_len_m\",\"with_sidewalk_len_m\",\"with_sidewalk_len_m\",\"with_sidewalk_len_m\",\"with_sidewalk_len_m\",\"with_sidewalk_len_m\",\"with_sidewalk_len_m\",\"with_sidewalk_len_m\",\"with_sidewalk_len_m\",\"with_sidewalk_len_m\",\"with_sidewalk_len_m\",\"with_sidewalk_len_m\",\"with_sidewalk_len_m\",\"with_sidewalk_len_m\",\"with_sidewalk_len_m\",\"with_sidewalk_len_m\",\"with_sidewalk_len_m\",\"with_sidewalk_len_m\",\"with_sidewalk_len_m\",\"with_sidewalk_len_m\",\"with_sidewalk_len_m\",\"with_sidewalk_len_m\",\"with_sidewalk_len_m\",\"with_sidewalk_len_m\",\"with_sidewalk_len_m\",\"with_sidewalk_len_m\",\"with_sidewalk_len_m\",\"with_sidewalk_len_m\",\"with_sidewalk_len_m\",\"with_sidewalk_len_m\",\"with_sidewalk_len_m\",\"with_sidewalk_len_m\",\"with_sidewalk_len_m\",\"with_sidewalk_len_m\",\"with_sidewalk_len_m\",\"with_sidewalk_len_m\",\"with_sidewalk_len_m\",\"with_sidewalk_len_m\",\"with_sidewalk_len_m\",\"with_sidewalk_len_m\",\"with_sidewalk_len_m\",\"with_sidewalk_len_m\",\"with_sidewalk_len_m\",\"with_sidewalk_len_m\",\"with_sidewalk_len_m\",\"with_sidewalk_len_m\",\"with_sidewalk_len_m\",\"with_sidewalk_len_m\",\"with_sidewalk_len_m\",\"with_sidewalk_len_m\",\"with_sidewalk_len_m\",\"with_sidewalk_len_m\",\"with_sidewalk_len_m\",\"with_sidewalk_len_m\",\"with_sidewalk_len_m\",\"with_sidewalk_len_m\",\"with_sidewalk_len_m\",\"with_sidewalk_len_m\",\"with_sidewalk_len_m\",\"with_sidewalk_len_m\",\"with_sidewalk_len_m\",\"with_sidewalk_len_m\",\"with_sidewalk_len_m\",\"with_sidewalk_len_m\",\"with_sidewalk_len_m\",\"with_sidewalk_len_m\",\"with_sidewalk_len_m\",\"with_sidewalk_len_m\",\"with_sidewalk_len_m\",\"with_sidewalk_len_m\",\"with_sidewalk_len_m\",\"with_sidewalk_len_m\",\"with_sidewalk_len_m\",\"with_sidewalk_len_m\",\"with_sidewalk_len_m\",\"with_sidewalk_len_m\",\"with_sidewalk_len_m\",\"with_sidewalk_len_m\",\"with_sidewalk_len_m\",\"with_sidewalk_len_m\",\"with_sidewalk_len_m\",\"with_sidewalk_len_m\",\"with_sidewalk_len_m\",\"with_sidewalk_len_m\",\"with_sidewalk_len_m\",\"with_sidewalk_len_m\",\"with_sidewalk_len_m\",\"with_sidewalk_len_m\",\"with_sidewalk_len_m\",\"with_sidewalk_len_m\",\"with_sidewalk_len_m\",\"with_sidewalk_len_m\",\"with_sidewalk_len_m\",\"with_sidewalk_len_m\",\"with_sidewalk_len_m\",\"with_sidewalk_len_m\",\"with_sidewalk_len_m\",\"with_sidewalk_len_m\",\"with_sidewalk_len_m\",\"with_sidewalk_len_m\",\"with_sidewalk_len_m\",\"with_sidewalk_len_m\",\"with_sidewalk_len_m\",\"with_sidewalk_len_m\",\"with_sidewalk_len_m\",\"with_sidewalk_len_m\",\"with_sidewalk_len_m\",\"with_sidewalk_len_m\",\"with_sidewalk_len_m\",\"with_sidewalk_len_m\",\"with_sidewalk_len_m\",\"with_sidewalk_len_m\",\"with_sidewalk_len_m\",\"with_sidewalk_len_m\",\"with_sidewalk_len_m\",\"with_sidewalk_len_m\",\"with_sidewalk_len_m\",\"with_sidewalk_len_m\",\"with_sidewalk_len_m\",\"with_sidewalk_len_m\",\"with_sidewalk_len_m\",\"with_sidewalk_len_m\",\"with_sidewalk_len_m\",\"with_sidewalk_len_m\",\"with_sidewalk_len_m\",\"with_sidewalk_len_m\",\"with_sidewalk_len_m\",\"with_sidewalk_len_m\",\"with_sidewalk_len_m\",\"with_sidewalk_len_m\",\"with_sidewalk_len_m\",\"with_sidewalk_len_m\",\"with_sidewalk_len_m\",\"with_sidewalk_len_m\",\"with_sidewalk_len_m\",\"with_sidewalk_len_m\",\"with_sidewalk_len_m\",\"with_sidewalk_len_m\",\"with_sidewalk_len_m\",\"with_sidewalk_len_m\",\"with_sidewalk_len_m\",\"with_sidewalk_len_m\",\"with_sidewalk_len_m\",\"with_sidewalk_len_m\",\"with_sidewalk_len_m\",\"with_sidewalk_len_m\",\"with_sidewalk_len_m\",\"with_sidewalk_len_m\",\"with_sidewalk_len_m\",\"with_sidewalk_len_m\",\"with_sidewalk_len_m\",\"with_sidewalk_len_m\",\"with_sidewalk_len_m\",\"with_sidewalk_len_m\",\"with_sidewalk_len_m\",\"with_sidewalk_len_m\",\"with_sidewalk_len_m\",\"with_sidewalk_len_m\",\"with_sidewalk_len_m\",\"with_sidewalk_len_m\",\"with_sidewalk_len_m\",\"with_sidewalk_len_m\",\"with_sidewalk_len_m\",\"with_sidewalk_len_m\",\"with_sidewalk_len_m\",\"with_sidewalk_len_m\",\"with_sidewalk_len_m\",\"with_sidewalk_len_m\",\"with_sidewalk_len_m\",\"with_sidewalk_len_m\",\"with_sidewalk_len_m\",\"with_sidewalk_len_m\",\"with_sidewalk_len_m\",\"with_sidewalk_len_m\",\"with_sidewalk_len_m\",\"with_sidewalk_len_m\",\"with_sidewalk_len_m\",\"with_sidewalk_len_m\",\"with_sidewalk_len_m\",\"with_sidewalk_len_m\",\"with_sidewalk_len_m\",\"with_sidewalk_len_m\",\"with_sidewalk_len_m\",\"with_sidewalk_len_m\",\"with_sidewalk_len_m\",\"with_sidewalk_len_m\",\"with_sidewalk_len_m\",\"with_sidewalk_len_m\",\"with_sidewalk_len_m\",\"with_sidewalk_len_m\",\"with_sidewalk_len_m\",\"with_sidewalk_len_m\",\"with_sidewalk_len_m\",\"with_sidewalk_len_m\",\"with_sidewalk_len_m\",\"with_sidewalk_len_m\",\"with_sidewalk_len_m\",\"with_sidewalk_len_m\",\"with_sidewalk_len_m\",\"with_sidewalk_len_m\",\"with_sidewalk_len_m\",\"with_sidewalk_len_m\",\"with_sidewalk_len_m\",\"with_sidewalk_len_m\",\"with_sidewalk_len_m\",\"with_sidewalk_len_m\",\"with_sidewalk_len_m\",\"with_sidewalk_len_m\",\"with_sidewalk_len_m\",\"with_sidewalk_len_m\",\"with_sidewalk_len_m\",\"with_sidewalk_len_m\",\"with_sidewalk_len_m\",\"with_sidewalk_len_m\",\"with_sidewalk_len_m\",\"with_sidewalk_len_m\",\"with_sidewalk_len_m\",\"with_sidewalk_len_m\",\"with_sidewalk_len_m\",\"with_sidewalk_len_m\",\"with_sidewalk_len_m\",\"with_sidewalk_len_m\",\"with_sidewalk_len_m\",\"with_sidewalk_len_m\",\"with_sidewalk_len_m\",\"with_sidewalk_len_m\",\"with_sidewalk_len_m\",\"with_sidewalk_len_m\",\"with_sidewalk_len_m\",\"with_sidewalk_len_m\",\"with_sidewalk_len_m\",\"with_sidewalk_len_m\",\"with_sidewalk_len_m\",\"with_sidewalk_len_m\",\"with_sidewalk_len_m\",\"with_sidewalk_len_m\",\"with_sidewalk_len_m\",\"with_sidewalk_len_m\",\"with_sidewalk_len_m\",\"with_sidewalk_len_m\",\"with_sidewalk_len_m\",\"with_sidewalk_len_m\",\"with_sidewalk_len_m\",\"with_sidewalk_len_m\",\"with_sidewalk_len_m\",\"with_sidewalk_len_m\",\"with_sidewalk_len_m\",\"with_sidewalk_len_m\",\"with_sidewalk_len_m\",\"with_sidewalk_len_m\",\"with_sidewalk_len_m\",\"with_sidewalk_len_m\",\"with_sidewalk_len_m\",\"with_sidewalk_len_m\",\"with_sidewalk_len_m\",\"with_sidewalk_len_m\",\"with_sidewalk_len_m\",\"with_sidewalk_len_m\",\"with_sidewalk_len_m\",\"with_sidewalk_len_m\",\"with_sidewalk_len_m\",\"with_sidewalk_len_m\",\"with_sidewalk_len_m\",\"with_sidewalk_len_m\",\"with_sidewalk_len_m\",\"with_sidewalk_len_m\",\"with_sidewalk_len_m\",\"with_sidewalk_len_m\",\"with_sidewalk_len_m\",\"with_sidewalk_len_m\",\"with_sidewalk_len_m\",\"with_sidewalk_len_m\",\"with_sidewalk_len_m\",\"with_sidewalk_len_m\",\"with_sidewalk_len_m\",\"with_sidewalk_len_m\",\"with_sidewalk_len_m\",\"with_sidewalk_len_m\",\"with_sidewalk_len_m\",\"with_sidewalk_len_m\",\"with_sidewalk_len_m\",\"with_sidewalk_len_m\",\"with_sidewalk_len_m\",\"with_sidewalk_len_m\",\"with_sidewalk_len_m\",\"with_sidewalk_len_m\",\"with_sidewalk_len_m\",\"with_sidewalk_len_m\",\"with_sidewalk_len_m\",\"with_sidewalk_len_m\",\"with_sidewalk_len_m\",\"with_sidewalk_len_m\",\"with_sidewalk_len_m\",\"with_sidewalk_len_m\",\"with_sidewalk_len_m\",\"with_sidewalk_len_m\",\"with_sidewalk_len_m\",\"with_sidewalk_len_m\",\"with_sidewalk_len_m\",\"with_sidewalk_len_m\",\"with_sidewalk_len_m\",\"with_sidewalk_len_m\",\"with_sidewalk_len_m\",\"with_sidewalk_len_m\",\"with_sidewalk_len_m\",\"with_sidewalk_len_m\",\"with_sidewalk_len_m\",\"with_sidewalk_len_m\"],\"x0\":\" \",\"xaxis\":\"x\",\"y\":{\"dtype\":\"f8\",\"bdata\":\"UrgeddhHa0GamZkNRBhwQfYoXC9Bn2NBMzMzWyilbUGF61FwHFFoQVK4Hr2fJXBBFK5HEUotaUEAAAC84oNzQRSuRzH92mxBKVyP2hTNcEHhehTuWUdfQbgehWfGlHpB7FG4dFlwgEH2KFxHcsVvQT0K17MwdmNBzczMXETpfUFxPQoHLCRjQfYoXFeXhmJBMzMzM90BZUEK16PwmJRwQZqZmat0E4VB7FG4hk0lZUFmZmby10N+Qc3MzDSE8WVBzczM2LafdEHNzMwM6fBfQSlcj4p5UmpBzczM1I1ZbUEfheuxIrdzQSlcj\\u002f7fOXVB7FG4ZgMgeUFxPQrjxn14QdejcLUu0XJB9ihcz96NX0G4HoV7TeZtQYXrUeBJXWNBPQrXWzXWYEEpXI+iQ7REQXE9Ct8cK21BPQrX4\\u002fYtUEGF61FoPLJnQVK4HvW7xVZBH4Xr9cNWdkFcj8IlKpBjQWZmZjas2F5BMzMz09ygZUFI4XqULiVdQUjhepRZF1NBUrgejbUjYEGuR+FKaI1lQWZmZibbBVNBKVyPckI+aUFSuB7l4V1ZQTMzM1MUsFFB7FG4DgMpdEEK16MAknRaQaRwPSoHi0lBMzMzG6EMYkE9CtfbLEFhQUjheoTPy1hBhetRaHWxU0GamZmpDgxUQZqZmUGMCWBBw\\u002fUorFduY0H2KFzPsd5qQTMzM7O9iE5BPQrXw28LXkE9CtcTVCFbQbgehQt9YlJB9ihcf9y+WEGuR+HyjQ1hQSlcj4Ig+lZBcT0KtzGVcUGamZkJs5dSQQrXo+CqjlFBUrgepeT2WEGPwvXIwm9lQfYoXF8Oq29B16NwDY+6V0GkcD2q8EJOQcP1KPyJGVFBPQrX44e2SEHhehRuwsVgQXsUrocFoE9BXI\\u002fChThNU0EpXI9C08tIQTMzM1OcMkpBAAAAaFxMZ0EK16MQkPhfQVyPwpWwx1hBXI\\u002fCpSyuaUGF61H4wetHQXE9CnczsVNBrkfhuqFnVkFxPQq\\u002foYFiQY\\u002fC9SiyvDhBmpmZOVTFXEHsUbjevVk0QVyPwoUfhFVB16NwPcEiT0HNzMz8V0FhQa5H4do90EZBXI\\u002fCxVgeUkGPwvW45QRSQa5H4TqgrlxBAAAAAHWNSkHXo3D9EftGQT0K1\\u002fOo1VxBUrgeBSifUEH2KFzPKqxVQZqZmSFvtGRBKVyPosoMRkHXo3Bd7VZIQcP1KMw2G1JBKVyPYt9IS0HD9Sh8KR1CQQrXo0DghWNBSOF6lPO7QkGamZnZBj9cQYXrURjGRVZBXI\\u002fC1TMNQEHNzMx8IWtUQY\\u002fC9QgGhVVBMzMzUz8SSEHNzMxcWE9UQQAAADBqGFdB16NwrZnPVUHD9ShMOhBbQXE9Cr\\u002fb0G1BKVyPgjYVTkGF61H4jVI6QbgehTszJVBBAAAAwCaCWUFSuB5lgxdUQc3MzOz+IV5BexSuR+eRRUGPwvWIGplTQZqZmdnk30NBMzMz49iLVUEAAADAD\\u002fBHQdejcB1l\\u002fUdBZmZmRn\\u002fhSkG4HoXry\\u002fgjQR+F61Fe2EpBAAAAcF0dUEEAAACw\\u002frJjQaRwPfqi8lhBPQrX47RQTUEfheux2IhTQTMzM5PAc0BBUrgeJS9JXUG4HoW7aWlZQdejcJ10ylVBcT0K\\u002f\\u002fZjYkEK16PgAlVYQZqZmdncmVRBKVyPghHuS0GkcD1KT01IQdejcE2w\\u002flBBAAAAgFoFS0FI4Xo04UFBQa5H4RKrPm1BCtej0HZ9U0GPwvXIy49cQaRwPWpJcVdB9ihcb0weV0HNzMysslNTQZqZmfneF0JBhetRmDvwRUGuR+E6SAQ4QVK4HmVOI0FBrkfhOkGyUkHsUbh+Hm5MQRSuR6G8LlNB7FG4vsaHSkF7FK4HHrY+QQrXoxADm1RBj8L1KMK7S0EUrkdB0BJQQQAAAEAOnEVBw\\u002fUoXMW9PUEAAADQinVdQSlcj2JW\\u002fFxBZmZm1hG8WUGuR+FKajNQQfYoXE8A2UdBzczMrNpoUkEzMzOjax5UQTMzMxOtCEBBUrgeRaPrUEGamZk5SLBCQeF6FE4ZAE5BMzMzM\\u002f75QkGF61E4iPQ0QVyPwhVvJ0xBj8L1iPI9WUGkcD0KthA5QbgehYsyjU1BexSud6uxVEEAAADgUc5UQZqZmRkErDpBhetR+PewRkHhehTudsJMQT0K11NDQmFBUrgeJW7jWkEAAAAAIIVPQQAAAGAr7lVBSOF6FMxCOkEUrkfBnt9IQVK4HoUyjy1BMzMzo2RSVkGkcD0qUHNEQXE9CpcPcURBzczMvNNgWEHD9SicjYg8QaRwPUqCxzBBSOF6VNFzS0H2KFyPpzMqQR+F61EI+TxBXI\\u002fCdUw5M0H2KFwPt5hEQRSuR6GngzVBw\\u002fUo3NCXTkG4HoXz8WxhQVK4HsVXCklBzczMjAAgR0EAAABAmXtWQaRwPfpPi1BBFK5HwaORSkHsUbim3vVhQdejcL0MOzJB9ihczxxAPEFxPQp3f49QQVyPwuXOnVNBCtejsLcgQkHXo3D9qK46QSlcj0IxCFdBexSuByqNPUFxPQrX5HNDQTMzM3PoHzxB7FG4rqbEUkGamZmZkj4tQT0K14PzAU5BH4Xrkd9LQEFxPQrXr1s8QSlcjyJQeUxBw\\u002fUoHPFnN0F7FK6HjGY5QVK4HqUTH0FBFK5HQWIfUEFmZmbmO2RHQcP1KDwBik9BSOF6BLv9WUEpXI+iIxVIQRSuR6FSzkxBw\\u002fUovKwUTUHD9ShcKnI2QUjhesQvyFFBUrgexZTWMkHNzMxMCrg7QWZmZoZCLU1BexSux\\u002fCbNEHNzMy8ULZQQVK4HsVb9ENBUrgexRPETUGuR+E6n1dLQVyPwpUQgU5BXI\\u002fC9Y9jLUGamZkpvp1bQWZmZqbzAjVB4XoUzpOyRkHD9Sgc6ApJQR+F6wG6glVBMzMzcw8UPUEpXI9C0sc6QT0K10Px8VFB4XoU7s7zVUEUrkeh7ig3QZqZmRnZkjJBAAAAEJKqUEHhehRuzLQyQQAAAHAOjFFBpHA9ivbFKkE9Ctejvxg+QTMzM7NJQ1JBw\\u002fUofK32SUFcj8I1KW9UQeF6FA44XE1BuB6Faw5iNEEfhevxcL9KQTMzM9P7DUJB7FG4HqL2MkFcj8L1\\u002frRFQXsUrsfv9jhBMzMzw2TWU0H2KFzvq1VGQcP1KJy3JjBBKVyPgofUNEGuR+G6OqFTQQrXo7C2xTlBZmZmRua+VUEpXI+Ca6Y9QVK4HqVez05BPQrXYzOVSUHXo3D9cgdIQbgehfua2VJBMzMz8\\u002fcBPkFmZmamNDAyQXsUrseQSzNBZmZmZjbhM0FI4XoUUcdAQa5H4bp6qjVBZmZmNqSaUUHsUbj+z2xFQeF6FO7yLzRBuB6FSz7TRkFcj8I1Dfw+QT0K16M2zlRBMzMz0x6CQEHD9SgchS1OQaRwPYpw3TdB4XoUDlz9SEEpXI9CHZA2QSlcj0KvIlFB7FG43j4fMEGamZnZ5o0wQcP1KAwqsFVBKVyPwtufOUEzMzPzAVA4QZqZmdnm4ERBXI\\u002fClex0TUGPwvXoWsU1QcP1KJyz6D9B16NwfXnbNkHD9SicTQ09QbgehWsyU0xBCtejEMwyQEHD9Sj8f6xNQSlcjwI0ZztBZmZm5nRHTkFmZmZGCKxBQQrXozC2KUdBrkfhukYWO0HsUbguAOFQQY\\u002fC9aguIT9BKVyPwpOPK0HhehQuydsnQc3MzJwajVdBSOF6VG\\u002f5REGkcD2KQMExQVyPwvU6gyRBUrgepW9lSEHXo3B9zAw8QSlcj\\u002fKgZFlBCtejMLrzTUGuR+F6LUUdQR+F61ErdT9BFK5HIXGySkEAAAAAN5NSQfYoXI8YFUxBw\\u002fUoXFIzMkHsUbgeEUcpQUjhelRhPjRBzczMTOhrOUHNzMzMaHwuQeF6FE50c0dB16Nw3T07TEHNzMyM5ihDQdejcH0uJERBSOF6lMIBSkE9Ctfj1gxKQbgehXvQ91xBFK5H4RHLJ0EK16OQGftKQZqZmRn8DihB7FG4nsmSM0GamZk5lZJIQTMzM7NL\\u002fElBexSuB2R2Q0HsUbi+nCxOQVyPwnXIKU9BuB6Fa7OXKEHNzMxM3vo\\u002fQWZmZqay0zhBMzMzswygLkHsUbieP4gtQaRwPQqZiElB4XoUbhp\\u002fQEGuR+GqgIJTQVyPwnU\\u002f5CNB4XoULs2sQEHXo3B9\\u002fstLQRSuR+GrREFBXI\\u002fCtS84MkHNzMwMS7JAQWZmZmaGAihBCtejUMZKQ0E9CtdjU680QT0K16O6DjhBrkfh2uuPQ0H2KFxP4PAxQbgehfv\\u002fYVBB9ihcD8i1OEEzMzOz0igpQY\\u002fC9ejYNUhBZmZmZi80NUFI4XqUmqRBQYXrUTggdi5BXI\\u002fCNUUGNkHhehSuJycyQVK4HsWMKUNBPQrXM1xXXkGuR+F682tAQfYoXA9\\u002fYSRBPQrX4406NEEpXI9Cdg0sQSlcjwIt3kRBSOF6lDSBMEEK16NwoQ7\\u002fQFyPwlWy+kJBXI\\u002fCNf8NM0H2KFyPftMvQZqZmRmakDJB9ihcbyk5SEGamZlZqLxBQVyPwrULsUJBH4XrUSmhNEEpXI+inKtRQRSuR0Hmj0xBPQrXw9QdQkHXo3CdQDRFQaRwPYpVaShBuB6F6zg1UkG4HoWrxhFGQSlcjyLnEkBBPQrXI03FLUFcj8J1+WFDQVK4HgUqOkBBUrgexc5WV0HXo3A9\\u002fXpOQYXrUfi\\u002f7TFBSOF61K4COUGPwvUI3R9EQa5H4bqk0zRBMzMzQ5laUEFSuB7FfKJBQQrXo5D0DkNBzczMzPVeTkHNzMxMa\\u002fU3QexRuJ6qwStBuB6Fa6t2L0E9CtfD8s5DQexRuB4JeElBUrgeBZDfS0FI4Xq0letCQUjhejTqFEFB4XoUrhSuNkHsUbgejzk8QbgehSvOcUNB7FG4HrKKN0HD9SjccEwhQY\\u002fC9YjakVNBuB6Fq9tVQUGkcD2KYcs7Qc3MzIzZLzBBH4Xr8Y9YRkGkcD0K2+MdQVK4HrXpXVBBPQrXo11lLUHXo3AdPApJQRSuR2FYJS9B9ihcD3pZL0FxPQq3OhBEQXsUrscYKCNBUrgepc4KRUGuR+F6HrsqQaRwPfpiM1ZBzczMTPymN0FSuB4FGecxQbgehRtLVFFBmpmZGe7MMEFmZmZmZl8kQcP1KFy0YiBBFK5HoYFJRkGamZnZmw44QVK4HuVe9EFBZmZmZiJFSUEAAAAALV8cQcP1KBzAIzhBuB6Fq3FVQEHsUbieYs5BQWZmZmaCBDtBcT0K1zyAJkGuR+GapINMQeF6FM77yUJBMzMzs5r0K0EUrkfhB5U1QR+F61HORzlBSOF61KkVNEFI4XqUX\\u002fkqQRSuR+FBeyRBSOF6VFWHOEFxPQo3dCFHQc3MzEx1zztBXI\\u002fC9ePXJ0HhehQuNPQzQcP1KBwJ0EpBFK5HIZokRkEUrkfhS9kxQUjhevQAYElBMzMzs8tDJEGuR+F6m0ErQc3MzGxwfkRBcT0KV+YSL0FmZmbm1KUiQSlcj2LxYk1BMzMzs\\u002foFRkG4HoUrb281QVK4HgX9niJBuB6Fa1tjQUFI4Xr0KFxCQYXrUbggaBxBMzMzM7GGREHXo3A937hAQXE9CheENDBBZmZm5hDTLEFI4XpU5cwzQR+F6yHX7VJBw\\u002fUofF1hQkEpXI\\u002fCZy0lQQrXo9DURENB7FG4fskhSEG4HoWrdURFQc3MzEyj0ixBcT0K13DdGUF7FK4H+ahEQbgehStnHEpBFK5HYSczIkHhehRu\\u002fGIwQc3MzMz6iDNBpHA9yn3uR0EAAABAXE44QQAAAICTj0NBPQrXQ0zESEEUrkdhsTcyQc3MzMwszipBUrgehYrNJkEzMzMzUSodQY\\u002fC9SirNCZBhetRuCo+OUH2KFyvn1FNQa5H4bpGzDBBAAAAgAEdM0GuR+H6U3oqQVyPwnW\\u002ffDRBcT0Kd2kEQUHNzMzMxFY7QZqZmdmQETBBzczMzJCxOkF7FK7HTEM\\u002fQUjhepTu70VBpHA9ir1mNUHhehSue3I6QSlcj0J8xj1BMzMzE0rNREFI4XpU1pU\\u002fQeF6FK7DtSxBrkfhevZ+IUF7FK7HnYItQR+F61EutytB7FG4fnVaQEFcj8L1ubQ9QXE9ChcpEUVBexSuR4qXO0GuR+F6aZ5FQfYoXA9royVBrkfh6hE0V0GPwvUo1m83QZqZmZlxfR9B16NwfTZLMkHhehTunL1IQR+F6xH\\u002f1TZBrkfhuuuLTEH2KFxv+utAQa5H4boBPkFBrkfh+n0FOEGPwvXoRU86QT0K16MyljVBMzMzc9O6QUEfhevRcNQ2QVK4HgXr4EBBhetROFaiIEEAAABAkV0yQVyPwjXGVD5BPQrXowRiNEEUrkdhGFQkQaRwPSqCQURBFK5H4VeqJEGuR+F6zfA\\u002fQQAAAIDjLjJB16NwPT68L0EUrkchy3o2QT0K1yNPxjhB16Nw3Q2DQUHsUbjeaZg8QYXrUfhUjzRBexSux7xXJUGamZmZbvs4QQrXozC+0z1BAAAAgB7WIEH2KFyPGUJBQQAAAGDod0xBmpmZuXvpSUGkcD2Km\\u002fBDQZqZmRlPDCBBpHA9Ch+mJ0Fcj8I1IqlFQfYoXG\\u002ft6URBhetROMz2JEFI4Xr0tTFEQexRuB4XNjBBAAAAQC+KQEHD9ShcuQBIQVyPwvVCYzdB4XoUrrOGIEEfhevx2IZGQdejcD2s+jBBH4XrUeMUJkF7FK6nqBdNQeF6FK4NeiRBmpmZmZd3JEFI4XqULKY9QcP1KBz6FjVB7FG4nvWzO0HhehTOCCRAQbgehauebj9BpHA9iswtPUEpXI\\u002fCAjFCQc3MzIx1AERBmpmZWemMPUF7FK5HAq4tQXE9CleuETBBmpmZGVdMP0FSuB6F4DciQdejcD0tXxxB4XoUrgNdRUGF61HYZRlCQRSuR4GcJkBBuB6Fa\\u002fV6IUGamZkZQsc1QVK4HoXiSCVBhetRGNhNTUFSuB4F75BBQWZmZuaIsjZBuB6FKwIDPEFmZmbmA2UrQWZmZqakGjpBUrgexQPuTUFSuB7l0a9BQRSuR6HB0ERB16NwvZstIkEpXI+CdetFQfYoXM+aWD1BzczMzLUDMEGkcD0KWs0wQaRwPQoVPTFBFK5HoXV1RkEpXI9CEggqQTMzM9MSGUZB9ihc72V0RkFmZmZm\\u002fqM7QVK4HoXO0iNBpHA9ijC9OkG4HoVrRCgmQR+F61HZgDhBzczMDCH6O0HNzMyM5joxQdejcB2jy0BB9ihcj2OcLUHNzMzM9vU9QUjhetTdwURBmpmZ+fRES0HXo3C9wLg0QYXrUTgod0BBpHA9yp4aPEGkcD2qbH5DQQAAAMDpnzFBhetROLagIEEfhevRf\\u002fggQeF6FC77KCBBH4XrkRwaPEHXo3C9FjInQUjhepRCxD5BMzMzs3iWOEGF61G4jFEhQeF6FC49ayZBXI\\u002fCdTrWMEEAAACA2OokQeF6FC4YrTJBPQrXo4ZMNEF7FK7H4Fo0QfYoXI+k5SlBMzMzM0DRG0FSuB4FlgRCQRSuR2Gf+ShBzczMTPeOKEE9CtejtxIeQZqZmVlubEJBCtejcHXhIUGF61F4udo8QbgehaunojVBuB6FSz+vQ0GamZmZOO4eQRSuR6HBXD1Bw\\u002fUoPGRVTkG4HoXrpz1KQaRwPQrAPzRBj8L16PCyNkEK16NwUxlEQcP1KJyan0ZBzczMzNeRE0HhehTO4ilGQT0K1yO95SxBexSuh9C2NEEpXI8CQKM+QVyPwnUU6ydBPQrXoyXSQUGF61GYcgFEQXE9ChdixTRBexSuJ4tKR0GPwvUostQoQTMzM3O8fjpBUrgeBQqaJkFxPQrXgzMdQa5H4brouT1B9ihczwszNEHsUbge1O9DQYXrUdi5vURB16NwPSuFMUEUrkchlDozQa5H4bq+\\u002f0tBhetR2KbFRUHD9SgcLwg6QSlcj+LBeUNBrkfhekfTIEGPwvWorWpHQT0K1yOpmSFBuB6Fy5A3SUGuR+EaWMhGQXE9CteTqSJBzczMDBDmOUHsUbieogsrQfYoXI8+djlBzczMzOC+LUHhehSuPt4\\u002fQYXrUTiOby1BAAAAIGGyQUEzMzMzUIQrQQrXo3ATsi9BCtejcPAJRkGF61G4+XQsQXE9CtcjZ0RBH4XrETUzQEFI4XoUAJwgQQAAAIB83S9BZmZmxpOrQkFSuB6FfURDQR+F61EiqhtB9ihcj9IJMkHXo3A9atb8QD0K1yMuRzBBj8L1yL8NTEEzMzMzqFs5QZqZmVkL9DNB16Nwve+ILEFmZmbG9i5RQTMzM3PIzTNBZmZmpmczQUGuR+Faf3hGQUjhetQqCTBB7FG43jY8OUGamZmZsu1CQWZmZgYoHUFBFK5HoSr+OEHD9ShctD0dQTMzMzON1zdBCtejcGYZJEFSuB6FU1QeQSlcj8IDxhxB16NwPch9F0HsUbhe5c06QVyPwnURxj9BXI\\u002fC9R7GL0EzMzMzFUkdQXE9ClfutSJBCtej8GgrIUGuR+G6VC08QVyPwvWITxlBFK5H4UM2J0GuR+H6qJ0tQc3MzAzBADNBCtejcPYgQ0EK16Mw8CtAQXE9CjeNeUlBw\\u002fUoXAJ7KkEUrkfhZus\\u002fQXE9Cpd70DJBUrgehQnGHEHXo3C9miEjQXsUrqdAS09BH4XrEYhyOkEfhetRdCAyQT0K12P5zjZB16NwvRavI0FI4XpU6tc5QVK4HiXzN09Brkfh+r47NUFmZmbme6MgQaRwPUpzj0ZBhetReJWmOEEAAAAAU2cnQcP1KNwMESdBCtej8MsCLUGF61F4DQ0\\u002fQXsUrkdNYjdBFK5HIZm2MkG4HoXrfJIiQQrXo3C5vjVBXI\\u002fCdW3RMkGamZlZEaY+QUjhetRyc0lBhetRuFGWQUFmZmYG0nFKQY\\u002fC9ShXljRBMzMzM0rxK0GkcD3KPc0wQexRuB6COyhBKVyPQgLTL0H2KFwPSOsvQcP1KNySJjhB16NwvTdEP0EpXI+CoGs5QRSuR0HSsUdB4XoUrrECQEFcj8I1\\u002fRJBQRSuR+EPsjBBrkfh+sK2P0GamZnZD+cyQVK4HoVvnyJBXI\\u002fC9d6tKEFxPQrXmbQZQbgehWsyAjNBMzMzsxlBJkEUrkfhDwo7QdejcL20CShBhetROIogLEGPwvWoyQ4sQQAAAADqailBrkfh+saVIEGPwvXo82IxQQAAAAA2QTFBAAAAANAVHkHsUbgepm4dQQrXo\\u002fCZ1SFB9ihcTx6kMkE9CtfjtUg\\u002fQbgeheutsi9BuB6FaxFyMkGkcD1q54ZCQXE9CtcnpxpBMzMzs8fXJkEUrkeB91hAQWZmZuY\\u002fOiBBhetR+FUHOkEpXI9CBs8mQbgehWtLfTJBj8L1aHwxOUEpXI9CSnAzQT0K12MIHTJBFK5HQXztSUE9CtejdgA8QXsUrkfMFyFBH4XrUebgFUEK16Nw6Ss8QRSuR+ELRyBBZmZmJpu+PkEzMzMzXvk5QbgehWunPUdBzczMzFB7FkHNzMxMmy1GQaRwPYrkQyFBFK5H4ZupKkEfhevRDuItQWZmZmYsvSZBrkfhOnd6NUFxPQp3IIVPQYXrUTiWuzVBH4Xr0aNAN0HsUbgepng\\u002fQTMzM7ORNzJBFK5HYc+CNUGamZmZJW4TQcP1KFwjWBxBrkfhemwXPEFxPQpXWokoQeF6FK7t1RFBzczMTN3PMEFSuB7FpUcwQc3MzMzQGjVBzczMjJK3MEFmZmZmanwaQcP1KFykDCJBUrgeRVXGPEHXo3C9YagjQc3MzExolD1B7FG4nmBqI0E9Ctcjq4oqQWZmZqZZSTFBzczMTDLxM0HhehSudZw3QR+F65EZWztBrkfhemYDEkE9Ctfj5Qo5QR+F61GyqDlBhetROMPeNEGPwvUoEkE6QXsUrsejNC5BKVyPgnNDMEHNzMxMeqQhQQrXo7Ab4TpBKVyPguwjREHhehQuvOYpQQAAAIBLNTtBuB6Fa\\u002f1kPkHNzMxMVBUyQXsUrkeARDJBXI\\u002fC9YbmP0GPwvWorQc7QZqZmRkg90xBpHA9yu3jMkHhehQuWZg3QbgehSsWaDBB7FG4HiOgKkG4HoXLdztDQY\\u002fC9Wg3YzFBSOF6FDVGKUGuR+F6J\\u002fgcQVK4HsUvGz1BH4XrUXaKPUFI4XqUq0xDQbgehevjiDhBj8L1aM99PUG4HoXrty0kQc3MzGyX7UNBPQrX4+xCMkHsUbgeiyUrQY\\u002fC9ag6RiVBAAAAgOzSMEFI4XpU891DQT0K16PmpBpBXI\\u002fC9U3SNkG4HoXrTWgtQR+F69HtFjBBMzMzs3U+MUFmZmYmNjU9QR+F63ETkUBBH4Xr0Z74N0EUrkdhhuQqQdejcP1nBTZBPQrXIz44MEFSuB5lieBAQR+F61EkzChBH4XrUc0LN0EpXI\\u002fCVqQhQRSuR6E7UDJBFK5HYSIkIUH2KFxvQ01CQT0K16PQdTRBexSup3B4QUFmZmZmIrAFQQAAAADERTJBSOF6VKdtMUGPwvUoj5YdQXsUrkcHvx5BKVyPQoXWMkH2KFxPc\\u002fo1QQAAAIApIjdBSOF6FGvnL0GuR+F6CqIkQQrXo3CT5RpB7FG4HuQlMEEAAAAAshsYQR+F65F9mzlBH4XrEd32M0FmZmamaDM4QeF6FG4nYTFBCtejsHEQMEGkcD0KSTcpQc3MzMwSIzRBhetROPbGK0FI4XpU92s5QcP1KJzeWUxBrkfhimcCX0EpXI9itE9AQRSuR+Ei8BlBmpmZGXmnPkE9CtejxBD5QNejcL3HkCNB9ihcz4o5MUHsUbgevQEFQc3MzMy\\u002f4iBBpHA9aui+Q0GF61EYQm5FQeF6FK7vywFBFK5H4a00EkEUrkchYPUwQTMzMzOg9yZBCtejqNCBdUF7FK5Hiy4UQZqZmVHvVGBBhetRwLY7a0HNzMzMm8obQWZmZsYn4EZBexSux0BRJkH2KFwPSc0yQa5H4fo\\u002fnS5BFK5HYTvONUH2KFxPzeY8QSlcj\\u002fL0MWxB4XoUzksfdEHsUbgecjUqQexRuF7SAzRBj8L1aPFHP0HXo3B9BCJUQTMzM7NTk0xBZmZmJuYQTkEpXI9CABskQXsUrvdkKFxBXI\\u002fC9RbSCUFxPQrXiyIRQR+F69H3VjlBUrgehdreGkFI4XoUjjwOQWZmZqb9eTBBrkfher3bKEGkcD0KcaABQfYoXA+06SFBUrgepRXMVEG4HoUr5MBdQa5H4RrtqUhBCtejgJhKZEG4HoXfH0JwQexRuB7R4ANBFK5H4eGGGUFSuB6FZx86QZqZmZkGJBZBmpmZmXPIBEGuR+F6hksLQSlcj2IgOE5BUrgeBfoHQkHhehSu1+nxQPYoXI+CyBRB9ihcjyrt8kDhehSu7eYHQR+F61GAMQNBw\\u002fUoXOF9FkFxPQrX4yPRQLgeheuHcgJBhetRmCM6QkEK16NwzYL9QPYoXI9DqRxBuB6F67DYI0FSuB4FAj42QeF6FK7Q5iBBZmZmZge8FkFSuB6F1gETQRSuR+EmtRVBMzMzM3n8C0GPwvWoVY1MQZqZmfk6sFpBw\\u002fUoXIcc+kCPwvUo\\u002fFkRQbgeheusFh5BAAAAQIy1NkHNzMzMdoUAQTMzMzOZZA1BH4XrUXayAUEK16Pwac5JQc3MzMxMLstAMzMzE5DTQkFcj8KVItVLQcP1KFw6+CpBZmZmZrXVFkEAAAAAY6IUQbgehev5XO1Aj8L1KNye9UA9CtejEakmQTMzMzOz2LBAMzMzixIka0FI4XoUw8YSQVK4HoWwZxxBpHA9SsaBNEHXo3A9jHcdQXsUrkdpqOhArkfhGvf8XkEfhetR9TQvQdejcD0CmPVApHA9Coe0FUEpXI\\u002fCeAgRQQAAAABJJRJBzczMzPQMBUHsUbgeHTzzQDMzMzO7oehAFK5HoU50OkGkcD2KUeAiQbgehesTfwhB4XoUbg1eNEH2KFyP4tH4QHE9CpcipjFBSOF6FFbG+UCuR+F62Br\\u002fQKRwPYrNoyZBMzMzM9ONzkC4HoWb5SBWQQrXoxBk8VlBw\\u002fUonMHVN0EK16OA6dlQQSlcj8ItIgpBH4Xr8RNYUUFxPQrXjnwlQXsUrkcRwNdAXI\\u002fC9feTJ0EK16NwkxhpQVyPwvVzoRpBzczMzL3vIEHhehSuLCgWQcP1KFyvMedAcT0K1+PW4UCF61EA9dljQRSuR+HAWAxBH4XrURR890AfhetRePAEQQAAAABg085AcT0K1wcOCkEUrkfhgqvoQLgehesjTgVBuB6F6+MDAEEzMzMzU\\u002fzBQMP1KFxLAxtBuB6F63Gd5kBcj8L1iA\\u002f0QM3MzMyMQB5BCtejcH8YAUHhehTuFgA3QY\\u002fC9ShkauJAmpmZWZrzNUEzMzMznK0zQYXrUbgQLDdBXI\\u002fC9ZHXGEHD9ShcNVcIQY\\u002fC9SicXeVACtejcMjPQEG4HoXrKmtBQbgehVuavGVBFK5HIcReOkEK16Pwh8BFQQAAAADNlB9BcT0K11sRBUFSuB6Fb0gMQQrXowAIHVFBuB6F6+9OD0H2KFyP4m8EQVyPwvW6TgFBCtejcHGpB0EAAACA9SEvQQrXozCGrjNB4XoUrq9WAkF7FK5HzZQIQcP1KFyvLtlA4XoULokOIEHXo3A9bqkBQXsUrkcZkwxBpHA9ur9eXkEK16NwLXbaQM3MzMxMZu5AexSuR2nb4kCF61G4\\u002fYIVQa5H4XqA1hBBSOF6FFbU9kDXo3A9EDgCQXE9CteDsOtAUrgehXuN30DhehSub7r6QDMzMzOTBttAcT0K1yNE20DsUbieo3ojQUjhehTuhslAw\\u002fUonEmzMEG4HoXrUbTpQB+F61GA3QZB4XoU7g3IMkEUrkfhUFYTQbgehWs\\u002f5DJBmpmZmTHI4EAzMzNz5zo2QY\\u002fC9ShkDflAZmZmZhtYI0GamZmZ2cfaQOxRuB51XdhAXI\\u002fC9ci310ApXI\\u002fCRw8wQbgehevJ1OFA7FG4HrUx70DhehSuQ1YEQdejcD3qPMFAXI\\u002fC9TD44UDsUbge14YuQXsUrkfRvdZA4XoUrrXnB0GkcD0KHzDkQM3MzMxJIxVBMzMzM8Or\\u002fUDD9ShcT7PAQDMzMzNbkOhAuB6F6xASU0EpXI\\u002fCgcsHQVK4HoU37xBB9ihcj4JuwkD2KFyPpFUkQYXrUTjSki1B7FG4HgHi+UBI4XqUKzMiQaRwPcrN9DBBcT0K1yOH3kCkcD0Kc2EEQRSuR+EOhAxBexSuRyGLw0DsUbgexZewQLgehesxjxZBH4XrUXD94kBI4XoUk5pYQY\\u002fC9Sgs49JAw\\u002fUoXO8l9kDNzMzM\\u002fI\\u002fRQIXrUdg82VRBFK5HwWTzRkE9CtejoLcCQdejcD1mH\\u002fhAXI\\u002fC9XBR9kC4HoXr2S4KQYXrUci6nV5BAAAAAFBzCEGF61G4YDsSQfYoXH\\u002f\\u002f21FBMzMzM1uC7EBSuB6Fe43fQAAAAAAABotA9ihcjyqBDUGuR+F6dAfgQGZmZmZ2ieVAUrgehWux8UBI4XoU7tDMQEjhehTWxCNB9ihcDx8JIEEfhetRjGHzQAAAAICbvyBBj8L1iOBzUEHD9ShcD\\u002fDFQAAAAICDeyJBAAAAAMARt0CPwvWop+lPQVK4HoVXtvlAzczMzMwfokCPwvUo3F26QNejcH2jVjJBZmZmZpbKGUGkcD1KsUEzQdejcD0Kq61Aj8L1KBRX6UAzMzMzsqApQUjhehS+oN9AhetRuO8+GEHD9ShcN7\\u002fiQK5H4XpMmelAPQrXo5wz+EAK16Nw7enjQArXo\\u002fCj00FBrkfherDS\\u002fUCamZmZERvvQJqZmZnx8vpAcT0K16OfuECF61G4WMcFQUjhehR+wtFAmpmZmeVL8kAUrkdhdQsgQR+F61EUBApBj8L1KLa2AkHNzMzMTIThQGZmZqZlITlBMzMzM\\u002fPt7UBmZmZmmpkGQcP1KFwZ20hBpHA9CnqRI0HXo3A93ncyQdejcH3WN0pBPQrXoxMIFEHsUbgeHS7\\u002fQClcj8KlS+5ApHA9Ckm3AkFcj8JVZZVDQY\\u002fC9Sje1A5B9ihcj+pu4UCamZmpZKxcQZqZmZmZaMNAMzMzM7Ng3kBSuB6Fe5gYQVK4HoVDyetAexSuR4HDHUGPwvUoT0E0QWZmZoZAxkBBuB6F60mx9UCkcD0K51LiQM3MzMyo7PRA16Nwveg\\u002fPkGkcD0Kp3rUQOF6FK7nLNdAXI\\u002fCtd6cMUEzMzMz+8fsQIXrUbieB+pA7FG4HlnyBUGamZmZI\\u002fskQY\\u002fC9SjcguJAAAAAQEybMEFI4XoU7lnqQClcj8L10c9AKVyPwjmt9UAAAADA3yM+QeF6FK6vdPJAKVyPwsX\\u002f4UAfhetRaPbnQFK4HoXBIwFBMzMzM61YA0EzMzMzG8HwQDMzMzN7ZgJBFK5H4Xx9J0EAAAAAAAAAAM3MzMysB8VA7FG4HgEhDUEK16MwYWgyQVK4HoUroPhAH4XrUahI1kCamZmZmfDNQB+F61E0cw9B7FG4Hq2jHEH2KFxv+7FOQc3MzMzMFG1AAAAAALg49EDNzMycx2FQQT0K16OUGfRA7FG4HklU\\u002f0BI4XoUXtXrQOF6FK5HsZRAPQrXo3B6\\u002fkDD9ShcZJ4jQeF6FK7vgu9Arkfhegp9E0HhehSua7ATQa5H4Xq0L8FAexSuRwH8xUBxPQrXI0TbQI\\u002fC9ejqRz1BXI\\u002fC9SBuLkEAAAAAAAAAAM3MzMwgtwZB16NwPUrG1EBI4XoUjkTqQD0K14NXBkpBCtejcK0+5ECF61H4fnQwQXsUrkcB59JAXI\\u002fC9dhr7EC4HoXrkZPNQClcj8L1cBFBPQrXo+ZbGkH2KFyPwtrMQFyPwvXwwOlASOF6FPg3AUHsUbgeeZwDQSlcj8J1EPFAKVyPwpVYzEDsUbiernw1QUjhehQmyPxAcT0K1y7GEEFmZmZmZqyrQJqZmZnJiOJAmpmZmYmK\\u002f0Bcj8IVKf5TQaRwPYriNzZBMzMzMzNes0AK16NwyTQCQfYoXI+SgdhAKVyPwi0w5EDNzMzMdDjqQDMzMzMTxNFAexSuR8ugEUEK16Nw\\u002fZb2QOF6FK7PF+lACtejcL37rkCF61F4GEQ4QWZmZmY29dFAUrgehWO94ECF61G4X9sQQR+F61FJ3RlBXI\\u002fC9ZgL1EAfhetRGP\\u002fkQI\\u002fC9Sj87MZACtejcB0AxUA9CtejUBnOQAAAAAAAAAAAhetRuB7p3UAAAAAAQNjtQOxRuB6lA9tAUrgehSOk\\u002f0AAAAAAlFjxQLgeheu5pe5AexSuRyRrGUHhehSugQczQRSuR+EzmSJB7FG43rAoNEHXo3A9ppv5QOxRuB4tZONA4XoUrkdxx0D2KFyPervkQKRwPQrT1vBAw\\u002fUoXE9lsUAfheuxVRdEQQAAAICkFy5B7FG4HtVq\\u002fUBSuB4FPwAsQfYoXI9q7OtA9ihcj6JB+UBmZmZm+l\\u002f2QDMzMzOzyNRAw\\u002fUoHMsCM0GF61G4IQcdQTMzMzMjIdpAexSuJwJHUkHsUbge9ejbQK5H4XrIbABBCtejcB2A20AK16Pwhm4qQR+F61H4\\u002f7FArkfhegRJ0kB7FK4HpKo6QT0K16NTmjtBPQrXI3xJOEF7FK5H4XrPQB+F65HUgzVBFK5H4Tp\\u002f1UDsUbgezDokQSlcj8KVf8xAAAAAAM1zIEHNzMzM++8dQdejcL3JHC9BexSuRxH60kDNzMzMMN0EQc3MzMxMT85ACtejcF1wwEBcj8J1f1EnQeF6FK5HZMhAmpmZmR4aGEF7FK5HPZv2QHsUrseXXCRBzczMzMzXxUCkcD0K18XlQFyPwvUI7NNAUrgehaafHEEK16NwyQgbQfYoXI+qBxpBcT0KV9QiN0EfhevR+SktQYXrUbgeA6xA4XoUrkfjhUB7FK5Hr38BQVK4HiWsi0pBmpmZmRmEpUBSuB6FW83XQArXo3C9iMJA4XoUrpfo80BI4XoUki40QcP1KFz3pOhA16NwPcq51UDXo3A9CiLMQD0K16OwDdNAexSuR2HRwkBI4XoUzsbYQAAAAADI6QJBMzMzc\\u002fv3MEGPwvVoLQgxQQAAAAAAAAAACtejcL0dpUD2KFyPyjLqQHsUrkfBpgNBrkfhehqeB0GkcD0K112oQIXrUbju7ttAFK5H4Tqt8kDsUbgeyfj0QFK4HoUjCvlA9ihcj2a0\\u002fkDXo3A9UnDnQJqZmZkBLONA9ihcj\\u002faX8EDNzMzMVNrgQHsUrkfhw8xA7FG4HplN9kAUrkfhuiXQQMP1KFwALiNBAAAAAEBU3kApXI8iNrtCQRSuR+E6fMBA4XoUrhs59UDXo3D9PXJDQQrXo9Bwg0dBj8L1KLg+8ED2KFyP10EbQexRuB7zKCFBKVyPwvVt10BxPQpXG8I5QZqZmZkZC7BApHA9SidAOkGamZmZG2gRQZqZmZmZdCJBZmZmZsYBzEA9CtejcLnQQJqZmZlZP8NASOF6FAweDEFmZmZmhi\\u002fUQArXo3BdQc5Aw\\u002fUoXIfE50DNzMy8ZUpUQSlcj8L1F5RAmpmZmdWEDUHhehSuK9IAQcP1KFxbPQdBFK5H4RLV7UC4HoXr8SbTQClcj8I1ObRAH4XrkcsSN0GamZmZAfznQHE9Ctc\\u002fXyVBcT0K14Nu50BI4XoUkqH2QK5H4XqclOZAAAAAAABlrEBmZmYmCEpDQRSuR+GcTwFB16NwParz1UCPwvUoEEAXQXsUrscsiyZB4XoUrnXkAUFSuB4FLfwuQTMzMzPtTA5BhetROF29QUEpXI\\u002fC9eiZQOF6FK5Xcu9ASOF6FEoZ+0AAAAAAAAAAAFyPwrXcKUNBKVyPwk0r40CamZmZ+WrbQLgehetRCg9B7FG4HvUg0ECPwvUoHMbEQHsUrkcyvxtBuB6F61EEgkBmZmZGfhZBQQAAAACkfPdAzczMzOwozUDXo3A9Cp+wQD0K16OeKA1BzczMzGRc6UAK16NwrVfqQDMzMzPHmfNAXI\\u002fC9WibsEBmZmZmCoz2QIXrUbgJKy9B7FG4Hk7rFEFxPQqX5dg3QexRuB4F3KNAzczMTBRwQkHNzMzMzN+QQFyPwvXo6LlAexSux06yJEEzMzMzW6\\u002fjQClcj8LV289AzczMzKzEBkEK16NwvcqtQFyPwvXIpOVA4XoUroeauUDNzMzMIhYOQVK4HoWaDxlBZmZmZk+rF0EK16Pwc8IkQc3MzMysEQxBj8L1KFz+rkDsUbgeBRyrQIXrUbhxJitBzczMzNoDAkEK16NwPaqQQEjhehTS9D5BFK5H4T9JG0FI4XoUfoLvQOF6FK7n09hAMzMzM0PT5UB7FK5H4WDlQEjhehTMWwRB16NwPW6u9EDNzMzMzLC0QLgehev54OVAFK5H4fq7zUBcj8L1\\u002fJr+QD0K16PQZu9AMzMzMxYaLUEpXI\\u002fC9bKVQPYoXI9C\\u002f6FAAAAAAIANpEApXI\\u002fCFU\\u002fHQD0K16N0pfBAAAAAAIAky0CPwvUoXHSnQBSuR2H5PCNBj8L1KElkEkFSuB6FGz\\u002fpQI\\u002fC9SgLyxJBhetRuI9jJ0G4HoXr8YzGQKRwPQrPtihB16NwPd5190AzMzMz+zgKQTMzMzPDz9RAZmZm5g5yJ0GamZmZRwUcQVK4HoU\\u002fgPFAMzMzM7MtoEAK16NwAxUfQYXrUbjW1Q5BexSuR4WjHEEzMzMzk9HKQHE9CtdTCNpAKVyPwq1i6UAzMzMzqRgSQa5H4XowPxpB4XoUri\\u002fM\\u002fUAzMzMzmyPgQD0K16PwEqBArkfhOmtwN0HD9SjcxDkxQa5H4fod4zdBFK5H4TY3+0CF61G4hqXhQAAAAADuFgJB9ihcj8r+80C4HoXr3Qr5QD0K16OwiclArkfhegaXEUGamZmZxUYBQc3MzMx0XOBAuB6F68PQAUE9CtcjnhEhQcP1KFxXVuFAMzMzMxNyzUBSuB6Fg\\u002frsQK5H4Xo8BvtAXI\\u002fC9fDG5kCPwvUonHOxQMP1KFwPa8tAhetRuLrcDUFI4XoUXmvqQHE9CtdjE8JAw\\u002fUoXL4VF0G4HoXrKKMhQXE9CtfTK+dA9ihcj7KC20CuR+F6JBb4QK5H4XrUwORAcT0K13NI+EAK16NwvamxQEjhehQ23u5AXI\\u002fC9bjZ0kAzMzPT3E5IQVyPwvUAuutArkfhelD6AUEUrkfhukzDQPYoXI\\u002fCW8dAj8L1KJw8s0ApXI\\u002fCNZe3QBSuR+G6o7pAexSuRy3q+0BSuB5F1PxIQcP1KFyqnCtBUrgehaP\\u002f4EC4HoXr4annQMP1KNxQTydBcT0K13Ou0kCkcD0KV1CwQHE9Ctc78edAZmZmZp5KAUFSuB6FS8bCQEjhehRGOOFAPQrXw25hR0FSuB6F61yxQK5H4XqUBKlAhetROCFaRUFSuB6F3HAdQcP1KJw0IzJB9ihcj5IR20DNzMzMTMCpQHsUrkehabZAH4XrUflfEkHNzMzMzBaKQFK4HoVL9ABB16Nwndy\\u002fQkFcj8L1yJfIQGZmZmY0VzpBrkfhekSm10BSuB6FFGoXQeF6FK5wrRNBKVyPwsXS3EAzMzMzJxD6QHE9CtdD58VAhetRuB7am0C4HoXrUQGyQPYoXI\\u002fCyKdAj8L1KNxa3kBcj8L1vEL+QPYoXM9D3UNBj8L1KCA1C0GamZmZqRr7QK5H4XqKtyVB9ihcj1VcH0EK16OwVO8zQQAAAADAAMdApHA9Ch9\\u002fAEEUrkfhevXJQM3MzEzFRChBXI\\u002fC9SgezEDNzMzMqmYJQT0K16PuxwJBMzMzMzPapUBcj8L1KIRxQHE9CtfiqB9B16Nw\\u002fUFlM0GamZkZjZA5QbgehetJowlBexSuRzHZ2kAzMzMzL6f2QAAAAICuQCBBrkfhenduEkEzMzMzH1z1QLgehevRustAFK5H4SZSEkGPwvUoLETRQJqZmRnjNilB4XoUrjPW\\u002fUCamZmZwTX4QAAAAAA4I+5AAAAAAICWskBxPQrXK2rjQAAAAAAAAAAA4XoUrgnRAEFI4Xp0W5FAQVyPwvVQh\\u002fVAFK5H4QQSD0EzMzMz05PWQLgehauxo0JBPQrXo7CktEC4HoXr4YAPQZqZmZkRWflAPQrXo9ic7UAzMzMzc\\u002fDGQI\\u002fC9SjuGBJBFK5HwSNKSUHNzMxMkkgzQXE9CtdjNLpAcT0K1\\u002fMO00CamZmZWcrVQIXrUbgGjuZASOF6FHY\\u002f5kCPwvUozBztQIXrUTiT1iZB9ihcj2Lz9UDsUbheu3AwQY\\u002fC9SjsT9RAzczMzIz9s0AAAAAAgImiQArXo3CeGhxBCtejcGW25kC4HoXr0XDCQOF6FK4RrAhBw\\u002fUoXO\\u002ffwkB7FK5HZbkIQQrXo3C94sRApHA9CncJE0HD9ShcT9PgQClcj8K1u71AuB6F67Hay0CamZmZWXbDQD0K16Mw8ttAuB6F61p0EkEpXI\\u002fC5UrlQEjhehQuntVAzczMzKDb9UBSuB6F68\\u002foQB+F61G8u\\u002fhArkfhemWyJkFmZmbmK8w8QZqZmZmJLtdAexSuR0\\u002fUEkFmZmaGIlFIQZqZmZnp2NFAFK5HoVvLPkEUrkfh7nUSQXsUrkd5GOxAPQrXo3xd80AK16NwZe3hQBSuR+EaIt9APQrXY+OiMUEpXI\\u002fC7azxQHsUrgePAUVBzczMzBgkEUFxPQrXS68mQVK4HoW9\\u002fQNBmpmZGZG1P0EpXI9C0hErQdejcD3vShFBmpmZmRy8KUFcj8L16PjmQNejcD3qlsxAAAAAAAAAAAAfhetRWt5AQY\\u002fC9SicJMFAexSuR+9qK0F7FK5H5W0VQXE9CtfjB7RAhetRuPIzAUG4HoXrjL4SQQAAAAAM3g5Bj8L1KPwv6kC4HoXrBlMeQfYoXI9CEK1AZmZmZqbxFUFI4XoUol\\u002fxQFyPwvXOLgVBpHA9CoREKkHXo3A9woX+QOxRuD6N8kRBFK5H4drUzkAzMzMz\\u002fyn0QLgehevJL+RACtejcNF3CEHD9ShcP23SQKRwPYqKLCBBuB6F6+kW4EApXI8COic3QXsUrkdpxvBACtejcD1OmUBcj8L1iIDdQKRwPQojM\\u002flAAAAAACjJJ0GkcD0KZxPgQClcj0LPBixBXI\\u002fC9ehKskCF61G46z8qQRSuR+ED4RZBuB6F6xmfEEEUrkfhSp3iQM3MzMzM\\u002fuRAmpmZGc3nOEEfhetRvfUcQbgehevhK9lAj8L1KFyPP0DXo3A9CiSWQKRwPQovwutAFK5H4cf2E0FxPQrXQ2X\\u002fQArXo3DdueZArkfhenXyH0EUrkfhel2ZQK5H4XoUZ+dAZmZmZtYi70D2KFyPwrVgQFK4HoWrledASOF6FK44I0GamZkZHaZDQdejcD3huy9BhetRuOKeBkGkcD0KV3nCQLgeheuxw8RAw\\u002fUoXI\\u002fCiECPwvUobJfeQFyPwnVO6yZBmpmZmRlFwEBSuB6F3\\u002fb3QHE9CteEaxRBmpmZmRF26UCPwvUowmkVQT0K16Nw6NRA16NwPcqbtUAK16NwzTXvQPYoXI\\u002fa0+dAzczMzJonCUGPwvVo5gczQexRuB6F0ZNAj8L1KJxv9kAAAAAAAAAAAMP1KFwvE\\u002fFAmpmZmR8sIkGuR+F6FJi\\u002fQClcj8LtQwZB7FG4HhJBIEFSuB6F66WJQK5H4XoUgPxAmpmZmWX6\\u002fEBxPQpXCEk7QR+F61GIwdBAKVyPwpITJEH2KFyPQnqkQMP1KFwPM8hAhetRuI4W+kB7FK5HRVUKQQAAAACgr9BAKVyPws1M6UApXI\\u002fCFTHLQOxRuN6p8kBBmpmZmc1QA0HsUbgeCaryQBSuR+EpSTZBpHA9itx5O0EK16NwLcXyQMP1KFw7AvlAAAAAACG4E0HsUbiebJUiQSlcj0L+HS5BMzMzM7Oa70DXo3A9jqH3QLgeheu0mhNBexSuRznNBkH2KFyPckPwQBSuR+H35BRBw\\u002fUoXD\\u002f56kCuR+F6FDWpQGZmZmZaK\\u002fZAMzMzM\\u002fF+FUEAAAAAQCq+QPYoXI+igu1A4XoUrmOBJ0H2KFyPmsToQIXrUbi\\u002fxBNBzczMzAx2s0CPwvVoQW0\\u002fQXsUrkdhPeNAH4XrMcxwQUEK16NwqxIhQa5H4XrU6LdAcT0K1\\u002fmcOEHD9ShcrwzPQGZmZuZmIy1Bj8L1KNxO40CuR+F6cNANQbgehevRTqdACtejcFN4DUHXo3B97L09QQAAAAAA6JtAuB6F67FG7UDNzMzM\\u002fBjVQB+F61Hw3+tAhetR+CRPRkGPwvUosB0FQVyPwvUo8Z5AXI\\u002fC9ThY3UCPwvUorKbYQOF6FK43gdlArkfhet6BEUF7FK5HYT+1QGZmZmYaL\\u002fVApHA9SkJrMUGPwvUo3Bw8QbgehevxcwJBXI\\u002fC9WhF0EDXo3A9io+5QI\\u002fC9Si8e89A4XoUrq4eFUEpXI\\u002fClUj4QM3MzMw7tStBpHA9CteBlUCF61G4nofbQClcj8KVf8tA4XoUrgcHxEAK16NwfXIJQRSuR+H37xtBFK5H4T9OHUGuR+F68y9BQaRwPYph0yBBhetRuN690EAzMzMzFUAQQa5H4XoU4rRApHA9CvSSEEGuR+F6sJT7QFK4HoWre7lAFK5H4eqs6EAAAABACHgwQRSuR+EW6BVBexSuR+EwskAUrkfheg2vQD0K16PA0\\u002fZA9ihcjwru9EB7FK4XHgRRQRSuR+G6qs5ApHA9inBZREE9CtdDeMJdQcP1KFyn+uhAzczMzIxx10B7FK5HiUTnQEjhehQe9glBw\\u002fUoXL8Z90DNzMzMUFL+QIXrUbh6JyNBcT0KN6hjSUEfheuJIlVwQVyPwvUAu\\u002fZAZmZm5vUzIEHhehTuwHY2QexRuJ57rjFBXI\\u002fCde1rOEHsUbge5As3QQAAAAAkK\\u002fxAuB6F6ywAOkEpXI\\u002fCJULiQGZmZmZWHeJA16NwPQ7s\\u002f0ApXI\\u002fC9azCQFyPwvWo0LFAhetRuFr++kDD9ShcoxQIQVK4HoXLvcpACtejcD1tskBcj8L1ioEgQdejcP3vs1JBmpmZmZkRaECamZnZSN9KQfYoXP+oImhBUrgehYtg3UA9CtejADX1QLgeheuUGhpBw\\u002fUoXL952UCamZmZOdraQM3MzMzM2oFAPQrXIwUNOkFcj8L1GbQTQcP1KFyP5n5ApHA9Cr8v4kAzMzMzc\\u002fvKQGZmZmZmmcpAzczMzEzosEAUrkfh6tDfQIXrUbgeJU9AmpmZmZnjkkApXI\\u002fC1q4qQcP1KFyPgrpAj8L1KBw0v0DXo3A9stziQLgehevBudVASOF6FM4+CUHhehSuF7vZQArXo3C9XL1AmpmZmZkhYEC4HoXrEeDMQKRwPQobUDFB4XoULhXGO0FSuB6F6869QK5H4XpUpbdAFK5H4dq9y0DhehSu1\\u002fvrQEjhehQu4L5AzczMzExLy0AfhetRsCbsQEjhehTSAEFBAAAAAAAAAACkcD0K50kFQQAAAIDjhThB9ihcj2I09UB7FK5HeZ7mQK5H4XqYO\\u002fVASOF6FK43XUAAAAAAAAAAAPYoXI+MrQFBAAAAAAAAAAAfhethZ05aQUjhehRgjwFB7FG4HkWiwkBSuB6Fw+ECQWZmZmaG7dVAZmZmZgaLzEBI4XpUJM5FQVK4HoXbBuZAFK5H4bqxxUB7FK5H8S3kQLgehesBnNJAPQrXo\\u002fja4kCuR+F6FB+5QAAAAAAATJhASOF6FK6Rj0B7FK7HNRggQQrXo3AdfNBAKVyPwvUdlUApXI\\u002fC4XIUQeF6FK5Ht9FAH4XrUXzP+kCamZmZWQi1QLgehevRDrpArkfheqZkD0EAAAAAAAAAAOF6FG79SzVBw\\u002fUoTDPPU0GkcD0KtGcwQQrXozAAYUdBSOF6FPbq6EBcj8I1zehDQcP1KFxD\\u002fSBBzczMzEx+oEC4HoXr\\u002fQYWQcP1KKSF52VBXI\\u002fC9QgO2UAUrkfh+oLmQEjhehTesudA16NwPQpff0AUrkfh+sulQIXrUUBLFWJBKVyPwvU8ukCkcD0K12ixQEjhehTOhABBAAAAAAAAAACPwvUorDjfQK5H4XoUJoNAzczMzAwAwECuR+F6VFe8QAAAAAAAAAAAzczMzOSH8UDD9ShcX2fTQI\\u002fC9Shc13dAH4XrUbCPAkHD9Shcj1Z5QKRwPQrXY19AMzMzMzN5kUAUrkdhYn0yQc3MzMwlkh1BrkfhehKSCEFI4XoUNo3rQPYoXI\\u002fCXbFAj8L1KFzpgkCamZmZEs4vQdejcL0GOzNBUrgepTAeY0EpXI+CThYwQXE9CpcDzTBBrkfheqyr6UCuR+F6FBSAQIXrUbgebbdAFK5HYQCNMkFmZmZmiJYAQeF6FK5HYTpAuB6F62EQ0EAAAAAAAPyAQPYoXI8KHwVBH4XrUTBI40AAAAAA0KbZQFyPwvXICstArkfhehRuNUAzMzMzlVcBQSlcj8JBdvBA4XoUrsegwUD2KFxvDUpNQR+F61G4RnhACtejcD1ucUAK16NwvTOrQKRwPQqX5dpApHA9Cg\\u002fI4EAAAAAAAAAAAI\\u002fC9ShcGa9AUrgehUs8ykD2KFyPQiOxQIXrUbi2nuRAw\\u002fUoXI\\u002fHqkD2KFyPwmWEQBSuR+GuUAtBexSuRyG\\u002fsECkcD0K\\u002fKMcQVyPwvUoModAj8L1KFy6x0CuR+H6PFUhQaRwPQrX69VAZmZmZkwuEUHD9Shcj6OYQJqZmRmfryNB7FG4HrUr1UCkcD0KJ9kUQTMzMzMzu2ZACtejcD1KaEAAAAAAAAAAAK5H4fp6uyJBAAAAAAAAAAA9Ctej8E6rQLgeheuR\\u002fLZASOF6FK70mkC4HoXr0SfEQHsUrkelkg9BAAAAAAAAAAAzMzMzM+NYQK5H4XoUFmhA9ihcj9KHBEHXo3A9CtKqQAAAAAAAAAAAw\\u002fUoXI+jmEAUrkdhi\\u002fwoQcP1KFzP979AexSuR3ku4UAAAAAAAAAAALgehWugISBBXI\\u002fC9Yb6B0GF61G4vh\\u002fAQGZmZmbghABBuB6F66Hr40DD9Shcj5pjQLgehevRfr1AZmZmZs5h90AAAAAAAAAAAAAAAAAAAAAAAAAAANAD2kD2KFyPwpWMQFK4HrUw1lJBAAAAAAAAAABI4XoU7uHZQPYoXI\\u002fC5VFAcT0K19GDC0GPwvUo4wUtQT0K16OYwORAFK5H4Tp+skAUrkfhuiS\\u002fQNejcD2K9d9AuB6Fi3soQEEUrkfhGp7BQKRwPQoff+VAMzMzsyWiMEHXo3A9ChSQQPYoXI9CI7FAAAAAAAAAAACPwvUo3DepQK5H4XoUbllA9ihcj8KPhkCamZmZmblKQMP1KFyPunpAcT0K1y3GCEEpXI\\u002fCOzkEQR+F61G4ynVAzczMzKa9BUHNzMwsj6ZLQSlcj8L1EKFAAAAAAEBWzkAAAAAAAAAAAI\\u002fC9WhO4ENBexSuR+ExlUAAAAAAAAAAAClcj8L1AHJAmpmZmSk\\u002fAUEK16NwanoRQVK4HgVl7SNBAAAAAAAAAAC4HoXrUcBsQHE9CtecIxJBzczMzMxin0CkcD0KBxTWQHE9CtejGJBAMzMzM7NmoUDNzMzMzFqmQD0K16NwQZRAZmZmZoq8OEHhehSuR3uDQM3MzMwMmb5ACtejcL00s0CF61G4Hi1iQAAAAADAttlAAAAAAAAAAAAUrkfhOjXQQEjhehQ2PfBAKVyPwnV1oEAAAAAAAAAAAEjhehSudYdAmpmZmaglKkEAAAAAAAAAAPYoXI+6h+RA9ihcT3iYQkFmZmZmzjcRQfYoXA\\u002foDyBBzczMzMfOHUGF61G4YmPwQHE9CtcTgudAKVyPwvVwa0Bcj8L1IInuQJqZmRm4LCpBj8L1KKzA1UApXI\\u002fC9Rh9QD0K18MK7ldBSOF6FK5nh0AAAAAAgMWnQFK4HoW\\u002f2vNAKVyPwvXahkBxPQrXY9vnQNejcD04IxJBzczMzDvAM0FxPQrXI\\u002fjIQK5H4XoUblhAcT0K1wOexkDXo3A9T1kpQQAAAAAAAAAAPQrXo3AXgECuR+F6pyIaQdejcD2qD9JApHA9CtcnqEBxPQrXI73WQMP1KFxfcNRAhetRuB7FVEApXI\\u002fCPe3hQIXrUbgeJatAAAAAAAAAAACuR+F6FIKnQOxRuB71BgxBzczMzIz5vEDsUbgehatBQClcj8L1OZRAXI\\u002fC9ShvvkDhehSuB7KyQGZmZmaGUMVACtejcD1dqkBcj8L1eioGQQAAAAAAAAAApHA9CtfDTECuR+F6FE\\u002fYQClcj8LSqCVBj8L1KNy3vUBcj8L1KPxBQJqZmZmZ2TdAuB6F67EswkBI4XoUDufkQDMzM3MxJUhBAAAAAAAAAADD9ShcvxHTQIXrUXhKEUZBMzMzMzO2p0AAAAAAAAAAAFyPwvUokphAAAAAAAAAAAAAAAAAAAAAAPYoXI8Cyb5AcT0K1yOtpEBmZmZmFOQBQRSuR+F67aZAKVyPwvUoJUAAAAAAAAAAAPYoXI\\u002fCZYRA7FG4XvaLN0HsUbge\\u002fbEaQQAAAAAAAAAAuB6F6xFl20BSuB6F6y+GQHE9CtcjtrBA9ihcD5w5QkFmZmZmZpaKQBSuR+F6yh1Bj8L1KFzmmEBSuB6F69EvQJqZmZkZJqxAmpmZmZmGzUDhehSup9PRQBSuR+F6ratAw\\u002fUoXI+SbEBSuB6FSwXIQLgeheu1YvVA7FG4HsVAv0AAAAAAAAAAAKRwPQp5ZRlBH4XrUVgO6UBxPQrXY3zbQBSuR+F6m5FAzczMzEzjrkCuR+F6FBWeQMP1KFw5uSBBrkfherg9BEEAAAAAAAAAAFyPwvUo0Z1ACtejcL0xtUAK16NwvVmzQLgehevRR6pA9ihcj8Kgo0AK16NwEQfxQClcj8J1\\u002fsZAexSuR2GkqkAAAAAAAAAAAHsUrsc4KyFBCtejcD1MgUAUrkfheqSSQEjhehSuPZRA16NwPQrQmEA9CtejcD0pQB+F61H4MMpAj8L1KFx\\u002fZkA9CtejcD1HQAAAAAAAAAAAAAAAAAAAAABI4XoULvagQEjhehSud3pAAAAAAAAAAACPwvUoXFN0QAAAAAAAAAAAAAAAAAAAAACuR+F6kK3+QMP1KFz\\u002fivRAUrgehSDwEkGPwvWocFMrQQrXo3AdPMpA7FG4HgU9rkDhehSuR1CWQKRwPQqXMsFAcT0K16PEh0B7FK5HYRijQAAAAADzsilBH4XrUf6BB0GkcD0K192oQD0K16P4LwdBKVyPwvUoI0Bcj8L1KJxrQNejcD0KkbdAexSuR2GLqkDhehSuN\\u002foIQc3MzMyA0w9BcT0K16PMkEDNzMxMhN4xQQAAAAAAAAAAmpmZmZnVdUCPwvUoXGugQB+F61GqpwBBAAAAAAAAAAAAAAAAAAAAAPYoXI9RTxRBH4XrUfDh9UAAAAAA6iYeQfYoXI\\u002fCdTJAAAAAAGxOF0EpXI\\u002fC9dR3QGZmZmb0mBZBAAAAAAAAAACF61G4Cuj6QDMzMzNzRLFAj8L1KFR0\\u002fEApXI\\u002fC9bWdQB+F61H4l7hAAAAAAAAAAAAAAAAAAAAAAAAAAABcLQJBAAAAAAAAAAA9Ctej7NX0QArXo3Ade+VAw\\u002fUoXI8UhECPwvUoXI8tQAAAAAAAAAAAAAAAAAAAAACF61G4ctT8QMP1KFyPGnJAPQrXo7BFzUCamZmZGucrQexRuB6nyQ9BCtejcD3MjUDD9Shcj0Z0QM3MzMzMd7pA4XoUrsnyL0EK16NwPYpFQAAAAAAAAAAAAAAAAAAAAAAUrkfhupPIQOxRuJ687CZBuB6F61HodUB7FK5H4VCaQB+F61E4Ha5AFK5H4XqWgkAAAAAAAAAAAMP1KFwP86tAAAAAAEB7tkAzMzMzC5kXQVyPwvWM7ftAAAAAAAAAAAAAAAAAAAAAAAAAAAAAAAAAAAAAAAAAAADXo3A9CmzfQAAAAAAAAAAAH4XrUbjSp0BxPQrXw6bHQGZmZmZm9mxArkfhelQ\\u002fwUDNzMzMjHSyQBSuR+H676BAAAAAAAAAAACamZmZmblDQKRwPQrXm2VAzczMzExxqkDNzMzMzDiwQM3MzMzMs6hAexSuR6E\\u002f8kDXo3A9CtcrQEjhehQutTNBKVyPwvUoNEBcj8L1qHPmQKRwPUpbrDJBw\\u002fUonPydPkEpXI\\u002fC9WBvQLgeheuBl\\u002fJAw\\u002fUoXCdB9EDD9Shcj6OYQHsUrgfQRDBBcT0K16OAjUBxPQoXD8E4QaRwPQrXeQBBKVyPwhimFEHXo3A9CnmAQGZmZmZm3mdA4XoUrkc9fUCamZmZ+frgQIXrUbgeC4RAAAAAAAAAAADD9Shcv87SQLgehSvJv1JBCtejcD0CZEDXo3A9OvvaQAAAAABgAthAuB6F68Gv\\u002fkC4HoXrUUB\\u002fQHE9Ctej6IJA7FG4HoULTED2KFyPmcgZQQAAAAAAAAAAAAAAAGg1CkFmZmZmZq2dQHE9CtejurFAmpmZmZnuk0AAAAAAAAAAABSuRyH1cD9BFK5H4XpvukDsUbgehet8QPYoXI\\u002f8IABBexSuRwkf80AAAAAAgH+3QJqZmZmtGgZBmpmZmRmh10AUrkfhclniQAAAAAAAAAAA7FG4Hk085ECamZmZGWDTQAAAAAAAAAAA7FG4nl7\\u002fKUHD9Shcz4rFQGZmZmZmrm1AFK5H4fQIA0GPwvUoXOaYQAAAAAAAAAAAZmZmZraiDUEAAAAAAAAAAM3MzIyLQjJBcT0K12OSs0AAAAAAAAAAAB+F61G4XjFAexSuR0FfyEAAAAAAAAAAAIXrUbge7a5APQrXoyA+1EBmZmZmZt5gQKRwPQoPcuVAw\\u002fUoXPz5EUFSuB6FayL8QMP1KNwMYzNBAAAAAAAAAADD9ShcP+A\\u002fQc3MzMzMco5AAAAAAAAAAACF61G4E7IaQVK4HoXrkWVArkfhehROT0DhehSup53vQIXrUbgeVV9AAAAAAAAAAAAAAAAAAAAAAK5H4XoU0aBAuB6F61EAZECF61G4fkTPQMP1KFxPrANBCtejcL3fukAAAAAAAAAAAAAAAAAAAAAApHA9Cs6tFkE9CtejUNHYQMP1KFyPMlRAMzMzM1PwO0EK16NwFcX2QBSuR+F6bp9AUrgehes4kkD2KFyPwk+NQD0K16PwvLRAFK5H4Vod6EBcj8L16C+yQAAAAAAAAAAASOF6FK7Lh0C4HoXrUemQQB+F61E4l7JAcT0K16O8ykB7FK5HVe4CQQAAAAAAAAAAAAAAAAAAAAB7FK5H4fKYQEjhehSuh0NAhetRuB42r0A9CtejcCVqQAAAAAAAAAAA9ihcj1Jm30CPwvUouCbyQK5H4XoU\\u002fplAuB6F65FnzEA9CtejrIEHQQAAAAAAAAAAAAAAAPa5CEHXo3A9aqLKQClcj8JVedZAKVyPwvX8q0CuR+F6cC78QD0K16MQWOJA16NwPQr0tUDD9ShcjzplQEjhehSOIf9APQrXo3AfjkCkcD0Kl4X0QB+F61G42bBAmpmZmZn5jEAAAAAAADuTQK5H4Xr0U9BAH4XrURzL9EAAAAAAAAAAAHsUrkfhzIJAAAAAAAAAAADsUbge6wEuQSlcj0Ls3iZBMzMzM1z0K0GkcD0K1yLGQFK4HoXrAcRAXI\\u002fC9cjb00AUrkfheqavQAAAAAAAAAAAPQrXo3CZf0AAAAAAAAAAAK5H4Xo0htxAMzMzM3NTt0CPwvUovEXEQD0K16Pi7wRBrkfhepRMoECPwvUoXJCVQJqZmZkZz6pArkfhehRwgEBxPQrXIyWjQAAAAAAAAAAArkfhehTUiUCuR+F6tILyQK5H4XqUWaxASOF6FK5jc0CkcD0KfwXrQK5H4Xo7XxVBAAAAAAAAAABmZmZmZkaZQHE9CtdDZM5AZmZmZiblsUAUrkfh+hG1QFK4HoXrdJlAw\\u002fUoXI+VqkCkcD0K139xQB+F6xEQ1kRB9ihcj8LBnkBmZmZmZr+YQIXrUbgem49APQrXo3BOnEAAAAAAAAAAAAAAAAAAAAAAcT0K16OIe0AAAAAAAAAAAFK4HoXITDNBhetRuDZcBkHsUbge5QnIQHE9CtejzHdAzczMzMwVmkB7FK5H4VJ6QAAAAAAAAAAA7FG4HgX5v0DD9Shcj1enQAAAAAAAAAAAAAAAAAAAAABcj8J1U+spQQAAAAAAAAAAPQrXo3DlekCPwvWowv1BQT0K16NwfuNAuB6F6zSTJEGkcD0K13SRQI\\u002fC9ShcA5FAKVyPwvWoUUDD9ShcWyf4QAAAAAAAAAAAUrgehesswEApXI9CzmchQQAAAAAAAAAAmpmZmQlz\\u002fkAAAAAAAAAAAM3MzMwUVfBAZmZmZk5j8EBmZmZmZhZqQPYoXI+C979AFK5H4fopqEAAAAAAAAAAAAAAAAAAAAAAAAAAAAAAAADD9Shcj92yQBSuR+HKcNZAKVyPIiu1QEF7FK5HUZLlQAAAAAAAnpNAhetRuP0DEUHXo3A9TrP\\u002fQNejcL1h1iNBAAAAAAAAAAAK16NwPYChQAAAAAAAAAAAUrgehciyHkFSuB6F6+ONQD0K16MQ3cRApHA9Clfvs0AUrkfheg6AQAAAAAAAAAAA7FG4HomE9kB7FK5H0dkoQQAAAACw5AhBpHA9CldK6EApXI\\u002fCdRixQArXo3DthN1AcT0K1y+d8kAUrkfhehRTQHsUrkfhWZNAAAAAAAAAAADhehSu37\\u002fuQPYoXI\\u002fCnY9AcT0K15t+7kB7FK5Hga7KQEjhehTOhdNAw\\u002fUoXI\\u002fpu0AAAAAAAAAAAAAAAAAAAAAAAAAAAAAAAAAK16NwPeG0QFyPwnU4MzRBuB6F61G5p0DhehSuj5vtQIXrUbgeNWZAXI\\u002fCNYdQOUEAAAAAAAAAAD0K16NwZdFAFK5H4XqHsEDhehSuhzG\\u002fQM3MzMzMzFNASOF6FAI9+EBSuB6FXcNDQVyPwnWPsy9BuB6F61EIWUCF61G4HoF9QAAAAAAAAAAAMzMzMzMxukAfhetReNXNQAAAAAAAAAAAhetRuPLgBEHhehSuB3PMQAAAAAASwR9BpHA9Ctd3iEAAAAAAAAAAAAAAAAAAAAAAexSuR0w5EkFmZmZmhlbhQM3MzMzMOZxACtejcL2W2UAAAAAAAAAAAD0K16NQa+ZAmpmZmZnZYECPwvUo7LbnQPYoXI9CfrZA9ihcj8J1Q0AAAAAAAAAAAJqZmZmZMW5AAAAAAAAAAAAzMzMzMzKbQDMzMzMzVKBAzczMzMyMdEAAAAAAAAAAAD0K16Pwo7pAexSuR6Hk1EDD9Shco\\u002f0HQYXrUbgvNSZBexSuR+HqV0DXo3A9csX6QIXrUZhtWERBpHA9CteDTkCF61E4e6kiQZqZmZktB\\u002fdAw\\u002fUoXI+Nl0BI4XoU7ki1QBSuR+F6\\u002fG1ApHA9Ctd1tECamZmZXuElQY\\u002fC9Sjc\\u002faxAPQrXQ3YCQUHhehSud57RQFyPwvXnCBNBuB6F65EdzEDNzMxM3ZsgQXE9Ctc7meJACtejcLVfA0FSuB6FW+HwQM3MzMwMublAUrgehes6lEAAAAAAAAAAAOF6FG7RET1BAAAAAAAAAADNzMxMg\\u002f8hQQrXo3DJOgJBzczMzMzWkUAfhetRuOy5QNejcD1qFP5ArkfheqhgAEH2KFyPwl2XQMP1KFzHvAlBAAAAAAAAAADNzMzMxPfwQGZmZmZmEnJAH4XrURjywkAUrkfh5pb2QAAAAAAAAAAApHA9CtlqC0F7FK5H4Yp1QAAAAAAAAAAACtejcD3CfUAzMzMzq\\u002ff+QAAAAAAAAAAA9ihcj3ax+kAzMzMzM02NQK5H4Xr23QRBXI\\u002fC9ShZvUAAAAAAAAAAAAAAAAAAAAAAzczMzMzox0AUrkfhAuPnQFyPwvUoDGBA16NwPb5s90AAAAAAAAAAAK5H4XqspxpBcT0K16cAAUF7FK5HuRXlQAAAAAAAAAAAuB6F61G5nUBmZmZmRjjgQNejcD0q5PhAUrgeheuQmkAAAAAAAAAAAD0K16NwPTtAFK5H4fpKu0DhehSuNwjnQHsUrkch5OVA9ihcj8IVQEAK16NwZb4IQQAAAAAAAAAAXI\\u002fC9Sikl0CamZmZmR+cQAAAAAAAAAAAPQrXo3DzwUA9CtejUi4AQQrXo3BF1vxAUrgeBc1yIkFcj8L1oJfkQI\\u002fC9Shczz9AAAAAAAAAAAAAAAAAAAAAAMP1KFyPpJNAZmZmZgbyz0AAAAAAAABmQNejcD0Ku4RAAAAAANAd30AUrkfh+rLAQFyPwvVo7L1AUrgeheuBkEBI4XoUrgiWQHsUrkehLrdAAAAAAAAAAADNzMzMzOKdQLgehesRjd1AAAAAAAAAAAD2KFyP4i\\u002fEQAAAAAAAAAAAH4XrUQhF0EDD9Shce5L1QAAAAAAAAAAAhetRuHbk4EAzMzMzgo8UQQAAAAAAAAAAUrgehcsXy0BSuB6FI03sQArXo3A9SxdBAAAAAAAAAABI4XoULAcAQQAAAAAAAAAAAAAAAAAAAAAAAAAA0PPZQDMzMzO79O1ApHA9CtejbUCF61G4vtDEQFyPwvUotIxAKVyPwpSWKEFSuB6FDwfxQGZmZmYGWMRAUrgeRUvsMEE9Ctejpn8wQR+F61G4J7NAmpmZmZmFqEBI4XoUAjH6QPYoXI+GSwVBrkfheqIxHUEfhetRONGqQK5H4XoUu8FAw\\u002fUoXBeE5ECamZmZqXbvQArXo3A92ohAKVyPwnWo3kAAAAAAAAAAAAAAAAAAAAAAexSuR+Flp0BmZmZmtjneQAAAAAAAAAAA16NwPQpnhEBSuB6FD2AOQYXrUbge0aRAcT0K1886+EBmZmZmZlZoQEjhelQqyjhBcT0K1+Pxt0DD9ShcLo4dQXE9CtcJxwtBAAAAAAAAAAAfhevRMIIoQXsUrkfhcohAmpmZGfGGI0HsUbgehRikQMP1KFx3f\\u002ftAAAAAAAAAAADNzMzM5J7rQGZmZiZfRDpBAAAAAAAAAAAAAAAAAAAAAAAAAAAAAAAAw\\u002fUoXA\\u002f5rEAUrkcBMLhDQSlcj8KVzfFAAAAAAAAAAABSuB6F63FSQAAAAAAAAAAAAAAAAAAAAADhehSuwxvxQOxRuB6F60VA7FG4HgVxp0AK16NwhSznQFyPwvVo8w9B16NwPSq62kCkcD0K12+MQNejcD0Kn3FAKVyPwvVodEAAAAAARg4SQWZmZmY239hAZmZmZmOPF0EAAAAAAAAAAFK4HoXr44tAexSuR+EUgEAAAAAAAKBtQHE9CtfTddpA16NwPRbq+0CuR+F64qAKQfYoXA8pGjZBexSuR0WYDkGF61G4nkfdQB+F61H3nxlBmpmZmTl+wUD2KFyPcg0QQR+F61HY3M9AzczMzAy3t0AAAAAAMOLtQKRwPYpBrTpB7FG43pYdNEE9CtejaE\\u002f0QClcj8J1e7VAZmZmZp5UB0GPwvUo3MChQIXrUbizfSlB9ihcj5SQFkEAAACAG6ghQVK4HoUIjypBzczMzOyzx0BmZmZmVhriQEjhehTOfu1AAAAAABzy80AfhetR2MjPQGZmZmYm38JAH4XrUVTEDUFmZmZml\\u002flWQSlcj0LqQThBCtej8FZHKUEfhetRlB0zQVyPwvVDPB5Bj8L1KIxFF0FxPQrXHcIPQSlcj8IG+CBBuB6F69HZu0C4HoVrGmE1QXE9CtejM7pA16NwPdpl6EAfhetRDlQEQVK4HoWrm75AKVyPwvd4BkGamZmZpy8TQTMzMzPjM9NAmpmZmUms3UApXI\\u002fChQvfQLgehSsAhzFB9ihcD5woNEE9CtejgH78QBSuR2E7VSNBCtejcGrwJkHD9Shcjwi2QKRwPQoX975A16NwPU\\u002fIEkHXo3A9CvacQIXrUbi+D8dAAAAAAAAAAAAAAADAMm42QZqZmZmLHwhBKVyPwutSJEEAAAAAAAAAAIXrUbgeAX1ACtejcL0f50BI4XoUvl\\u002fpQOF6FK4H0tNAZmZmZu7J9kDD9Shcj2WfQM3MzMywAhtBFK5H4YJB5EB7FK5HGULxQMP1KFyP0KVA4XoUrq924UBmZmZmZlzGQLgehetRS7FASOF6FK5TnEBxPQrXowjOQKRwPQo3ysBA7FG4HhR2FUFxPQqXN6k0QUjhehQu\\u002frNAMzMzMzNFxkAUrkfhepOeQHsUrkftQQhBFK5H4TqbtED2KFyPUhfjQEjhehSei9JA9ihcj+06HUEAAAAAAAAAAMP1KFzODR9BPQrXo4IfEEEUrkfheragQIXrUbgedK9AmpmZmRkdsUBI4XoUrgWsQGZmZma2V9BAcT0K1y93+EAAAAAAAAAAADMzM\\u002fMNCDtBAAAAAAAAAAA9CtejhLzzQGZmZmbCKQlBZmZmZtYJ7kD2KFyPwtF7QMP1KJy3fjhBCtejcJ1HzUAAAAAAAAAAAFyPwvXwke5Aw\\u002fUoXPHSBEGF61G43hu8QLgehetR3Z9AAAAAAAAAAAAAAAAAAAAAAOxRuB7NVBBBCtejUAFBQEEK16NwsaD6QGZmZuYup0NB4XoUrkd+skDXo3D9ONxOQfYoXI8iadJAAAAAAABUe0DhehSuZ8PoQOF6FK5HEZBA7FG4Hqu+A0HNzMzMt2s5QR+F61HIWdtAj8L1KF6uEUEpXI\\u002fCdc6tQIXrUbiSKSBBMzMzM9NczEAAAAAAAAAAADMzMzOjZQpBmpmZGal6LkFSuB6FWdsGQQrXo3Dx3ABBhetRuLBJBEEUrkfhepSAQFyPwvXotstA9ihcj6x5DEGuR+F6FE5vQBSuR+Gij+JAcT0K1988+UBcj8L1KJSEQHE9CtcjssxAFK5H4frMsEDsUbgejx4MQeF6FK7HT91AAAAAAAAAAAAzMzMzy4\\u002fjQAAAAAAAAAAAj8L1KKR\\u002f4UBI4XoUMqf\\u002fQHsUrkdhvNNAw\\u002fUoXCdC6UCuR+F6qIH8QGZmZmZWKuJA9ihcj2Jh1UDD9ShcL9\\u002fkQClcj8JglyNBzczMzMy7sEAAAAAAAAAAAPYoXI8CAedAZmZmZn0SI0GkcD2KobotQT0K16MLjxJBw\\u002fUoXCVpAkEAAAAAtuMIQQAAAAAAAAAAAAAAAAAAAAAAAACANdkpQQAAAAAAAAAAXI\\u002fC9Sjqs0DNzMzMTEziQDMzMzOzjvZAzczMzBRB5kD2KFyPsm3XQAAAAABg9fRApHA9CtfkyUAAAAAAAAAAAArXo3CI5S1BAAAAAAAAAAA9Ctej2l8MQeF6FI7IbEJBMzMzMwMv5UBxPQrXoziAQAAAAAAAAAAAj8L1KBzv4kCF61G4NhfnQAAAAAAAAAAAUrgehWtQx0AAAAAAAAAAAAAAAAAAAAAAw\\u002fUoXI8TnkAAAAAAAAAAAHE9CtdjMspA9ihcj79aFEE9CtejcOGdQArXo3DxGPdAAAAAAAAAAACPwvUonO3MQB+F61HsPgJBXI\\u002fC9cifxEAfhetRoFnsQMP1KFxP\\u002fNBAKVyPwh+pFEFI4XoUDnv\\u002fQMP1KFxZBQ9BAAAAAAAAAABI4XoUrrmNQNejcD0KRYxAKVyPwqEACUEAAAAAAAAAAOxRuB4FkqJAXI\\u002fC9Sgp+EAAAAAAAAAAAMP1KFyPwpJAw\\u002fUoXPLFGkHD9Shcj6qFQArXo3A9mIpAAAAAAAAAAABcj8L1HAkOQQAAAAAAAAAApHA9CteBskDD9ShcT\\u002fzQQJqZmRnPxTxBw\\u002fUoXC\\u002fGzUCkcD0KX+XyQK5H4XoUBIxAj8L1KMCk+0C4HoXrKGAlQQAAAAAAAAAAw\\u002fUoXO8f6kCF61G4jsvSQIXrUbge2YBAAAAAAAAAAAAAAAAAAAAAAAAAAAAAAAAA16NwPQpGk0CF61G4yVcRQY\\u002fC9Si8gslA16NwvRGOK0EAAAAAAAAAAEjhehQqjftAcT0K1wts4ECkcD0Kj\\u002fQLQWZmZmaL3TRBAAAAAAAAAAAAAAAAAAAAAAAAAAAAAAAAcT0K10PZ6UDXo3A9clcrQT0K16PwqaJAXI\\u002fC9fZrCEFcj8K1xAg4QQAAAAAAAAAAAAAAAAAAAAAAAAAAAAAAAHE9CtfjUNZAAAAAAAAAAAAUrkfhemCCQHE9Ctejw5NAw\\u002fUoXM9JsUCPwvWom605QeF6FK7P7vhAH4XrUbiYkkDsUbge1TvcQI\\u002fC9ShwLQJBAAAAAAAAAAAK16NwVRjyQAAAAAAAAAAAmpmZmQMlEkH2KFyPtJkBQc3MzMwgnPNAAAAAAAAAAABI4XoUjlbPQFyPwvXokuVA7FG4HmUyzEAAAAAAAAAAAAAAAAAAAAAASOF6FFH1PUEAAAAAAAAAAIXrUTgwdixBAAAAAAAAAACamZmZmUSTQFK4HoXrTKVAAAAAAAAAAADXo3A9umMhQVyPwvUY5d1A7FG4HkUWukAfhetRKCXSQAAAAAAAAAAA4XoUrjtlEUEAAAAAAAAAAEjhehRO6cRAw\\u002fUoXKcw\\u002fUApXI\\u002fC9RSLQD0K16NwqaFAAAAAAAAAAAApXI\\u002fCJdMEQQAAAAAAAAAASOF6FG6Jw0B7FK5HZt8bQQrXo3CvZARBMzMzM1O24kAK16Nw9ZccQT0K16PQ+9FAZmZmZiaP20B7FK5H4V+fQI\\u002fC9SjcW+dArkfhetSm2ECPwvWokGElQQAAAAAAAAAASOF6FG4XJUEUrkfhetaZQBSuR+F6eZdAexSuR\\u002fH\\u002f5kBmZmZmzpcGQWZmZmZ6mvVAw\\u002fUoXP9I4kCPwvUooJAaQQAAAAAAAAAAuB6F664BE0EAAAAAAAAAAFK4HoULR\\u002ftAAAAAAAAAAAAAAAAAAAAAAJqZmZnpj\\u002fFAAAAAAAAAAABxPQrXQ7DCQK5H4Xr0WtdAmpmZmem\\u002f70ApXI\\u002fCdZuoQAAAAAAAAAAAH4XrUTgnuEBmZmZmfmrxQD0K16OwZNtAcT0K12P+4kDNzMzMTLKrQAAAAAAAAAAAmpmZmUGe6EBxPQrXY8O7QD0K16Nw7YxAAAAAAAAAAAApXI\\u002fCffDnQMP1KFxXSxVBAAAAAAAAAACamZmZmeF1QFK4HoXnygZBrkfh+pf8JUEUrkfhel2nQAAAAAAAAAAASOF6FK7\\u002feUAAAAAAAAAAAOF6FK6Xm\\u002fhAw\\u002fUoXGUCCkEAAAAAAAAAAJqZmZmZm4lAuB6FazzBIUEAAAAAwOS4QKRwPQrX8pdAAAAAAAAAAAAAAAAAAAAAAAAAAAAAAAAAKVyPwnWatUAAAAAAAAAAAHsUrkc5GelAexSuR7Ey00AAAAAAwC+6QI\\u002fC9Sj0u+VAcT0K12MyykCamZmZEIYXQa5H4XqsGOBAAAAAAAAAAAA9Ctej6gIFQQAAAAAAAAAACtejcD2+nEAUrkfhxgz1QArXo3BvyQVB9ihcjxKB70AAAAAAAAAAAArXo3CHHhNBAAAAAAAAAAAAAAAAAAAAAAAAAAAAAAAAAAAAAAAAAAAAAAAAAAAAAI\\u002fC9Si0rONAUrgehevltECamZmZOdXtQHE9Ctej6ItAhetRuAGpE0EpXI\\u002fCzbgOQexRuJ4bPShBAAAAAAAAAAAK16NwPY6BQAAAAAAAAAAAuB6F6xXMOEGF61G4XjvTQAAAAAAAAAAAZmZmZpYy4UAAAAAAAMbQQAAAAAAAAAAAuB6F61Hga0AAAAAAAAAAAFK4HoXjlvpAAAAAAAAAAADhehSuRxagQAAAAAAAAAAACtejcM3y5EBxPQrXY+e8QMP1KFy7bfJAH4XrUYiN0EAUrkfh+o6oQDMzMzMzep1AAAAAAAAAAAAAAAAAAAAAAAAAAAAAAAAAZmZmZuZ3okAAAAAAAAAAAFyPwvVo2MBAAAAAAAAAAADhehSuR3uoQAAAAAAAAAAA9ihcj8L1dUD2KFyPEnjSQOF6FK5HldxAXI\\u002fC9Whw00CF61G4JkvlQNejcD2KMb5APQrXo\\u002fAFtkD2KFyPIibJQAAAAAAAAAAAw\\u002fUoXA8LoECPwvUoDJfRQMP1KFyPjpdAmpmZmfkGIEFmZmZmVqv0QPYoXI\\u002fCVJ1Aw\\u002fUoXBjQI0GuR+F6FF5YQAAAAAAAAAAAcT0K16MorkBcj8L1KIh\\u002fQNejcD2ileZAUrgehWuV70AAAAAAAAAAAOF6FK5roBpBmpmZmT2t8UBSuB6F61WvQArXo3A9Ci1AmpmZmVdXBkEAAAAAAAAAAJqZmZmZuZVAuB6F67BxIEFxPQqXHlw4QRSuR+EPlylBAAAAAAAAAAB7FK5HV2gRQRSuR+GamslA7FG4Hqmy8EAAAAAAAAAAAFK4HoU7X9NAexSuR8k18EAAAAAAUNTbQAAAAAAAAAAACtejcN3fykCuR+F6FByHQAAAAAAAAAAAw\\u002fUoXO\\u002f8yECF61G4\\u002fjzQQPYoXI\\u002fiA8VAXI\\u002fC9Simq0Bcj8L1WLfaQAAAAAAAAAAAAAAAAAAAAAAAAAAAAAAAAOF6FK6LTQ1B4XoUrveH4UDD9Shcj36+QFK4HoVTQ+BA7FG4Hh17+kAAAAAAAAAAAAAAAAAAAAAA4XoUrrtN8kCuR+F6gvAFQc3MzMysyshAAAAAAAAAAADD9ShcjwCfQAAAAAAAAAAAZmZmZjob8EDXo3A9ClKYQM3MzMzMRGNAAAAAAAAAAAAAAAAAAAAAAB+F61EIhNdAAAAAAAAAAABmZmZm5kmjQNejcD3akPRAKVyPwrW7vUAAAAAAAAAAAAAAAAAAAAAAAAAAAAAAAAAAAAAAAAAAAI\\u002fC9ShcELhAAAAAAAAAAAAAAAAAAAAAAArXo3A9\\u002f8RAAAAAAAAAAAAK16NwPXXMQJqZmZkJBuVAFK5H4Xo0YkAAAAAAAAAAAAAAAAAAAAAAj8L1KJwdukAAAAAAAAAAAIXrUbieG9RAKVyPwpWz6EDhehSup9TAQAAAAAAAAAAAhetRuBAWIkEpXI\\u002fCfZ\\u002fuQAAAAAAAAAAAUrgehc2DIkGPwvXo+Jg8QY\\u002fC9Shcr4dAexSuRzkm8EA9Ctej0HHBQMP1KFxP\\u002fNBAUrgehankEEEAAAAAAAAAAArXo3DPaRJBuB6F60kK5kBcj8L1yE\\u002fgQAAAAAAAAAAAAAAAAAAAAAApXI\\u002fCteq6QNejcD0qXutAAAAAAAAAAAAAAAAAAAAAAAAAAAAAAAAAAAAAABCYEkGPwvUo9MfjQMP1KFwPl7FAw\\u002fUoXA9V2EApXI\\u002fCFZrNQHsUrkfR3+VAAAAAAAAAAAAAAAAAAAAAAHE9CtfDJdlAAAAAAAAAAADXo3A92lbTQAAAAAAAAAAAZmZmZmCaE0FI4XoULnjHQAAAAAAAAAAAhetRuDGrGkEAAAAAAAK2QIXrUbj+utNAPQrXoywk9kAfhetRyP\\u002ftQK5H4XpE29ZAhetRuAxAA0FxPQrXH0n6QM3MzMyjvzBBAAAAAAAAAABSuB6F622dQAAAAAAAAAAAAAAAAAAAAAC4HoXryvEfQeF6FK4nkABBAAAAAAAAAABcj8J13M8rQQAAAAAAAAAAAAAAAAAAAAAAAAAAAAAAAAAAAAAAAAAAFK5H4UoCCUFxPQrXk+\\u002fcQAAAAAAAAAAA16NwPQqynEDNzMzMTI7iQGZmZmZmyaVAzczMzFQF\\u002fEDNzMzMzAOgQOF6FK5DVvFAKVyPwpXaw0CF61G41hz1QM3MzMxMn7FAMzMz80IFPUHsUbgezfHsQClcj8Iv9gBBAAAAAAAAAAAAAAAAAAAAANejcD1KBfVArkfhehQWgUAAAAAAAAAAAGZmZmZmvKBAAAAAAAAAAAAAAAAAAAAAAAAAAAAAAAAAAAAAAAAAAAAAAAAAAAAAANejcD0KGaNAPQrXo5C63UB7FK5HIVK+QArXo3C9JaxAAAAAAAAAAACPwvUoVEzhQFK4HoX7ft9AAAAAAAAAAADXo3A9mi7dQOF6FK6bRSlBuB6F63GcyUDsUbgepX7FQAAAAAAAAAAAw\\u002fUoXA\\u002fhv0D2KFyPgizcQAAAAAAAAAAAAAAAAAAAAAC4HoXrEcy9QPYoXI\\u002fCn5BAAAAAAAAAAADD9ShcKeIAQUjhehTYOAFBAAAAAAAAAADNzMzMBIPhQAAAAAAAAAAAAAAAAAAAAAD2KFyPAmPOQAAAAAAAAAAAAAAAAAAAAADsUbgeDfP3QArXo3A9ra5A7FG4HiRqEUFSuB6FK8K1QClcj8KBoARBAAAAAAAAAACamZkZnPYpQSlcj8L10KJAH4XrUYh24UDhehSux7bRQArXo3CdxdRArkfhepRIyEAAAAAAAAAAAAAAAAAAAAAA16NwPWMzL0FmZmZmZq2sQGZmZmZGrd9AAAAAAAAAAABcj8L1KKhxQAAAAAAAAAAAAAAAABbBAEEzMzMzyyLpQAAAAAAAAAAAzczMzExHrEAAAAAAAAAAADMzM7MPPSpBH4XrUZhOyUDhehSuNWAQQQAAAACIbeJAAAAAAAAAAACPwvUo9CvmQClcj8J9QPBAAAAAAAAAAAAAAAAAAAAAAAAAAAAAAAAAPQrXozDNt0DhehSuR+l3QK5H4Xo0b8RAuB6F63Fy60AAAAAAAAAAAClcj8J1Iq5AMzMzM3\\u002fM\\u002fUCF61G4Hrl5QJqZmZlZPLVAcT0K16Op3kAAAAAAAAAAAB+F61G4tIdACtejcD1llkAAAAAAAAAAAM3MzMzMEvFApHA9ChctuEAAAAAAAAAAAHE9CtcrNelA16NwPWrn0kB7FK5HAfLyQOF6FK5HMVJAAAAAAAAAAAAAAAAAAAAAAAAAAAAAAAAASOF6lCjIJUEAAAAAAAAAABSuR+H6081AUrgehetVoUAAAAAAAAAAAAAAAAAAAAAAAAAAAAAAAAAAAAAAAAAAAGZmZmZm8oBAzczMzBSz6EAzMzMzM8aqQArXo3A9cnRAKVyPwnUsqUAzMzMzs8m5QHsUrkdhLLtAAAAAAAAAAAAAAAAAAAAAAPYoXI9i3eJAw\\u002fUoXO+i30DD9ShcD33SQM3MzMyWViFBAAAAAAAAAAAAAAAAAAAAAArXo3ADnwZBhetRuF5W6EA9Ctej4skAQQAAAAAAAAAAAAAAAAAAAAAAAAAAAAAAAM3MzMyJsRhBAAAAAAAAAAA9Ctej8IfMQAAAAACdYxNBAAAAAAAAAADsUbieUVokQT0K16Pw9K1AZmZmZp4U60BxPQrX4669QAAAAAAAAAAA4XoUrkeBbEAAAAAAAAAAAAAAAAAAAAAAAAAAAAAAAAAAAAAAAAAAAI\\u002fC9Sg8j+ZAuB6F61Hv2kAfhetRXrkEQXE9CtchewRBH4XrUbgh6UCuR+F6FKWSQI\\u002fC9ShFrBtBrkfhejTyyUAAAAAAAAAAAFyPwvWgLOJAAAAAAAAAAADsUbgehauQQAAAAAAAAAAAj8L1KLwow0CkcD0Kl+i2QDMzMzODcdNAAAAAAAAAAABSuB6Fqyu1QKRwPQo\\u002fiRtBUrgehcdq9kApXI\\u002fCVPMdQQAAAAAAAAAAmpmZmflgwkAUrkfh+l2oQKRwPQrXA0VAZmZmZmaOZEDXo3A9CuGGQM3MzMzwwfFAAAAAAAAAAADhehSuk+P1QHE9CtcjG8FAzczMzPyh50D2KFyPgrTbQAAAAAAAAAAASOF6FG4ouEAAAAAAAAAAAEjhehSux79Aw\\u002fUoXMN1\\u002fECPwvUoHKawQOF6FK6\\u002fPO9AuB6F61FSmUDXo3A9OqQOQQAAAAAAAAAApHA9Ctf3ckBSuB6FWzLlQAAAAAAAAAAAAAAAAAAAAAA9CtejT+AVQTMzM7NeAiJBZmZmZsbb10AAAAAAAAAAAAAAAADAcc1AAAAAAAAAAAAAAAAAUO7lQAAAAAAAAAAAAAAAAAAAAADsUbgeoTgAQT0K16NdIzNBXI\\u002fC9QCgAkEAAAAAAAAAAAAAAAAAAAAAAAAAAAAAAABcj8L1GDfTQAAAAAAAAAAAAAAAAAAAAABI4XoUZmPpQB+F61G45q1AZmZmZqag0ECamZmZGf+hQGZmZmZGidBAAAAAAAAAAADD9Shcj+ydQAAAAAAAAAAAAAAAAAAAAAAAAAAAAAAAAM3MzMxsp9BAAAAAAAAAAAD2KFyPQnymQI\\u002fC9SjchKRAAAAAAAAAAADD9Shce6gNQY\\u002fC9Sgn2xxBZmZmZtRLD0EAAAAAAAAAAK5H4Xqich5BCtejcM1pC0EAAAAAAAAAAIXrUbgqlPJA16NwPUp45kCkcD0KV9uyQK5H4XoUcL5AZmZmZvr99kAAAAAAAAAAAHE9CtebdwtBAAAAAAAAAABxPQrX95ANQTMzMzMj5fBAZmZmxiPyQkEfhetRSFHnQM3MzMwZBidBSOF6FC6qyUBSuB6F91\\u002fyQIXrUbj+ictAhetRuNp1AkEAAAAAAAAAAK5H4Xqk4etAcT0K1+vq\\u002f0DD9Shc76rKQOF6FK7HQMdAj8L1KBruI0EAAAAAAAAAAHE9CtdjurJAH4XrUQjz2kAzMzMzc3nFQAAAAAAAAAAAhetRuF71z0AAAAAAAAAAABSuR+HyL+NAAAAAAAAAAAAzMzOzRWsuQUjhehR+W9JAUrgehesJb0DD9ShcMV4DQQAAAAAAAAAAAAAAAAAAAABmZmZmFDAOQY\\u002fC9SgsCN1AexSuR+Hos0AUrkfh+ivVQK5H4XoUxKdAexSuR1MrMkFI4XoUjrDHQOF6FK4HW+JAAAAAAAAAAABI4XoUjmfcQI\\u002fC9Sg8HcVAexSuR+HYhEBI4XoUP64YQZqZmZmZAWRA7FG4HvWi8EAzMzMzk8bQQDMzMzNzpbJAUrgehasr0UB7FK5H4TCgQAAAAAACeyRB7FG4HoaKFUHhehSuI7v9QAAAAAAAAAAAAAAAAAAAAAD2KFyP4ovCQDMzMzNjW99A4XoUrsd4xUBmZmZm5uqwQHE9CtcRnTRBAAAAAAAAAAAAAAAAAAAAAIXrUbgeeYdAZmZmZuZzpkCuR+F6FCOVQArXo3BdztxAw\\u002fUoXDTeFkEzMzMzY\\u002frdQNejcD26WeFAexSuR+Huh0AAAAAAAAAAAAAAAAAAAAAAuB6F6xHEsEAfhetRmDDDQAAAAAAAAAAAcT0K1yO\\u002fpUBxPQrXE9nQQB+F61GY1cNAhetRuB5vmUAAAAAAAAAAAJqZmZmZGWhAXI\\u002fC9Sicb0AAAAAAAAAAADMzMzNzdrVAAAAAADjJF0EAAAAAAAAAANejcD0wNQJBAAAAAAAAAADNzMzM\\u002fAnhQFK4HoWLW9ZAAAAAAAAAAAApXI\\u002fC1VXQQOF6FK5HI65AAAAAAAAAAADXo3A9soviQGZmZmZ8\\u002fwVBmpmZ2WJ8MUGF61G4PhvTQK5H4Xq5mRdBAAAAAAAAAAAAAAAAAAAAAJqZmZk5YMVAmpmZmSkRAUEAAAAAAAAAAB+F61E4kqlA16NwPerCzkAfhetR4UElQVyPwvXw1OBA4XoUrodMtkDXo3A99uYCQUjhehSYewVBpHA9CucG3EAAAAAA4N7AQAAAAAAAAAAAhetRuEbM7EDhehSupyrFQI\\u002fC9ShcQq1A9ihcj+IgwkCamZmZWZPfQKRwPQrXN3ZAAAAAAPT0+kApXI\\u002fC5VHUQEjhehQOQNZAKVyPwvUs50DhehSuD9TjQM3MzMxSyAdBzczMzMy4fEDhehSuR3yqQNejcD1aauVAhetRuJ4ItEAAAAAAhNEEQRSuR+H6u6JAuB6F68eEBUEfhetR+H2+QKRwPQqLTgJBPQrXowRUDUEAAAAAAAAAAGZmZmbOMAlBFK5H4XpcYECuR+F6GKLxQEjhehSuHqtAexSuR1mS60AAAAAAAAAAAIXrUbgeBpRAmpmZmQnR3EAAAAAAAAAAAAAAAAAAAAAAAAAAAAAAAACPwvUonHn+QOxRuB4hhf9A7FG4Ho0+5EAAAAAAAAAAAOxRuB4FeadApHA9CvOo+kAAAAAAAAAAAHE9CtfTJ9BAAAAAAAAAAABI4XoUzjvAQB+F61FnhBRB7FG4nnRiKUH2KFyPwtiXQAAAAAAAAAAAzczMzMzMX0AAAAAAAAAAAM3MzMzsUslAcT0K1+NesEBxPQrXAecCQQAAAAAAAAAAXI\\u002fC9UDV60AAAAAAAAAAAAAAAAAAAAAAuB6F61W880A=\"},\"y0\":\" \",\"yaxis\":\"y\",\"type\":\"box\"}],                        {\"template\":{\"data\":{\"histogram2dcontour\":[{\"type\":\"histogram2dcontour\",\"colorbar\":{\"outlinewidth\":0,\"ticks\":\"\"},\"colorscale\":[[0.0,\"#0d0887\"],[0.1111111111111111,\"#46039f\"],[0.2222222222222222,\"#7201a8\"],[0.3333333333333333,\"#9c179e\"],[0.4444444444444444,\"#bd3786\"],[0.5555555555555556,\"#d8576b\"],[0.6666666666666666,\"#ed7953\"],[0.7777777777777778,\"#fb9f3a\"],[0.8888888888888888,\"#fdca26\"],[1.0,\"#f0f921\"]]}],\"choropleth\":[{\"type\":\"choropleth\",\"colorbar\":{\"outlinewidth\":0,\"ticks\":\"\"}}],\"histogram2d\":[{\"type\":\"histogram2d\",\"colorbar\":{\"outlinewidth\":0,\"ticks\":\"\"},\"colorscale\":[[0.0,\"#0d0887\"],[0.1111111111111111,\"#46039f\"],[0.2222222222222222,\"#7201a8\"],[0.3333333333333333,\"#9c179e\"],[0.4444444444444444,\"#bd3786\"],[0.5555555555555556,\"#d8576b\"],[0.6666666666666666,\"#ed7953\"],[0.7777777777777778,\"#fb9f3a\"],[0.8888888888888888,\"#fdca26\"],[1.0,\"#f0f921\"]]}],\"heatmap\":[{\"type\":\"heatmap\",\"colorbar\":{\"outlinewidth\":0,\"ticks\":\"\"},\"colorscale\":[[0.0,\"#0d0887\"],[0.1111111111111111,\"#46039f\"],[0.2222222222222222,\"#7201a8\"],[0.3333333333333333,\"#9c179e\"],[0.4444444444444444,\"#bd3786\"],[0.5555555555555556,\"#d8576b\"],[0.6666666666666666,\"#ed7953\"],[0.7777777777777778,\"#fb9f3a\"],[0.8888888888888888,\"#fdca26\"],[1.0,\"#f0f921\"]]}],\"contourcarpet\":[{\"type\":\"contourcarpet\",\"colorbar\":{\"outlinewidth\":0,\"ticks\":\"\"}}],\"contour\":[{\"type\":\"contour\",\"colorbar\":{\"outlinewidth\":0,\"ticks\":\"\"},\"colorscale\":[[0.0,\"#0d0887\"],[0.1111111111111111,\"#46039f\"],[0.2222222222222222,\"#7201a8\"],[0.3333333333333333,\"#9c179e\"],[0.4444444444444444,\"#bd3786\"],[0.5555555555555556,\"#d8576b\"],[0.6666666666666666,\"#ed7953\"],[0.7777777777777778,\"#fb9f3a\"],[0.8888888888888888,\"#fdca26\"],[1.0,\"#f0f921\"]]}],\"surface\":[{\"type\":\"surface\",\"colorbar\":{\"outlinewidth\":0,\"ticks\":\"\"},\"colorscale\":[[0.0,\"#0d0887\"],[0.1111111111111111,\"#46039f\"],[0.2222222222222222,\"#7201a8\"],[0.3333333333333333,\"#9c179e\"],[0.4444444444444444,\"#bd3786\"],[0.5555555555555556,\"#d8576b\"],[0.6666666666666666,\"#ed7953\"],[0.7777777777777778,\"#fb9f3a\"],[0.8888888888888888,\"#fdca26\"],[1.0,\"#f0f921\"]]}],\"mesh3d\":[{\"type\":\"mesh3d\",\"colorbar\":{\"outlinewidth\":0,\"ticks\":\"\"}}],\"scatter\":[{\"fillpattern\":{\"fillmode\":\"overlay\",\"size\":10,\"solidity\":0.2},\"type\":\"scatter\"}],\"parcoords\":[{\"type\":\"parcoords\",\"line\":{\"colorbar\":{\"outlinewidth\":0,\"ticks\":\"\"}}}],\"scatterpolargl\":[{\"type\":\"scatterpolargl\",\"marker\":{\"colorbar\":{\"outlinewidth\":0,\"ticks\":\"\"}}}],\"bar\":[{\"error_x\":{\"color\":\"#2a3f5f\"},\"error_y\":{\"color\":\"#2a3f5f\"},\"marker\":{\"line\":{\"color\":\"#E5ECF6\",\"width\":0.5},\"pattern\":{\"fillmode\":\"overlay\",\"size\":10,\"solidity\":0.2}},\"type\":\"bar\"}],\"scattergeo\":[{\"type\":\"scattergeo\",\"marker\":{\"colorbar\":{\"outlinewidth\":0,\"ticks\":\"\"}}}],\"scatterpolar\":[{\"type\":\"scatterpolar\",\"marker\":{\"colorbar\":{\"outlinewidth\":0,\"ticks\":\"\"}}}],\"histogram\":[{\"marker\":{\"pattern\":{\"fillmode\":\"overlay\",\"size\":10,\"solidity\":0.2}},\"type\":\"histogram\"}],\"scattergl\":[{\"type\":\"scattergl\",\"marker\":{\"colorbar\":{\"outlinewidth\":0,\"ticks\":\"\"}}}],\"scatter3d\":[{\"type\":\"scatter3d\",\"line\":{\"colorbar\":{\"outlinewidth\":0,\"ticks\":\"\"}},\"marker\":{\"colorbar\":{\"outlinewidth\":0,\"ticks\":\"\"}}}],\"scattermap\":[{\"type\":\"scattermap\",\"marker\":{\"colorbar\":{\"outlinewidth\":0,\"ticks\":\"\"}}}],\"scattermapbox\":[{\"type\":\"scattermapbox\",\"marker\":{\"colorbar\":{\"outlinewidth\":0,\"ticks\":\"\"}}}],\"scatterternary\":[{\"type\":\"scatterternary\",\"marker\":{\"colorbar\":{\"outlinewidth\":0,\"ticks\":\"\"}}}],\"scattercarpet\":[{\"type\":\"scattercarpet\",\"marker\":{\"colorbar\":{\"outlinewidth\":0,\"ticks\":\"\"}}}],\"carpet\":[{\"aaxis\":{\"endlinecolor\":\"#2a3f5f\",\"gridcolor\":\"white\",\"linecolor\":\"white\",\"minorgridcolor\":\"white\",\"startlinecolor\":\"#2a3f5f\"},\"baxis\":{\"endlinecolor\":\"#2a3f5f\",\"gridcolor\":\"white\",\"linecolor\":\"white\",\"minorgridcolor\":\"white\",\"startlinecolor\":\"#2a3f5f\"},\"type\":\"carpet\"}],\"table\":[{\"cells\":{\"fill\":{\"color\":\"#EBF0F8\"},\"line\":{\"color\":\"white\"}},\"header\":{\"fill\":{\"color\":\"#C8D4E3\"},\"line\":{\"color\":\"white\"}},\"type\":\"table\"}],\"barpolar\":[{\"marker\":{\"line\":{\"color\":\"#E5ECF6\",\"width\":0.5},\"pattern\":{\"fillmode\":\"overlay\",\"size\":10,\"solidity\":0.2}},\"type\":\"barpolar\"}],\"pie\":[{\"automargin\":true,\"type\":\"pie\"}]},\"layout\":{\"autotypenumbers\":\"strict\",\"colorway\":[\"#636efa\",\"#EF553B\",\"#00cc96\",\"#ab63fa\",\"#FFA15A\",\"#19d3f3\",\"#FF6692\",\"#B6E880\",\"#FF97FF\",\"#FECB52\"],\"font\":{\"color\":\"#2a3f5f\"},\"hovermode\":\"closest\",\"hoverlabel\":{\"align\":\"left\"},\"paper_bgcolor\":\"white\",\"plot_bgcolor\":\"#E5ECF6\",\"polar\":{\"bgcolor\":\"#E5ECF6\",\"angularaxis\":{\"gridcolor\":\"white\",\"linecolor\":\"white\",\"ticks\":\"\"},\"radialaxis\":{\"gridcolor\":\"white\",\"linecolor\":\"white\",\"ticks\":\"\"}},\"ternary\":{\"bgcolor\":\"#E5ECF6\",\"aaxis\":{\"gridcolor\":\"white\",\"linecolor\":\"white\",\"ticks\":\"\"},\"baxis\":{\"gridcolor\":\"white\",\"linecolor\":\"white\",\"ticks\":\"\"},\"caxis\":{\"gridcolor\":\"white\",\"linecolor\":\"white\",\"ticks\":\"\"}},\"coloraxis\":{\"colorbar\":{\"outlinewidth\":0,\"ticks\":\"\"}},\"colorscale\":{\"sequential\":[[0.0,\"#0d0887\"],[0.1111111111111111,\"#46039f\"],[0.2222222222222222,\"#7201a8\"],[0.3333333333333333,\"#9c179e\"],[0.4444444444444444,\"#bd3786\"],[0.5555555555555556,\"#d8576b\"],[0.6666666666666666,\"#ed7953\"],[0.7777777777777778,\"#fb9f3a\"],[0.8888888888888888,\"#fdca26\"],[1.0,\"#f0f921\"]],\"sequentialminus\":[[0.0,\"#0d0887\"],[0.1111111111111111,\"#46039f\"],[0.2222222222222222,\"#7201a8\"],[0.3333333333333333,\"#9c179e\"],[0.4444444444444444,\"#bd3786\"],[0.5555555555555556,\"#d8576b\"],[0.6666666666666666,\"#ed7953\"],[0.7777777777777778,\"#fb9f3a\"],[0.8888888888888888,\"#fdca26\"],[1.0,\"#f0f921\"]],\"diverging\":[[0,\"#8e0152\"],[0.1,\"#c51b7d\"],[0.2,\"#de77ae\"],[0.3,\"#f1b6da\"],[0.4,\"#fde0ef\"],[0.5,\"#f7f7f7\"],[0.6,\"#e6f5d0\"],[0.7,\"#b8e186\"],[0.8,\"#7fbc41\"],[0.9,\"#4d9221\"],[1,\"#276419\"]]},\"xaxis\":{\"gridcolor\":\"white\",\"linecolor\":\"white\",\"ticks\":\"\",\"title\":{\"standoff\":15},\"zerolinecolor\":\"white\",\"automargin\":true,\"zerolinewidth\":2},\"yaxis\":{\"gridcolor\":\"white\",\"linecolor\":\"white\",\"ticks\":\"\",\"title\":{\"standoff\":15},\"zerolinecolor\":\"white\",\"automargin\":true,\"zerolinewidth\":2},\"scene\":{\"xaxis\":{\"backgroundcolor\":\"#E5ECF6\",\"gridcolor\":\"white\",\"linecolor\":\"white\",\"showbackground\":true,\"ticks\":\"\",\"zerolinecolor\":\"white\",\"gridwidth\":2},\"yaxis\":{\"backgroundcolor\":\"#E5ECF6\",\"gridcolor\":\"white\",\"linecolor\":\"white\",\"showbackground\":true,\"ticks\":\"\",\"zerolinecolor\":\"white\",\"gridwidth\":2},\"zaxis\":{\"backgroundcolor\":\"#E5ECF6\",\"gridcolor\":\"white\",\"linecolor\":\"white\",\"showbackground\":true,\"ticks\":\"\",\"zerolinecolor\":\"white\",\"gridwidth\":2}},\"shapedefaults\":{\"line\":{\"color\":\"#2a3f5f\"}},\"annotationdefaults\":{\"arrowcolor\":\"#2a3f5f\",\"arrowhead\":0,\"arrowwidth\":1},\"geo\":{\"bgcolor\":\"white\",\"landcolor\":\"#E5ECF6\",\"subunitcolor\":\"white\",\"showland\":true,\"showlakes\":true,\"lakecolor\":\"white\"},\"title\":{\"x\":0.05},\"mapbox\":{\"style\":\"light\"}}},\"xaxis\":{\"anchor\":\"y\",\"domain\":[0.0,1.0],\"title\":{\"text\":\"variable\"}},\"yaxis\":{\"anchor\":\"x\",\"domain\":[0.0,1.0],\"title\":{\"text\":\"value\"}},\"legend\":{\"tracegroupgap\":0},\"title\":{\"text\":\"Distribution of Network Lengths\"},\"boxmode\":\"group\"},                        {\"responsive\": true}                    )                };            </script>        </div>"
      ],
      "text/plain": [
       "Figure({\n",
       "    'data': [{'alignmentgroup': 'True',\n",
       "              'hovertemplate': 'variable=%{x}<br>value=%{y}<extra></extra>',\n",
       "              'legendgroup': '',\n",
       "              'marker': {'color': '#636efa'},\n",
       "              'name': '',\n",
       "              'notched': False,\n",
       "              'offsetgroup': '',\n",
       "              'orientation': 'v',\n",
       "              'showlegend': False,\n",
       "              'type': 'box',\n",
       "              'x': array(['car_len_m', 'car_len_m', 'car_len_m', ..., 'with_sidewalk_len_m',\n",
       "                          'with_sidewalk_len_m', 'with_sidewalk_len_m'],\n",
       "                         shape=(4000,), dtype=object),\n",
       "              'x0': ' ',\n",
       "              'xaxis': 'x',\n",
       "              'y': {'bdata': ('UrgeddhHa0GamZkNRBhwQfYoXC9Bn2' ... 'AAAAAAAAAAAAAAAAAAuB6F61W880A='),\n",
       "                    'dtype': 'f8'},\n",
       "              'y0': ' ',\n",
       "              'yaxis': 'y'}],\n",
       "    'layout': {'boxmode': 'group',\n",
       "               'legend': {'tracegroupgap': 0},\n",
       "               'template': '...',\n",
       "               'title': {'text': 'Distribution of Network Lengths'},\n",
       "               'xaxis': {'anchor': 'y', 'domain': [0.0, 1.0], 'title': {'text': 'variable'}},\n",
       "               'yaxis': {'anchor': 'x', 'domain': [0.0, 1.0], 'title': {'text': 'value'}}}\n",
       "})"
      ]
     },
     "execution_count": 2,
     "metadata": {},
     "output_type": "execute_result"
    }
   ],
   "source": [
    "px.box(df, y=['car_len_m', 'footway_len_m', 'sidewalk_len_m', 'with_sidewalk_len_m'], title='Distribution of Network Lengths')"
   ]
  },
  {
   "cell_type": "markdown",
   "id": "e94575d6",
   "metadata": {},
   "source": [
    "## Histogram of Sidewalk Lengths"
   ]
  },
  {
   "cell_type": "code",
   "execution_count": 3,
   "id": "b9de7a7d",
   "metadata": {},
   "outputs": [
    {
     "ename": "ValueError",
     "evalue": "Mime type rendering requires nbformat>=4.2.0 but it is not installed",
     "output_type": "error",
     "traceback": [
      "\u001b[31m---------------------------------------------------------------------------\u001b[39m",
      "\u001b[31mValueError\u001b[39m                                Traceback (most recent call last)",
      "\u001b[36mFile \u001b[39m\u001b[32m~/sidewalk_analysis/.venv/lib/python3.12/site-packages/IPython/core/formatters.py:984\u001b[39m, in \u001b[36mIPythonDisplayFormatter.__call__\u001b[39m\u001b[34m(self, obj)\u001b[39m\n\u001b[32m    982\u001b[39m method = get_real_method(obj, \u001b[38;5;28mself\u001b[39m.print_method)\n\u001b[32m    983\u001b[39m \u001b[38;5;28;01mif\u001b[39;00m method \u001b[38;5;129;01mis\u001b[39;00m \u001b[38;5;129;01mnot\u001b[39;00m \u001b[38;5;28;01mNone\u001b[39;00m:\n\u001b[32m--> \u001b[39m\u001b[32m984\u001b[39m     \u001b[43mmethod\u001b[49m\u001b[43m(\u001b[49m\u001b[43m)\u001b[49m\n\u001b[32m    985\u001b[39m     \u001b[38;5;28;01mreturn\u001b[39;00m \u001b[38;5;28;01mTrue\u001b[39;00m\n",
      "\u001b[36mFile \u001b[39m\u001b[32m~/sidewalk_analysis/.venv/lib/python3.12/site-packages/plotly/basedatatypes.py:850\u001b[39m, in \u001b[36mBaseFigure._ipython_display_\u001b[39m\u001b[34m(self)\u001b[39m\n\u001b[32m    847\u001b[39m \u001b[38;5;28;01mimport\u001b[39;00m\u001b[38;5;250m \u001b[39m\u001b[34;01mplotly\u001b[39;00m\u001b[34;01m.\u001b[39;00m\u001b[34;01mio\u001b[39;00m\u001b[38;5;250m \u001b[39m\u001b[38;5;28;01mas\u001b[39;00m\u001b[38;5;250m \u001b[39m\u001b[34;01mpio\u001b[39;00m\n\u001b[32m    849\u001b[39m \u001b[38;5;28;01mif\u001b[39;00m pio.renderers.render_on_display \u001b[38;5;129;01mand\u001b[39;00m pio.renderers.default:\n\u001b[32m--> \u001b[39m\u001b[32m850\u001b[39m     \u001b[43mpio\u001b[49m\u001b[43m.\u001b[49m\u001b[43mshow\u001b[49m\u001b[43m(\u001b[49m\u001b[38;5;28;43mself\u001b[39;49m\u001b[43m)\u001b[49m\n\u001b[32m    851\u001b[39m \u001b[38;5;28;01melse\u001b[39;00m:\n\u001b[32m    852\u001b[39m     \u001b[38;5;28mprint\u001b[39m(\u001b[38;5;28mrepr\u001b[39m(\u001b[38;5;28mself\u001b[39m))\n",
      "\u001b[36mFile \u001b[39m\u001b[32m~/sidewalk_analysis/.venv/lib/python3.12/site-packages/plotly/io/_renderers.py:415\u001b[39m, in \u001b[36mshow\u001b[39m\u001b[34m(fig, renderer, validate, **kwargs)\u001b[39m\n\u001b[32m    410\u001b[39m     \u001b[38;5;28;01mraise\u001b[39;00m \u001b[38;5;167;01mValueError\u001b[39;00m(\n\u001b[32m    411\u001b[39m         \u001b[33m\"\u001b[39m\u001b[33mMime type rendering requires ipython but it is not installed\u001b[39m\u001b[33m\"\u001b[39m\n\u001b[32m    412\u001b[39m     )\n\u001b[32m    414\u001b[39m \u001b[38;5;28;01mif\u001b[39;00m \u001b[38;5;129;01mnot\u001b[39;00m nbformat \u001b[38;5;129;01mor\u001b[39;00m Version(nbformat.__version__) < Version(\u001b[33m\"\u001b[39m\u001b[33m4.2.0\u001b[39m\u001b[33m\"\u001b[39m):\n\u001b[32m--> \u001b[39m\u001b[32m415\u001b[39m     \u001b[38;5;28;01mraise\u001b[39;00m \u001b[38;5;167;01mValueError\u001b[39;00m(\n\u001b[32m    416\u001b[39m         \u001b[33m\"\u001b[39m\u001b[33mMime type rendering requires nbformat>=4.2.0 but it is not installed\u001b[39m\u001b[33m\"\u001b[39m\n\u001b[32m    417\u001b[39m     )\n\u001b[32m    419\u001b[39m display_jupyter_version_warnings()\n\u001b[32m    421\u001b[39m ipython_display.display(bundle, raw=\u001b[38;5;28;01mTrue\u001b[39;00m)\n",
      "\u001b[31mValueError\u001b[39m: Mime type rendering requires nbformat>=4.2.0 but it is not installed"
     ]
    },
    {
     "data": {
      "application/vnd.plotly.v1+json": {
       "config": {
        "plotlyServerURL": "https://plot.ly"
       },
       "data": [
        {
         "bingroup": "x",
         "hovertemplate": "sidewalk_len_m=%{x}<br>count=%{y}<extra></extra>",
         "legendgroup": "",
         "marker": {
          "color": "#636efa",
          "pattern": {
           "shape": ""
          }
         },
         "name": "",
         "nbinsx": 30,
         "orientation": "v",
         "showlegend": false,
         "type": "histogram",
         "x": {
          "bdata": "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",
          "dtype": "f8"
         },
         "xaxis": "x",
         "yaxis": "y"
        }
       ],
       "layout": {
        "barmode": "relative",
        "legend": {
         "tracegroupgap": 0
        },
        "template": {
         "data": {
          "bar": [
           {
            "error_x": {
             "color": "#2a3f5f"
            },
            "error_y": {
             "color": "#2a3f5f"
            },
            "marker": {
             "line": {
              "color": "#E5ECF6",
              "width": 0.5
             },
             "pattern": {
              "fillmode": "overlay",
              "size": 10,
              "solidity": 0.2
             }
            },
            "type": "bar"
           }
          ],
          "barpolar": [
           {
            "marker": {
             "line": {
              "color": "#E5ECF6",
              "width": 0.5
             },
             "pattern": {
              "fillmode": "overlay",
              "size": 10,
              "solidity": 0.2
             }
            },
            "type": "barpolar"
           }
          ],
          "carpet": [
           {
            "aaxis": {
             "endlinecolor": "#2a3f5f",
             "gridcolor": "white",
             "linecolor": "white",
             "minorgridcolor": "white",
             "startlinecolor": "#2a3f5f"
            },
            "baxis": {
             "endlinecolor": "#2a3f5f",
             "gridcolor": "white",
             "linecolor": "white",
             "minorgridcolor": "white",
             "startlinecolor": "#2a3f5f"
            },
            "type": "carpet"
           }
          ],
          "choropleth": [
           {
            "colorbar": {
             "outlinewidth": 0,
             "ticks": ""
            },
            "type": "choropleth"
           }
          ],
          "contour": [
           {
            "colorbar": {
             "outlinewidth": 0,
             "ticks": ""
            },
            "colorscale": [
             [
              0,
              "#0d0887"
             ],
             [
              0.1111111111111111,
              "#46039f"
             ],
             [
              0.2222222222222222,
              "#7201a8"
             ],
             [
              0.3333333333333333,
              "#9c179e"
             ],
             [
              0.4444444444444444,
              "#bd3786"
             ],
             [
              0.5555555555555556,
              "#d8576b"
             ],
             [
              0.6666666666666666,
              "#ed7953"
             ],
             [
              0.7777777777777778,
              "#fb9f3a"
             ],
             [
              0.8888888888888888,
              "#fdca26"
             ],
             [
              1,
              "#f0f921"
             ]
            ],
            "type": "contour"
           }
          ],
          "contourcarpet": [
           {
            "colorbar": {
             "outlinewidth": 0,
             "ticks": ""
            },
            "type": "contourcarpet"
           }
          ],
          "heatmap": [
           {
            "colorbar": {
             "outlinewidth": 0,
             "ticks": ""
            },
            "colorscale": [
             [
              0,
              "#0d0887"
             ],
             [
              0.1111111111111111,
              "#46039f"
             ],
             [
              0.2222222222222222,
              "#7201a8"
             ],
             [
              0.3333333333333333,
              "#9c179e"
             ],
             [
              0.4444444444444444,
              "#bd3786"
             ],
             [
              0.5555555555555556,
              "#d8576b"
             ],
             [
              0.6666666666666666,
              "#ed7953"
             ],
             [
              0.7777777777777778,
              "#fb9f3a"
             ],
             [
              0.8888888888888888,
              "#fdca26"
             ],
             [
              1,
              "#f0f921"
             ]
            ],
            "type": "heatmap"
           }
          ],
          "histogram": [
           {
            "marker": {
             "pattern": {
              "fillmode": "overlay",
              "size": 10,
              "solidity": 0.2
             }
            },
            "type": "histogram"
           }
          ],
          "histogram2d": [
           {
            "colorbar": {
             "outlinewidth": 0,
             "ticks": ""
            },
            "colorscale": [
             [
              0,
              "#0d0887"
             ],
             [
              0.1111111111111111,
              "#46039f"
             ],
             [
              0.2222222222222222,
              "#7201a8"
             ],
             [
              0.3333333333333333,
              "#9c179e"
             ],
             [
              0.4444444444444444,
              "#bd3786"
             ],
             [
              0.5555555555555556,
              "#d8576b"
             ],
             [
              0.6666666666666666,
              "#ed7953"
             ],
             [
              0.7777777777777778,
              "#fb9f3a"
             ],
             [
              0.8888888888888888,
              "#fdca26"
             ],
             [
              1,
              "#f0f921"
             ]
            ],
            "type": "histogram2d"
           }
          ],
          "histogram2dcontour": [
           {
            "colorbar": {
             "outlinewidth": 0,
             "ticks": ""
            },
            "colorscale": [
             [
              0,
              "#0d0887"
             ],
             [
              0.1111111111111111,
              "#46039f"
             ],
             [
              0.2222222222222222,
              "#7201a8"
             ],
             [
              0.3333333333333333,
              "#9c179e"
             ],
             [
              0.4444444444444444,
              "#bd3786"
             ],
             [
              0.5555555555555556,
              "#d8576b"
             ],
             [
              0.6666666666666666,
              "#ed7953"
             ],
             [
              0.7777777777777778,
              "#fb9f3a"
             ],
             [
              0.8888888888888888,
              "#fdca26"
             ],
             [
              1,
              "#f0f921"
             ]
            ],
            "type": "histogram2dcontour"
           }
          ],
          "mesh3d": [
           {
            "colorbar": {
             "outlinewidth": 0,
             "ticks": ""
            },
            "type": "mesh3d"
           }
          ],
          "parcoords": [
           {
            "line": {
             "colorbar": {
              "outlinewidth": 0,
              "ticks": ""
             }
            },
            "type": "parcoords"
           }
          ],
          "pie": [
           {
            "automargin": true,
            "type": "pie"
           }
          ],
          "scatter": [
           {
            "fillpattern": {
             "fillmode": "overlay",
             "size": 10,
             "solidity": 0.2
            },
            "type": "scatter"
           }
          ],
          "scatter3d": [
           {
            "line": {
             "colorbar": {
              "outlinewidth": 0,
              "ticks": ""
             }
            },
            "marker": {
             "colorbar": {
              "outlinewidth": 0,
              "ticks": ""
             }
            },
            "type": "scatter3d"
           }
          ],
          "scattercarpet": [
           {
            "marker": {
             "colorbar": {
              "outlinewidth": 0,
              "ticks": ""
             }
            },
            "type": "scattercarpet"
           }
          ],
          "scattergeo": [
           {
            "marker": {
             "colorbar": {
              "outlinewidth": 0,
              "ticks": ""
             }
            },
            "type": "scattergeo"
           }
          ],
          "scattergl": [
           {
            "marker": {
             "colorbar": {
              "outlinewidth": 0,
              "ticks": ""
             }
            },
            "type": "scattergl"
           }
          ],
          "scattermap": [
           {
            "marker": {
             "colorbar": {
              "outlinewidth": 0,
              "ticks": ""
             }
            },
            "type": "scattermap"
           }
          ],
          "scattermapbox": [
           {
            "marker": {
             "colorbar": {
              "outlinewidth": 0,
              "ticks": ""
             }
            },
            "type": "scattermapbox"
           }
          ],
          "scatterpolar": [
           {
            "marker": {
             "colorbar": {
              "outlinewidth": 0,
              "ticks": ""
             }
            },
            "type": "scatterpolar"
           }
          ],
          "scatterpolargl": [
           {
            "marker": {
             "colorbar": {
              "outlinewidth": 0,
              "ticks": ""
             }
            },
            "type": "scatterpolargl"
           }
          ],
          "scatterternary": [
           {
            "marker": {
             "colorbar": {
              "outlinewidth": 0,
              "ticks": ""
             }
            },
            "type": "scatterternary"
           }
          ],
          "surface": [
           {
            "colorbar": {
             "outlinewidth": 0,
             "ticks": ""
            },
            "colorscale": [
             [
              0,
              "#0d0887"
             ],
             [
              0.1111111111111111,
              "#46039f"
             ],
             [
              0.2222222222222222,
              "#7201a8"
             ],
             [
              0.3333333333333333,
              "#9c179e"
             ],
             [
              0.4444444444444444,
              "#bd3786"
             ],
             [
              0.5555555555555556,
              "#d8576b"
             ],
             [
              0.6666666666666666,
              "#ed7953"
             ],
             [
              0.7777777777777778,
              "#fb9f3a"
             ],
             [
              0.8888888888888888,
              "#fdca26"
             ],
             [
              1,
              "#f0f921"
             ]
            ],
            "type": "surface"
           }
          ],
          "table": [
           {
            "cells": {
             "fill": {
              "color": "#EBF0F8"
             },
             "line": {
              "color": "white"
             }
            },
            "header": {
             "fill": {
              "color": "#C8D4E3"
             },
             "line": {
              "color": "white"
             }
            },
            "type": "table"
           }
          ]
         },
         "layout": {
          "annotationdefaults": {
           "arrowcolor": "#2a3f5f",
           "arrowhead": 0,
           "arrowwidth": 1
          },
          "autotypenumbers": "strict",
          "coloraxis": {
           "colorbar": {
            "outlinewidth": 0,
            "ticks": ""
           }
          },
          "colorscale": {
           "diverging": [
            [
             0,
             "#8e0152"
            ],
            [
             0.1,
             "#c51b7d"
            ],
            [
             0.2,
             "#de77ae"
            ],
            [
             0.3,
             "#f1b6da"
            ],
            [
             0.4,
             "#fde0ef"
            ],
            [
             0.5,
             "#f7f7f7"
            ],
            [
             0.6,
             "#e6f5d0"
            ],
            [
             0.7,
             "#b8e186"
            ],
            [
             0.8,
             "#7fbc41"
            ],
            [
             0.9,
             "#4d9221"
            ],
            [
             1,
             "#276419"
            ]
           ],
           "sequential": [
            [
             0,
             "#0d0887"
            ],
            [
             0.1111111111111111,
             "#46039f"
            ],
            [
             0.2222222222222222,
             "#7201a8"
            ],
            [
             0.3333333333333333,
             "#9c179e"
            ],
            [
             0.4444444444444444,
             "#bd3786"
            ],
            [
             0.5555555555555556,
             "#d8576b"
            ],
            [
             0.6666666666666666,
             "#ed7953"
            ],
            [
             0.7777777777777778,
             "#fb9f3a"
            ],
            [
             0.8888888888888888,
             "#fdca26"
            ],
            [
             1,
             "#f0f921"
            ]
           ],
           "sequentialminus": [
            [
             0,
             "#0d0887"
            ],
            [
             0.1111111111111111,
             "#46039f"
            ],
            [
             0.2222222222222222,
             "#7201a8"
            ],
            [
             0.3333333333333333,
             "#9c179e"
            ],
            [
             0.4444444444444444,
             "#bd3786"
            ],
            [
             0.5555555555555556,
             "#d8576b"
            ],
            [
             0.6666666666666666,
             "#ed7953"
            ],
            [
             0.7777777777777778,
             "#fb9f3a"
            ],
            [
             0.8888888888888888,
             "#fdca26"
            ],
            [
             1,
             "#f0f921"
            ]
           ]
          },
          "colorway": [
           "#636efa",
           "#EF553B",
           "#00cc96",
           "#ab63fa",
           "#FFA15A",
           "#19d3f3",
           "#FF6692",
           "#B6E880",
           "#FF97FF",
           "#FECB52"
          ],
          "font": {
           "color": "#2a3f5f"
          },
          "geo": {
           "bgcolor": "white",
           "lakecolor": "white",
           "landcolor": "#E5ECF6",
           "showlakes": true,
           "showland": true,
           "subunitcolor": "white"
          },
          "hoverlabel": {
           "align": "left"
          },
          "hovermode": "closest",
          "mapbox": {
           "style": "light"
          },
          "paper_bgcolor": "white",
          "plot_bgcolor": "#E5ECF6",
          "polar": {
           "angularaxis": {
            "gridcolor": "white",
            "linecolor": "white",
            "ticks": ""
           },
           "bgcolor": "#E5ECF6",
           "radialaxis": {
            "gridcolor": "white",
            "linecolor": "white",
            "ticks": ""
           }
          },
          "scene": {
           "xaxis": {
            "backgroundcolor": "#E5ECF6",
            "gridcolor": "white",
            "gridwidth": 2,
            "linecolor": "white",
            "showbackground": true,
            "ticks": "",
            "zerolinecolor": "white"
           },
           "yaxis": {
            "backgroundcolor": "#E5ECF6",
            "gridcolor": "white",
            "gridwidth": 2,
            "linecolor": "white",
            "showbackground": true,
            "ticks": "",
            "zerolinecolor": "white"
           },
           "zaxis": {
            "backgroundcolor": "#E5ECF6",
            "gridcolor": "white",
            "gridwidth": 2,
            "linecolor": "white",
            "showbackground": true,
            "ticks": "",
            "zerolinecolor": "white"
           }
          },
          "shapedefaults": {
           "line": {
            "color": "#2a3f5f"
           }
          },
          "ternary": {
           "aaxis": {
            "gridcolor": "white",
            "linecolor": "white",
            "ticks": ""
           },
           "baxis": {
            "gridcolor": "white",
            "linecolor": "white",
            "ticks": ""
           },
           "bgcolor": "#E5ECF6",
           "caxis": {
            "gridcolor": "white",
            "linecolor": "white",
            "ticks": ""
           }
          },
          "title": {
           "x": 0.05
          },
          "xaxis": {
           "automargin": true,
           "gridcolor": "white",
           "linecolor": "white",
           "ticks": "",
           "title": {
            "standoff": 15
           },
           "zerolinecolor": "white",
           "zerolinewidth": 2
          },
          "yaxis": {
           "automargin": true,
           "gridcolor": "white",
           "linecolor": "white",
           "ticks": "",
           "title": {
            "standoff": 15
           },
           "zerolinecolor": "white",
           "zerolinewidth": 2
          }
         }
        },
        "title": {
         "text": "Histogram of Sidewalk Lengths"
        },
        "xaxis": {
         "anchor": "y",
         "domain": [
          0,
          1
         ],
         "title": {
          "text": "sidewalk_len_m"
         }
        },
        "yaxis": {
         "anchor": "x",
         "domain": [
          0,
          1
         ],
         "title": {
          "text": "count"
         }
        }
       }
      },
      "text/html": [
       "<div>                        <script type=\"text/javascript\">window.PlotlyConfig = {MathJaxConfig: 'local'};</script>\n",
       "        <script charset=\"utf-8\" src=\"https://cdn.plot.ly/plotly-3.0.1.min.js\" integrity=\"sha256-oy6Be7Eh6eiQFs5M7oXuPxxm9qbJXEtTpfSI93dW16Q=\" crossorigin=\"anonymous\"></script>                <div id=\"b098191a-d638-4c1c-ac3f-1103d1c186a2\" class=\"plotly-graph-div\" style=\"height:100%; width:100%;\"></div>            <script type=\"text/javascript\">                window.PLOTLYENV=window.PLOTLYENV || {};                                if (document.getElementById(\"b098191a-d638-4c1c-ac3f-1103d1c186a2\")) {                    Plotly.newPlot(                        \"b098191a-d638-4c1c-ac3f-1103d1c186a2\",                        [{\"bingroup\":\"x\",\"hovertemplate\":\"sidewalk_len_m=%{x}\\u003cbr\\u003ecount=%{y}\\u003cextra\\u003e\\u003c\\u002fextra\\u003e\",\"legendgroup\":\"\",\"marker\":{\"color\":\"#636efa\",\"pattern\":{\"shape\":\"\"}},\"name\":\"\",\"nbinsx\":30,\"orientation\":\"v\",\"showlegend\":false,\"x\":{\"dtype\":\"f8\",\"bdata\":\"FK5H4ffvG0EUrkfhP04dQa5H4XrzL0FBpHA9imHTIEGF61G43r3QQDMzMzMVQBBBrkfhehTitECkcD0K9JIQQa5H4XqwlPtAUrgehat7uUAUrkfh6qzoQAAAAEAIeDBBFK5H4RboFUF7FK5H4TCyQBSuR+F6Da9APQrXo8DT9kD2KFyPCu70QHsUrhceBFFBFK5H4bqqzkCkcD2KcFlEQT0K10N4wl1Bw\\u002fUoXKf66EDNzMzMjHHXQHsUrkeJROdASOF6FB72CUHD9Shcvxn3QM3MzMxQUv5AhetRuHonI0FxPQo3qGNJQR+F64kiVXBBXI\\u002fC9QC79kBmZmbm9TMgQeF6FO7AdjZB7FG4nnuuMUFcj8J17Ws4QexRuB7kCzdBAAAAACQr\\u002fEC4HoXrLAA6QSlcj8IlQuJAZmZmZlYd4kDXo3A9Duz\\u002fQClcj8L1rMJAXI\\u002fC9ajQsUCF61G4Wv76QMP1KFyjFAhBUrgehcu9ykAK16NwPW2yQFyPwvWKgSBB16Nw\\u002fe+zUkGamZmZmRFoQJqZmdlI30pB9ihc\\u002f6giaEFSuB6Fi2DdQD0K16MANfVAuB6F65QaGkHD9Shcv3nZQJqZmZk52tpAzczMzMzagUA9CtcjBQ06QVyPwvUZtBNBw\\u002fUoXI\\u002fmfkCkcD0Kvy\\u002fiQDMzMzNz+8pAZmZmZmaZykDNzMzMTOiwQBSuR+Hq0N9AhetRuB4lT0CamZmZmeOSQClcj8LWripBw\\u002fUoXI+CukCPwvUoHDS\\u002fQNejcD2y3OJAuB6F68G51UBI4XoUzj4JQeF6FK4Xu9lACtejcL1cvUCamZmZmSFgQLgehesR4MxApHA9ChtQMUHhehQuFcY7QVK4HoXrzr1ArkfhelSlt0AUrkfh2r3LQOF6FK7X++tASOF6FC7gvkDNzMzMTEvLQB+F61GwJuxASOF6FNIAQUEAAAAAAAAAAKRwPQrnSQVBAAAAgOOFOEH2KFyPYjT1QHsUrkd5nuZArkfhepg79UBI4XoUrjddQAAAAAAAAAAA9ihcj4ytAUEAAAAAAAAAAB+F62FnTlpBSOF6FGCPAUHsUbgeRaLCQFK4HoXD4QJBZmZmZobt1UBmZmZmBovMQEjhelQkzkVBUrgehdsG5kAUrkfhurHFQHsUrkfxLeRAuB6F6wGc0kA9Ctej+NriQK5H4XoUH7lAAAAAAABMmEBI4XoUrpGPQHsUrsc1GCBBCtejcB180EApXI\\u002fC9R2VQClcj8LhchRB4XoUrke30UAfhetRfM\\u002f6QJqZmZlZCLVAuB6F69EOukCuR+F6pmQPQQAAAAAAAAAA4XoUbv1LNUHD9ShMM89TQaRwPQq0ZzBBCtejMABhR0FI4XoU9uroQFyPwjXN6ENBw\\u002fUoXEP9IEHNzMzMTH6gQLgehev9BhZBw\\u002fUopIXnZUFcj8L1CA7ZQBSuR+H6guZASOF6FN6y50DXo3A9Cl9\\u002fQBSuR+H6y6VAhetRQEsVYkEpXI\\u002fC9Ty6QKRwPQrXaLFASOF6FM6EAEEAAAAAAAAAAI\\u002fC9SisON9ArkfhehQmg0DNzMzMDADAQK5H4XpUV7xAAAAAAAAAAADNzMzM5IfxQMP1KFxfZ9NAj8L1KFzXd0AfhetRsI8CQcP1KFyPVnlApHA9CtdjX0AzMzMzM3mRQBSuR2FifTJBzczMzCWSHUGuR+F6EpIIQUjhehQ2jetA9ihcj8JdsUCPwvUoXOmCQJqZmZkSzi9B16NwvQY7M0FSuB6lMB5jQSlcj4JOFjBBcT0KlwPNMEGuR+F6rKvpQK5H4XoUFIBAhetRuB5tt0AUrkdhAI0yQWZmZmaIlgBB4XoUrkdhOkC4HoXrYRDQQAAAAAAA\\u002fIBA9ihcjwofBUEfhetRMEjjQAAAAADQptlAXI\\u002fC9cgKy0CuR+F6FG41QDMzMzOVVwFBKVyPwkF28EDhehSux6DBQPYoXG8NSk1BH4XrUbhGeEAK16NwPW5xQArXo3C9M6tApHA9Cpfl2kCkcD0KD8jgQAAAAAAAAAAAj8L1KFwZr0BSuB6FSzzKQPYoXI9CI7FAhetRuLae5EDD9Shcj8eqQPYoXI\\u002fCZYRAFK5H4a5QC0F7FK5HIb+wQKRwPQr8oxxBXI\\u002fC9Sgyh0CPwvUoXLrHQK5H4fo8VSFBpHA9Ctfr1UBmZmZmTC4RQcP1KFyPo5hAmpmZGZ+vI0HsUbgetSvVQKRwPQon2RRBMzMzMzO7ZkAK16NwPUpoQAAAAAAAAAAArkfh+nq7IkEAAAAAAAAAAD0K16PwTqtAuB6F65H8tkBI4XoUrvSaQLgehevRJ8RAexSuR6WSD0EAAAAAAAAAADMzMzMz41hArkfhehQWaED2KFyP0ocEQdejcD0K0qpAAAAAAAAAAADD9Shcj6OYQBSuR2GL\\u002fChBw\\u002fUoXM\\u002f3v0B7FK5HeS7hQAAAAAAAAAAAuB6Fa6AhIEFcj8L1hvoHQYXrUbi+H8BAZmZmZuCEAEG4HoXroevjQMP1KFyPmmNAuB6F69F+vUBmZmZmzmH3QAAAAAAAAAAAAAAAAAAAAAAAAAAA0APaQPYoXI\\u002fClYxAUrgetTDWUkEAAAAAAAAAAEjhehTu4dlA9ihcj8LlUUBxPQrX0YMLQY\\u002fC9SjjBS1BPQrXo5jA5EAUrkfhOn6yQBSuR+G6JL9A16NwPYr130C4HoWLeyhAQRSuR+EansFApHA9Ch9\\u002f5UAzMzOzJaIwQdejcD0KFJBA9ihcj0IjsUAAAAAAAAAAAI\\u002fC9SjcN6lArkfhehRuWUD2KFyPwo+GQJqZmZmZuUpAw\\u002fUoXI+6ekBxPQrXLcYIQSlcj8I7OQRBH4XrUbjKdUDNzMzMpr0FQc3MzCyPpktBKVyPwvUQoUAAAAAAQFbOQAAAAAAAAAAAj8L1aE7gQ0F7FK5H4TGVQAAAAAAAAAAAKVyPwvUAckCamZmZKT8BQQrXo3BqehFBUrgeBWXtI0EAAAAAAAAAALgehetRwGxAcT0K15wjEkHNzMzMzGKfQKRwPQoHFNZAcT0K16MYkEAzMzMzs2ahQM3MzMzMWqZAPQrXo3BBlEBmZmZmirw4QeF6FK5He4NAzczMzAyZvkAK16NwvTSzQIXrUbgeLWJAAAAAAMC22UAAAAAAAAAAABSuR+E6NdBASOF6FDY98EApXI\\u002fCdXWgQAAAAAAAAAAASOF6FK51h0CamZmZqCUqQQAAAAAAAAAA9ihcj7qH5ED2KFxPeJhCQWZmZmbONxFB9ihcD+gPIEHNzMzMx84dQYXrUbhiY\\u002fBAcT0K1xOC50ApXI\\u002fC9XBrQFyPwvUgie5AmpmZGbgsKkGPwvUorMDVQClcj8L1GH1APQrXwwruV0FI4XoUrmeHQAAAAACAxadAUrgehb\\u002fa80ApXI\\u002fC9dqGQHE9Ctdj2+dA16NwPTgjEkHNzMzMO8AzQXE9Ctcj+MhArkfhehRuWEBxPQrXA57GQNejcD1PWSlBAAAAAAAAAAA9CtejcBeAQK5H4XqnIhpB16NwPaoP0kCkcD0K1yeoQHE9CtcjvdZAw\\u002fUoXF9w1ECF61G4HsVUQClcj8I97eFAhetRuB4lq0AAAAAAAAAAAK5H4XoUgqdA7FG4HvUGDEHNzMzMjPm8QOxRuB6Fq0FAKVyPwvU5lEBcj8L1KG++QOF6FK4HsrJAZmZmZoZQxUAK16NwPV2qQFyPwvV6KgZBAAAAAAAAAACkcD0K18NMQK5H4XoUT9hAKVyPwtKoJUGPwvUo3Le9QFyPwvUo\\u002fEFAmpmZmZnZN0C4HoXrsSzCQEjhehQO5+RAMzMzczElSEEAAAAAAAAAAMP1KFy\\u002fEdNAhetReEoRRkEzMzMzM7anQAAAAAAAAAAAXI\\u002fC9SiSmEAAAAAAAAAAAAAAAAAAAAAA9ihcjwLJvkBxPQrXI62kQGZmZmYU5AFBFK5H4XrtpkApXI\\u002fC9SglQAAAAAAAAAAA9ihcj8JlhEDsUbhe9os3QexRuB79sRpBAAAAAAAAAAC4HoXrEWXbQFK4HoXrL4ZAcT0K1yO2sED2KFwPnDlCQWZmZmZmlopAFK5H4XrKHUGPwvUoXOaYQFK4HoXr0S9AmpmZmRkmrECamZmZmYbNQOF6FK6n09FAFK5H4Xqtq0DD9Shcj5JsQFK4HoVLBchAuB6F67Vi9UDsUbgexUC\\u002fQAAAAAAAAAAApHA9CnllGUEfhetRWA7pQHE9CtdjfNtAFK5H4XqbkUDNzMzMTOOuQK5H4XoUFZ5Aw\\u002fUoXDm5IEGuR+F6uD0EQQAAAAAAAAAAXI\\u002fC9SjRnUAK16NwvTG1QArXo3C9WbNAuB6F69FHqkD2KFyPwqCjQArXo3ARB\\u002fFAKVyPwnX+xkB7FK5HYaSqQAAAAAAAAAAAexSuxzgrIUEK16NwPUyBQBSuR+F6pJJASOF6FK49lEDXo3A9CtCYQD0K16NwPSlAH4XrUfgwykCPwvUoXH9mQD0K16NwPUdAAAAAAAAAAAAAAAAAAAAAAEjhehQu9qBASOF6FK53ekAAAAAAAAAAAI\\u002fC9ShcU3RAAAAAAAAAAAAAAAAAAAAAAK5H4XqQrf5Aw\\u002fUoXP+K9EBSuB6FIPASQY\\u002fC9ahwUytBCtejcB08ykDsUbgeBT2uQOF6FK5HUJZApHA9CpcywUBxPQrXo8SHQHsUrkdhGKNAAAAAAPOyKUEfhetR\\u002foEHQaRwPQrX3ahAPQrXo\\u002fgvB0EpXI\\u002fC9SgjQFyPwvUonGtA16NwPQqRt0B7FK5HYYuqQOF6FK43+ghBzczMzIDTD0FxPQrXo8yQQM3MzEyE3jFBAAAAAAAAAACamZmZmdV1QI\\u002fC9Shca6BAH4XrUaqnAEEAAAAAAAAAAAAAAAAAAAAA9ihcj1FPFEEfhetR8OH1QAAAAADqJh5B9ihcj8J1MkAAAAAAbE4XQSlcj8L11HdAZmZmZvSYFkEAAAAAAAAAAIXrUbgK6PpAMzMzM3NEsUCPwvUoVHT8QClcj8L1tZ1AH4XrUfiXuEAAAAAAAAAAAAAAAAAAAAAAAAAAAFwtAkEAAAAAAAAAAD0K16Ps1fRACtejcB175UDD9ShcjxSEQI\\u002fC9Shcjy1AAAAAAAAAAAAAAAAAAAAAAIXrUbhy1PxAw\\u002fUoXI8ackA9CtejsEXNQJqZmZka5ytB7FG4HqfJD0EK16NwPcyNQMP1KFyPRnRAzczMzMx3ukDhehSuyfIvQQrXo3A9ikVAAAAAAAAAAAAAAAAAAAAAABSuR+G6k8hA7FG4nrzsJkG4HoXrUeh1QHsUrkfhUJpAH4XrUTgdrkAUrkfhepaCQAAAAAAAAAAAw\\u002fUoXA\\u002fzq0AAAAAAQHu2QDMzMzMLmRdBXI\\u002fC9Yzt+0AAAAAAAAAAAAAAAAAAAAAAAAAAAAAAAAAAAAAAAAAAANejcD0KbN9AAAAAAAAAAAAfhetRuNKnQHE9CtfDpsdAZmZmZmb2bECuR+F6VD\\u002fBQM3MzMyMdLJAFK5H4frvoEAAAAAAAAAAAJqZmZmZuUNApHA9CtebZUDNzMzMTHGqQM3MzMzMOLBAzczMzMyzqEB7FK5HoT\\u002fyQNejcD0K1ytASOF6FC61M0EpXI\\u002fC9Sg0QFyPwvWoc+ZApHA9SlusMkHD9Sic\\u002fJ0+QSlcj8L1YG9AuB6F64GX8kDD9ShcJ0H0QMP1KFyPo5hAexSuB9BEMEFxPQrXo4CNQHE9ChcPwThBpHA9Ctd5AEEpXI\\u002fCGKYUQdejcD0KeYBAZmZmZmbeZ0DhehSuRz19QJqZmZn5+uBAhetRuB4LhEAAAAAAAAAAAMP1KFy\\u002fztJAuB6FK8m\\u002fUkEK16NwPQJkQNejcD06+9pAAAAAAGAC2EC4HoXrwa\\u002f+QLgehetRQH9AcT0K16PogkDsUbgehQtMQPYoXI+ZyBlBAAAAAAAAAAAAAAAAaDUKQWZmZmZmrZ1AcT0K16O6sUCamZmZme6TQAAAAAAAAAAAFK5HIfVwP0EUrkfhem+6QOxRuB6F63xA9ihcj\\u002fwgAEF7FK5HCR\\u002fzQAAAAACAf7dAmpmZma0aBkGamZmZGaHXQBSuR+FyWeJAAAAAAAAAAADsUbgeTTzkQJqZmZkZYNNAAAAAAAAAAADsUbieXv8pQcP1KFzPisVAZmZmZmaubUAUrkfh9AgDQY\\u002fC9Shc5phAAAAAAAAAAABmZmZmtqINQQAAAAAAAAAAzczMjItCMkFxPQrXY5KzQAAAAAAAAAAAH4XrUbheMUB7FK5HQV\\u002fIQAAAAAAAAAAAhetRuB7trkA9CtejID7UQGZmZmZm3mBApHA9Cg9y5UDD9Shc\\u002fPkRQVK4HoVrIvxAw\\u002fUo3AxjM0EAAAAAAAAAAMP1KFw\\u002f4D9BzczMzMxyjkAAAAAAAAAAAIXrUbgTshpBUrgeheuRZUCuR+F6FE5PQOF6FK6nne9AhetRuB5VX0AAAAAAAAAAAAAAAAAAAAAArkfhehTRoEC4HoXrUQBkQIXrUbh+RM9Aw\\u002fUoXE+sA0EK16Nwvd+6QAAAAAAAAAAAAAAAAAAAAACkcD0Kzq0WQT0K16NQ0dhAw\\u002fUoXI8yVEAzMzMzU\\u002fA7QQrXo3AVxfZAFK5H4Xpun0BSuB6F6ziSQPYoXI\\u002fCT41APQrXo\\u002fC8tEAUrkfhWh3oQFyPwvXoL7JAAAAAAAAAAABI4XoUrsuHQLgehetR6ZBAH4XrUTiXskBxPQrXo7zKQHsUrkdV7gJBAAAAAAAAAAAAAAAAAAAAAHsUrkfh8phASOF6FK6HQ0CF61G4HjavQD0K16NwJWpAAAAAAAAAAAD2KFyPUmbfQI\\u002fC9Si4JvJArkfhehT+mUC4HoXrkWfMQD0K16OsgQdBAAAAAAAAAAAAAAAA9rkIQdejcD1qospAKVyPwlV51kApXI\\u002fC9fyrQK5H4XpwLvxAPQrXoxBY4kDXo3A9CvS1QMP1KFyPOmVASOF6FI4h\\u002f0A9CtejcB+OQKRwPQqXhfRAH4XrUbjZsECamZmZmfmMQAAAAAAAO5NArkfhevRT0EAfhetRHMv0QAAAAAAAAAAAexSuR+HMgkAAAAAAAAAAAOxRuB7rAS5BKVyPQuzeJkEzMzMzXPQrQaRwPQrXIsZAUrgehesBxEBcj8L1yNvTQBSuR+F6pq9AAAAAAAAAAAA9CtejcJl\\u002fQAAAAAAAAAAArkfhejSG3EAzMzMzc1O3QI\\u002fC9Si8RcRAPQrXo+LvBEGuR+F6lEygQI\\u002fC9ShckJVAmpmZmRnPqkCuR+F6FHCAQHE9CtcjJaNAAAAAAAAAAACuR+F6FNSJQK5H4Xq0gvJArkfhepRZrEBI4XoUrmNzQKRwPQp\\u002fBetArkfhejtfFUEAAAAAAAAAAGZmZmZmRplAcT0K10NkzkBmZmZmJuWxQBSuR+H6EbVAUrgehet0mUDD9Shcj5WqQKRwPQrXf3FAH4XrERDWREH2KFyPwsGeQGZmZmZmv5hAhetRuB6bj0A9CtejcE6cQAAAAAAAAAAAAAAAAAAAAABxPQrXo4h7QAAAAAAAAAAAUrgehchMM0GF61G4NlwGQexRuB7lCchAcT0K16PMd0DNzMzMzBWaQHsUrkfhUnpAAAAAAAAAAADsUbgeBfm\\u002fQMP1KFyPV6dAAAAAAAAAAAAAAAAAAAAAAFyPwnVT6ylBAAAAAAAAAAA9CtejcOV6QI\\u002fC9ajC\\u002fUFBPQrXo3B+40C4HoXrNJMkQaRwPQrXdJFAj8L1KFwDkUApXI\\u002fC9ahRQMP1KFxbJ\\u002fhAAAAAAAAAAABSuB6F6yzAQClcj0LOZyFBAAAAAAAAAACamZmZCXP+QAAAAAAAAAAAzczMzBRV8EBmZmZmTmPwQGZmZmZmFmpA9ihcj4L3v0AUrkfh+imoQAAAAAAAAAAAAAAAAAAAAAAAAAAAAAAAAMP1KFyP3bJAFK5H4cpw1kApXI8iK7VAQXsUrkdRkuVAAAAAAACek0CF61G4\\u002fQMRQdejcD1Os\\u002f9A16NwvWHWI0EAAAAAAAAAAArXo3A9gKFAAAAAAAAAAABSuB6FyLIeQVK4HoXr441APQrXoxDdxECkcD0KV++zQBSuR+F6DoBAAAAAAAAAAADsUbgeiYT2QHsUrkfR2ShBAAAAALDkCEGkcD0KV0roQClcj8J1GLFACtejcO2E3UBxPQrXL53yQBSuR+F6FFNAexSuR+FZk0AAAAAAAAAAAOF6FK7fv+5A9ihcj8Kdj0BxPQrXm37uQHsUrkeBrspASOF6FM6F00DD9Shcj+m7QAAAAAAAAAAAAAAAAAAAAAAAAAAAAAAAAArXo3A94bRAXI\\u002fCdTgzNEG4HoXrUbmnQOF6FK6Pm+1AhetRuB41ZkBcj8I1h1A5QQAAAAAAAAAAPQrXo3Bl0UAUrkfheoewQOF6FK6HMb9AzczMzMzMU0BI4XoUAj34QFK4HoVdw0NBXI\\u002fCdY+zL0G4HoXrUQhZQIXrUbgegX1AAAAAAAAAAAAzMzMzMzG6QB+F61F41c1AAAAAAAAAAACF61G48uAEQeF6FK4Hc8xAAAAAABLBH0GkcD0K13eIQAAAAAAAAAAAAAAAAAAAAAB7FK5HTDkSQWZmZmaGVuFAzczMzMw5nEAK16NwvZbZQAAAAAAAAAAAPQrXo1Br5kCamZmZmdlgQI\\u002fC9SjstudA9ihcj0J+tkD2KFyPwnVDQAAAAAAAAAAAmpmZmZkxbkAAAAAAAAAAADMzMzMzMptAMzMzMzNUoEDNzMzMzIx0QAAAAAAAAAAAPQrXo\\u002fCjukB7FK5HoeTUQMP1KFyj\\u002fQdBhetRuC81JkF7FK5H4epXQNejcD1yxfpAhetRmG1YREGkcD0K14NOQIXrUTh7qSJBmpmZmS0H90DD9Shcj42XQEjhehTuSLVAFK5H4Xr8bUCkcD0K13W0QJqZmZle4SVBj8L1KNz9rEA9CtdDdgJBQeF6FK53ntFAXI\\u002fC9ecIE0G4HoXrkR3MQM3MzEzdmyBBcT0K1zuZ4kAK16NwtV8DQVK4HoVb4fBAzczMzAy5uUBSuB6F6zqUQAAAAAAAAAAA4XoUbtERPUEAAAAAAAAAAM3MzEyD\\u002fyFBCtejcMk6AkHNzMzMzNaRQB+F61G47LlA16NwPWoU\\u002fkCuR+F6qGAAQfYoXI\\u002fCXZdAw\\u002fUoXMe8CUEAAAAAAAAAAM3MzMzE9\\u002fBAZmZmZmYSckAfhetRGPLCQBSuR+HmlvZAAAAAAAAAAACkcD0K2WoLQXsUrkfhinVAAAAAAAAAAAAK16NwPcJ9QDMzMzOr9\\u002f5AAAAAAAAAAAD2KFyPdrH6QDMzMzMzTY1ArkfhevbdBEFcj8L1KFm9QAAAAAAAAAAAAAAAAAAAAADNzMzMzOjHQBSuR+EC4+dAXI\\u002fC9SgMYEDXo3A9vmz3QAAAAAAAAAAArkfheqynGkFxPQrXpwABQXsUrke5FeVAAAAAAAAAAAC4HoXrUbmdQGZmZmZGOOBA16NwPSrk+EBSuB6F65CaQAAAAAAAAAAAPQrXo3A9O0AUrkfh+kq7QOF6FK43COdAexSuRyHk5UD2KFyPwhVAQArXo3BlvghBAAAAAAAAAABcj8L1KKSXQJqZmZmZH5xAAAAAAAAAAAA9CtejcPPBQD0K16NSLgBBCtejcEXW\\u002fEBSuB4FzXIiQVyPwvWgl+RAj8L1KFzPP0AAAAAAAAAAAAAAAAAAAAAAw\\u002fUoXI+kk0BmZmZmBvLPQAAAAAAAAGZA16NwPQq7hEAAAAAA0B3fQBSuR+H6ssBAXI\\u002fC9WjsvUBSuB6F64GQQEjhehSuCJZAexSuR6Eut0AAAAAAAAAAAM3MzMzM4p1AuB6F6xGN3UAAAAAAAAAAAPYoXI\\u002fiL8RAAAAAAAAAAAAfhetRCEXQQMP1KFx7kvVAAAAAAAAAAACF61G4duTgQDMzMzOCjxRBAAAAAAAAAABSuB6FyxfLQFK4HoUjTexACtejcD1LF0EAAAAAAAAAAEjhehQsBwBBAAAAAAAAAAAAAAAAAAAAAAAAAADQ89lAMzMzM7v07UCkcD0K16NtQIXrUbi+0MRAXI\\u002fC9Si0jEApXI\\u002fClJYoQVK4HoUPB\\u002fFAZmZmZgZYxEBSuB5FS+wwQT0K16OmfzBBH4XrUbgns0CamZmZmYWoQEjhehQCMfpA9ihcj4ZLBUGuR+F6ojEdQR+F61E40apArkfhehS7wUDD9ShcF4TkQJqZmZmpdu9ACtejcD3aiEApXI\\u002fCdajeQAAAAAAAAAAAAAAAAAAAAAB7FK5H4WWnQGZmZma2Od5AAAAAAAAAAADXo3A9CmeEQFK4HoUPYA5BhetRuB7RpEBxPQrXzzr4QGZmZmZmVmhASOF6VCrKOEFxPQrX4\\u002fG3QMP1KFwujh1BcT0K1wnHC0EAAAAAAAAAAB+F69EwgihBexSuR+FyiECamZkZ8YYjQexRuB6FGKRAw\\u002fUoXHd\\u002f+0AAAAAAAAAAAM3MzMzknutAZmZmJl9EOkEAAAAAAAAAAAAAAAAAAAAAAAAAAAAAAADD9ShcD\\u002fmsQBSuRwEwuENBKVyPwpXN8UAAAAAAAAAAAFK4HoXrcVJAAAAAAAAAAAAAAAAAAAAAAOF6FK7DG\\u002fFA7FG4HoXrRUDsUbgeBXGnQArXo3CFLOdAXI\\u002fC9WjzD0HXo3A9KrraQKRwPQrXb4xA16NwPQqfcUApXI\\u002fC9Wh0QAAAAABGDhJBZmZmZjbf2EBmZmZmY48XQQAAAAAAAAAAUrgehevji0B7FK5H4RSAQAAAAAAAoG1AcT0K19N12kA=\"},\"xaxis\":\"x\",\"yaxis\":\"y\",\"type\":\"histogram\"}],                        {\"template\":{\"data\":{\"histogram2dcontour\":[{\"type\":\"histogram2dcontour\",\"colorbar\":{\"outlinewidth\":0,\"ticks\":\"\"},\"colorscale\":[[0.0,\"#0d0887\"],[0.1111111111111111,\"#46039f\"],[0.2222222222222222,\"#7201a8\"],[0.3333333333333333,\"#9c179e\"],[0.4444444444444444,\"#bd3786\"],[0.5555555555555556,\"#d8576b\"],[0.6666666666666666,\"#ed7953\"],[0.7777777777777778,\"#fb9f3a\"],[0.8888888888888888,\"#fdca26\"],[1.0,\"#f0f921\"]]}],\"choropleth\":[{\"type\":\"choropleth\",\"colorbar\":{\"outlinewidth\":0,\"ticks\":\"\"}}],\"histogram2d\":[{\"type\":\"histogram2d\",\"colorbar\":{\"outlinewidth\":0,\"ticks\":\"\"},\"colorscale\":[[0.0,\"#0d0887\"],[0.1111111111111111,\"#46039f\"],[0.2222222222222222,\"#7201a8\"],[0.3333333333333333,\"#9c179e\"],[0.4444444444444444,\"#bd3786\"],[0.5555555555555556,\"#d8576b\"],[0.6666666666666666,\"#ed7953\"],[0.7777777777777778,\"#fb9f3a\"],[0.8888888888888888,\"#fdca26\"],[1.0,\"#f0f921\"]]}],\"heatmap\":[{\"type\":\"heatmap\",\"colorbar\":{\"outlinewidth\":0,\"ticks\":\"\"},\"colorscale\":[[0.0,\"#0d0887\"],[0.1111111111111111,\"#46039f\"],[0.2222222222222222,\"#7201a8\"],[0.3333333333333333,\"#9c179e\"],[0.4444444444444444,\"#bd3786\"],[0.5555555555555556,\"#d8576b\"],[0.6666666666666666,\"#ed7953\"],[0.7777777777777778,\"#fb9f3a\"],[0.8888888888888888,\"#fdca26\"],[1.0,\"#f0f921\"]]}],\"contourcarpet\":[{\"type\":\"contourcarpet\",\"colorbar\":{\"outlinewidth\":0,\"ticks\":\"\"}}],\"contour\":[{\"type\":\"contour\",\"colorbar\":{\"outlinewidth\":0,\"ticks\":\"\"},\"colorscale\":[[0.0,\"#0d0887\"],[0.1111111111111111,\"#46039f\"],[0.2222222222222222,\"#7201a8\"],[0.3333333333333333,\"#9c179e\"],[0.4444444444444444,\"#bd3786\"],[0.5555555555555556,\"#d8576b\"],[0.6666666666666666,\"#ed7953\"],[0.7777777777777778,\"#fb9f3a\"],[0.8888888888888888,\"#fdca26\"],[1.0,\"#f0f921\"]]}],\"surface\":[{\"type\":\"surface\",\"colorbar\":{\"outlinewidth\":0,\"ticks\":\"\"},\"colorscale\":[[0.0,\"#0d0887\"],[0.1111111111111111,\"#46039f\"],[0.2222222222222222,\"#7201a8\"],[0.3333333333333333,\"#9c179e\"],[0.4444444444444444,\"#bd3786\"],[0.5555555555555556,\"#d8576b\"],[0.6666666666666666,\"#ed7953\"],[0.7777777777777778,\"#fb9f3a\"],[0.8888888888888888,\"#fdca26\"],[1.0,\"#f0f921\"]]}],\"mesh3d\":[{\"type\":\"mesh3d\",\"colorbar\":{\"outlinewidth\":0,\"ticks\":\"\"}}],\"scatter\":[{\"fillpattern\":{\"fillmode\":\"overlay\",\"size\":10,\"solidity\":0.2},\"type\":\"scatter\"}],\"parcoords\":[{\"type\":\"parcoords\",\"line\":{\"colorbar\":{\"outlinewidth\":0,\"ticks\":\"\"}}}],\"scatterpolargl\":[{\"type\":\"scatterpolargl\",\"marker\":{\"colorbar\":{\"outlinewidth\":0,\"ticks\":\"\"}}}],\"bar\":[{\"error_x\":{\"color\":\"#2a3f5f\"},\"error_y\":{\"color\":\"#2a3f5f\"},\"marker\":{\"line\":{\"color\":\"#E5ECF6\",\"width\":0.5},\"pattern\":{\"fillmode\":\"overlay\",\"size\":10,\"solidity\":0.2}},\"type\":\"bar\"}],\"scattergeo\":[{\"type\":\"scattergeo\",\"marker\":{\"colorbar\":{\"outlinewidth\":0,\"ticks\":\"\"}}}],\"scatterpolar\":[{\"type\":\"scatterpolar\",\"marker\":{\"colorbar\":{\"outlinewidth\":0,\"ticks\":\"\"}}}],\"histogram\":[{\"marker\":{\"pattern\":{\"fillmode\":\"overlay\",\"size\":10,\"solidity\":0.2}},\"type\":\"histogram\"}],\"scattergl\":[{\"type\":\"scattergl\",\"marker\":{\"colorbar\":{\"outlinewidth\":0,\"ticks\":\"\"}}}],\"scatter3d\":[{\"type\":\"scatter3d\",\"line\":{\"colorbar\":{\"outlinewidth\":0,\"ticks\":\"\"}},\"marker\":{\"colorbar\":{\"outlinewidth\":0,\"ticks\":\"\"}}}],\"scattermap\":[{\"type\":\"scattermap\",\"marker\":{\"colorbar\":{\"outlinewidth\":0,\"ticks\":\"\"}}}],\"scattermapbox\":[{\"type\":\"scattermapbox\",\"marker\":{\"colorbar\":{\"outlinewidth\":0,\"ticks\":\"\"}}}],\"scatterternary\":[{\"type\":\"scatterternary\",\"marker\":{\"colorbar\":{\"outlinewidth\":0,\"ticks\":\"\"}}}],\"scattercarpet\":[{\"type\":\"scattercarpet\",\"marker\":{\"colorbar\":{\"outlinewidth\":0,\"ticks\":\"\"}}}],\"carpet\":[{\"aaxis\":{\"endlinecolor\":\"#2a3f5f\",\"gridcolor\":\"white\",\"linecolor\":\"white\",\"minorgridcolor\":\"white\",\"startlinecolor\":\"#2a3f5f\"},\"baxis\":{\"endlinecolor\":\"#2a3f5f\",\"gridcolor\":\"white\",\"linecolor\":\"white\",\"minorgridcolor\":\"white\",\"startlinecolor\":\"#2a3f5f\"},\"type\":\"carpet\"}],\"table\":[{\"cells\":{\"fill\":{\"color\":\"#EBF0F8\"},\"line\":{\"color\":\"white\"}},\"header\":{\"fill\":{\"color\":\"#C8D4E3\"},\"line\":{\"color\":\"white\"}},\"type\":\"table\"}],\"barpolar\":[{\"marker\":{\"line\":{\"color\":\"#E5ECF6\",\"width\":0.5},\"pattern\":{\"fillmode\":\"overlay\",\"size\":10,\"solidity\":0.2}},\"type\":\"barpolar\"}],\"pie\":[{\"automargin\":true,\"type\":\"pie\"}]},\"layout\":{\"autotypenumbers\":\"strict\",\"colorway\":[\"#636efa\",\"#EF553B\",\"#00cc96\",\"#ab63fa\",\"#FFA15A\",\"#19d3f3\",\"#FF6692\",\"#B6E880\",\"#FF97FF\",\"#FECB52\"],\"font\":{\"color\":\"#2a3f5f\"},\"hovermode\":\"closest\",\"hoverlabel\":{\"align\":\"left\"},\"paper_bgcolor\":\"white\",\"plot_bgcolor\":\"#E5ECF6\",\"polar\":{\"bgcolor\":\"#E5ECF6\",\"angularaxis\":{\"gridcolor\":\"white\",\"linecolor\":\"white\",\"ticks\":\"\"},\"radialaxis\":{\"gridcolor\":\"white\",\"linecolor\":\"white\",\"ticks\":\"\"}},\"ternary\":{\"bgcolor\":\"#E5ECF6\",\"aaxis\":{\"gridcolor\":\"white\",\"linecolor\":\"white\",\"ticks\":\"\"},\"baxis\":{\"gridcolor\":\"white\",\"linecolor\":\"white\",\"ticks\":\"\"},\"caxis\":{\"gridcolor\":\"white\",\"linecolor\":\"white\",\"ticks\":\"\"}},\"coloraxis\":{\"colorbar\":{\"outlinewidth\":0,\"ticks\":\"\"}},\"colorscale\":{\"sequential\":[[0.0,\"#0d0887\"],[0.1111111111111111,\"#46039f\"],[0.2222222222222222,\"#7201a8\"],[0.3333333333333333,\"#9c179e\"],[0.4444444444444444,\"#bd3786\"],[0.5555555555555556,\"#d8576b\"],[0.6666666666666666,\"#ed7953\"],[0.7777777777777778,\"#fb9f3a\"],[0.8888888888888888,\"#fdca26\"],[1.0,\"#f0f921\"]],\"sequentialminus\":[[0.0,\"#0d0887\"],[0.1111111111111111,\"#46039f\"],[0.2222222222222222,\"#7201a8\"],[0.3333333333333333,\"#9c179e\"],[0.4444444444444444,\"#bd3786\"],[0.5555555555555556,\"#d8576b\"],[0.6666666666666666,\"#ed7953\"],[0.7777777777777778,\"#fb9f3a\"],[0.8888888888888888,\"#fdca26\"],[1.0,\"#f0f921\"]],\"diverging\":[[0,\"#8e0152\"],[0.1,\"#c51b7d\"],[0.2,\"#de77ae\"],[0.3,\"#f1b6da\"],[0.4,\"#fde0ef\"],[0.5,\"#f7f7f7\"],[0.6,\"#e6f5d0\"],[0.7,\"#b8e186\"],[0.8,\"#7fbc41\"],[0.9,\"#4d9221\"],[1,\"#276419\"]]},\"xaxis\":{\"gridcolor\":\"white\",\"linecolor\":\"white\",\"ticks\":\"\",\"title\":{\"standoff\":15},\"zerolinecolor\":\"white\",\"automargin\":true,\"zerolinewidth\":2},\"yaxis\":{\"gridcolor\":\"white\",\"linecolor\":\"white\",\"ticks\":\"\",\"title\":{\"standoff\":15},\"zerolinecolor\":\"white\",\"automargin\":true,\"zerolinewidth\":2},\"scene\":{\"xaxis\":{\"backgroundcolor\":\"#E5ECF6\",\"gridcolor\":\"white\",\"linecolor\":\"white\",\"showbackground\":true,\"ticks\":\"\",\"zerolinecolor\":\"white\",\"gridwidth\":2},\"yaxis\":{\"backgroundcolor\":\"#E5ECF6\",\"gridcolor\":\"white\",\"linecolor\":\"white\",\"showbackground\":true,\"ticks\":\"\",\"zerolinecolor\":\"white\",\"gridwidth\":2},\"zaxis\":{\"backgroundcolor\":\"#E5ECF6\",\"gridcolor\":\"white\",\"linecolor\":\"white\",\"showbackground\":true,\"ticks\":\"\",\"zerolinecolor\":\"white\",\"gridwidth\":2}},\"shapedefaults\":{\"line\":{\"color\":\"#2a3f5f\"}},\"annotationdefaults\":{\"arrowcolor\":\"#2a3f5f\",\"arrowhead\":0,\"arrowwidth\":1},\"geo\":{\"bgcolor\":\"white\",\"landcolor\":\"#E5ECF6\",\"subunitcolor\":\"white\",\"showland\":true,\"showlakes\":true,\"lakecolor\":\"white\"},\"title\":{\"x\":0.05},\"mapbox\":{\"style\":\"light\"}}},\"xaxis\":{\"anchor\":\"y\",\"domain\":[0.0,1.0],\"title\":{\"text\":\"sidewalk_len_m\"}},\"yaxis\":{\"anchor\":\"x\",\"domain\":[0.0,1.0],\"title\":{\"text\":\"count\"}},\"legend\":{\"tracegroupgap\":0},\"title\":{\"text\":\"Histogram of Sidewalk Lengths\"},\"barmode\":\"relative\"},                        {\"responsive\": true}                    )                };            </script>        </div>"
      ],
      "text/plain": [
       "Figure({\n",
       "    'data': [{'bingroup': 'x',\n",
       "              'hovertemplate': 'sidewalk_len_m=%{x}<br>count=%{y}<extra></extra>',\n",
       "              'legendgroup': '',\n",
       "              'marker': {'color': '#636efa', 'pattern': {'shape': ''}},\n",
       "              'name': '',\n",
       "              'nbinsx': 30,\n",
       "              'orientation': 'v',\n",
       "              'showlegend': False,\n",
       "              'type': 'histogram',\n",
       "              'x': {'bdata': ('FK5H4ffvG0EUrkfhP04dQa5H4XrzL0' ... '5H4RSAQAAAAAAAoG1AcT0K19N12kA='),\n",
       "                    'dtype': 'f8'},\n",
       "              'xaxis': 'x',\n",
       "              'yaxis': 'y'}],\n",
       "    'layout': {'barmode': 'relative',\n",
       "               'legend': {'tracegroupgap': 0},\n",
       "               'template': '...',\n",
       "               'title': {'text': 'Histogram of Sidewalk Lengths'},\n",
       "               'xaxis': {'anchor': 'y', 'domain': [0.0, 1.0], 'title': {'text': 'sidewalk_len_m'}},\n",
       "               'yaxis': {'anchor': 'x', 'domain': [0.0, 1.0], 'title': {'text': 'count'}}}\n",
       "})"
      ]
     },
     "execution_count": 3,
     "metadata": {},
     "output_type": "execute_result"
    }
   ],
   "source": [
    "px.histogram(df, x='sidewalk_len_m', nbins=30, title='Histogram of Sidewalk Lengths')"
   ]
  },
  {
   "cell_type": "markdown",
   "id": "d91e3ba3",
   "metadata": {},
   "source": [
    "## Scatter Plot: Population vs Car Network Length"
   ]
  },
  {
   "cell_type": "code",
   "execution_count": 4,
   "id": "ac28cbf3",
   "metadata": {},
   "outputs": [
    {
     "ename": "ValueError",
     "evalue": "Mime type rendering requires nbformat>=4.2.0 but it is not installed",
     "output_type": "error",
     "traceback": [
      "\u001b[31m---------------------------------------------------------------------------\u001b[39m",
      "\u001b[31mValueError\u001b[39m                                Traceback (most recent call last)",
      "\u001b[36mFile \u001b[39m\u001b[32m~/sidewalk_analysis/.venv/lib/python3.12/site-packages/IPython/core/formatters.py:984\u001b[39m, in \u001b[36mIPythonDisplayFormatter.__call__\u001b[39m\u001b[34m(self, obj)\u001b[39m\n\u001b[32m    982\u001b[39m method = get_real_method(obj, \u001b[38;5;28mself\u001b[39m.print_method)\n\u001b[32m    983\u001b[39m \u001b[38;5;28;01mif\u001b[39;00m method \u001b[38;5;129;01mis\u001b[39;00m \u001b[38;5;129;01mnot\u001b[39;00m \u001b[38;5;28;01mNone\u001b[39;00m:\n\u001b[32m--> \u001b[39m\u001b[32m984\u001b[39m     \u001b[43mmethod\u001b[49m\u001b[43m(\u001b[49m\u001b[43m)\u001b[49m\n\u001b[32m    985\u001b[39m     \u001b[38;5;28;01mreturn\u001b[39;00m \u001b[38;5;28;01mTrue\u001b[39;00m\n",
      "\u001b[36mFile \u001b[39m\u001b[32m~/sidewalk_analysis/.venv/lib/python3.12/site-packages/plotly/basedatatypes.py:850\u001b[39m, in \u001b[36mBaseFigure._ipython_display_\u001b[39m\u001b[34m(self)\u001b[39m\n\u001b[32m    847\u001b[39m \u001b[38;5;28;01mimport\u001b[39;00m\u001b[38;5;250m \u001b[39m\u001b[34;01mplotly\u001b[39;00m\u001b[34;01m.\u001b[39;00m\u001b[34;01mio\u001b[39;00m\u001b[38;5;250m \u001b[39m\u001b[38;5;28;01mas\u001b[39;00m\u001b[38;5;250m \u001b[39m\u001b[34;01mpio\u001b[39;00m\n\u001b[32m    849\u001b[39m \u001b[38;5;28;01mif\u001b[39;00m pio.renderers.render_on_display \u001b[38;5;129;01mand\u001b[39;00m pio.renderers.default:\n\u001b[32m--> \u001b[39m\u001b[32m850\u001b[39m     \u001b[43mpio\u001b[49m\u001b[43m.\u001b[49m\u001b[43mshow\u001b[49m\u001b[43m(\u001b[49m\u001b[38;5;28;43mself\u001b[39;49m\u001b[43m)\u001b[49m\n\u001b[32m    851\u001b[39m \u001b[38;5;28;01melse\u001b[39;00m:\n\u001b[32m    852\u001b[39m     \u001b[38;5;28mprint\u001b[39m(\u001b[38;5;28mrepr\u001b[39m(\u001b[38;5;28mself\u001b[39m))\n",
      "\u001b[36mFile \u001b[39m\u001b[32m~/sidewalk_analysis/.venv/lib/python3.12/site-packages/plotly/io/_renderers.py:415\u001b[39m, in \u001b[36mshow\u001b[39m\u001b[34m(fig, renderer, validate, **kwargs)\u001b[39m\n\u001b[32m    410\u001b[39m     \u001b[38;5;28;01mraise\u001b[39;00m \u001b[38;5;167;01mValueError\u001b[39;00m(\n\u001b[32m    411\u001b[39m         \u001b[33m\"\u001b[39m\u001b[33mMime type rendering requires ipython but it is not installed\u001b[39m\u001b[33m\"\u001b[39m\n\u001b[32m    412\u001b[39m     )\n\u001b[32m    414\u001b[39m \u001b[38;5;28;01mif\u001b[39;00m \u001b[38;5;129;01mnot\u001b[39;00m nbformat \u001b[38;5;129;01mor\u001b[39;00m Version(nbformat.__version__) < Version(\u001b[33m\"\u001b[39m\u001b[33m4.2.0\u001b[39m\u001b[33m\"\u001b[39m):\n\u001b[32m--> \u001b[39m\u001b[32m415\u001b[39m     \u001b[38;5;28;01mraise\u001b[39;00m \u001b[38;5;167;01mValueError\u001b[39;00m(\n\u001b[32m    416\u001b[39m         \u001b[33m\"\u001b[39m\u001b[33mMime type rendering requires nbformat>=4.2.0 but it is not installed\u001b[39m\u001b[33m\"\u001b[39m\n\u001b[32m    417\u001b[39m     )\n\u001b[32m    419\u001b[39m display_jupyter_version_warnings()\n\u001b[32m    421\u001b[39m ipython_display.display(bundle, raw=\u001b[38;5;28;01mTrue\u001b[39;00m)\n",
      "\u001b[31mValueError\u001b[39m: Mime type rendering requires nbformat>=4.2.0 but it is not installed"
     ]
    },
    {
     "data": {
      "application/vnd.plotly.v1+json": {
       "config": {
        "plotlyServerURL": "https://plot.ly"
       },
       "data": [
        {
         "hovertemplate": "<b>%{hovertext}</b><br><br>population=%{x}<br>car_len_m=%{y}<extra></extra>",
         "hovertext": [
          "Shanghai",
          "Beijing",
          "Shenzhen",
          "Guangzhou",
          "Kinshasa",
          "Istanbul",
          "Lagos",
          "Ho Chi Minh City",
          "Chengdu",
          "Lahore",
          "Mumbai",
          "São Paulo",
          "Mexico City",
          "Karachi",
          "Tianjin",
          "Delhi",
          "Wuhan",
          "Moscow",
          "Dhaka",
          "Seoul",
          "Tokyo",
          "Dongguan",
          "Cairo",
          "Xi’an",
          "Johannesburg",
          "Nanjing",
          "Hangzhou",
          "Foshan",
          "London",
          "New York City",
          "Jakarta",
          "Bengaluru",
          "Hanoi",
          "Taipei",
          "Lima",
          "Bogotá",
          "Chongqing",
          "Hong Kong",
          "Baghdad",
          "Qingdao",
          "Tehran",
          "Shenyang",
          "Hyderabad",
          "Rio de Janeiro",
          "Suzhou",
          "Ahmedabad",
          "Abidjan",
          "Singapore",
          "Sydney",
          "Dar es Salaam",
          "Saint Petersburg",
          "Melbourne",
          "Alexandria",
          "Harbin",
          "Bangkok",
          "Hefei",
          "Dalian",
          "Kano",
          "Santiago",
          "Cape Town",
          "Peshawar",
          "Changchun",
          "Jeddah",
          "Chennai",
          "Kolkata",
          "Xiamen",
          "Surat",
          "Yangon",
          "Bao'an",
          "Kabul",
          "Nairobi",
          "Wuxi",
          "Giza",
          "Jinan",
          "Taiyuan",
          "Zhengzhou",
          "Bamako",
          "Riyadh",
          "New Taipei City",
          "New Territories",
          "Shijiazhuang",
          "Chattogram",
          "Addis Ababa",
          "Kunming",
          "Zhongshan",
          "Nanning",
          "Shantou",
          "Los Angeles",
          "Faisalabad",
          "Dubai",
          "Yokohama",
          "Fuzhou",
          "Ningbo",
          "Casablanca",
          "Ibadan",
          "Puyang",
          "Ankara",
          "Shiyan",
          "Berlin",
          "Tangshan",
          "Rawalpindi",
          "Busan",
          "Durban",
          "Changzhou",
          "Madrid",
          "Pyongyang",
          "Zibo",
          "Pune",
          "Bursa",
          "Changsha",
          "Jaipur",
          "Guiyang",
          "Ürümqi",
          "Incheon",
          "Caracas",
          "Lanzhou",
          "Quezon City",
          "Huizhou",
          "Buenos Aires",
          "Surabaya",
          "Haikou",
          "Taichung",
          "Kanpur",
          "Kyiv",
          "Toronto",
          "Quito",
          "Brisbane",
          "Luanda",
          "Osaka",
          "Linyi",
          "Baoding",
          "Kaohsiung",
          "Brooklyn",
          "Guayaquil",
          "Belo Horizonte",
          "Salvador",
          "Abuja",
          "Gazipur",
          "Chicago",
          "Wenzhou",
          "Dakar",
          "Haiphong",
          "Yunfu",
          "Navi Mumbai",
          "Mogadishu",
          "Bekasi",
          "Kumasi",
          "Gujranwala",
          "İzmir",
          "Huai'an",
          "Lucknow",
          "Bandung",
          "Medan",
          "Ouagadougou",
          "Nagpur",
          "Fortaleza",
          "Cali",
          "Daegu",
          "Algiers",
          "Nanchang",
          "Hohhot",
          "Nagoya",
          "Rome",
          "Queens",
          "Houston",
          "Perth",
          "Mashhad",
          "Shaoxing",
          "Nantong",
          "Kowloon",
          "Yantai",
          "Lubumbashi",
          "Manaus",
          "Lusaka",
          "Brasília",
          "Zhuhai",
          "Santo Domingo",
          "Lomé",
          "Multan",
          "Havana",
          "Baotou",
          "Depok",
          "Paris",
          "Coimbatore",
          "Gaziantep",
          "Port Harcourt",
          "Pretoria",
          "Córdoba",
          "Mbuji-Mayi",
          "Aleppo",
          "Kunshan",
          "Al Mawşil al Jadīdah",
          "Weifang",
          "Zunyi",
          "Al Başrah al Qadīmah",
          "La Paz",
          "Lianyungang",
          "Medellín",
          "Indore",
          "Brazzaville",
          "Tashkent",
          "Ganzhou",
          "Almaty",
          "Khartoum",
          "Sapporo",
          "Accra",
          "Curitiba",
          "Ordos",
          "Sanaa",
          "Conakry",
          "Tijuana",
          "Hyderabad",
          "Beirut",
          "Tangerang",
          "Jieyang",
          "Jilin",
          "Bucharest",
          "Camayenne",
          "Kakamega",
          "Nanchong",
          "Tainan",
          "Datong",
          "Kaduna",
          "Omdurman",
          "Hamburg",
          "Thāne",
          "Santa Cruz de la Sierra",
          "Vadodara",
          "Adana",
          "Iztapalapa",
          "Nanyang",
          "Abu Dhabi",
          "Sharjah",
          "Bhopal",
          "Jiangmen",
          "Diyarbakır",
          "Benin City",
          "Jiangyin",
          "Davao",
          "Fuyang",
          "Montréal",
          "Bayan Nur",
          "Maracaibo",
          "Chaozhou",
          "Minsk",
          "Budapest",
          "Qingyuan",
          "Tai’an",
          "Rasapūdipalem",
          "Pimpri-Chinchwad",
          "Warsaw",
          "Soweto",
          "Puebla",
          "Vienna",
          "Patna",
          "Mosul",
          "Kallakurichi",
          "Kampala",
          "Xining",
          "Changshu",
          "Palembang",
          "Huainan",
          "Caloocan City",
          "Rabat",
          "Semarang",
          "Recife",
          "Phoenix",
          "Suzhou",
          "Ecatepec de Morelos",
          "Lu’an",
          "Barcelona",
          "Valencia",
          "Ludhiana",
          "Yancheng",
          "Novosibirsk",
          "Erbil",
          "Fukuoka",
          "Taizhou",
          "Daqing",
          "Manila",
          "Wuhu",
          "Santiago de Querétaro",
          "Dazhou",
          "Yangzhou",
          "León de los Aldama",
          "Makkah",
          "Philadelphia",
          "Phnom Penh",
          "Guilin",
          "Damascus",
          "Quetta",
          "Zhaoqing",
          "Onitsha",
          "Mianyang",
          "Isfahan",
          "Harare",
          "Monrovia",
          "Putian",
          "Kawasaki",
          "Shangqiu",
          "Goiânia",
          "Auckland",
          "San Antonio",
          "Kobe",
          "Stockholm",
          "Ciudad Juárez",
          "Cần Thơ",
          "Khulna",
          "Belém",
          "Yekaterinburg",
          "Porto Alegre",
          "Yinchuan",
          "Manhattan",
          "Nashik",
          "Taizhou",
          "Asunción",
          "Yiwu",
          "Zapopan",
          "Daejeon",
          "Adelaide",
          "Quanzhou",
          "Madurai",
          "Jinhua",
          "Kyoto",
          "Cixi",
          "Changde",
          "Kuala Lumpur",
          "Kaifeng",
          "Anshan",
          "Karaj",
          "Kathmandu",
          "Baoji",
          "Suqian",
          "Liuzhou",
          "Tirunelveli",
          "Kayseri",
          "Kharkiv",
          "Konya",
          "Zhangjiagang",
          "Agra",
          "Tabriz",
          "Makassar",
          "Jinjiang",
          "Faridabad",
          "Gwangju",
          "Bozhou",
          "Qujing",
          "South Tangerang",
          "San Diego",
          "Zhanjiang",
          "Fushun",
          "Rājkot",
          "Luoyang",
          "Guadalajara",
          "The Bronx",
          "Guankou",
          "Huế",
          "Milan",
          "Najafgarh",
          "N'Djamena",
          "Handan",
          "Bannu",
          "Yichang",
          "Antananarivo",
          "Heze",
          "Antalya",
          "Abobo",
          "Jamshedpur",
          "Douala",
          "Basrah",
          "Dallas",
          "Saitama",
          "Gorakhpur",
          "Niamey",
          "Liupanshui",
          "Maoming",
          "Calgary",
          "Tripoli",
          "Callao",
          "Madinah",
          "Yaoundé",
          "Qinzhou",
          "Luohe",
          "Xiangyang",
          "Yangjiang",
          "Yixing",
          "Pimpri",
          "Da Nang",
          "Amman",
          "Budta",
          "Belgrade",
          "Biên Hòa",
          "Montevideo",
          "Xuchang",
          "Kalyān",
          "Zigong",
          "Munich",
          "Nizhniy Novgorod",
          "Jepara",
          "Maputo",
          "Xuzhou",
          "Dammam",
          "Ra’s Bayrūt",
          "Neijiang",
          "Shiraz",
          "Heshan",
          "Dombivali",
          "Kananga",
          "Kazan",
          "Jining",
          "Barquisimeto",
          "Shubrā al Khaymah",
          "Port-au-Prince",
          "Xinyang",
          "Liaocheng",
          "Jinzhong",
          "Meerut",
          "Virār",
          "Nowrangapur",
          "Karbala",
          "Changzhi",
          "Tianshui",
          "Mombasa",
          "Mandalay",
          "Srinagar",
          "Barranquilla",
          "Chelyabinsk",
          "Mérida",
          "Hiroshima",
          "Shymkent",
          "Santiago de los Caballeros",
          "Weinan",
          "Ghāziābād",
          "Matola",
          "Dhanbad",
          "Hong Kong Island",
          "Suwon",
          "Fes",
          "Gustavo Adolfo Madero",
          "Nouakchott",
          "Kisangani",
          "Jiaxing",
          "Aurangabad",
          "Omsk",
          "Guarulhos",
          "Bandar Lampung",
          "Prague",
          "Varanasi",
          "Batam",
          "Jiujiang",
          "Samara",
          "Aba",
          "Amritsar",
          "Birmingham",
          "Copenhagen",
          "Sofia",
          "Anyang",
          "Luohu District",
          "Vijayawada",
          "Yerevan",
          "Bijie",
          "Monterrey",
          "Kigali",
          "Rostov-na-Donu",
          "Zhuzhou",
          "Bogor",
          "Malingao",
          "Touba",
          "Ufa",
          "Ranchi",
          "Baku",
          "Shangrao",
          "Lilongwe",
          "Huaibei",
          "Maiduguri",
          "Meishan",
          "Ciudad Nezahualcoyotl",
          "Mwanza",
          "Ulsan",
          "Sendai",
          "Krasnoyarsk",
          "Fuzhou",
          "Guigang",
          "Pekanbaru",
          "Oslo",
          "Jabalpur",
          "Ilorin",
          "Aden",
          "Hengyang",
          "Goyang-si",
          "Prayagraj",
          "Visakhapatnam",
          "Yulin",
          "Jodhpur",
          "Gwalior",
          "Jingzhou",
          "Port Elizabeth",
          "Tbilisi",
          "Voronezh",
          "Xinxiang",
          "Yichun",
          "Jos",
          "Sokoto",
          "Tangier",
          "Teni",
          "Xianyang",
          "Mexicali",
          "Pointe-Noire",
          "Maceió",
          "Campinas",
          "Sanya",
          "Rangpur",
          "Kirkuk",
          "Comilla",
          "Shaoguan",
          "Howrah",
          "Raipur",
          "Changwon",
          "Longyan",
          "Dublin",
          "Tiruchirappalli",
          "Yongzhou",
          "Brussels",
          "Ottawa",
          "Huzhou",
          "Odesa",
          "Volgograd",
          "Khartoum North",
          "Edmonton",
          "Wuwei",
          "Jacksonville",
          "Arequipa",
          "Fort Worth",
          "Hanzhong",
          "Hezhou",
          "Kota",
          "Shivaji Nagar",
          "Zhu Cheng City",
          "Dongying",
          "Luzhou",
          "San Jose",
          "Sholapur",
          "Marrakesh",
          "Guatemala City",
          "Meizhou",
          "Yueyang",
          "Laiwu",
          "Benxi",
          "Perm",
          "Zaria",
          "Chiba",
          "Pingdingshan",
          "Ciudad Guayana",
          "Zamboanga",
          "Sargodha",
          "Austin",
          "Managua",
          "Bengbu",
          "Salé",
          "Jerusalem",
          "Chandigarh",
          "Dnipro",
          "Cebu City",
          "Köln",
          "Tiruppur",
          "Guwahati",
          "Xiangtan",
          "Linfen",
          "Victoria",
          "Zhenjiang",
          "Enugu",
          "Rosario",
          "Sulţānah",
          "Hubballi",
          "Kitakyushu",
          "Taiz",
          "Setagaya",
          "Kingston",
          "Baoshan",
          "Rui’an",
          "Chihuahua",
          "Nay Pyi Taw",
          "Mysuru",
          "Trujillo",
          "Salem",
          "São Luís",
          "Seongnam-si",
          "Cartagena",
          "Columbus",
          "Sialkot",
          "Charlotte",
          "Laibin",
          "Warri",
          "Naples",
          "Padang",
          "Xiaogan",
          "Campo Grande",
          "Ziyang",
          "Bobo-Dioulasso",
          "Bahawalpur",
          "Quzhou",
          "Blantyre",
          "Donetsk",
          "Bishkek",
          "Qom",
          "Abū Ghurayb",
          "Zaozhuang",
          "Krasnodar",
          "Natal",
          "Pingxiang",
          "Indianapolis",
          "Antipolo",
          "Gurugram",
          "Bhubaneswar",
          "Zhoushan",
          "Qiqihar",
          "Klang",
          "As Sulaymānīyah",
          "Puning",
          "Pikine",
          "Bhiwandi",
          "Soshanguve",
          "Teresina",
          "Marseille",
          "Ankang",
          "Jalandhar",
          "Langfang",
          "Jiaozuo",
          "Rohini",
          "Wanxian",
          "Guang’an",
          "Johor Bahru",
          "Cheongju-si",
          "Kanayannur",
          "Tegucigalpa",
          "Bucheon-si",
          "Thanh Hóa",
          "Turin",
          "Malang",
          "Al Ain City",
          "Libreville",
          "Saratov",
          "Ulan Bator",
          "Weihai",
          "Takeo",
          "Cochabamba",
          "Ahvaz",
          "Zhabei",
          "Xinyu",
          "Pietermaritzburg",
          "Yibin",
          "Naucalpan de Juárez",
          "Kampung Baru Subang",
          "Bouaké",
          "Samarinda",
          "Taicang",
          "San Francisco",
          "Sakai",
          "Valencia",
          "Nova Iguaçu",
          "Chenzhou",
          "Duque de Caxias",
          "João Pessoa",
          "Bukavu",
          "Barcelona",
          "Bangui",
          "Hermosillo",
          "Bhayandar",
          "Culiacán",
          "Petaling Jaya",
          "Malatya",
          "Anqing",
          "Oran",
          "Freetown",
          "San Pedro Sula",
          "Narela",
          "Xingtai",
          "Niigata",
          "Muscat",
          "Zarqa",
          "Çankaya",
          "Hamamatsu",
          "Kolwezi",
          "Vinh",
          "Eskişehir",
          "Thiruvananthapuram",
          "Pasragad Branch",
          "Zhaotong",
          "Panzhihua",
          "Chuzhou",
          "Seattle",
          "Port Said",
          "Cúcuta",
          "Homs",
          "Xuanzhou",
          "Ibb",
          "Nampula",
          "Shangyu",
          "Bujumbura",
          "Łódź",
          "Tyumen",
          "Erzurum",
          "Anshun",
          "Dodoma",
          "Rajshahi",
          "Dera Ismail Khan",
          "Wuzhou",
          "Ipoh",
          "Qinhuangdao",
          "Benghazi",
          "Kraków",
          "Alīgarh",
          "Shaoyang",
          "Winnipeg",
          "Bağcılar",
          "Ōta",
          "Andijon",
          "Bareilly",
          "Buraydah",
          "São Bernardo do Campo",
          "Hegang",
          "Morelia",
          "Riga",
          "Tasikmalaya",
          "Amsterdam",
          "Ma’anshan",
          "Shah Alam",
          "Kumamoto",
          "Oyo",
          "Torreón",
          "Deyang",
          "Abeokuta",
          "Al Ḩudaydah",
          "Yangquan",
          "Akure",
          "São José dos Campos",
          "Denver",
          "Osasco",
          "Cagayan de Oro",
          "Ashgabat",
          "Álvaro Obregón",
          "Aihara",
          "Evaton",
          "Denpasar",
          "Muzaffarābād",
          "Okayama",
          "Wanzhou",
          "San Luis Potosí",
          "Aguascalientes",
          "Zhumadian",
          "Morādābād",
          "Sagamihara",
          "Mississauga",
          "Lviv",
          "Valenzuela",
          "Namangan",
          "Ribeirão Preto",
          "Zaporizhzhya",
          "Zanzibar",
          "Saltillo",
          "Latakia",
          "Subang Jaya",
          "Warangal",
          "Tolyatti",
          "Jaboatão",
          "Santo Domingo Oeste",
          "Santo Domingo Este",
          "Battagram",
          "Suez",
          "Changzhi",
          "Agadir",
          "Edogawe",
          "General Santos",
          "Sarajevo",
          "Balikpapan",
          "Adachi",
          "Bauchi",
          "Shizuoka",
          "Tunis",
          "Zhangjiakou",
          "Serang",
          "Paranaque City",
          "Washington",
          "Nashville",
          "Fuxin",
          "Ta’if",
          "Changsha",
          "Huangshi",
          "Liaoyang",
          "Beira",
          "Sevilla",
          "Sorocaba",
          "Zaragoza",
          "Baise",
          "Situbondo",
          "Binzhou",
          "Oklahoma City",
          "Yuncheng",
          "Dezhou",
          "Dushanbe",
          "Cotonou",
          "El Paso",
          "Gorakhpur",
          "Guadalupe",
          "Acapulco de Juárez",
          "Guntur",
          "Katsina",
          "Sanmenxia",
          "E’zhou",
          "Madīnat an Naşr",
          "Tabuk",
          "Kitwe",
          "Bulawayo",
          "Mudanjiang",
          "Aracaju",
          "Athens",
          "Zagreb",
          "Leshan",
          "Santo André",
          "Vancouver",
          "Rizhao",
          "Helsinki",
          "Cheonan",
          "Pontianak",
          "Banjarmasin",
          "Puducherry",
          "Suining",
          "Brampton",
          "Puyang",
          "Boston",
          "Tlalnepantla",
          "Portland",
          "Tlaquepaque",
          "Frankfurt am Main",
          "Macau",
          "Palermo",
          "Izhevsk",
          "Colombo",
          "Maturín",
          "Amravati",
          "Detroit",
          "Osogbo",
          "Honchō",
          "Taguig",
          "Bikaner",
          "Jaboatão dos Guararapes",
          "Las Vegas",
          "New South Memphis",
          "Hwaseong-si",
          "Gold Coast",
          "Kotli",
          "Jeonju",
          "Al Aḩmadī",
          "Cuenca",
          "Chisinau",
          "Likasi",
          "Wrocław",
          "Hebi",
          "Tshikapa",
          "Kochi",
          "Memphis",
          "Jingmen",
          "Barnaul",
          "Dandong",
          "Stuttgart",
          "Cancún",
          "Bhilai",
          "Ndola",
          "Contagem",
          "Ulyanovsk",
          "Djibouti",
          "Glasgow",
          "Panshan",
          "Louisville",
          "Irkutsk",
          "Ansan-si",
          "Al Mansurah",
          "Kermanshah",
          "Düsseldorf",
          "Coyoacán",
          "Feira de Santana",
          "Jiaozhou",
          "Suizhou",
          "Villa Nueva",
          "Khabarovsk",
          "Cuiabá",
          "Arusha",
          "Pasig City",
          "Chizhou",
          "Santa María Chimalhuacán",
          "Ya'an",
          "Cuttack",
          "Borivli",
          "Yaroslavl",
          "Göteborg",
          "Kawaguchi",
          "Bukit Rahman Putra",
          "Jambi City",
          "Ha'il",
          "Bhavnagar",
          "Benoni",
          "Vladivostok",
          "Jinzhou",
          "Tuxtla",
          "Kryvyy Rih",
          "Sanming",
          "Islamabad",
          "Sāngli",
          "Jamnagar",
          "Lubango",
          "Shuangyashan",
          "Pokhara",
          "Rotterdam",
          "Borama",
          "Pallabi",
          "Luancheng",
          "Makhachkala",
          "Anyang-si",
          "Huambo",
          "Samarkand",
          "Kagoshima",
          "Mukalla",
          "Rasht",
          "Mar del Plata",
          "Essen",
          "Al Maḩallah al Kubrá",
          "Málaga",
          "Shekhupura",
          "Yingkou",
          "Cimahi",
          "Las Piñas",
          "Zhangzhou",
          "Reynosa",
          "Thuận An",
          "Dortmund",
          "Suginami",
          "Londrina",
          "Baltimore",
          "Itabashi",
          "New Kingston",
          "Pelentong",
          "Bucaramanga",
          "Genoa",
          "Hachiōji",
          "Malacca",
          "Nha Trang",
          "Khabarovsk Vtoroy",
          "Kerman",
          "Orūmīyeh",
          "Bahçelievler",
          "Tanta",
          "Jammu",
          "Iskandar Puteri",
          "Tlalpan",
          "Herāt",
          "Gujrat",
          "Tomsk",
          "Juiz de Fora",
          "Umraniye",
          "Shihezi",
          "South Boston",
          "Nakuru",
          "Poznań",
          "Hamilton",
          "Irbid",
          "Manchester",
          "Kota Bharu",
          "Surrey",
          "Meknes",
          "Puente Alto",
          "Nyala",
          "Orenburg",
          "Albuquerque",
          "Bokāro",
          "Asmara",
          "Sukkur",
          "Uberlândia",
          "Milwaukee",
          "Chợ Lớn",
          "Wenchang",
          "Gombe",
          "Ile-Ife",
          "Hamhŭng",
          "Kemerovo",
          "Nasiriyah",
          "Bloemfontein",
          "Sheffield",
          "Dresden",
          "Santiago de Cuba",
          "Siping",
          "Benguela",
          "Huaihua",
          "Chiclayo",
          "Zahedan",
          "Banqiao",
          "Nanded",
          "Kozhikode",
          "Ulanqab",
          "Ajegunle",
          "Pristina"
         ],
         "legendgroup": "",
         "marker": {
          "color": "#636efa",
          "symbol": "circle"
         },
         "mode": "markers",
         "name": "",
         "orientation": "v",
         "showlegend": false,
         "type": "scatter",
         "x": {
          "bdata": "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",
          "dtype": "i4"
         },
         "xaxis": "x",
         "y": {
          "bdata": "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",
          "dtype": "f8"
         },
         "yaxis": "y"
        }
       ],
       "layout": {
        "legend": {
         "tracegroupgap": 0
        },
        "template": {
         "data": {
          "bar": [
           {
            "error_x": {
             "color": "#2a3f5f"
            },
            "error_y": {
             "color": "#2a3f5f"
            },
            "marker": {
             "line": {
              "color": "#E5ECF6",
              "width": 0.5
             },
             "pattern": {
              "fillmode": "overlay",
              "size": 10,
              "solidity": 0.2
             }
            },
            "type": "bar"
           }
          ],
          "barpolar": [
           {
            "marker": {
             "line": {
              "color": "#E5ECF6",
              "width": 0.5
             },
             "pattern": {
              "fillmode": "overlay",
              "size": 10,
              "solidity": 0.2
             }
            },
            "type": "barpolar"
           }
          ],
          "carpet": [
           {
            "aaxis": {
             "endlinecolor": "#2a3f5f",
             "gridcolor": "white",
             "linecolor": "white",
             "minorgridcolor": "white",
             "startlinecolor": "#2a3f5f"
            },
            "baxis": {
             "endlinecolor": "#2a3f5f",
             "gridcolor": "white",
             "linecolor": "white",
             "minorgridcolor": "white",
             "startlinecolor": "#2a3f5f"
            },
            "type": "carpet"
           }
          ],
          "choropleth": [
           {
            "colorbar": {
             "outlinewidth": 0,
             "ticks": ""
            },
            "type": "choropleth"
           }
          ],
          "contour": [
           {
            "colorbar": {
             "outlinewidth": 0,
             "ticks": ""
            },
            "colorscale": [
             [
              0,
              "#0d0887"
             ],
             [
              0.1111111111111111,
              "#46039f"
             ],
             [
              0.2222222222222222,
              "#7201a8"
             ],
             [
              0.3333333333333333,
              "#9c179e"
             ],
             [
              0.4444444444444444,
              "#bd3786"
             ],
             [
              0.5555555555555556,
              "#d8576b"
             ],
             [
              0.6666666666666666,
              "#ed7953"
             ],
             [
              0.7777777777777778,
              "#fb9f3a"
             ],
             [
              0.8888888888888888,
              "#fdca26"
             ],
             [
              1,
              "#f0f921"
             ]
            ],
            "type": "contour"
           }
          ],
          "contourcarpet": [
           {
            "colorbar": {
             "outlinewidth": 0,
             "ticks": ""
            },
            "type": "contourcarpet"
           }
          ],
          "heatmap": [
           {
            "colorbar": {
             "outlinewidth": 0,
             "ticks": ""
            },
            "colorscale": [
             [
              0,
              "#0d0887"
             ],
             [
              0.1111111111111111,
              "#46039f"
             ],
             [
              0.2222222222222222,
              "#7201a8"
             ],
             [
              0.3333333333333333,
              "#9c179e"
             ],
             [
              0.4444444444444444,
              "#bd3786"
             ],
             [
              0.5555555555555556,
              "#d8576b"
             ],
             [
              0.6666666666666666,
              "#ed7953"
             ],
             [
              0.7777777777777778,
              "#fb9f3a"
             ],
             [
              0.8888888888888888,
              "#fdca26"
             ],
             [
              1,
              "#f0f921"
             ]
            ],
            "type": "heatmap"
           }
          ],
          "histogram": [
           {
            "marker": {
             "pattern": {
              "fillmode": "overlay",
              "size": 10,
              "solidity": 0.2
             }
            },
            "type": "histogram"
           }
          ],
          "histogram2d": [
           {
            "colorbar": {
             "outlinewidth": 0,
             "ticks": ""
            },
            "colorscale": [
             [
              0,
              "#0d0887"
             ],
             [
              0.1111111111111111,
              "#46039f"
             ],
             [
              0.2222222222222222,
              "#7201a8"
             ],
             [
              0.3333333333333333,
              "#9c179e"
             ],
             [
              0.4444444444444444,
              "#bd3786"
             ],
             [
              0.5555555555555556,
              "#d8576b"
             ],
             [
              0.6666666666666666,
              "#ed7953"
             ],
             [
              0.7777777777777778,
              "#fb9f3a"
             ],
             [
              0.8888888888888888,
              "#fdca26"
             ],
             [
              1,
              "#f0f921"
             ]
            ],
            "type": "histogram2d"
           }
          ],
          "histogram2dcontour": [
           {
            "colorbar": {
             "outlinewidth": 0,
             "ticks": ""
            },
            "colorscale": [
             [
              0,
              "#0d0887"
             ],
             [
              0.1111111111111111,
              "#46039f"
             ],
             [
              0.2222222222222222,
              "#7201a8"
             ],
             [
              0.3333333333333333,
              "#9c179e"
             ],
             [
              0.4444444444444444,
              "#bd3786"
             ],
             [
              0.5555555555555556,
              "#d8576b"
             ],
             [
              0.6666666666666666,
              "#ed7953"
             ],
             [
              0.7777777777777778,
              "#fb9f3a"
             ],
             [
              0.8888888888888888,
              "#fdca26"
             ],
             [
              1,
              "#f0f921"
             ]
            ],
            "type": "histogram2dcontour"
           }
          ],
          "mesh3d": [
           {
            "colorbar": {
             "outlinewidth": 0,
             "ticks": ""
            },
            "type": "mesh3d"
           }
          ],
          "parcoords": [
           {
            "line": {
             "colorbar": {
              "outlinewidth": 0,
              "ticks": ""
             }
            },
            "type": "parcoords"
           }
          ],
          "pie": [
           {
            "automargin": true,
            "type": "pie"
           }
          ],
          "scatter": [
           {
            "fillpattern": {
             "fillmode": "overlay",
             "size": 10,
             "solidity": 0.2
            },
            "type": "scatter"
           }
          ],
          "scatter3d": [
           {
            "line": {
             "colorbar": {
              "outlinewidth": 0,
              "ticks": ""
             }
            },
            "marker": {
             "colorbar": {
              "outlinewidth": 0,
              "ticks": ""
             }
            },
            "type": "scatter3d"
           }
          ],
          "scattercarpet": [
           {
            "marker": {
             "colorbar": {
              "outlinewidth": 0,
              "ticks": ""
             }
            },
            "type": "scattercarpet"
           }
          ],
          "scattergeo": [
           {
            "marker": {
             "colorbar": {
              "outlinewidth": 0,
              "ticks": ""
             }
            },
            "type": "scattergeo"
           }
          ],
          "scattergl": [
           {
            "marker": {
             "colorbar": {
              "outlinewidth": 0,
              "ticks": ""
             }
            },
            "type": "scattergl"
           }
          ],
          "scattermap": [
           {
            "marker": {
             "colorbar": {
              "outlinewidth": 0,
              "ticks": ""
             }
            },
            "type": "scattermap"
           }
          ],
          "scattermapbox": [
           {
            "marker": {
             "colorbar": {
              "outlinewidth": 0,
              "ticks": ""
             }
            },
            "type": "scattermapbox"
           }
          ],
          "scatterpolar": [
           {
            "marker": {
             "colorbar": {
              "outlinewidth": 0,
              "ticks": ""
             }
            },
            "type": "scatterpolar"
           }
          ],
          "scatterpolargl": [
           {
            "marker": {
             "colorbar": {
              "outlinewidth": 0,
              "ticks": ""
             }
            },
            "type": "scatterpolargl"
           }
          ],
          "scatterternary": [
           {
            "marker": {
             "colorbar": {
              "outlinewidth": 0,
              "ticks": ""
             }
            },
            "type": "scatterternary"
           }
          ],
          "surface": [
           {
            "colorbar": {
             "outlinewidth": 0,
             "ticks": ""
            },
            "colorscale": [
             [
              0,
              "#0d0887"
             ],
             [
              0.1111111111111111,
              "#46039f"
             ],
             [
              0.2222222222222222,
              "#7201a8"
             ],
             [
              0.3333333333333333,
              "#9c179e"
             ],
             [
              0.4444444444444444,
              "#bd3786"
             ],
             [
              0.5555555555555556,
              "#d8576b"
             ],
             [
              0.6666666666666666,
              "#ed7953"
             ],
             [
              0.7777777777777778,
              "#fb9f3a"
             ],
             [
              0.8888888888888888,
              "#fdca26"
             ],
             [
              1,
              "#f0f921"
             ]
            ],
            "type": "surface"
           }
          ],
          "table": [
           {
            "cells": {
             "fill": {
              "color": "#EBF0F8"
             },
             "line": {
              "color": "white"
             }
            },
            "header": {
             "fill": {
              "color": "#C8D4E3"
             },
             "line": {
              "color": "white"
             }
            },
            "type": "table"
           }
          ]
         },
         "layout": {
          "annotationdefaults": {
           "arrowcolor": "#2a3f5f",
           "arrowhead": 0,
           "arrowwidth": 1
          },
          "autotypenumbers": "strict",
          "coloraxis": {
           "colorbar": {
            "outlinewidth": 0,
            "ticks": ""
           }
          },
          "colorscale": {
           "diverging": [
            [
             0,
             "#8e0152"
            ],
            [
             0.1,
             "#c51b7d"
            ],
            [
             0.2,
             "#de77ae"
            ],
            [
             0.3,
             "#f1b6da"
            ],
            [
             0.4,
             "#fde0ef"
            ],
            [
             0.5,
             "#f7f7f7"
            ],
            [
             0.6,
             "#e6f5d0"
            ],
            [
             0.7,
             "#b8e186"
            ],
            [
             0.8,
             "#7fbc41"
            ],
            [
             0.9,
             "#4d9221"
            ],
            [
             1,
             "#276419"
            ]
           ],
           "sequential": [
            [
             0,
             "#0d0887"
            ],
            [
             0.1111111111111111,
             "#46039f"
            ],
            [
             0.2222222222222222,
             "#7201a8"
            ],
            [
             0.3333333333333333,
             "#9c179e"
            ],
            [
             0.4444444444444444,
             "#bd3786"
            ],
            [
             0.5555555555555556,
             "#d8576b"
            ],
            [
             0.6666666666666666,
             "#ed7953"
            ],
            [
             0.7777777777777778,
             "#fb9f3a"
            ],
            [
             0.8888888888888888,
             "#fdca26"
            ],
            [
             1,
             "#f0f921"
            ]
           ],
           "sequentialminus": [
            [
             0,
             "#0d0887"
            ],
            [
             0.1111111111111111,
             "#46039f"
            ],
            [
             0.2222222222222222,
             "#7201a8"
            ],
            [
             0.3333333333333333,
             "#9c179e"
            ],
            [
             0.4444444444444444,
             "#bd3786"
            ],
            [
             0.5555555555555556,
             "#d8576b"
            ],
            [
             0.6666666666666666,
             "#ed7953"
            ],
            [
             0.7777777777777778,
             "#fb9f3a"
            ],
            [
             0.8888888888888888,
             "#fdca26"
            ],
            [
             1,
             "#f0f921"
            ]
           ]
          },
          "colorway": [
           "#636efa",
           "#EF553B",
           "#00cc96",
           "#ab63fa",
           "#FFA15A",
           "#19d3f3",
           "#FF6692",
           "#B6E880",
           "#FF97FF",
           "#FECB52"
          ],
          "font": {
           "color": "#2a3f5f"
          },
          "geo": {
           "bgcolor": "white",
           "lakecolor": "white",
           "landcolor": "#E5ECF6",
           "showlakes": true,
           "showland": true,
           "subunitcolor": "white"
          },
          "hoverlabel": {
           "align": "left"
          },
          "hovermode": "closest",
          "mapbox": {
           "style": "light"
          },
          "paper_bgcolor": "white",
          "plot_bgcolor": "#E5ECF6",
          "polar": {
           "angularaxis": {
            "gridcolor": "white",
            "linecolor": "white",
            "ticks": ""
           },
           "bgcolor": "#E5ECF6",
           "radialaxis": {
            "gridcolor": "white",
            "linecolor": "white",
            "ticks": ""
           }
          },
          "scene": {
           "xaxis": {
            "backgroundcolor": "#E5ECF6",
            "gridcolor": "white",
            "gridwidth": 2,
            "linecolor": "white",
            "showbackground": true,
            "ticks": "",
            "zerolinecolor": "white"
           },
           "yaxis": {
            "backgroundcolor": "#E5ECF6",
            "gridcolor": "white",
            "gridwidth": 2,
            "linecolor": "white",
            "showbackground": true,
            "ticks": "",
            "zerolinecolor": "white"
           },
           "zaxis": {
            "backgroundcolor": "#E5ECF6",
            "gridcolor": "white",
            "gridwidth": 2,
            "linecolor": "white",
            "showbackground": true,
            "ticks": "",
            "zerolinecolor": "white"
           }
          },
          "shapedefaults": {
           "line": {
            "color": "#2a3f5f"
           }
          },
          "ternary": {
           "aaxis": {
            "gridcolor": "white",
            "linecolor": "white",
            "ticks": ""
           },
           "baxis": {
            "gridcolor": "white",
            "linecolor": "white",
            "ticks": ""
           },
           "bgcolor": "#E5ECF6",
           "caxis": {
            "gridcolor": "white",
            "linecolor": "white",
            "ticks": ""
           }
          },
          "title": {
           "x": 0.05
          },
          "xaxis": {
           "automargin": true,
           "gridcolor": "white",
           "linecolor": "white",
           "ticks": "",
           "title": {
            "standoff": 15
           },
           "zerolinecolor": "white",
           "zerolinewidth": 2
          },
          "yaxis": {
           "automargin": true,
           "gridcolor": "white",
           "linecolor": "white",
           "ticks": "",
           "title": {
            "standoff": 15
           },
           "zerolinecolor": "white",
           "zerolinewidth": 2
          }
         }
        },
        "title": {
         "text": "Population vs Car Network Length"
        },
        "xaxis": {
         "anchor": "y",
         "domain": [
          0,
          1
         ],
         "title": {
          "text": "population"
         }
        },
        "yaxis": {
         "anchor": "x",
         "domain": [
          0,
          1
         ],
         "title": {
          "text": "car_len_m"
         }
        }
       }
      },
      "text/html": [
       "<div>                        <script type=\"text/javascript\">window.PlotlyConfig = {MathJaxConfig: 'local'};</script>\n",
       "        <script charset=\"utf-8\" src=\"https://cdn.plot.ly/plotly-3.0.1.min.js\" integrity=\"sha256-oy6Be7Eh6eiQFs5M7oXuPxxm9qbJXEtTpfSI93dW16Q=\" crossorigin=\"anonymous\"></script>                <div id=\"a8368dd9-914f-466d-815d-4c9515f4b3c6\" class=\"plotly-graph-div\" style=\"height:100%; width:100%;\"></div>            <script type=\"text/javascript\">                window.PLOTLYENV=window.PLOTLYENV || {};                                if (document.getElementById(\"a8368dd9-914f-466d-815d-4c9515f4b3c6\")) {                    Plotly.newPlot(                        \"a8368dd9-914f-466d-815d-4c9515f4b3c6\",                        [{\"hovertemplate\":\"\\u003cb\\u003e%{hovertext}\\u003c\\u002fb\\u003e\\u003cbr\\u003e\\u003cbr\\u003epopulation=%{x}\\u003cbr\\u003ecar_len_m=%{y}\\u003cextra\\u003e\\u003c\\u002fextra\\u003e\",\"hovertext\":[\"Shanghai\",\"Beijing\",\"Shenzhen\",\"Guangzhou\",\"Kinshasa\",\"Istanbul\",\"Lagos\",\"Ho Chi Minh City\",\"Chengdu\",\"Lahore\",\"Mumbai\",\"São Paulo\",\"Mexico City\",\"Karachi\",\"Tianjin\",\"Delhi\",\"Wuhan\",\"Moscow\",\"Dhaka\",\"Seoul\",\"Tokyo\",\"Dongguan\",\"Cairo\",\"Xi’an\",\"Johannesburg\",\"Nanjing\",\"Hangzhou\",\"Foshan\",\"London\",\"New York City\",\"Jakarta\",\"Bengaluru\",\"Hanoi\",\"Taipei\",\"Lima\",\"Bogotá\",\"Chongqing\",\"Hong Kong\",\"Baghdad\",\"Qingdao\",\"Tehran\",\"Shenyang\",\"Hyderabad\",\"Rio de Janeiro\",\"Suzhou\",\"Ahmedabad\",\"Abidjan\",\"Singapore\",\"Sydney\",\"Dar es Salaam\",\"Saint Petersburg\",\"Melbourne\",\"Alexandria\",\"Harbin\",\"Bangkok\",\"Hefei\",\"Dalian\",\"Kano\",\"Santiago\",\"Cape Town\",\"Peshawar\",\"Changchun\",\"Jeddah\",\"Chennai\",\"Kolkata\",\"Xiamen\",\"Surat\",\"Yangon\",\"Bao'an\",\"Kabul\",\"Nairobi\",\"Wuxi\",\"Giza\",\"Jinan\",\"Taiyuan\",\"Zhengzhou\",\"Bamako\",\"Riyadh\",\"New Taipei City\",\"New Territories\",\"Shijiazhuang\",\"Chattogram\",\"Addis Ababa\",\"Kunming\",\"Zhongshan\",\"Nanning\",\"Shantou\",\"Los Angeles\",\"Faisalabad\",\"Dubai\",\"Yokohama\",\"Fuzhou\",\"Ningbo\",\"Casablanca\",\"Ibadan\",\"Puyang\",\"Ankara\",\"Shiyan\",\"Berlin\",\"Tangshan\",\"Rawalpindi\",\"Busan\",\"Durban\",\"Changzhou\",\"Madrid\",\"Pyongyang\",\"Zibo\",\"Pune\",\"Bursa\",\"Changsha\",\"Jaipur\",\"Guiyang\",\"Ürümqi\",\"Incheon\",\"Caracas\",\"Lanzhou\",\"Quezon City\",\"Huizhou\",\"Buenos Aires\",\"Surabaya\",\"Haikou\",\"Taichung\",\"Kanpur\",\"Kyiv\",\"Toronto\",\"Quito\",\"Brisbane\",\"Luanda\",\"Osaka\",\"Linyi\",\"Baoding\",\"Kaohsiung\",\"Brooklyn\",\"Guayaquil\",\"Belo Horizonte\",\"Salvador\",\"Abuja\",\"Gazipur\",\"Chicago\",\"Wenzhou\",\"Dakar\",\"Haiphong\",\"Yunfu\",\"Navi Mumbai\",\"Mogadishu\",\"Bekasi\",\"Kumasi\",\"Gujranwala\",\"İzmir\",\"Huai'an\",\"Lucknow\",\"Bandung\",\"Medan\",\"Ouagadougou\",\"Nagpur\",\"Fortaleza\",\"Cali\",\"Daegu\",\"Algiers\",\"Nanchang\",\"Hohhot\",\"Nagoya\",\"Rome\",\"Queens\",\"Houston\",\"Perth\",\"Mashhad\",\"Shaoxing\",\"Nantong\",\"Kowloon\",\"Yantai\",\"Lubumbashi\",\"Manaus\",\"Lusaka\",\"Brasília\",\"Zhuhai\",\"Santo Domingo\",\"Lomé\",\"Multan\",\"Havana\",\"Baotou\",\"Depok\",\"Paris\",\"Coimbatore\",\"Gaziantep\",\"Port Harcourt\",\"Pretoria\",\"Córdoba\",\"Mbuji-Mayi\",\"Aleppo\",\"Kunshan\",\"Al Mawşil al Jadīdah\",\"Weifang\",\"Zunyi\",\"Al Başrah al Qadīmah\",\"La Paz\",\"Lianyungang\",\"Medellín\",\"Indore\",\"Brazzaville\",\"Tashkent\",\"Ganzhou\",\"Almaty\",\"Khartoum\",\"Sapporo\",\"Accra\",\"Curitiba\",\"Ordos\",\"Sanaa\",\"Conakry\",\"Tijuana\",\"Hyderabad\",\"Beirut\",\"Tangerang\",\"Jieyang\",\"Jilin\",\"Bucharest\",\"Camayenne\",\"Kakamega\",\"Nanchong\",\"Tainan\",\"Datong\",\"Kaduna\",\"Omdurman\",\"Hamburg\",\"Thāne\",\"Santa Cruz de la Sierra\",\"Vadodara\",\"Adana\",\"Iztapalapa\",\"Nanyang\",\"Abu Dhabi\",\"Sharjah\",\"Bhopal\",\"Jiangmen\",\"Diyarbakır\",\"Benin City\",\"Jiangyin\",\"Davao\",\"Fuyang\",\"Montréal\",\"Bayan Nur\",\"Maracaibo\",\"Chaozhou\",\"Minsk\",\"Budapest\",\"Qingyuan\",\"Tai’an\",\"Rasapūdipalem\",\"Pimpri-Chinchwad\",\"Warsaw\",\"Soweto\",\"Puebla\",\"Vienna\",\"Patna\",\"Mosul\",\"Kallakurichi\",\"Kampala\",\"Xining\",\"Changshu\",\"Palembang\",\"Huainan\",\"Caloocan City\",\"Rabat\",\"Semarang\",\"Recife\",\"Phoenix\",\"Suzhou\",\"Ecatepec de Morelos\",\"Lu’an\",\"Barcelona\",\"Valencia\",\"Ludhiana\",\"Yancheng\",\"Novosibirsk\",\"Erbil\",\"Fukuoka\",\"Taizhou\",\"Daqing\",\"Manila\",\"Wuhu\",\"Santiago de Querétaro\",\"Dazhou\",\"Yangzhou\",\"León de los Aldama\",\"Makkah\",\"Philadelphia\",\"Phnom Penh\",\"Guilin\",\"Damascus\",\"Quetta\",\"Zhaoqing\",\"Onitsha\",\"Mianyang\",\"Isfahan\",\"Harare\",\"Monrovia\",\"Putian\",\"Kawasaki\",\"Shangqiu\",\"Goiânia\",\"Auckland\",\"San Antonio\",\"Kobe\",\"Stockholm\",\"Ciudad Juárez\",\"Cần Thơ\",\"Khulna\",\"Belém\",\"Yekaterinburg\",\"Porto Alegre\",\"Yinchuan\",\"Manhattan\",\"Nashik\",\"Taizhou\",\"Asunción\",\"Yiwu\",\"Zapopan\",\"Daejeon\",\"Adelaide\",\"Quanzhou\",\"Madurai\",\"Jinhua\",\"Kyoto\",\"Cixi\",\"Changde\",\"Kuala Lumpur\",\"Kaifeng\",\"Anshan\",\"Karaj\",\"Kathmandu\",\"Baoji\",\"Suqian\",\"Liuzhou\",\"Tirunelveli\",\"Kayseri\",\"Kharkiv\",\"Konya\",\"Zhangjiagang\",\"Agra\",\"Tabriz\",\"Makassar\",\"Jinjiang\",\"Faridabad\",\"Gwangju\",\"Bozhou\",\"Qujing\",\"South Tangerang\",\"San Diego\",\"Zhanjiang\",\"Fushun\",\"Rājkot\",\"Luoyang\",\"Guadalajara\",\"The Bronx\",\"Guankou\",\"Huế\",\"Milan\",\"Najafgarh\",\"N'Djamena\",\"Handan\",\"Bannu\",\"Yichang\",\"Antananarivo\",\"Heze\",\"Antalya\",\"Abobo\",\"Jamshedpur\",\"Douala\",\"Basrah\",\"Dallas\",\"Saitama\",\"Gorakhpur\",\"Niamey\",\"Liupanshui\",\"Maoming\",\"Calgary\",\"Tripoli\",\"Callao\",\"Madinah\",\"Yaoundé\",\"Qinzhou\",\"Luohe\",\"Xiangyang\",\"Yangjiang\",\"Yixing\",\"Pimpri\",\"Da Nang\",\"Amman\",\"Budta\",\"Belgrade\",\"Biên Hòa\",\"Montevideo\",\"Xuchang\",\"Kalyān\",\"Zigong\",\"Munich\",\"Nizhniy Novgorod\",\"Jepara\",\"Maputo\",\"Xuzhou\",\"Dammam\",\"Ra’s Bayrūt\",\"Neijiang\",\"Shiraz\",\"Heshan\",\"Dombivali\",\"Kananga\",\"Kazan\",\"Jining\",\"Barquisimeto\",\"Shubrā al Khaymah\",\"Port-au-Prince\",\"Xinyang\",\"Liaocheng\",\"Jinzhong\",\"Meerut\",\"Virār\",\"Nowrangapur\",\"Karbala\",\"Changzhi\",\"Tianshui\",\"Mombasa\",\"Mandalay\",\"Srinagar\",\"Barranquilla\",\"Chelyabinsk\",\"Mérida\",\"Hiroshima\",\"Shymkent\",\"Santiago de los Caballeros\",\"Weinan\",\"Ghāziābād\",\"Matola\",\"Dhanbad\",\"Hong Kong Island\",\"Suwon\",\"Fes\",\"Gustavo Adolfo Madero\",\"Nouakchott\",\"Kisangani\",\"Jiaxing\",\"Aurangabad\",\"Omsk\",\"Guarulhos\",\"Bandar Lampung\",\"Prague\",\"Varanasi\",\"Batam\",\"Jiujiang\",\"Samara\",\"Aba\",\"Amritsar\",\"Birmingham\",\"Copenhagen\",\"Sofia\",\"Anyang\",\"Luohu District\",\"Vijayawada\",\"Yerevan\",\"Bijie\",\"Monterrey\",\"Kigali\",\"Rostov-na-Donu\",\"Zhuzhou\",\"Bogor\",\"Malingao\",\"Touba\",\"Ufa\",\"Ranchi\",\"Baku\",\"Shangrao\",\"Lilongwe\",\"Huaibei\",\"Maiduguri\",\"Meishan\",\"Ciudad Nezahualcoyotl\",\"Mwanza\",\"Ulsan\",\"Sendai\",\"Krasnoyarsk\",\"Fuzhou\",\"Guigang\",\"Pekanbaru\",\"Oslo\",\"Jabalpur\",\"Ilorin\",\"Aden\",\"Hengyang\",\"Goyang-si\",\"Prayagraj\",\"Visakhapatnam\",\"Yulin\",\"Jodhpur\",\"Gwalior\",\"Jingzhou\",\"Port Elizabeth\",\"Tbilisi\",\"Voronezh\",\"Xinxiang\",\"Yichun\",\"Jos\",\"Sokoto\",\"Tangier\",\"Teni\",\"Xianyang\",\"Mexicali\",\"Pointe-Noire\",\"Maceió\",\"Campinas\",\"Sanya\",\"Rangpur\",\"Kirkuk\",\"Comilla\",\"Shaoguan\",\"Howrah\",\"Raipur\",\"Changwon\",\"Longyan\",\"Dublin\",\"Tiruchirappalli\",\"Yongzhou\",\"Brussels\",\"Ottawa\",\"Huzhou\",\"Odesa\",\"Volgograd\",\"Khartoum North\",\"Edmonton\",\"Wuwei\",\"Jacksonville\",\"Arequipa\",\"Fort Worth\",\"Hanzhong\",\"Hezhou\",\"Kota\",\"Shivaji Nagar\",\"Zhu Cheng City\",\"Dongying\",\"Luzhou\",\"San Jose\",\"Sholapur\",\"Marrakesh\",\"Guatemala City\",\"Meizhou\",\"Yueyang\",\"Laiwu\",\"Benxi\",\"Perm\",\"Zaria\",\"Chiba\",\"Pingdingshan\",\"Ciudad Guayana\",\"Zamboanga\",\"Sargodha\",\"Austin\",\"Managua\",\"Bengbu\",\"Salé\",\"Jerusalem\",\"Chandigarh\",\"Dnipro\",\"Cebu City\",\"Köln\",\"Tiruppur\",\"Guwahati\",\"Xiangtan\",\"Linfen\",\"Victoria\",\"Zhenjiang\",\"Enugu\",\"Rosario\",\"Sulţānah\",\"Hubballi\",\"Kitakyushu\",\"Taiz\",\"Setagaya\",\"Kingston\",\"Baoshan\",\"Rui’an\",\"Chihuahua\",\"Nay Pyi Taw\",\"Mysuru\",\"Trujillo\",\"Salem\",\"São Luís\",\"Seongnam-si\",\"Cartagena\",\"Columbus\",\"Sialkot\",\"Charlotte\",\"Laibin\",\"Warri\",\"Naples\",\"Padang\",\"Xiaogan\",\"Campo Grande\",\"Ziyang\",\"Bobo-Dioulasso\",\"Bahawalpur\",\"Quzhou\",\"Blantyre\",\"Donetsk\",\"Bishkek\",\"Qom\",\"Abū Ghurayb\",\"Zaozhuang\",\"Krasnodar\",\"Natal\",\"Pingxiang\",\"Indianapolis\",\"Antipolo\",\"Gurugram\",\"Bhubaneswar\",\"Zhoushan\",\"Qiqihar\",\"Klang\",\"As Sulaymānīyah\",\"Puning\",\"Pikine\",\"Bhiwandi\",\"Soshanguve\",\"Teresina\",\"Marseille\",\"Ankang\",\"Jalandhar\",\"Langfang\",\"Jiaozuo\",\"Rohini\",\"Wanxian\",\"Guang’an\",\"Johor Bahru\",\"Cheongju-si\",\"Kanayannur\",\"Tegucigalpa\",\"Bucheon-si\",\"Thanh Hóa\",\"Turin\",\"Malang\",\"Al Ain City\",\"Libreville\",\"Saratov\",\"Ulan Bator\",\"Weihai\",\"Takeo\",\"Cochabamba\",\"Ahvaz\",\"Zhabei\",\"Xinyu\",\"Pietermaritzburg\",\"Yibin\",\"Naucalpan de Juárez\",\"Kampung Baru Subang\",\"Bouaké\",\"Samarinda\",\"Taicang\",\"San Francisco\",\"Sakai\",\"Valencia\",\"Nova Iguaçu\",\"Chenzhou\",\"Duque de Caxias\",\"João Pessoa\",\"Bukavu\",\"Barcelona\",\"Bangui\",\"Hermosillo\",\"Bhayandar\",\"Culiacán\",\"Petaling Jaya\",\"Malatya\",\"Anqing\",\"Oran\",\"Freetown\",\"San Pedro Sula\",\"Narela\",\"Xingtai\",\"Niigata\",\"Muscat\",\"Zarqa\",\"Çankaya\",\"Hamamatsu\",\"Kolwezi\",\"Vinh\",\"Eskişehir\",\"Thiruvananthapuram\",\"Pasragad Branch\",\"Zhaotong\",\"Panzhihua\",\"Chuzhou\",\"Seattle\",\"Port Said\",\"Cúcuta\",\"Homs\",\"Xuanzhou\",\"Ibb\",\"Nampula\",\"Shangyu\",\"Bujumbura\",\"Łódź\",\"Tyumen\",\"Erzurum\",\"Anshun\",\"Dodoma\",\"Rajshahi\",\"Dera Ismail Khan\",\"Wuzhou\",\"Ipoh\",\"Qinhuangdao\",\"Benghazi\",\"Kraków\",\"Alīgarh\",\"Shaoyang\",\"Winnipeg\",\"Bağcılar\",\"Ōta\",\"Andijon\",\"Bareilly\",\"Buraydah\",\"São Bernardo do Campo\",\"Hegang\",\"Morelia\",\"Riga\",\"Tasikmalaya\",\"Amsterdam\",\"Ma’anshan\",\"Shah Alam\",\"Kumamoto\",\"Oyo\",\"Torreón\",\"Deyang\",\"Abeokuta\",\"Al Ḩudaydah\",\"Yangquan\",\"Akure\",\"São José dos Campos\",\"Denver\",\"Osasco\",\"Cagayan de Oro\",\"Ashgabat\",\"Álvaro Obregón\",\"Aihara\",\"Evaton\",\"Denpasar\",\"Muzaffarābād\",\"Okayama\",\"Wanzhou\",\"San Luis Potosí\",\"Aguascalientes\",\"Zhumadian\",\"Morādābād\",\"Sagamihara\",\"Mississauga\",\"Lviv\",\"Valenzuela\",\"Namangan\",\"Ribeirão Preto\",\"Zaporizhzhya\",\"Zanzibar\",\"Saltillo\",\"Latakia\",\"Subang Jaya\",\"Warangal\",\"Tolyatti\",\"Jaboatão\",\"Santo Domingo Oeste\",\"Santo Domingo Este\",\"Battagram\",\"Suez\",\"Changzhi\",\"Agadir\",\"Edogawe\",\"General Santos\",\"Sarajevo\",\"Balikpapan\",\"Adachi\",\"Bauchi\",\"Shizuoka\",\"Tunis\",\"Zhangjiakou\",\"Serang\",\"Paranaque City\",\"Washington\",\"Nashville\",\"Fuxin\",\"Ta’if\",\"Changsha\",\"Huangshi\",\"Liaoyang\",\"Beira\",\"Sevilla\",\"Sorocaba\",\"Zaragoza\",\"Baise\",\"Situbondo\",\"Binzhou\",\"Oklahoma City\",\"Yuncheng\",\"Dezhou\",\"Dushanbe\",\"Cotonou\",\"El Paso\",\"Gorakhpur\",\"Guadalupe\",\"Acapulco de Juárez\",\"Guntur\",\"Katsina\",\"Sanmenxia\",\"E’zhou\",\"Madīnat an Naşr\",\"Tabuk\",\"Kitwe\",\"Bulawayo\",\"Mudanjiang\",\"Aracaju\",\"Athens\",\"Zagreb\",\"Leshan\",\"Santo André\",\"Vancouver\",\"Rizhao\",\"Helsinki\",\"Cheonan\",\"Pontianak\",\"Banjarmasin\",\"Puducherry\",\"Suining\",\"Brampton\",\"Puyang\",\"Boston\",\"Tlalnepantla\",\"Portland\",\"Tlaquepaque\",\"Frankfurt am Main\",\"Macau\",\"Palermo\",\"Izhevsk\",\"Colombo\",\"Maturín\",\"Amravati\",\"Detroit\",\"Osogbo\",\"Honchō\",\"Taguig\",\"Bikaner\",\"Jaboatão dos Guararapes\",\"Las Vegas\",\"New South Memphis\",\"Hwaseong-si\",\"Gold Coast\",\"Kotli\",\"Jeonju\",\"Al Aḩmadī\",\"Cuenca\",\"Chisinau\",\"Likasi\",\"Wrocław\",\"Hebi\",\"Tshikapa\",\"Kochi\",\"Memphis\",\"Jingmen\",\"Barnaul\",\"Dandong\",\"Stuttgart\",\"Cancún\",\"Bhilai\",\"Ndola\",\"Contagem\",\"Ulyanovsk\",\"Djibouti\",\"Glasgow\",\"Panshan\",\"Louisville\",\"Irkutsk\",\"Ansan-si\",\"Al Mansurah\",\"Kermanshah\",\"Düsseldorf\",\"Coyoacán\",\"Feira de Santana\",\"Jiaozhou\",\"Suizhou\",\"Villa Nueva\",\"Khabarovsk\",\"Cuiabá\",\"Arusha\",\"Pasig City\",\"Chizhou\",\"Santa María Chimalhuacán\",\"Ya'an\",\"Cuttack\",\"Borivli\",\"Yaroslavl\",\"Göteborg\",\"Kawaguchi\",\"Bukit Rahman Putra\",\"Jambi City\",\"Ha'il\",\"Bhavnagar\",\"Benoni\",\"Vladivostok\",\"Jinzhou\",\"Tuxtla\",\"Kryvyy Rih\",\"Sanming\",\"Islamabad\",\"Sāngli\",\"Jamnagar\",\"Lubango\",\"Shuangyashan\",\"Pokhara\",\"Rotterdam\",\"Borama\",\"Pallabi\",\"Luancheng\",\"Makhachkala\",\"Anyang-si\",\"Huambo\",\"Samarkand\",\"Kagoshima\",\"Mukalla\",\"Rasht\",\"Mar del Plata\",\"Essen\",\"Al Maḩallah al Kubrá\",\"Málaga\",\"Shekhupura\",\"Yingkou\",\"Cimahi\",\"Las Piñas\",\"Zhangzhou\",\"Reynosa\",\"Thuận An\",\"Dortmund\",\"Suginami\",\"Londrina\",\"Baltimore\",\"Itabashi\",\"New Kingston\",\"Pelentong\",\"Bucaramanga\",\"Genoa\",\"Hachiōji\",\"Malacca\",\"Nha Trang\",\"Khabarovsk Vtoroy\",\"Kerman\",\"Orūmīyeh\",\"Bahçelievler\",\"Tanta\",\"Jammu\",\"Iskandar Puteri\",\"Tlalpan\",\"Herāt\",\"Gujrat\",\"Tomsk\",\"Juiz de Fora\",\"Umraniye\",\"Shihezi\",\"South Boston\",\"Nakuru\",\"Poznań\",\"Hamilton\",\"Irbid\",\"Manchester\",\"Kota Bharu\",\"Surrey\",\"Meknes\",\"Puente Alto\",\"Nyala\",\"Orenburg\",\"Albuquerque\",\"Bokāro\",\"Asmara\",\"Sukkur\",\"Uberlândia\",\"Milwaukee\",\"Chợ Lớn\",\"Wenchang\",\"Gombe\",\"Ile-Ife\",\"Hamhŭng\",\"Kemerovo\",\"Nasiriyah\",\"Bloemfontein\",\"Sheffield\",\"Dresden\",\"Santiago de Cuba\",\"Siping\",\"Benguela\",\"Huaihua\",\"Chiclayo\",\"Zahedan\",\"Banqiao\",\"Nanded\",\"Kozhikode\",\"Ulanqab\",\"Ajegunle\",\"Pristina\"],\"legendgroup\":\"\",\"marker\":{\"color\":\"#636efa\",\"symbol\":\"circle\"},\"mode\":\"markers\",\"name\":\"\",\"orientation\":\"v\",\"showlegend\":false,\"x\":{\"dtype\":\"i4\",\"bdata\":\"BI57AWhRIQF+8QoB1J31AAAk9ABilu8AYM3qAKap1QBlCc8AZ23GAHypwQBoNr0AMZi7ABtfsQCKOakAu1+oAHWUngCmZ54AFAeeAADrnQCchJQARyuTAASXkgAAfJIAx7WPAH0hjgBA7owATfqJAMW\\u002fiABeV4YA2U+CAIShgQCf43oAnB14AKoOdgD+GXUAP8txAOzacACAG24AY3FtAJ0mbQAQk2sAbrVqAKf2ZgCneGYAvQJhAHlzYAAsClYA8ctUADAmUgD\\u002fqVEAMaVRALZQUAARAFAAXONNAJAOTQDX+koAsOtKAK\\u002fPSQDu00gA6pxIAPTxRwCoq0cAf21HAGCrRgAjdEYAjg5GAMZSRACKTkQAdqpDABEYQwAjF0MA76NCAHUpQgA5q0EA2ehAAPGBQACJLUAADxo9AM3KPADRGDwAXtE7ACDmOgDy0zoAUZ86ADiXOgC0kzoAck06AIH8OQCw1DkA06M5AGAROQAD7zgAIvA3AOitNwBwxzYA\\u002fqo1AKDLNAAySDQARnQzAKw7MwAfBjMAKu8yACY3MgCIrjEA8CkxAIy\\u002fLwDqrC8AiVQvANw1LwATey4A51cuAHw5LgA6Bi4AwMYtAMDGLQCwKi0AkUAsAEodLADK2ysADtgrAO19KwBRFCsA8a8qAHSjKgDJcSoAn2sqAGhcKgBGBSoAI94pAK\\u002fOKQD8xSkAyr8pAFGPKQAchykAIGEpANALKQAJ0CgABKgoAJBvKADnYSgAsA4oAEDeJwBArCcAL3onAEwjJwCS0yYADlEmAPsnJgA9DiYAS7glAIBLJQC0KCUAotokACG1JAAAnyQALYMkAFMYJABGEyQAT\\u002fojALDbIwAQliMAL2IjAClaIwCtTyMA2jwjAGk0IwBgGCMALrAiABMQIgAV\\u002fiEAZechADzeIQDNwSEA5q8hAHKtIQBVmSEAWGQhADscIQBwBCEAcM4gAHi8IAC3oSAAVJsgAACCIABAWSAAtTwgAG4lIABUECAAIgQgANDtHwC9hB8AfDAfAA8YHwD7wB4ArJYeAHGIHgBrhB4AnW4eADA+HgCsLh4ApSseALMqHgB3IR4ASB4eAAD1HQDSux0ArZwdACuQHQDFbB0A21UdAPtQHQDEPB0AZy8dAIL7HAC57RwAo6QcAIqNHAA7fxwAO10cAIJUHACQOhwAkDocADs5HADtJxwAUBkcAAryGwANzhsArrgbAOq0GwBkpRsAmJIbAEB3GwBKcBsAg2UbAI1VGwDwMBsAOycbADUdGwDz\\u002fRoAheYaAADbGgAavhoAobcaACyVGgDxkBoAuIYaAAF7GgCAXhoAzFwaAPv4GQBH3RkAFdIZAEzPGQBJsxkAOK4ZAP+sGQDYpBkAeZcZAPqWGQDwdhkACm8ZAJBaGQDJQxkAFDsZANU6GQCWLRkAGiQZACgbGQA4FxkAd7kYAA62GAC\\u002fsxgAZacYACGcGACcmxgAaJoYAMSFGAC7eRgAAGoYANViGABkUxgAu0AYAG0sGAAbGxgA4hYYABwEGACoAhgAzP0XAHLyFwBq4xcA1bIXAGiyFwCwphcAnJsXAJ2KFwCViRcAPX0XANZ4FwCIcRcAYXAXAIRaFwCASxcAoEUXAAkeFwACFBcAc\\u002f8WABHmFgD54RYAGtAWAHy1FgDbshYAsLIWAOWsFgC+qhYA2J0WAKiaFgCLhxYAgG8WAOtqFgDlahYAGV0WALZWFgCrVRYAZj0WAAs9FgCXLxYA3SYWABAgFgCLGBYA3wEWAGrwFQD17xUAt+sVAMToFQD14hUAHuEVAAXhFQDs2RUAJ9IVAAG9FQAFuhUA15sVAKKTFQAdiRUAnIEVAPR9FQBxbxUAJG4VAIVfFQBGXxUAMDgVAPU3FQCdJBUAlCIVAKAOFQCgDhUAau0UAAjUFACmvhQA7rkUAEK4FAAGmhQAfZcUAJ2MFAAAghQAs3IUAC5wFADiahQA5D0UAAc8FAA2NxQAGjYUAKsyFAB5JxQAmvQTAKDwEwCj4RMAINYTACDWEwCp0xMArMcTAH7CEwCNwRMAu7oTAJmeEwD+mRMAYHgTANF3EwBzbxMAM28TAKtpEwDRYxMAgE8TAK9CEwDwQRMAZzsTAAU2EwC4MRMAtSUTAGciEwCrHBMAmxkTABcXEwCWEhMADxITAF8IEwDABxMAbPkSALTvEgCK7hIA4ewSADbXEgDaxBIAyMMSAHm3EgAQqhIA9qYSAFKhEgCsmBIA3IkSAHeBEgANcBIAI28SAJNoEgAvaBIAw1gSAGhTEgByUhIAgE8SAIBPEgC6TBIAV0wSAIxLEgC2QBIACT4SACU8EgDhLxIA7BcSABITEgBcCBIAYAESAEzuEQBm4hEAqdgRAPLKEQANyREAdMQRAEDEEQDswxEAh8ARAECzEQA7sBEA46kRAE+aEQAslhEA138RAPlzEQDAcREAbGkRAOdaEQCYUxEAjkgRAEE\\u002fEQDXPBEA8DMRALYeEQA4GhEAIxkRAHYYEQBhCREARgkRAKcGEQDp\\u002fBAA8O8QAB7nEADJ2hAAidoQAOjDEAAAvBAA+6QQAGChEAB3kxAASI4QAM+EEABNgRAAwHoQAHZ5EAA8aRAAYGYQAB5hEAAKORAA5x8QAL8dEADUFhAAeg4QAN4FEACaAxAA\\u002ffsPADD6DwDA9Q8AgN4PAIDeDwCFyw8A5MkPAGHHDwDuwQ8AQL8PAK29DwCCvQ8A5LwPANy8DwBYuw8AcLcPAGyxDwBYrg8AwKwPAKamDwA\\u002fpA8AG6APADaaDwArkw8AjowPAGmGDwCBgA8AEoAPAB13DwDzcQ8A02wPAHdqDwCpaA8AomIPAOphDwDdWw8AslcPAN5IDwBAQg8AQEIPADg+DwD0PQ8A+DcPAKE3DwAfMg8Aei4PAF8kDwDpIA8AXxkPAEUSDwCT\\u002fQ4AIPQOADjzDgC68A4AGu0OAFLpDgAO5A4Ab94OAB\\u002fZDgDw1w4AC9YOABjUDgBqzw4ANscOAEm2DgBDsw4AZbIOAB6vDgBHow4A3qIOAICZDgD0gA4A8H4OAFh4DgAJcg4ArGYOALJbDgA4Wg4AJ1gOAORODgDCRg4AlyYOAEIgDgBIHQ4A5gsOAFsJDgCm\\u002fw0A9f4NAJD1DQB49A0AF+8NAMnpDQDP5w0AyuMNALDiDQD43g0A8N4NAOrbDQBs0w0AAdINANjODQBzyg0Ab8YNALzFDQANwg0AoLsNAKC7DQCguw0AqboNANW5DQDErg0AbqINAFqLDQBnig0A94YNAHOCDQD0eA0AvHYNAPtsDQBCZg0AylkNAE5WDQAwVg0AdU8NANZKDQBLSQ0A7kYNAEFCDQDiPg0AhTQNAGAfDQAOHg0ALxgNAAYYDQCyBw0Azv0MAKD7DAAr+wwAUPgMALftDABO7QwAm+sMAArpDAA65AwAEuQMABbiDACb4AwAPNYMALnVDABA0QwAQM8MAJ\\u002fODAD0wgwAgrsMACO4DABzswwA5K8MAImuDACGoAwAMZsMAFyaDAAGkAwABo0MAJl8DABneQwAq3YMACVwDAB3ZQwAxWQMAKJZDADgVQwAx1MMAAxNDACNRgwAAUIMAE8\\u002fDADrOQwAADUMADIwDACXKwwASCkMAFkYDAB9FgwAmxQMAOgODADwDQwAHwoMAC8HDACmBQwAhQUMAOkCDABP8QsAw+oLAOPoCwCS2wsA7NQLALzQCwC6xQsAS8ELANC\\u002fCwAlvQsA87oLAGa5CwBotwsAga0LAPusCwC8pgsAO6ULAFygCwCQmAsAppcLAPKOCwBqhQsAN34LACp+CwAncAsA4G0LADFqCwAYaQsA218LAIlfCwDMVwsAi1cLAGtXCwCsVAsAgFELAARRCwCbUAsAjk0LAFtGCwBIOwsAbDgLAF43CwAYNwsA6zULAFwoCwCQIwsAiSILALsfCwAnHgsAUh0LAJQaCwCIFgsA9RELANwRCwBCEQsACBALANMOCwAPCQsAVAcLAEoFCwAGAwsA8wALAIz\\u002fCgCJ9AoA2fEKAOLoCgAE4goAkdwKAKTVCgCx1AoAJ9QKAIjRCgDIzgoAOsAKAJ+5CgCduAoAVbMKAGCuCgBgrgoAlawKAHqsCgDGpwoATKYKAOOjCgCboQoA95sKAAObCgDElQoAjZQKANqTCgB6kQoAhY8KAEiHCgCJhQoAJ4UKAJqDCgA1ggoAcoAKANp\\u002fCgASfwoAlH4KAIB9CgD9fAoAinsKAP53CgCPdwoA3WoKAF5kCgBkYAoAb14KAOhdCgBkXAoAn1sKAMZJCgBQRwoAx0YKAHk5CgAwOQoAezYKADc0CgD9MgoAeC0KAGkpCgBgKQoAOykKAEwlCgDuIQoAKCAKAB4dCgBlGwoA6BoKALcZCgCwDQoAjw0KAP0MCgD\\u002fCAoAOQcKAHgFCgBgBAoAOgEKAAn6CQBi+AkA1\\u002fQJAIvrCQAQ6wkAd+gJAETkCQAV5AkAYuMJACPhCQCR3wkASdoJAIjXCQA81gkAedUJADbVCQDF0wkAb8sJAEjKCQB6xwkACscJAADECQBDvAkA47kJAES4CQBatAkAeLMJAA2wCQBhrwkAoa4JANGqCQAQqQkAeqgJADSmCQClpAkAIZ4JAFKWCQAWlAkAL5MJALORCQBsjwkAUI8JAOqOCQCQiQkAPIcJAP2ECQCYggkAgX0JACx6CQDrdwkAgHcJAFl0CQACcwkAVnAJAJ1vCQCmbgkAjG4JAJ9sCQBVawkAamMJAB9YCQDYVgkAjU8JAFFNCQDSSQkAzkgJAI1ECQAYQwkA+D8JAOo+CQC6PgkAoDwJAOU6CQBtOAkA8zcJAAA3CQA2MAkAAC4JAH4sCQBvKwkAryoJAMAnCQDQJQkAtyAJAFIfCQBGHgkAihwJAIQZCQC8FgkAaBUJAAAVCQBpFAkABxQJAJ4SCQC5DQkAvQwJAL0KCQAVBwkAQAYJADcFCQC+AwkAsAAJAAcACQCa\\u002fggASPsIAK76CABC+ggAXfkIAOzvCAAj6wgAFukIANjnCAAK3ggAAdoIABvXCAC41QgAuNUIAP\\u002fSCADqzwgAG88IAB\\u002fNCACIzAgAxsoIAOnJCABxxAgAXMMIACDDCAAywggAZb8IAFG\\u002fCABkvQgAkbcIADK1CADwswgACbAIAOyuCACkrggARK4IAAKsCADnqwgAKqsIAOahCAAlnggAT50IAF+cCADamggAi5oIAFCZCABLmQgAaI8IAP6OCACAiwgAgIsIANCHCAB9hwgAQIUIAF1+CADUfQgAw3wIAFl7CABZeggAdHgIAK5uCAA8bggALGwIADVpCACkZggAKGYIAFdlCABwZAgAcGQIAA==\"},\"xaxis\":\"x\",\"y\":{\"dtype\":\"f8\",\"bdata\":\"UrgeddhHa0GamZkNRBhwQfYoXC9Bn2NBMzMzWyilbUGF61FwHFFoQVK4Hr2fJXBBFK5HEUotaUEAAAC84oNzQRSuRzH92mxBKVyP2hTNcEHhehTuWUdfQbgehWfGlHpB7FG4dFlwgEH2KFxHcsVvQT0K17MwdmNBzczMXETpfUFxPQoHLCRjQfYoXFeXhmJBMzMzM90BZUEK16PwmJRwQZqZmat0E4VB7FG4hk0lZUFmZmby10N+Qc3MzDSE8WVBzczM2LafdEHNzMwM6fBfQSlcj4p5UmpBzczM1I1ZbUEfheuxIrdzQSlcj\\u002f7fOXVB7FG4ZgMgeUFxPQrjxn14QdejcLUu0XJB9ihcz96NX0G4HoV7TeZtQYXrUeBJXWNBPQrXWzXWYEEpXI+iQ7REQXE9Ct8cK21BPQrX4\\u002fYtUEGF61FoPLJnQVK4HvW7xVZBH4Xr9cNWdkFcj8IlKpBjQWZmZjas2F5BMzMz09ygZUFI4XqULiVdQUjhepRZF1NBUrgejbUjYEGuR+FKaI1lQWZmZibbBVNBKVyPckI+aUFSuB7l4V1ZQTMzM1MUsFFB7FG4DgMpdEEK16MAknRaQaRwPSoHi0lBMzMzG6EMYkE9CtfbLEFhQUjheoTPy1hBhetRaHWxU0GamZmpDgxUQZqZmUGMCWBBw\\u002fUorFduY0H2KFzPsd5qQTMzM7O9iE5BPQrXw28LXkE9CtcTVCFbQbgehQt9YlJB9ihcf9y+WEGuR+HyjQ1hQSlcj4Ig+lZBcT0KtzGVcUGamZkJs5dSQQrXo+CqjlFBUrgepeT2WEGPwvXIwm9lQfYoXF8Oq29B16NwDY+6V0GkcD2q8EJOQcP1KPyJGVFBPQrX44e2SEHhehRuwsVgQXsUrocFoE9BXI\\u002fChThNU0EpXI9C08tIQTMzM1OcMkpBAAAAaFxMZ0EK16MQkPhfQVyPwpWwx1hBXI\\u002fCpSyuaUGF61H4wetHQXE9CnczsVNBrkfhuqFnVkFxPQq\\u002foYFiQY\\u002fC9SiyvDhBmpmZOVTFXEHsUbjevVk0QVyPwoUfhFVB16NwPcEiT0HNzMz8V0FhQa5H4do90EZBXI\\u002fCxVgeUkGPwvW45QRSQa5H4TqgrlxBAAAAAHWNSkHXo3D9EftGQT0K1\\u002fOo1VxBUrgeBSifUEH2KFzPKqxVQZqZmSFvtGRBKVyPosoMRkHXo3Bd7VZIQcP1KMw2G1JBKVyPYt9IS0HD9Sh8KR1CQQrXo0DghWNBSOF6lPO7QkGamZnZBj9cQYXrURjGRVZBXI\\u002fC1TMNQEHNzMx8IWtUQY\\u002fC9QgGhVVBMzMzUz8SSEHNzMxcWE9UQQAAADBqGFdB16NwrZnPVUHD9ShMOhBbQXE9Cr\\u002fb0G1BKVyPgjYVTkGF61H4jVI6QbgehTszJVBBAAAAwCaCWUFSuB5lgxdUQc3MzOz+IV5BexSuR+eRRUGPwvWIGplTQZqZmdnk30NBMzMz49iLVUEAAADAD\\u002fBHQdejcB1l\\u002fUdBZmZmRn\\u002fhSkG4HoXry\\u002fgjQR+F61Fe2EpBAAAAcF0dUEEAAACw\\u002frJjQaRwPfqi8lhBPQrX47RQTUEfheux2IhTQTMzM5PAc0BBUrgeJS9JXUG4HoW7aWlZQdejcJ10ylVBcT0K\\u002f\\u002fZjYkEK16PgAlVYQZqZmdncmVRBKVyPghHuS0GkcD1KT01IQdejcE2w\\u002flBBAAAAgFoFS0FI4Xo04UFBQa5H4RKrPm1BCtej0HZ9U0GPwvXIy49cQaRwPWpJcVdB9ihcb0weV0HNzMysslNTQZqZmfneF0JBhetRmDvwRUGuR+E6SAQ4QVK4HmVOI0FBrkfhOkGyUkHsUbh+Hm5MQRSuR6G8LlNB7FG4vsaHSkF7FK4HHrY+QQrXoxADm1RBj8L1KMK7S0EUrkdB0BJQQQAAAEAOnEVBw\\u002fUoXMW9PUEAAADQinVdQSlcj2JW\\u002fFxBZmZm1hG8WUGuR+FKajNQQfYoXE8A2UdBzczMrNpoUkEzMzOjax5UQTMzMxOtCEBBUrgeRaPrUEGamZk5SLBCQeF6FE4ZAE5BMzMzM\\u002f75QkGF61E4iPQ0QVyPwhVvJ0xBj8L1iPI9WUGkcD0KthA5QbgehYsyjU1BexSud6uxVEEAAADgUc5UQZqZmRkErDpBhetR+PewRkHhehTudsJMQT0K11NDQmFBUrgeJW7jWkEAAAAAIIVPQQAAAGAr7lVBSOF6FMxCOkEUrkfBnt9IQVK4HoUyjy1BMzMzo2RSVkGkcD0qUHNEQXE9CpcPcURBzczMvNNgWEHD9SicjYg8QaRwPUqCxzBBSOF6VNFzS0H2KFyPpzMqQR+F61EI+TxBXI\\u002fCdUw5M0H2KFwPt5hEQRSuR6GngzVBw\\u002fUo3NCXTkG4HoXz8WxhQVK4HsVXCklBzczMjAAgR0EAAABAmXtWQaRwPfpPi1BBFK5HwaORSkHsUbim3vVhQdejcL0MOzJB9ihczxxAPEFxPQp3f49QQVyPwuXOnVNBCtejsLcgQkHXo3D9qK46QSlcj0IxCFdBexSuByqNPUFxPQrX5HNDQTMzM3PoHzxB7FG4rqbEUkGamZmZkj4tQT0K14PzAU5BH4Xrkd9LQEFxPQrXr1s8QSlcjyJQeUxBw\\u002fUoHPFnN0F7FK6HjGY5QVK4HqUTH0FBFK5HQWIfUEFmZmbmO2RHQcP1KDwBik9BSOF6BLv9WUEpXI+iIxVIQRSuR6FSzkxBw\\u002fUovKwUTUHD9ShcKnI2QUjhesQvyFFBUrgexZTWMkHNzMxMCrg7QWZmZoZCLU1BexSux\\u002fCbNEHNzMy8ULZQQVK4HsVb9ENBUrgexRPETUGuR+E6n1dLQVyPwpUQgU5BXI\\u002fC9Y9jLUGamZkpvp1bQWZmZqbzAjVB4XoUzpOyRkHD9Sgc6ApJQR+F6wG6glVBMzMzcw8UPUEpXI9C0sc6QT0K10Px8VFB4XoU7s7zVUEUrkeh7ig3QZqZmRnZkjJBAAAAEJKqUEHhehRuzLQyQQAAAHAOjFFBpHA9ivbFKkE9Ctejvxg+QTMzM7NJQ1JBw\\u002fUofK32SUFcj8I1KW9UQeF6FA44XE1BuB6Faw5iNEEfhevxcL9KQTMzM9P7DUJB7FG4HqL2MkFcj8L1\\u002frRFQXsUrsfv9jhBMzMzw2TWU0H2KFzvq1VGQcP1KJy3JjBBKVyPgofUNEGuR+G6OqFTQQrXo7C2xTlBZmZmRua+VUEpXI+Ca6Y9QVK4HqVez05BPQrXYzOVSUHXo3D9cgdIQbgehfua2VJBMzMz8\\u002fcBPkFmZmamNDAyQXsUrseQSzNBZmZmZjbhM0FI4XoUUcdAQa5H4bp6qjVBZmZmNqSaUUHsUbj+z2xFQeF6FO7yLzRBuB6FSz7TRkFcj8I1Dfw+QT0K16M2zlRBMzMz0x6CQEHD9SgchS1OQaRwPYpw3TdB4XoUDlz9SEEpXI9CHZA2QSlcj0KvIlFB7FG43j4fMEGamZnZ5o0wQcP1KAwqsFVBKVyPwtufOUEzMzPzAVA4QZqZmdnm4ERBXI\\u002fClex0TUGPwvXoWsU1QcP1KJyz6D9B16NwfXnbNkHD9SicTQ09QbgehWsyU0xBCtejEMwyQEHD9Sj8f6xNQSlcjwI0ZztBZmZm5nRHTkFmZmZGCKxBQQrXozC2KUdBrkfhukYWO0HsUbguAOFQQY\\u002fC9aguIT9BKVyPwpOPK0HhehQuydsnQc3MzJwajVdBSOF6VG\\u002f5REGkcD2KQMExQVyPwvU6gyRBUrgepW9lSEHXo3B9zAw8QSlcj\\u002fKgZFlBCtejMLrzTUGuR+F6LUUdQR+F61ErdT9BFK5HIXGySkEAAAAAN5NSQfYoXI8YFUxBw\\u002fUoXFIzMkHsUbgeEUcpQUjhelRhPjRBzczMTOhrOUHNzMzMaHwuQeF6FE50c0dB16Nw3T07TEHNzMyM5ihDQdejcH0uJERBSOF6lMIBSkE9Ctfj1gxKQbgehXvQ91xBFK5H4RHLJ0EK16OQGftKQZqZmRn8DihB7FG4nsmSM0GamZk5lZJIQTMzM7NL\\u002fElBexSuB2R2Q0HsUbi+nCxOQVyPwnXIKU9BuB6Fa7OXKEHNzMxM3vo\\u002fQWZmZqay0zhBMzMzswygLkHsUbieP4gtQaRwPQqZiElB4XoUbhp\\u002fQEGuR+GqgIJTQVyPwnU\\u002f5CNB4XoULs2sQEHXo3B9\\u002fstLQRSuR+GrREFBXI\\u002fCtS84MkHNzMwMS7JAQWZmZmaGAihBCtejUMZKQ0E9CtdjU680QT0K16O6DjhBrkfh2uuPQ0H2KFxP4PAxQbgehfv\\u002fYVBB9ihcD8i1OEEzMzOz0igpQY\\u002fC9ejYNUhBZmZmZi80NUFI4XqUmqRBQYXrUTggdi5BXI\\u002fCNUUGNkHhehSuJycyQVK4HsWMKUNBPQrXM1xXXkGuR+F682tAQfYoXA9\\u002fYSRBPQrX4406NEEpXI9Cdg0sQSlcjwIt3kRBSOF6lDSBMEEK16NwoQ7\\u002fQFyPwlWy+kJBXI\\u002fCNf8NM0H2KFyPftMvQZqZmRmakDJB9ihcbyk5SEGamZlZqLxBQVyPwrULsUJBH4XrUSmhNEEpXI+inKtRQRSuR0Hmj0xBPQrXw9QdQkHXo3CdQDRFQaRwPYpVaShBuB6F6zg1UkG4HoWrxhFGQSlcjyLnEkBBPQrXI03FLUFcj8J1+WFDQVK4HgUqOkBBUrgexc5WV0HXo3A9\\u002fXpOQYXrUfi\\u002f7TFBSOF61K4COUGPwvUI3R9EQa5H4bqk0zRBMzMzQ5laUEFSuB7FfKJBQQrXo5D0DkNBzczMzPVeTkHNzMxMa\\u002fU3QexRuJ6qwStBuB6Fa6t2L0E9CtfD8s5DQexRuB4JeElBUrgeBZDfS0FI4Xq0letCQUjhejTqFEFB4XoUrhSuNkHsUbgejzk8QbgehSvOcUNB7FG4HrKKN0HD9SjccEwhQY\\u002fC9YjakVNBuB6Fq9tVQUGkcD2KYcs7Qc3MzIzZLzBBH4Xr8Y9YRkGkcD0K2+MdQVK4HrXpXVBBPQrXo11lLUHXo3AdPApJQRSuR2FYJS9B9ihcD3pZL0FxPQq3OhBEQXsUrscYKCNBUrgepc4KRUGuR+F6HrsqQaRwPfpiM1ZBzczMTPymN0FSuB4FGecxQbgehRtLVFFBmpmZGe7MMEFmZmZmZl8kQcP1KFy0YiBBFK5HoYFJRkGamZnZmw44QVK4HuVe9EFBZmZmZiJFSUEAAAAALV8cQcP1KBzAIzhBuB6Fq3FVQEHsUbieYs5BQWZmZmaCBDtBcT0K1zyAJkGuR+GapINMQeF6FM77yUJBMzMzs5r0K0EUrkfhB5U1QR+F61HORzlBSOF61KkVNEFI4XqUX\\u002fkqQRSuR+FBeyRBSOF6VFWHOEFxPQo3dCFHQc3MzEx1zztBXI\\u002fC9ePXJ0HhehQuNPQzQcP1KBwJ0EpBFK5HIZokRkEUrkfhS9kxQUjhevQAYElBMzMzs8tDJEGuR+F6m0ErQc3MzGxwfkRBcT0KV+YSL0FmZmbm1KUiQSlcj2LxYk1BMzMzs\\u002foFRkG4HoUrb281QVK4HgX9niJBuB6Fa1tjQUFI4Xr0KFxCQYXrUbggaBxBMzMzM7GGREHXo3A937hAQXE9CheENDBBZmZm5hDTLEFI4XpU5cwzQR+F6yHX7VJBw\\u002fUofF1hQkEpXI\\u002fCZy0lQQrXo9DURENB7FG4fskhSEG4HoWrdURFQc3MzEyj0ixBcT0K13DdGUF7FK4H+ahEQbgehStnHEpBFK5HYSczIkHhehRu\\u002fGIwQc3MzMz6iDNBpHA9yn3uR0EAAABAXE44QQAAAICTj0NBPQrXQ0zESEEUrkdhsTcyQc3MzMwszipBUrgehYrNJkEzMzMzUSodQY\\u002fC9SirNCZBhetRuCo+OUH2KFyvn1FNQa5H4bpGzDBBAAAAgAEdM0GuR+H6U3oqQVyPwnW\\u002ffDRBcT0Kd2kEQUHNzMzMxFY7QZqZmdmQETBBzczMzJCxOkF7FK7HTEM\\u002fQUjhepTu70VBpHA9ir1mNUHhehSue3I6QSlcj0J8xj1BMzMzE0rNREFI4XpU1pU\\u002fQeF6FK7DtSxBrkfhevZ+IUF7FK7HnYItQR+F61EutytB7FG4fnVaQEFcj8L1ubQ9QXE9ChcpEUVBexSuR4qXO0GuR+F6aZ5FQfYoXA9royVBrkfh6hE0V0GPwvUo1m83QZqZmZlxfR9B16NwfTZLMkHhehTunL1IQR+F6xH\\u002f1TZBrkfhuuuLTEH2KFxv+utAQa5H4boBPkFBrkfh+n0FOEGPwvXoRU86QT0K16MyljVBMzMzc9O6QUEfhevRcNQ2QVK4HgXr4EBBhetROFaiIEEAAABAkV0yQVyPwjXGVD5BPQrXowRiNEEUrkdhGFQkQaRwPSqCQURBFK5H4VeqJEGuR+F6zfA\\u002fQQAAAIDjLjJB16NwPT68L0EUrkchy3o2QT0K1yNPxjhB16Nw3Q2DQUHsUbjeaZg8QYXrUfhUjzRBexSux7xXJUGamZmZbvs4QQrXozC+0z1BAAAAgB7WIEH2KFyPGUJBQQAAAGDod0xBmpmZuXvpSUGkcD2Km\\u002fBDQZqZmRlPDCBBpHA9Ch+mJ0Fcj8I1IqlFQfYoXG\\u002ft6URBhetROMz2JEFI4Xr0tTFEQexRuB4XNjBBAAAAQC+KQEHD9ShcuQBIQVyPwvVCYzdB4XoUrrOGIEEfhevx2IZGQdejcD2s+jBBH4XrUeMUJkF7FK6nqBdNQeF6FK4NeiRBmpmZmZd3JEFI4XqULKY9QcP1KBz6FjVB7FG4nvWzO0HhehTOCCRAQbgehauebj9BpHA9iswtPUEpXI\\u002fCAjFCQc3MzIx1AERBmpmZWemMPUF7FK5HAq4tQXE9CleuETBBmpmZGVdMP0FSuB6F4DciQdejcD0tXxxB4XoUrgNdRUGF61HYZRlCQRSuR4GcJkBBuB6Fa\\u002fV6IUGamZkZQsc1QVK4HoXiSCVBhetRGNhNTUFSuB4F75BBQWZmZuaIsjZBuB6FKwIDPEFmZmbmA2UrQWZmZqakGjpBUrgexQPuTUFSuB7l0a9BQRSuR6HB0ERB16NwvZstIkEpXI+CdetFQfYoXM+aWD1BzczMzLUDMEGkcD0KWs0wQaRwPQoVPTFBFK5HoXV1RkEpXI9CEggqQTMzM9MSGUZB9ihc72V0RkFmZmZm\\u002fqM7QVK4HoXO0iNBpHA9ijC9OkG4HoVrRCgmQR+F61HZgDhBzczMDCH6O0HNzMyM5joxQdejcB2jy0BB9ihcj2OcLUHNzMzM9vU9QUjhetTdwURBmpmZ+fRES0HXo3C9wLg0QYXrUTgod0BBpHA9yp4aPEGkcD2qbH5DQQAAAMDpnzFBhetROLagIEEfhevRf\\u002fggQeF6FC77KCBBH4XrkRwaPEHXo3C9FjInQUjhepRCxD5BMzMzs3iWOEGF61G4jFEhQeF6FC49ayZBXI\\u002fCdTrWMEEAAACA2OokQeF6FC4YrTJBPQrXo4ZMNEF7FK7H4Fo0QfYoXI+k5SlBMzMzM0DRG0FSuB4FlgRCQRSuR2Gf+ShBzczMTPeOKEE9CtejtxIeQZqZmVlubEJBCtejcHXhIUGF61F4udo8QbgehaunojVBuB6FSz+vQ0GamZmZOO4eQRSuR6HBXD1Bw\\u002fUoPGRVTkG4HoXrpz1KQaRwPQrAPzRBj8L16PCyNkEK16NwUxlEQcP1KJyan0ZBzczMzNeRE0HhehTO4ilGQT0K1yO95SxBexSuh9C2NEEpXI8CQKM+QVyPwnUU6ydBPQrXoyXSQUGF61GYcgFEQXE9ChdixTRBexSuJ4tKR0GPwvUostQoQTMzM3O8fjpBUrgeBQqaJkFxPQrXgzMdQa5H4brouT1B9ihczwszNEHsUbge1O9DQYXrUdi5vURB16NwPSuFMUEUrkchlDozQa5H4bq+\\u002f0tBhetR2KbFRUHD9SgcLwg6QSlcj+LBeUNBrkfhekfTIEGPwvWorWpHQT0K1yOpmSFBuB6Fy5A3SUGuR+EaWMhGQXE9CteTqSJBzczMDBDmOUHsUbieogsrQfYoXI8+djlBzczMzOC+LUHhehSuPt4\\u002fQYXrUTiOby1BAAAAIGGyQUEzMzMzUIQrQQrXo3ATsi9BCtejcPAJRkGF61G4+XQsQXE9CtcjZ0RBH4XrETUzQEFI4XoUAJwgQQAAAIB83S9BZmZmxpOrQkFSuB6FfURDQR+F61EiqhtB9ihcj9IJMkHXo3A9atb8QD0K1yMuRzBBj8L1yL8NTEEzMzMzqFs5QZqZmVkL9DNB16Nwve+ILEFmZmbG9i5RQTMzM3PIzTNBZmZmpmczQUGuR+Faf3hGQUjhetQqCTBB7FG43jY8OUGamZmZsu1CQWZmZgYoHUFBFK5HoSr+OEHD9ShctD0dQTMzMzON1zdBCtejcGYZJEFSuB6FU1QeQSlcj8IDxhxB16NwPch9F0HsUbhe5c06QVyPwnURxj9BXI\\u002fC9R7GL0EzMzMzFUkdQXE9ClfutSJBCtej8GgrIUGuR+G6VC08QVyPwvWITxlBFK5H4UM2J0GuR+H6qJ0tQc3MzAzBADNBCtejcPYgQ0EK16Mw8CtAQXE9CjeNeUlBw\\u002fUoXAJ7KkEUrkfhZus\\u002fQXE9Cpd70DJBUrgehQnGHEHXo3C9miEjQXsUrqdAS09BH4XrEYhyOkEfhetRdCAyQT0K12P5zjZB16NwvRavI0FI4XpU6tc5QVK4HiXzN09Brkfh+r47NUFmZmbme6MgQaRwPUpzj0ZBhetReJWmOEEAAAAAU2cnQcP1KNwMESdBCtej8MsCLUGF61F4DQ0\\u002fQXsUrkdNYjdBFK5HIZm2MkG4HoXrfJIiQQrXo3C5vjVBXI\\u002fCdW3RMkGamZlZEaY+QUjhetRyc0lBhetRuFGWQUFmZmYG0nFKQY\\u002fC9ShXljRBMzMzM0rxK0GkcD3KPc0wQexRuB6COyhBKVyPQgLTL0H2KFwPSOsvQcP1KNySJjhB16NwvTdEP0EpXI+CoGs5QRSuR0HSsUdB4XoUrrECQEFcj8I1\\u002fRJBQRSuR+EPsjBBrkfh+sK2P0GamZnZD+cyQVK4HoVvnyJBXI\\u002fC9d6tKEFxPQrXmbQZQbgehWsyAjNBMzMzsxlBJkEUrkfhDwo7QdejcL20CShBhetROIogLEGPwvWoyQ4sQQAAAADqailBrkfh+saVIEGPwvXo82IxQQAAAAA2QTFBAAAAANAVHkHsUbgepm4dQQrXo\\u002fCZ1SFB9ihcTx6kMkE9CtfjtUg\\u002fQbgeheutsi9BuB6FaxFyMkGkcD1q54ZCQXE9CtcnpxpBMzMzs8fXJkEUrkeB91hAQWZmZuY\\u002fOiBBhetR+FUHOkEpXI9CBs8mQbgehWtLfTJBj8L1aHwxOUEpXI9CSnAzQT0K12MIHTJBFK5HQXztSUE9CtejdgA8QXsUrkfMFyFBH4XrUebgFUEK16Nw6Ss8QRSuR+ELRyBBZmZmJpu+PkEzMzMzXvk5QbgehWunPUdBzczMzFB7FkHNzMxMmy1GQaRwPYrkQyFBFK5H4ZupKkEfhevRDuItQWZmZmYsvSZBrkfhOnd6NUFxPQp3IIVPQYXrUTiWuzVBH4Xr0aNAN0HsUbgepng\\u002fQTMzM7ORNzJBFK5HYc+CNUGamZmZJW4TQcP1KFwjWBxBrkfhemwXPEFxPQpXWokoQeF6FK7t1RFBzczMTN3PMEFSuB7FpUcwQc3MzMzQGjVBzczMjJK3MEFmZmZmanwaQcP1KFykDCJBUrgeRVXGPEHXo3C9YagjQc3MzExolD1B7FG4nmBqI0E9Ctcjq4oqQWZmZqZZSTFBzczMTDLxM0HhehSudZw3QR+F65EZWztBrkfhemYDEkE9Ctfj5Qo5QR+F61GyqDlBhetROMPeNEGPwvUoEkE6QXsUrsejNC5BKVyPgnNDMEHNzMxMeqQhQQrXo7Ab4TpBKVyPguwjREHhehQuvOYpQQAAAIBLNTtBuB6Fa\\u002f1kPkHNzMxMVBUyQXsUrkeARDJBXI\\u002fC9YbmP0GPwvWorQc7QZqZmRkg90xBpHA9yu3jMkHhehQuWZg3QbgehSsWaDBB7FG4HiOgKkG4HoXLdztDQY\\u002fC9Wg3YzFBSOF6FDVGKUGuR+F6J\\u002fgcQVK4HsUvGz1BH4XrUXaKPUFI4XqUq0xDQbgehevjiDhBj8L1aM99PUG4HoXrty0kQc3MzGyX7UNBPQrX4+xCMkHsUbgeiyUrQY\\u002fC9ag6RiVBAAAAgOzSMEFI4XpU891DQT0K16PmpBpBXI\\u002fC9U3SNkG4HoXrTWgtQR+F69HtFjBBMzMzs3U+MUFmZmYmNjU9QR+F63ETkUBBH4Xr0Z74N0EUrkdhhuQqQdejcP1nBTZBPQrXIz44MEFSuB5lieBAQR+F61EkzChBH4XrUc0LN0EpXI\\u002fCVqQhQRSuR6E7UDJBFK5HYSIkIUH2KFxvQ01CQT0K16PQdTRBexSup3B4QUFmZmZmIrAFQQAAAADERTJBSOF6VKdtMUGPwvUoj5YdQXsUrkcHvx5BKVyPQoXWMkH2KFxPc\\u002fo1QQAAAIApIjdBSOF6FGvnL0GuR+F6CqIkQQrXo3CT5RpB7FG4HuQlMEEAAAAAshsYQR+F65F9mzlBH4XrEd32M0FmZmamaDM4QeF6FG4nYTFBCtejsHEQMEGkcD0KSTcpQc3MzMwSIzRBhetROPbGK0E=\"},\"yaxis\":\"y\",\"type\":\"scatter\"}],                        {\"template\":{\"data\":{\"histogram2dcontour\":[{\"type\":\"histogram2dcontour\",\"colorbar\":{\"outlinewidth\":0,\"ticks\":\"\"},\"colorscale\":[[0.0,\"#0d0887\"],[0.1111111111111111,\"#46039f\"],[0.2222222222222222,\"#7201a8\"],[0.3333333333333333,\"#9c179e\"],[0.4444444444444444,\"#bd3786\"],[0.5555555555555556,\"#d8576b\"],[0.6666666666666666,\"#ed7953\"],[0.7777777777777778,\"#fb9f3a\"],[0.8888888888888888,\"#fdca26\"],[1.0,\"#f0f921\"]]}],\"choropleth\":[{\"type\":\"choropleth\",\"colorbar\":{\"outlinewidth\":0,\"ticks\":\"\"}}],\"histogram2d\":[{\"type\":\"histogram2d\",\"colorbar\":{\"outlinewidth\":0,\"ticks\":\"\"},\"colorscale\":[[0.0,\"#0d0887\"],[0.1111111111111111,\"#46039f\"],[0.2222222222222222,\"#7201a8\"],[0.3333333333333333,\"#9c179e\"],[0.4444444444444444,\"#bd3786\"],[0.5555555555555556,\"#d8576b\"],[0.6666666666666666,\"#ed7953\"],[0.7777777777777778,\"#fb9f3a\"],[0.8888888888888888,\"#fdca26\"],[1.0,\"#f0f921\"]]}],\"heatmap\":[{\"type\":\"heatmap\",\"colorbar\":{\"outlinewidth\":0,\"ticks\":\"\"},\"colorscale\":[[0.0,\"#0d0887\"],[0.1111111111111111,\"#46039f\"],[0.2222222222222222,\"#7201a8\"],[0.3333333333333333,\"#9c179e\"],[0.4444444444444444,\"#bd3786\"],[0.5555555555555556,\"#d8576b\"],[0.6666666666666666,\"#ed7953\"],[0.7777777777777778,\"#fb9f3a\"],[0.8888888888888888,\"#fdca26\"],[1.0,\"#f0f921\"]]}],\"contourcarpet\":[{\"type\":\"contourcarpet\",\"colorbar\":{\"outlinewidth\":0,\"ticks\":\"\"}}],\"contour\":[{\"type\":\"contour\",\"colorbar\":{\"outlinewidth\":0,\"ticks\":\"\"},\"colorscale\":[[0.0,\"#0d0887\"],[0.1111111111111111,\"#46039f\"],[0.2222222222222222,\"#7201a8\"],[0.3333333333333333,\"#9c179e\"],[0.4444444444444444,\"#bd3786\"],[0.5555555555555556,\"#d8576b\"],[0.6666666666666666,\"#ed7953\"],[0.7777777777777778,\"#fb9f3a\"],[0.8888888888888888,\"#fdca26\"],[1.0,\"#f0f921\"]]}],\"surface\":[{\"type\":\"surface\",\"colorbar\":{\"outlinewidth\":0,\"ticks\":\"\"},\"colorscale\":[[0.0,\"#0d0887\"],[0.1111111111111111,\"#46039f\"],[0.2222222222222222,\"#7201a8\"],[0.3333333333333333,\"#9c179e\"],[0.4444444444444444,\"#bd3786\"],[0.5555555555555556,\"#d8576b\"],[0.6666666666666666,\"#ed7953\"],[0.7777777777777778,\"#fb9f3a\"],[0.8888888888888888,\"#fdca26\"],[1.0,\"#f0f921\"]]}],\"mesh3d\":[{\"type\":\"mesh3d\",\"colorbar\":{\"outlinewidth\":0,\"ticks\":\"\"}}],\"scatter\":[{\"fillpattern\":{\"fillmode\":\"overlay\",\"size\":10,\"solidity\":0.2},\"type\":\"scatter\"}],\"parcoords\":[{\"type\":\"parcoords\",\"line\":{\"colorbar\":{\"outlinewidth\":0,\"ticks\":\"\"}}}],\"scatterpolargl\":[{\"type\":\"scatterpolargl\",\"marker\":{\"colorbar\":{\"outlinewidth\":0,\"ticks\":\"\"}}}],\"bar\":[{\"error_x\":{\"color\":\"#2a3f5f\"},\"error_y\":{\"color\":\"#2a3f5f\"},\"marker\":{\"line\":{\"color\":\"#E5ECF6\",\"width\":0.5},\"pattern\":{\"fillmode\":\"overlay\",\"size\":10,\"solidity\":0.2}},\"type\":\"bar\"}],\"scattergeo\":[{\"type\":\"scattergeo\",\"marker\":{\"colorbar\":{\"outlinewidth\":0,\"ticks\":\"\"}}}],\"scatterpolar\":[{\"type\":\"scatterpolar\",\"marker\":{\"colorbar\":{\"outlinewidth\":0,\"ticks\":\"\"}}}],\"histogram\":[{\"marker\":{\"pattern\":{\"fillmode\":\"overlay\",\"size\":10,\"solidity\":0.2}},\"type\":\"histogram\"}],\"scattergl\":[{\"type\":\"scattergl\",\"marker\":{\"colorbar\":{\"outlinewidth\":0,\"ticks\":\"\"}}}],\"scatter3d\":[{\"type\":\"scatter3d\",\"line\":{\"colorbar\":{\"outlinewidth\":0,\"ticks\":\"\"}},\"marker\":{\"colorbar\":{\"outlinewidth\":0,\"ticks\":\"\"}}}],\"scattermap\":[{\"type\":\"scattermap\",\"marker\":{\"colorbar\":{\"outlinewidth\":0,\"ticks\":\"\"}}}],\"scattermapbox\":[{\"type\":\"scattermapbox\",\"marker\":{\"colorbar\":{\"outlinewidth\":0,\"ticks\":\"\"}}}],\"scatterternary\":[{\"type\":\"scatterternary\",\"marker\":{\"colorbar\":{\"outlinewidth\":0,\"ticks\":\"\"}}}],\"scattercarpet\":[{\"type\":\"scattercarpet\",\"marker\":{\"colorbar\":{\"outlinewidth\":0,\"ticks\":\"\"}}}],\"carpet\":[{\"aaxis\":{\"endlinecolor\":\"#2a3f5f\",\"gridcolor\":\"white\",\"linecolor\":\"white\",\"minorgridcolor\":\"white\",\"startlinecolor\":\"#2a3f5f\"},\"baxis\":{\"endlinecolor\":\"#2a3f5f\",\"gridcolor\":\"white\",\"linecolor\":\"white\",\"minorgridcolor\":\"white\",\"startlinecolor\":\"#2a3f5f\"},\"type\":\"carpet\"}],\"table\":[{\"cells\":{\"fill\":{\"color\":\"#EBF0F8\"},\"line\":{\"color\":\"white\"}},\"header\":{\"fill\":{\"color\":\"#C8D4E3\"},\"line\":{\"color\":\"white\"}},\"type\":\"table\"}],\"barpolar\":[{\"marker\":{\"line\":{\"color\":\"#E5ECF6\",\"width\":0.5},\"pattern\":{\"fillmode\":\"overlay\",\"size\":10,\"solidity\":0.2}},\"type\":\"barpolar\"}],\"pie\":[{\"automargin\":true,\"type\":\"pie\"}]},\"layout\":{\"autotypenumbers\":\"strict\",\"colorway\":[\"#636efa\",\"#EF553B\",\"#00cc96\",\"#ab63fa\",\"#FFA15A\",\"#19d3f3\",\"#FF6692\",\"#B6E880\",\"#FF97FF\",\"#FECB52\"],\"font\":{\"color\":\"#2a3f5f\"},\"hovermode\":\"closest\",\"hoverlabel\":{\"align\":\"left\"},\"paper_bgcolor\":\"white\",\"plot_bgcolor\":\"#E5ECF6\",\"polar\":{\"bgcolor\":\"#E5ECF6\",\"angularaxis\":{\"gridcolor\":\"white\",\"linecolor\":\"white\",\"ticks\":\"\"},\"radialaxis\":{\"gridcolor\":\"white\",\"linecolor\":\"white\",\"ticks\":\"\"}},\"ternary\":{\"bgcolor\":\"#E5ECF6\",\"aaxis\":{\"gridcolor\":\"white\",\"linecolor\":\"white\",\"ticks\":\"\"},\"baxis\":{\"gridcolor\":\"white\",\"linecolor\":\"white\",\"ticks\":\"\"},\"caxis\":{\"gridcolor\":\"white\",\"linecolor\":\"white\",\"ticks\":\"\"}},\"coloraxis\":{\"colorbar\":{\"outlinewidth\":0,\"ticks\":\"\"}},\"colorscale\":{\"sequential\":[[0.0,\"#0d0887\"],[0.1111111111111111,\"#46039f\"],[0.2222222222222222,\"#7201a8\"],[0.3333333333333333,\"#9c179e\"],[0.4444444444444444,\"#bd3786\"],[0.5555555555555556,\"#d8576b\"],[0.6666666666666666,\"#ed7953\"],[0.7777777777777778,\"#fb9f3a\"],[0.8888888888888888,\"#fdca26\"],[1.0,\"#f0f921\"]],\"sequentialminus\":[[0.0,\"#0d0887\"],[0.1111111111111111,\"#46039f\"],[0.2222222222222222,\"#7201a8\"],[0.3333333333333333,\"#9c179e\"],[0.4444444444444444,\"#bd3786\"],[0.5555555555555556,\"#d8576b\"],[0.6666666666666666,\"#ed7953\"],[0.7777777777777778,\"#fb9f3a\"],[0.8888888888888888,\"#fdca26\"],[1.0,\"#f0f921\"]],\"diverging\":[[0,\"#8e0152\"],[0.1,\"#c51b7d\"],[0.2,\"#de77ae\"],[0.3,\"#f1b6da\"],[0.4,\"#fde0ef\"],[0.5,\"#f7f7f7\"],[0.6,\"#e6f5d0\"],[0.7,\"#b8e186\"],[0.8,\"#7fbc41\"],[0.9,\"#4d9221\"],[1,\"#276419\"]]},\"xaxis\":{\"gridcolor\":\"white\",\"linecolor\":\"white\",\"ticks\":\"\",\"title\":{\"standoff\":15},\"zerolinecolor\":\"white\",\"automargin\":true,\"zerolinewidth\":2},\"yaxis\":{\"gridcolor\":\"white\",\"linecolor\":\"white\",\"ticks\":\"\",\"title\":{\"standoff\":15},\"zerolinecolor\":\"white\",\"automargin\":true,\"zerolinewidth\":2},\"scene\":{\"xaxis\":{\"backgroundcolor\":\"#E5ECF6\",\"gridcolor\":\"white\",\"linecolor\":\"white\",\"showbackground\":true,\"ticks\":\"\",\"zerolinecolor\":\"white\",\"gridwidth\":2},\"yaxis\":{\"backgroundcolor\":\"#E5ECF6\",\"gridcolor\":\"white\",\"linecolor\":\"white\",\"showbackground\":true,\"ticks\":\"\",\"zerolinecolor\":\"white\",\"gridwidth\":2},\"zaxis\":{\"backgroundcolor\":\"#E5ECF6\",\"gridcolor\":\"white\",\"linecolor\":\"white\",\"showbackground\":true,\"ticks\":\"\",\"zerolinecolor\":\"white\",\"gridwidth\":2}},\"shapedefaults\":{\"line\":{\"color\":\"#2a3f5f\"}},\"annotationdefaults\":{\"arrowcolor\":\"#2a3f5f\",\"arrowhead\":0,\"arrowwidth\":1},\"geo\":{\"bgcolor\":\"white\",\"landcolor\":\"#E5ECF6\",\"subunitcolor\":\"white\",\"showland\":true,\"showlakes\":true,\"lakecolor\":\"white\"},\"title\":{\"x\":0.05},\"mapbox\":{\"style\":\"light\"}}},\"xaxis\":{\"anchor\":\"y\",\"domain\":[0.0,1.0],\"title\":{\"text\":\"population\"}},\"yaxis\":{\"anchor\":\"x\",\"domain\":[0.0,1.0],\"title\":{\"text\":\"car_len_m\"}},\"legend\":{\"tracegroupgap\":0},\"title\":{\"text\":\"Population vs Car Network Length\"}},                        {\"responsive\": true}                    )                };            </script>        </div>"
      ],
      "text/plain": [
       "Figure({\n",
       "    'data': [{'hovertemplate': '<b>%{hovertext}</b><br><br>population=%{x}<br>car_len_m=%{y}<extra></extra>',\n",
       "              'hovertext': array(['Shanghai', 'Beijing', 'Shenzhen', ..., 'Ulanqab', 'Ajegunle',\n",
       "                                  'Pristina'], shape=(1000,), dtype=object),\n",
       "              'legendgroup': '',\n",
       "              'marker': {'color': '#636efa', 'symbol': 'circle'},\n",
       "              'mode': 'markers',\n",
       "              'name': '',\n",
       "              'orientation': 'v',\n",
       "              'showlegend': False,\n",
       "              'type': 'scatter',\n",
       "              'x': {'bdata': ('BI57AWhRIQF+8QoB1J31AAAk9ABilu' ... 'CkZggAKGYIAFdlCABwZAgAcGQIAA=='),\n",
       "                    'dtype': 'i4'},\n",
       "              'xaxis': 'x',\n",
       "              'y': {'bdata': ('UrgeddhHa0GamZkNRBhwQfYoXC9Bn2' ... '0KSTcpQc3MzMwSIzRBhetROPbGK0E='),\n",
       "                    'dtype': 'f8'},\n",
       "              'yaxis': 'y'}],\n",
       "    'layout': {'legend': {'tracegroupgap': 0},\n",
       "               'template': '...',\n",
       "               'title': {'text': 'Population vs Car Network Length'},\n",
       "               'xaxis': {'anchor': 'y', 'domain': [0.0, 1.0], 'title': {'text': 'population'}},\n",
       "               'yaxis': {'anchor': 'x', 'domain': [0.0, 1.0], 'title': {'text': 'car_len_m'}}}\n",
       "})"
      ]
     },
     "execution_count": 4,
     "metadata": {},
     "output_type": "execute_result"
    }
   ],
   "source": [
    "px.scatter(df, x='population', y='car_len_m', hover_name='city', title='Population vs Car Network Length')"
   ]
  },
  {
   "cell_type": "markdown",
   "id": "48f3bf48",
   "metadata": {},
   "source": [
    "## Bar Chart: Top 10 Cities by Sidewalk Length"
   ]
  },
  {
   "cell_type": "code",
   "execution_count": 5,
   "id": "9b37c16a",
   "metadata": {},
   "outputs": [
    {
     "ename": "ValueError",
     "evalue": "Mime type rendering requires nbformat>=4.2.0 but it is not installed",
     "output_type": "error",
     "traceback": [
      "\u001b[31m---------------------------------------------------------------------------\u001b[39m",
      "\u001b[31mValueError\u001b[39m                                Traceback (most recent call last)",
      "\u001b[36mFile \u001b[39m\u001b[32m~/sidewalk_analysis/.venv/lib/python3.12/site-packages/IPython/core/formatters.py:984\u001b[39m, in \u001b[36mIPythonDisplayFormatter.__call__\u001b[39m\u001b[34m(self, obj)\u001b[39m\n\u001b[32m    982\u001b[39m method = get_real_method(obj, \u001b[38;5;28mself\u001b[39m.print_method)\n\u001b[32m    983\u001b[39m \u001b[38;5;28;01mif\u001b[39;00m method \u001b[38;5;129;01mis\u001b[39;00m \u001b[38;5;129;01mnot\u001b[39;00m \u001b[38;5;28;01mNone\u001b[39;00m:\n\u001b[32m--> \u001b[39m\u001b[32m984\u001b[39m     \u001b[43mmethod\u001b[49m\u001b[43m(\u001b[49m\u001b[43m)\u001b[49m\n\u001b[32m    985\u001b[39m     \u001b[38;5;28;01mreturn\u001b[39;00m \u001b[38;5;28;01mTrue\u001b[39;00m\n",
      "\u001b[36mFile \u001b[39m\u001b[32m~/sidewalk_analysis/.venv/lib/python3.12/site-packages/plotly/basedatatypes.py:850\u001b[39m, in \u001b[36mBaseFigure._ipython_display_\u001b[39m\u001b[34m(self)\u001b[39m\n\u001b[32m    847\u001b[39m \u001b[38;5;28;01mimport\u001b[39;00m\u001b[38;5;250m \u001b[39m\u001b[34;01mplotly\u001b[39;00m\u001b[34;01m.\u001b[39;00m\u001b[34;01mio\u001b[39;00m\u001b[38;5;250m \u001b[39m\u001b[38;5;28;01mas\u001b[39;00m\u001b[38;5;250m \u001b[39m\u001b[34;01mpio\u001b[39;00m\n\u001b[32m    849\u001b[39m \u001b[38;5;28;01mif\u001b[39;00m pio.renderers.render_on_display \u001b[38;5;129;01mand\u001b[39;00m pio.renderers.default:\n\u001b[32m--> \u001b[39m\u001b[32m850\u001b[39m     \u001b[43mpio\u001b[49m\u001b[43m.\u001b[49m\u001b[43mshow\u001b[49m\u001b[43m(\u001b[49m\u001b[38;5;28;43mself\u001b[39;49m\u001b[43m)\u001b[49m\n\u001b[32m    851\u001b[39m \u001b[38;5;28;01melse\u001b[39;00m:\n\u001b[32m    852\u001b[39m     \u001b[38;5;28mprint\u001b[39m(\u001b[38;5;28mrepr\u001b[39m(\u001b[38;5;28mself\u001b[39m))\n",
      "\u001b[36mFile \u001b[39m\u001b[32m~/sidewalk_analysis/.venv/lib/python3.12/site-packages/plotly/io/_renderers.py:415\u001b[39m, in \u001b[36mshow\u001b[39m\u001b[34m(fig, renderer, validate, **kwargs)\u001b[39m\n\u001b[32m    410\u001b[39m     \u001b[38;5;28;01mraise\u001b[39;00m \u001b[38;5;167;01mValueError\u001b[39;00m(\n\u001b[32m    411\u001b[39m         \u001b[33m\"\u001b[39m\u001b[33mMime type rendering requires ipython but it is not installed\u001b[39m\u001b[33m\"\u001b[39m\n\u001b[32m    412\u001b[39m     )\n\u001b[32m    414\u001b[39m \u001b[38;5;28;01mif\u001b[39;00m \u001b[38;5;129;01mnot\u001b[39;00m nbformat \u001b[38;5;129;01mor\u001b[39;00m Version(nbformat.__version__) < Version(\u001b[33m\"\u001b[39m\u001b[33m4.2.0\u001b[39m\u001b[33m\"\u001b[39m):\n\u001b[32m--> \u001b[39m\u001b[32m415\u001b[39m     \u001b[38;5;28;01mraise\u001b[39;00m \u001b[38;5;167;01mValueError\u001b[39;00m(\n\u001b[32m    416\u001b[39m         \u001b[33m\"\u001b[39m\u001b[33mMime type rendering requires nbformat>=4.2.0 but it is not installed\u001b[39m\u001b[33m\"\u001b[39m\n\u001b[32m    417\u001b[39m     )\n\u001b[32m    419\u001b[39m display_jupyter_version_warnings()\n\u001b[32m    421\u001b[39m ipython_display.display(bundle, raw=\u001b[38;5;28;01mTrue\u001b[39;00m)\n",
      "\u001b[31mValueError\u001b[39m: Mime type rendering requires nbformat>=4.2.0 but it is not installed"
     ]
    },
    {
     "data": {
      "application/vnd.plotly.v1+json": {
       "config": {
        "plotlyServerURL": "https://plot.ly"
       },
       "data": [
        {
         "hovertemplate": "city=%{x}<br>sidewalk_len_m=%{y}<extra></extra>",
         "legendgroup": "",
         "marker": {
          "color": "#636efa",
          "pattern": {
           "shape": ""
          }
         },
         "name": "",
         "orientation": "v",
         "showlegend": false,
         "textposition": "auto",
         "type": "bar",
         "x": [
          "New York City",
          "Melbourne",
          "Brooklyn",
          "Queens",
          "Chicago",
          "Tokyo",
          "Berlin",
          "Manhattan",
          "Toronto",
          "Montréal"
         ],
         "xaxis": "x",
         "y": {
          "bdata": "H4XriSJVcEH2KFz/qCJoQcP1KKSF52VBUrgepTAeY0GF61FASxViQT0K10N4wl1BH4XrYWdOWkE9CtfDCu5XQcP1KEwzz1NBUrgetTDWUkE=",
          "dtype": "f8"
         },
         "yaxis": "y"
        }
       ],
       "layout": {
        "barmode": "relative",
        "legend": {
         "tracegroupgap": 0
        },
        "template": {
         "data": {
          "bar": [
           {
            "error_x": {
             "color": "#2a3f5f"
            },
            "error_y": {
             "color": "#2a3f5f"
            },
            "marker": {
             "line": {
              "color": "#E5ECF6",
              "width": 0.5
             },
             "pattern": {
              "fillmode": "overlay",
              "size": 10,
              "solidity": 0.2
             }
            },
            "type": "bar"
           }
          ],
          "barpolar": [
           {
            "marker": {
             "line": {
              "color": "#E5ECF6",
              "width": 0.5
             },
             "pattern": {
              "fillmode": "overlay",
              "size": 10,
              "solidity": 0.2
             }
            },
            "type": "barpolar"
           }
          ],
          "carpet": [
           {
            "aaxis": {
             "endlinecolor": "#2a3f5f",
             "gridcolor": "white",
             "linecolor": "white",
             "minorgridcolor": "white",
             "startlinecolor": "#2a3f5f"
            },
            "baxis": {
             "endlinecolor": "#2a3f5f",
             "gridcolor": "white",
             "linecolor": "white",
             "minorgridcolor": "white",
             "startlinecolor": "#2a3f5f"
            },
            "type": "carpet"
           }
          ],
          "choropleth": [
           {
            "colorbar": {
             "outlinewidth": 0,
             "ticks": ""
            },
            "type": "choropleth"
           }
          ],
          "contour": [
           {
            "colorbar": {
             "outlinewidth": 0,
             "ticks": ""
            },
            "colorscale": [
             [
              0,
              "#0d0887"
             ],
             [
              0.1111111111111111,
              "#46039f"
             ],
             [
              0.2222222222222222,
              "#7201a8"
             ],
             [
              0.3333333333333333,
              "#9c179e"
             ],
             [
              0.4444444444444444,
              "#bd3786"
             ],
             [
              0.5555555555555556,
              "#d8576b"
             ],
             [
              0.6666666666666666,
              "#ed7953"
             ],
             [
              0.7777777777777778,
              "#fb9f3a"
             ],
             [
              0.8888888888888888,
              "#fdca26"
             ],
             [
              1,
              "#f0f921"
             ]
            ],
            "type": "contour"
           }
          ],
          "contourcarpet": [
           {
            "colorbar": {
             "outlinewidth": 0,
             "ticks": ""
            },
            "type": "contourcarpet"
           }
          ],
          "heatmap": [
           {
            "colorbar": {
             "outlinewidth": 0,
             "ticks": ""
            },
            "colorscale": [
             [
              0,
              "#0d0887"
             ],
             [
              0.1111111111111111,
              "#46039f"
             ],
             [
              0.2222222222222222,
              "#7201a8"
             ],
             [
              0.3333333333333333,
              "#9c179e"
             ],
             [
              0.4444444444444444,
              "#bd3786"
             ],
             [
              0.5555555555555556,
              "#d8576b"
             ],
             [
              0.6666666666666666,
              "#ed7953"
             ],
             [
              0.7777777777777778,
              "#fb9f3a"
             ],
             [
              0.8888888888888888,
              "#fdca26"
             ],
             [
              1,
              "#f0f921"
             ]
            ],
            "type": "heatmap"
           }
          ],
          "histogram": [
           {
            "marker": {
             "pattern": {
              "fillmode": "overlay",
              "size": 10,
              "solidity": 0.2
             }
            },
            "type": "histogram"
           }
          ],
          "histogram2d": [
           {
            "colorbar": {
             "outlinewidth": 0,
             "ticks": ""
            },
            "colorscale": [
             [
              0,
              "#0d0887"
             ],
             [
              0.1111111111111111,
              "#46039f"
             ],
             [
              0.2222222222222222,
              "#7201a8"
             ],
             [
              0.3333333333333333,
              "#9c179e"
             ],
             [
              0.4444444444444444,
              "#bd3786"
             ],
             [
              0.5555555555555556,
              "#d8576b"
             ],
             [
              0.6666666666666666,
              "#ed7953"
             ],
             [
              0.7777777777777778,
              "#fb9f3a"
             ],
             [
              0.8888888888888888,
              "#fdca26"
             ],
             [
              1,
              "#f0f921"
             ]
            ],
            "type": "histogram2d"
           }
          ],
          "histogram2dcontour": [
           {
            "colorbar": {
             "outlinewidth": 0,
             "ticks": ""
            },
            "colorscale": [
             [
              0,
              "#0d0887"
             ],
             [
              0.1111111111111111,
              "#46039f"
             ],
             [
              0.2222222222222222,
              "#7201a8"
             ],
             [
              0.3333333333333333,
              "#9c179e"
             ],
             [
              0.4444444444444444,
              "#bd3786"
             ],
             [
              0.5555555555555556,
              "#d8576b"
             ],
             [
              0.6666666666666666,
              "#ed7953"
             ],
             [
              0.7777777777777778,
              "#fb9f3a"
             ],
             [
              0.8888888888888888,
              "#fdca26"
             ],
             [
              1,
              "#f0f921"
             ]
            ],
            "type": "histogram2dcontour"
           }
          ],
          "mesh3d": [
           {
            "colorbar": {
             "outlinewidth": 0,
             "ticks": ""
            },
            "type": "mesh3d"
           }
          ],
          "parcoords": [
           {
            "line": {
             "colorbar": {
              "outlinewidth": 0,
              "ticks": ""
             }
            },
            "type": "parcoords"
           }
          ],
          "pie": [
           {
            "automargin": true,
            "type": "pie"
           }
          ],
          "scatter": [
           {
            "fillpattern": {
             "fillmode": "overlay",
             "size": 10,
             "solidity": 0.2
            },
            "type": "scatter"
           }
          ],
          "scatter3d": [
           {
            "line": {
             "colorbar": {
              "outlinewidth": 0,
              "ticks": ""
             }
            },
            "marker": {
             "colorbar": {
              "outlinewidth": 0,
              "ticks": ""
             }
            },
            "type": "scatter3d"
           }
          ],
          "scattercarpet": [
           {
            "marker": {
             "colorbar": {
              "outlinewidth": 0,
              "ticks": ""
             }
            },
            "type": "scattercarpet"
           }
          ],
          "scattergeo": [
           {
            "marker": {
             "colorbar": {
              "outlinewidth": 0,
              "ticks": ""
             }
            },
            "type": "scattergeo"
           }
          ],
          "scattergl": [
           {
            "marker": {
             "colorbar": {
              "outlinewidth": 0,
              "ticks": ""
             }
            },
            "type": "scattergl"
           }
          ],
          "scattermap": [
           {
            "marker": {
             "colorbar": {
              "outlinewidth": 0,
              "ticks": ""
             }
            },
            "type": "scattermap"
           }
          ],
          "scattermapbox": [
           {
            "marker": {
             "colorbar": {
              "outlinewidth": 0,
              "ticks": ""
             }
            },
            "type": "scattermapbox"
           }
          ],
          "scatterpolar": [
           {
            "marker": {
             "colorbar": {
              "outlinewidth": 0,
              "ticks": ""
             }
            },
            "type": "scatterpolar"
           }
          ],
          "scatterpolargl": [
           {
            "marker": {
             "colorbar": {
              "outlinewidth": 0,
              "ticks": ""
             }
            },
            "type": "scatterpolargl"
           }
          ],
          "scatterternary": [
           {
            "marker": {
             "colorbar": {
              "outlinewidth": 0,
              "ticks": ""
             }
            },
            "type": "scatterternary"
           }
          ],
          "surface": [
           {
            "colorbar": {
             "outlinewidth": 0,
             "ticks": ""
            },
            "colorscale": [
             [
              0,
              "#0d0887"
             ],
             [
              0.1111111111111111,
              "#46039f"
             ],
             [
              0.2222222222222222,
              "#7201a8"
             ],
             [
              0.3333333333333333,
              "#9c179e"
             ],
             [
              0.4444444444444444,
              "#bd3786"
             ],
             [
              0.5555555555555556,
              "#d8576b"
             ],
             [
              0.6666666666666666,
              "#ed7953"
             ],
             [
              0.7777777777777778,
              "#fb9f3a"
             ],
             [
              0.8888888888888888,
              "#fdca26"
             ],
             [
              1,
              "#f0f921"
             ]
            ],
            "type": "surface"
           }
          ],
          "table": [
           {
            "cells": {
             "fill": {
              "color": "#EBF0F8"
             },
             "line": {
              "color": "white"
             }
            },
            "header": {
             "fill": {
              "color": "#C8D4E3"
             },
             "line": {
              "color": "white"
             }
            },
            "type": "table"
           }
          ]
         },
         "layout": {
          "annotationdefaults": {
           "arrowcolor": "#2a3f5f",
           "arrowhead": 0,
           "arrowwidth": 1
          },
          "autotypenumbers": "strict",
          "coloraxis": {
           "colorbar": {
            "outlinewidth": 0,
            "ticks": ""
           }
          },
          "colorscale": {
           "diverging": [
            [
             0,
             "#8e0152"
            ],
            [
             0.1,
             "#c51b7d"
            ],
            [
             0.2,
             "#de77ae"
            ],
            [
             0.3,
             "#f1b6da"
            ],
            [
             0.4,
             "#fde0ef"
            ],
            [
             0.5,
             "#f7f7f7"
            ],
            [
             0.6,
             "#e6f5d0"
            ],
            [
             0.7,
             "#b8e186"
            ],
            [
             0.8,
             "#7fbc41"
            ],
            [
             0.9,
             "#4d9221"
            ],
            [
             1,
             "#276419"
            ]
           ],
           "sequential": [
            [
             0,
             "#0d0887"
            ],
            [
             0.1111111111111111,
             "#46039f"
            ],
            [
             0.2222222222222222,
             "#7201a8"
            ],
            [
             0.3333333333333333,
             "#9c179e"
            ],
            [
             0.4444444444444444,
             "#bd3786"
            ],
            [
             0.5555555555555556,
             "#d8576b"
            ],
            [
             0.6666666666666666,
             "#ed7953"
            ],
            [
             0.7777777777777778,
             "#fb9f3a"
            ],
            [
             0.8888888888888888,
             "#fdca26"
            ],
            [
             1,
             "#f0f921"
            ]
           ],
           "sequentialminus": [
            [
             0,
             "#0d0887"
            ],
            [
             0.1111111111111111,
             "#46039f"
            ],
            [
             0.2222222222222222,
             "#7201a8"
            ],
            [
             0.3333333333333333,
             "#9c179e"
            ],
            [
             0.4444444444444444,
             "#bd3786"
            ],
            [
             0.5555555555555556,
             "#d8576b"
            ],
            [
             0.6666666666666666,
             "#ed7953"
            ],
            [
             0.7777777777777778,
             "#fb9f3a"
            ],
            [
             0.8888888888888888,
             "#fdca26"
            ],
            [
             1,
             "#f0f921"
            ]
           ]
          },
          "colorway": [
           "#636efa",
           "#EF553B",
           "#00cc96",
           "#ab63fa",
           "#FFA15A",
           "#19d3f3",
           "#FF6692",
           "#B6E880",
           "#FF97FF",
           "#FECB52"
          ],
          "font": {
           "color": "#2a3f5f"
          },
          "geo": {
           "bgcolor": "white",
           "lakecolor": "white",
           "landcolor": "#E5ECF6",
           "showlakes": true,
           "showland": true,
           "subunitcolor": "white"
          },
          "hoverlabel": {
           "align": "left"
          },
          "hovermode": "closest",
          "mapbox": {
           "style": "light"
          },
          "paper_bgcolor": "white",
          "plot_bgcolor": "#E5ECF6",
          "polar": {
           "angularaxis": {
            "gridcolor": "white",
            "linecolor": "white",
            "ticks": ""
           },
           "bgcolor": "#E5ECF6",
           "radialaxis": {
            "gridcolor": "white",
            "linecolor": "white",
            "ticks": ""
           }
          },
          "scene": {
           "xaxis": {
            "backgroundcolor": "#E5ECF6",
            "gridcolor": "white",
            "gridwidth": 2,
            "linecolor": "white",
            "showbackground": true,
            "ticks": "",
            "zerolinecolor": "white"
           },
           "yaxis": {
            "backgroundcolor": "#E5ECF6",
            "gridcolor": "white",
            "gridwidth": 2,
            "linecolor": "white",
            "showbackground": true,
            "ticks": "",
            "zerolinecolor": "white"
           },
           "zaxis": {
            "backgroundcolor": "#E5ECF6",
            "gridcolor": "white",
            "gridwidth": 2,
            "linecolor": "white",
            "showbackground": true,
            "ticks": "",
            "zerolinecolor": "white"
           }
          },
          "shapedefaults": {
           "line": {
            "color": "#2a3f5f"
           }
          },
          "ternary": {
           "aaxis": {
            "gridcolor": "white",
            "linecolor": "white",
            "ticks": ""
           },
           "baxis": {
            "gridcolor": "white",
            "linecolor": "white",
            "ticks": ""
           },
           "bgcolor": "#E5ECF6",
           "caxis": {
            "gridcolor": "white",
            "linecolor": "white",
            "ticks": ""
           }
          },
          "title": {
           "x": 0.05
          },
          "xaxis": {
           "automargin": true,
           "gridcolor": "white",
           "linecolor": "white",
           "ticks": "",
           "title": {
            "standoff": 15
           },
           "zerolinecolor": "white",
           "zerolinewidth": 2
          },
          "yaxis": {
           "automargin": true,
           "gridcolor": "white",
           "linecolor": "white",
           "ticks": "",
           "title": {
            "standoff": 15
           },
           "zerolinecolor": "white",
           "zerolinewidth": 2
          }
         }
        },
        "title": {
         "text": "Top 10 Cities by Sidewalk Length"
        },
        "xaxis": {
         "anchor": "y",
         "domain": [
          0,
          1
         ],
         "title": {
          "text": "city"
         }
        },
        "yaxis": {
         "anchor": "x",
         "domain": [
          0,
          1
         ],
         "title": {
          "text": "sidewalk_len_m"
         }
        }
       }
      },
      "text/html": [
       "<div>                        <script type=\"text/javascript\">window.PlotlyConfig = {MathJaxConfig: 'local'};</script>\n",
       "        <script charset=\"utf-8\" src=\"https://cdn.plot.ly/plotly-3.0.1.min.js\" integrity=\"sha256-oy6Be7Eh6eiQFs5M7oXuPxxm9qbJXEtTpfSI93dW16Q=\" crossorigin=\"anonymous\"></script>                <div id=\"41c9a794-85a9-4578-b146-b7f1f2d9e40a\" class=\"plotly-graph-div\" style=\"height:100%; width:100%;\"></div>            <script type=\"text/javascript\">                window.PLOTLYENV=window.PLOTLYENV || {};                                if (document.getElementById(\"41c9a794-85a9-4578-b146-b7f1f2d9e40a\")) {                    Plotly.newPlot(                        \"41c9a794-85a9-4578-b146-b7f1f2d9e40a\",                        [{\"hovertemplate\":\"city=%{x}\\u003cbr\\u003esidewalk_len_m=%{y}\\u003cextra\\u003e\\u003c\\u002fextra\\u003e\",\"legendgroup\":\"\",\"marker\":{\"color\":\"#636efa\",\"pattern\":{\"shape\":\"\"}},\"name\":\"\",\"orientation\":\"v\",\"showlegend\":false,\"textposition\":\"auto\",\"x\":[\"New York City\",\"Melbourne\",\"Brooklyn\",\"Queens\",\"Chicago\",\"Tokyo\",\"Berlin\",\"Manhattan\",\"Toronto\",\"Montréal\"],\"xaxis\":\"x\",\"y\":{\"dtype\":\"f8\",\"bdata\":\"H4XriSJVcEH2KFz\\u002fqCJoQcP1KKSF52VBUrgepTAeY0GF61FASxViQT0K10N4wl1BH4XrYWdOWkE9CtfDCu5XQcP1KEwzz1NBUrgetTDWUkE=\"},\"yaxis\":\"y\",\"type\":\"bar\"}],                        {\"template\":{\"data\":{\"histogram2dcontour\":[{\"type\":\"histogram2dcontour\",\"colorbar\":{\"outlinewidth\":0,\"ticks\":\"\"},\"colorscale\":[[0.0,\"#0d0887\"],[0.1111111111111111,\"#46039f\"],[0.2222222222222222,\"#7201a8\"],[0.3333333333333333,\"#9c179e\"],[0.4444444444444444,\"#bd3786\"],[0.5555555555555556,\"#d8576b\"],[0.6666666666666666,\"#ed7953\"],[0.7777777777777778,\"#fb9f3a\"],[0.8888888888888888,\"#fdca26\"],[1.0,\"#f0f921\"]]}],\"choropleth\":[{\"type\":\"choropleth\",\"colorbar\":{\"outlinewidth\":0,\"ticks\":\"\"}}],\"histogram2d\":[{\"type\":\"histogram2d\",\"colorbar\":{\"outlinewidth\":0,\"ticks\":\"\"},\"colorscale\":[[0.0,\"#0d0887\"],[0.1111111111111111,\"#46039f\"],[0.2222222222222222,\"#7201a8\"],[0.3333333333333333,\"#9c179e\"],[0.4444444444444444,\"#bd3786\"],[0.5555555555555556,\"#d8576b\"],[0.6666666666666666,\"#ed7953\"],[0.7777777777777778,\"#fb9f3a\"],[0.8888888888888888,\"#fdca26\"],[1.0,\"#f0f921\"]]}],\"heatmap\":[{\"type\":\"heatmap\",\"colorbar\":{\"outlinewidth\":0,\"ticks\":\"\"},\"colorscale\":[[0.0,\"#0d0887\"],[0.1111111111111111,\"#46039f\"],[0.2222222222222222,\"#7201a8\"],[0.3333333333333333,\"#9c179e\"],[0.4444444444444444,\"#bd3786\"],[0.5555555555555556,\"#d8576b\"],[0.6666666666666666,\"#ed7953\"],[0.7777777777777778,\"#fb9f3a\"],[0.8888888888888888,\"#fdca26\"],[1.0,\"#f0f921\"]]}],\"contourcarpet\":[{\"type\":\"contourcarpet\",\"colorbar\":{\"outlinewidth\":0,\"ticks\":\"\"}}],\"contour\":[{\"type\":\"contour\",\"colorbar\":{\"outlinewidth\":0,\"ticks\":\"\"},\"colorscale\":[[0.0,\"#0d0887\"],[0.1111111111111111,\"#46039f\"],[0.2222222222222222,\"#7201a8\"],[0.3333333333333333,\"#9c179e\"],[0.4444444444444444,\"#bd3786\"],[0.5555555555555556,\"#d8576b\"],[0.6666666666666666,\"#ed7953\"],[0.7777777777777778,\"#fb9f3a\"],[0.8888888888888888,\"#fdca26\"],[1.0,\"#f0f921\"]]}],\"surface\":[{\"type\":\"surface\",\"colorbar\":{\"outlinewidth\":0,\"ticks\":\"\"},\"colorscale\":[[0.0,\"#0d0887\"],[0.1111111111111111,\"#46039f\"],[0.2222222222222222,\"#7201a8\"],[0.3333333333333333,\"#9c179e\"],[0.4444444444444444,\"#bd3786\"],[0.5555555555555556,\"#d8576b\"],[0.6666666666666666,\"#ed7953\"],[0.7777777777777778,\"#fb9f3a\"],[0.8888888888888888,\"#fdca26\"],[1.0,\"#f0f921\"]]}],\"mesh3d\":[{\"type\":\"mesh3d\",\"colorbar\":{\"outlinewidth\":0,\"ticks\":\"\"}}],\"scatter\":[{\"fillpattern\":{\"fillmode\":\"overlay\",\"size\":10,\"solidity\":0.2},\"type\":\"scatter\"}],\"parcoords\":[{\"type\":\"parcoords\",\"line\":{\"colorbar\":{\"outlinewidth\":0,\"ticks\":\"\"}}}],\"scatterpolargl\":[{\"type\":\"scatterpolargl\",\"marker\":{\"colorbar\":{\"outlinewidth\":0,\"ticks\":\"\"}}}],\"bar\":[{\"error_x\":{\"color\":\"#2a3f5f\"},\"error_y\":{\"color\":\"#2a3f5f\"},\"marker\":{\"line\":{\"color\":\"#E5ECF6\",\"width\":0.5},\"pattern\":{\"fillmode\":\"overlay\",\"size\":10,\"solidity\":0.2}},\"type\":\"bar\"}],\"scattergeo\":[{\"type\":\"scattergeo\",\"marker\":{\"colorbar\":{\"outlinewidth\":0,\"ticks\":\"\"}}}],\"scatterpolar\":[{\"type\":\"scatterpolar\",\"marker\":{\"colorbar\":{\"outlinewidth\":0,\"ticks\":\"\"}}}],\"histogram\":[{\"marker\":{\"pattern\":{\"fillmode\":\"overlay\",\"size\":10,\"solidity\":0.2}},\"type\":\"histogram\"}],\"scattergl\":[{\"type\":\"scattergl\",\"marker\":{\"colorbar\":{\"outlinewidth\":0,\"ticks\":\"\"}}}],\"scatter3d\":[{\"type\":\"scatter3d\",\"line\":{\"colorbar\":{\"outlinewidth\":0,\"ticks\":\"\"}},\"marker\":{\"colorbar\":{\"outlinewidth\":0,\"ticks\":\"\"}}}],\"scattermap\":[{\"type\":\"scattermap\",\"marker\":{\"colorbar\":{\"outlinewidth\":0,\"ticks\":\"\"}}}],\"scattermapbox\":[{\"type\":\"scattermapbox\",\"marker\":{\"colorbar\":{\"outlinewidth\":0,\"ticks\":\"\"}}}],\"scatterternary\":[{\"type\":\"scatterternary\",\"marker\":{\"colorbar\":{\"outlinewidth\":0,\"ticks\":\"\"}}}],\"scattercarpet\":[{\"type\":\"scattercarpet\",\"marker\":{\"colorbar\":{\"outlinewidth\":0,\"ticks\":\"\"}}}],\"carpet\":[{\"aaxis\":{\"endlinecolor\":\"#2a3f5f\",\"gridcolor\":\"white\",\"linecolor\":\"white\",\"minorgridcolor\":\"white\",\"startlinecolor\":\"#2a3f5f\"},\"baxis\":{\"endlinecolor\":\"#2a3f5f\",\"gridcolor\":\"white\",\"linecolor\":\"white\",\"minorgridcolor\":\"white\",\"startlinecolor\":\"#2a3f5f\"},\"type\":\"carpet\"}],\"table\":[{\"cells\":{\"fill\":{\"color\":\"#EBF0F8\"},\"line\":{\"color\":\"white\"}},\"header\":{\"fill\":{\"color\":\"#C8D4E3\"},\"line\":{\"color\":\"white\"}},\"type\":\"table\"}],\"barpolar\":[{\"marker\":{\"line\":{\"color\":\"#E5ECF6\",\"width\":0.5},\"pattern\":{\"fillmode\":\"overlay\",\"size\":10,\"solidity\":0.2}},\"type\":\"barpolar\"}],\"pie\":[{\"automargin\":true,\"type\":\"pie\"}]},\"layout\":{\"autotypenumbers\":\"strict\",\"colorway\":[\"#636efa\",\"#EF553B\",\"#00cc96\",\"#ab63fa\",\"#FFA15A\",\"#19d3f3\",\"#FF6692\",\"#B6E880\",\"#FF97FF\",\"#FECB52\"],\"font\":{\"color\":\"#2a3f5f\"},\"hovermode\":\"closest\",\"hoverlabel\":{\"align\":\"left\"},\"paper_bgcolor\":\"white\",\"plot_bgcolor\":\"#E5ECF6\",\"polar\":{\"bgcolor\":\"#E5ECF6\",\"angularaxis\":{\"gridcolor\":\"white\",\"linecolor\":\"white\",\"ticks\":\"\"},\"radialaxis\":{\"gridcolor\":\"white\",\"linecolor\":\"white\",\"ticks\":\"\"}},\"ternary\":{\"bgcolor\":\"#E5ECF6\",\"aaxis\":{\"gridcolor\":\"white\",\"linecolor\":\"white\",\"ticks\":\"\"},\"baxis\":{\"gridcolor\":\"white\",\"linecolor\":\"white\",\"ticks\":\"\"},\"caxis\":{\"gridcolor\":\"white\",\"linecolor\":\"white\",\"ticks\":\"\"}},\"coloraxis\":{\"colorbar\":{\"outlinewidth\":0,\"ticks\":\"\"}},\"colorscale\":{\"sequential\":[[0.0,\"#0d0887\"],[0.1111111111111111,\"#46039f\"],[0.2222222222222222,\"#7201a8\"],[0.3333333333333333,\"#9c179e\"],[0.4444444444444444,\"#bd3786\"],[0.5555555555555556,\"#d8576b\"],[0.6666666666666666,\"#ed7953\"],[0.7777777777777778,\"#fb9f3a\"],[0.8888888888888888,\"#fdca26\"],[1.0,\"#f0f921\"]],\"sequentialminus\":[[0.0,\"#0d0887\"],[0.1111111111111111,\"#46039f\"],[0.2222222222222222,\"#7201a8\"],[0.3333333333333333,\"#9c179e\"],[0.4444444444444444,\"#bd3786\"],[0.5555555555555556,\"#d8576b\"],[0.6666666666666666,\"#ed7953\"],[0.7777777777777778,\"#fb9f3a\"],[0.8888888888888888,\"#fdca26\"],[1.0,\"#f0f921\"]],\"diverging\":[[0,\"#8e0152\"],[0.1,\"#c51b7d\"],[0.2,\"#de77ae\"],[0.3,\"#f1b6da\"],[0.4,\"#fde0ef\"],[0.5,\"#f7f7f7\"],[0.6,\"#e6f5d0\"],[0.7,\"#b8e186\"],[0.8,\"#7fbc41\"],[0.9,\"#4d9221\"],[1,\"#276419\"]]},\"xaxis\":{\"gridcolor\":\"white\",\"linecolor\":\"white\",\"ticks\":\"\",\"title\":{\"standoff\":15},\"zerolinecolor\":\"white\",\"automargin\":true,\"zerolinewidth\":2},\"yaxis\":{\"gridcolor\":\"white\",\"linecolor\":\"white\",\"ticks\":\"\",\"title\":{\"standoff\":15},\"zerolinecolor\":\"white\",\"automargin\":true,\"zerolinewidth\":2},\"scene\":{\"xaxis\":{\"backgroundcolor\":\"#E5ECF6\",\"gridcolor\":\"white\",\"linecolor\":\"white\",\"showbackground\":true,\"ticks\":\"\",\"zerolinecolor\":\"white\",\"gridwidth\":2},\"yaxis\":{\"backgroundcolor\":\"#E5ECF6\",\"gridcolor\":\"white\",\"linecolor\":\"white\",\"showbackground\":true,\"ticks\":\"\",\"zerolinecolor\":\"white\",\"gridwidth\":2},\"zaxis\":{\"backgroundcolor\":\"#E5ECF6\",\"gridcolor\":\"white\",\"linecolor\":\"white\",\"showbackground\":true,\"ticks\":\"\",\"zerolinecolor\":\"white\",\"gridwidth\":2}},\"shapedefaults\":{\"line\":{\"color\":\"#2a3f5f\"}},\"annotationdefaults\":{\"arrowcolor\":\"#2a3f5f\",\"arrowhead\":0,\"arrowwidth\":1},\"geo\":{\"bgcolor\":\"white\",\"landcolor\":\"#E5ECF6\",\"subunitcolor\":\"white\",\"showland\":true,\"showlakes\":true,\"lakecolor\":\"white\"},\"title\":{\"x\":0.05},\"mapbox\":{\"style\":\"light\"}}},\"xaxis\":{\"anchor\":\"y\",\"domain\":[0.0,1.0],\"title\":{\"text\":\"city\"}},\"yaxis\":{\"anchor\":\"x\",\"domain\":[0.0,1.0],\"title\":{\"text\":\"sidewalk_len_m\"}},\"legend\":{\"tracegroupgap\":0},\"title\":{\"text\":\"Top 10 Cities by Sidewalk Length\"},\"barmode\":\"relative\"},                        {\"responsive\": true}                    )                };            </script>        </div>"
      ],
      "text/plain": [
       "Figure({\n",
       "    'data': [{'hovertemplate': 'city=%{x}<br>sidewalk_len_m=%{y}<extra></extra>',\n",
       "              'legendgroup': '',\n",
       "              'marker': {'color': '#636efa', 'pattern': {'shape': ''}},\n",
       "              'name': '',\n",
       "              'orientation': 'v',\n",
       "              'showlegend': False,\n",
       "              'textposition': 'auto',\n",
       "              'type': 'bar',\n",
       "              'x': array(['New York City', 'Melbourne', 'Brooklyn', 'Queens', 'Chicago', 'Tokyo',\n",
       "                          'Berlin', 'Manhattan', 'Toronto', 'Montréal'], dtype=object),\n",
       "              'xaxis': 'x',\n",
       "              'y': {'bdata': ('H4XriSJVcEH2KFz/qCJoQcP1KKSF52' ... 'fDCu5XQcP1KEwzz1NBUrgetTDWUkE='),\n",
       "                    'dtype': 'f8'},\n",
       "              'yaxis': 'y'}],\n",
       "    'layout': {'barmode': 'relative',\n",
       "               'legend': {'tracegroupgap': 0},\n",
       "               'template': '...',\n",
       "               'title': {'text': 'Top 10 Cities by Sidewalk Length'},\n",
       "               'xaxis': {'anchor': 'y', 'domain': [0.0, 1.0], 'title': {'text': 'city'}},\n",
       "               'yaxis': {'anchor': 'x', 'domain': [0.0, 1.0], 'title': {'text': 'sidewalk_len_m'}}}\n",
       "})"
      ]
     },
     "execution_count": 5,
     "metadata": {},
     "output_type": "execute_result"
    }
   ],
   "source": [
    "df_sorted = df.nlargest(10, 'sidewalk_len_m')\n",
    "px.bar(df_sorted, x='city', y='sidewalk_len_m', title='Top 10 Cities by Sidewalk Length')"
   ]
  }
 ],
 "metadata": {
  "kernelspec": {
   "display_name": ".venv",
   "language": "python",
   "name": "python3"
  },
  "language_info": {
   "codemirror_mode": {
    "name": "ipython",
    "version": 3
   },
   "file_extension": ".py",
   "mimetype": "text/x-python",
   "name": "python",
   "nbconvert_exporter": "python",
   "pygments_lexer": "ipython3",
   "version": "3.12.3"
  }
 },
 "nbformat": 4,
 "nbformat_minor": 5
}
